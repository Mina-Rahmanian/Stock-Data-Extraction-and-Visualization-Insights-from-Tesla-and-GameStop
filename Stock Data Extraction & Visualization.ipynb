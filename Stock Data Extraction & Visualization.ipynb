{
  "cells": [
    {
      "cell_type": "markdown",
      "metadata": {
        "id": "view-in-github",
        "colab_type": "text"
      },
      "source": [
        "<a href=\"https://colab.research.google.com/github/Mina-Rahmanian/Stock-Data-Extraction-and-Visualization-Insights-from-Tesla-and-GameStop/blob/main/Stock%20Data%20Extraction%20%26%20Visualization.ipynb\" target=\"_parent\"><img src=\"https://colab.research.google.com/assets/colab-badge.svg\" alt=\"Open In Colab\"/></a>"
      ]
    },
    {
      "metadata": {
        "id": "261b9b21-d11a-4ca0-9b99-66391330211e"
      },
      "cell_type": "markdown",
      "source": [
        "<h1>Extracting and Visualizing Stock Data</h1>\n",
        "<h2>Description</h2>\n"
      ]
    },
    {
      "metadata": {
        "id": "f8461e04-d346-412f-88e7-ba2878f58369"
      },
      "cell_type": "markdown",
      "source": [
        "Extracting essential data from a dataset and displaying it is a necessary part of data science; therefore individuals can make correct decisions based on the data. In this assignment, you will extract some stock data, you will then display this data in a graph.\n"
      ]
    },
    {
      "metadata": {
        "id": "4cf7cca8-abb5-49b3-9b04-ce43a12ac394"
      },
      "cell_type": "markdown",
      "source": [
        "<h2>Table of Contents</h2>\n",
        "<div class=\"alert alert-block alert-info\" style=\"margin-top: 20px\">\n",
        "    <ul>\n",
        "        <li>Define a Function that Makes a Graph</li>\n",
        "        <li>Question 1: Use yfinance to Extract Stock Data</li>\n",
        "        <li>Question 2: Use Webscraping to Extract Tesla Revenue Data</li>\n",
        "        <li>Question 3: Use yfinance to Extract Stock Data</li>\n",
        "        <li>Question 4: Use Webscraping to Extract GME Revenue Data</li>\n",
        "        <li>Question 5: Plot Tesla Stock Graph</li>\n",
        "        <li>Question 6: Plot GameStop Stock Graph</li>\n",
        "    </ul>\n",
        "<p>\n",
        "\n",
        "</div>\n",
        "\n",
        "<hr>\n"
      ]
    },
    {
      "metadata": {
        "id": "487cc26c-7376-4243-ab58-997ec335478d"
      },
      "cell_type": "code",
      "source": [
        "#!pip install yfinance==0.2.38\n",
        "#!pip install pandas==2.2.2\n",
        "#!pip install nbformat"
      ],
      "execution_count": 25,
      "outputs": []
    },
    {
      "metadata": {
        "colab": {
          "base_uri": "https://localhost:8080/",
          "height": 1000
        },
        "collapsed": true,
        "id": "fed21c95-6302-467b-90ec-b0240a9efbb9",
        "outputId": "491f7468-c391-47e9-d1d4-290b93890860"
      },
      "cell_type": "code",
      "source": [
        "!pip install yfinance==0.1.67\n",
        "!mamba install bs4==4.10.0 -y\n",
        "!pip install nbformat==4.2.0\n",
        "!pip install --upgrade yfinance"
      ],
      "execution_count": 26,
      "outputs": [
        {
          "output_type": "stream",
          "name": "stdout",
          "text": [
            "Collecting yfinance==0.1.67\n",
            "  Using cached yfinance-0.1.67-py2.py3-none-any.whl (25 kB)\n",
            "Requirement already satisfied: pandas>=0.24 in /usr/local/lib/python3.10/dist-packages (from yfinance==0.1.67) (2.0.3)\n",
            "Requirement already satisfied: numpy>=1.15 in /usr/local/lib/python3.10/dist-packages (from yfinance==0.1.67) (1.25.2)\n",
            "Requirement already satisfied: requests>=2.20 in /usr/local/lib/python3.10/dist-packages (from yfinance==0.1.67) (2.31.0)\n",
            "Requirement already satisfied: multitasking>=0.0.7 in /usr/local/lib/python3.10/dist-packages (from yfinance==0.1.67) (0.0.11)\n",
            "Requirement already satisfied: lxml>=4.5.1 in /usr/local/lib/python3.10/dist-packages (from yfinance==0.1.67) (4.9.4)\n",
            "Requirement already satisfied: python-dateutil>=2.8.2 in /usr/local/lib/python3.10/dist-packages (from pandas>=0.24->yfinance==0.1.67) (2.8.2)\n",
            "Requirement already satisfied: pytz>=2020.1 in /usr/local/lib/python3.10/dist-packages (from pandas>=0.24->yfinance==0.1.67) (2023.4)\n",
            "Requirement already satisfied: tzdata>=2022.1 in /usr/local/lib/python3.10/dist-packages (from pandas>=0.24->yfinance==0.1.67) (2024.1)\n",
            "Requirement already satisfied: charset-normalizer<4,>=2 in /usr/local/lib/python3.10/dist-packages (from requests>=2.20->yfinance==0.1.67) (3.3.2)\n",
            "Requirement already satisfied: idna<4,>=2.5 in /usr/local/lib/python3.10/dist-packages (from requests>=2.20->yfinance==0.1.67) (3.7)\n",
            "Requirement already satisfied: urllib3<3,>=1.21.1 in /usr/local/lib/python3.10/dist-packages (from requests>=2.20->yfinance==0.1.67) (2.0.7)\n",
            "Requirement already satisfied: certifi>=2017.4.17 in /usr/local/lib/python3.10/dist-packages (from requests>=2.20->yfinance==0.1.67) (2024.6.2)\n",
            "Requirement already satisfied: six>=1.5 in /usr/local/lib/python3.10/dist-packages (from python-dateutil>=2.8.2->pandas>=0.24->yfinance==0.1.67) (1.16.0)\n",
            "Installing collected packages: yfinance\n",
            "  Attempting uninstall: yfinance\n",
            "    Found existing installation: yfinance 0.2.40\n",
            "    Uninstalling yfinance-0.2.40:\n",
            "      Successfully uninstalled yfinance-0.2.40\n",
            "Successfully installed yfinance-0.1.67\n"
          ]
        },
        {
          "output_type": "display_data",
          "data": {
            "application/vnd.colab-display-data+json": {
              "pip_warning": {
                "packages": [
                  "yfinance"
                ]
              },
              "id": "cd40455b4443410ba8b583b9e640adb4"
            }
          },
          "metadata": {}
        },
        {
          "output_type": "stream",
          "name": "stdout",
          "text": [
            "/bin/bash: line 1: mamba: command not found\n",
            "Collecting nbformat==4.2.0\n",
            "  Using cached nbformat-4.2.0-py2.py3-none-any.whl (153 kB)\n",
            "Requirement already satisfied: ipython-genutils in /usr/local/lib/python3.10/dist-packages (from nbformat==4.2.0) (0.2.0)\n",
            "Requirement already satisfied: jsonschema!=2.5.0,>=2.4 in /usr/local/lib/python3.10/dist-packages (from nbformat==4.2.0) (4.19.2)\n",
            "Requirement already satisfied: jupyter-core in /usr/local/lib/python3.10/dist-packages (from nbformat==4.2.0) (5.7.2)\n",
            "Requirement already satisfied: traitlets>=4.1 in /usr/local/lib/python3.10/dist-packages (from nbformat==4.2.0) (5.7.1)\n",
            "Requirement already satisfied: attrs>=22.2.0 in /usr/local/lib/python3.10/dist-packages (from jsonschema!=2.5.0,>=2.4->nbformat==4.2.0) (23.2.0)\n",
            "Requirement already satisfied: jsonschema-specifications>=2023.03.6 in /usr/local/lib/python3.10/dist-packages (from jsonschema!=2.5.0,>=2.4->nbformat==4.2.0) (2023.12.1)\n",
            "Requirement already satisfied: referencing>=0.28.4 in /usr/local/lib/python3.10/dist-packages (from jsonschema!=2.5.0,>=2.4->nbformat==4.2.0) (0.35.1)\n",
            "Requirement already satisfied: rpds-py>=0.7.1 in /usr/local/lib/python3.10/dist-packages (from jsonschema!=2.5.0,>=2.4->nbformat==4.2.0) (0.18.1)\n",
            "Requirement already satisfied: platformdirs>=2.5 in /usr/local/lib/python3.10/dist-packages (from jupyter-core->nbformat==4.2.0) (4.2.2)\n",
            "Installing collected packages: nbformat\n",
            "  Attempting uninstall: nbformat\n",
            "    Found existing installation: nbformat 5.10.4\n",
            "    Uninstalling nbformat-5.10.4:\n",
            "      Successfully uninstalled nbformat-5.10.4\n",
            "\u001b[31mERROR: pip's dependency resolver does not currently take into account all the packages that are installed. This behaviour is the source of the following dependency conflicts.\n",
            "jupyter-server 1.24.0 requires nbformat>=5.2.0, but you have nbformat 4.2.0 which is incompatible.\n",
            "nbclient 0.10.0 requires nbformat>=5.1, but you have nbformat 4.2.0 which is incompatible.\n",
            "nbconvert 6.5.4 requires nbformat>=5.1, but you have nbformat 4.2.0 which is incompatible.\u001b[0m\u001b[31m\n",
            "\u001b[0mSuccessfully installed nbformat-4.2.0\n"
          ]
        },
        {
          "output_type": "display_data",
          "data": {
            "application/vnd.colab-display-data+json": {
              "pip_warning": {
                "packages": [
                  "nbformat"
                ]
              },
              "id": "89046799f0a54d019bb9ffac4a60cc76"
            }
          },
          "metadata": {}
        },
        {
          "output_type": "stream",
          "name": "stdout",
          "text": [
            "Requirement already satisfied: yfinance in /usr/local/lib/python3.10/dist-packages (0.1.67)\n",
            "Collecting yfinance\n",
            "  Using cached yfinance-0.2.40-py2.py3-none-any.whl (73 kB)\n",
            "Requirement already satisfied: pandas>=1.3.0 in /usr/local/lib/python3.10/dist-packages (from yfinance) (2.0.3)\n",
            "Requirement already satisfied: numpy>=1.16.5 in /usr/local/lib/python3.10/dist-packages (from yfinance) (1.25.2)\n",
            "Requirement already satisfied: requests>=2.31 in /usr/local/lib/python3.10/dist-packages (from yfinance) (2.31.0)\n",
            "Requirement already satisfied: multitasking>=0.0.7 in /usr/local/lib/python3.10/dist-packages (from yfinance) (0.0.11)\n",
            "Requirement already satisfied: lxml>=4.9.1 in /usr/local/lib/python3.10/dist-packages (from yfinance) (4.9.4)\n",
            "Requirement already satisfied: platformdirs>=2.0.0 in /usr/local/lib/python3.10/dist-packages (from yfinance) (4.2.2)\n",
            "Requirement already satisfied: pytz>=2022.5 in /usr/local/lib/python3.10/dist-packages (from yfinance) (2023.4)\n",
            "Requirement already satisfied: frozendict>=2.3.4 in /usr/local/lib/python3.10/dist-packages (from yfinance) (2.4.4)\n",
            "Requirement already satisfied: peewee>=3.16.2 in /usr/local/lib/python3.10/dist-packages (from yfinance) (3.17.5)\n",
            "Requirement already satisfied: beautifulsoup4>=4.11.1 in /usr/local/lib/python3.10/dist-packages (from yfinance) (4.12.3)\n",
            "Requirement already satisfied: html5lib>=1.1 in /usr/local/lib/python3.10/dist-packages (from yfinance) (1.1)\n",
            "Requirement already satisfied: soupsieve>1.2 in /usr/local/lib/python3.10/dist-packages (from beautifulsoup4>=4.11.1->yfinance) (2.5)\n",
            "Requirement already satisfied: six>=1.9 in /usr/local/lib/python3.10/dist-packages (from html5lib>=1.1->yfinance) (1.16.0)\n",
            "Requirement already satisfied: webencodings in /usr/local/lib/python3.10/dist-packages (from html5lib>=1.1->yfinance) (0.5.1)\n",
            "Requirement already satisfied: python-dateutil>=2.8.2 in /usr/local/lib/python3.10/dist-packages (from pandas>=1.3.0->yfinance) (2.8.2)\n",
            "Requirement already satisfied: tzdata>=2022.1 in /usr/local/lib/python3.10/dist-packages (from pandas>=1.3.0->yfinance) (2024.1)\n",
            "Requirement already satisfied: charset-normalizer<4,>=2 in /usr/local/lib/python3.10/dist-packages (from requests>=2.31->yfinance) (3.3.2)\n",
            "Requirement already satisfied: idna<4,>=2.5 in /usr/local/lib/python3.10/dist-packages (from requests>=2.31->yfinance) (3.7)\n",
            "Requirement already satisfied: urllib3<3,>=1.21.1 in /usr/local/lib/python3.10/dist-packages (from requests>=2.31->yfinance) (2.0.7)\n",
            "Requirement already satisfied: certifi>=2017.4.17 in /usr/local/lib/python3.10/dist-packages (from requests>=2.31->yfinance) (2024.6.2)\n",
            "Installing collected packages: yfinance\n",
            "  Attempting uninstall: yfinance\n",
            "    Found existing installation: yfinance 0.1.67\n",
            "    Uninstalling yfinance-0.1.67:\n",
            "      Successfully uninstalled yfinance-0.1.67\n",
            "Successfully installed yfinance-0.2.40\n"
          ]
        },
        {
          "output_type": "display_data",
          "data": {
            "application/vnd.colab-display-data+json": {
              "pip_warning": {
                "packages": [
                  "yfinance"
                ]
              },
              "id": "8809f6c1e0254d18a856481987e78eda"
            }
          },
          "metadata": {}
        }
      ]
    },
    {
      "metadata": {
        "colab": {
          "base_uri": "https://localhost:8080/"
        },
        "collapsed": true,
        "id": "LdqZjIVYnA1E",
        "outputId": "6ceca0cd-a11b-4e70-fda1-dc93e9e0c70c"
      },
      "cell_type": "code",
      "source": [
        "!pip install --upgrade nbformat\n",
        "!pip install --upgrade plotly\n",
        "!pip show nbformat\n",
        "!pip install --upgrade jupyter"
      ],
      "execution_count": 27,
      "outputs": [
        {
          "output_type": "stream",
          "name": "stdout",
          "text": [
            "Requirement already satisfied: nbformat in /usr/local/lib/python3.10/dist-packages (4.2.0)\n",
            "Collecting nbformat\n",
            "  Using cached nbformat-5.10.4-py3-none-any.whl (78 kB)\n",
            "Requirement already satisfied: fastjsonschema>=2.15 in /usr/local/lib/python3.10/dist-packages (from nbformat) (2.20.0)\n",
            "Requirement already satisfied: jsonschema>=2.6 in /usr/local/lib/python3.10/dist-packages (from nbformat) (4.19.2)\n",
            "Requirement already satisfied: jupyter-core!=5.0.*,>=4.12 in /usr/local/lib/python3.10/dist-packages (from nbformat) (5.7.2)\n",
            "Requirement already satisfied: traitlets>=5.1 in /usr/local/lib/python3.10/dist-packages (from nbformat) (5.7.1)\n",
            "Requirement already satisfied: attrs>=22.2.0 in /usr/local/lib/python3.10/dist-packages (from jsonschema>=2.6->nbformat) (23.2.0)\n",
            "Requirement already satisfied: jsonschema-specifications>=2023.03.6 in /usr/local/lib/python3.10/dist-packages (from jsonschema>=2.6->nbformat) (2023.12.1)\n",
            "Requirement already satisfied: referencing>=0.28.4 in /usr/local/lib/python3.10/dist-packages (from jsonschema>=2.6->nbformat) (0.35.1)\n",
            "Requirement already satisfied: rpds-py>=0.7.1 in /usr/local/lib/python3.10/dist-packages (from jsonschema>=2.6->nbformat) (0.18.1)\n",
            "Requirement already satisfied: platformdirs>=2.5 in /usr/local/lib/python3.10/dist-packages (from jupyter-core!=5.0.*,>=4.12->nbformat) (4.2.2)\n",
            "Installing collected packages: nbformat\n",
            "  Attempting uninstall: nbformat\n",
            "    Found existing installation: nbformat 4.2.0\n",
            "    Uninstalling nbformat-4.2.0:\n",
            "      Successfully uninstalled nbformat-4.2.0\n",
            "Successfully installed nbformat-5.10.4\n",
            "Requirement already satisfied: plotly in /usr/local/lib/python3.10/dist-packages (5.22.0)\n",
            "Requirement already satisfied: tenacity>=6.2.0 in /usr/local/lib/python3.10/dist-packages (from plotly) (8.4.2)\n",
            "Requirement already satisfied: packaging in /usr/local/lib/python3.10/dist-packages (from plotly) (24.1)\n",
            "Name: nbformat\n",
            "Version: 5.10.4\n",
            "Summary: The Jupyter Notebook format\n",
            "Home-page: \n",
            "Author: \n",
            "Author-email: Jupyter Development Team <jupyter@googlegroups.com>\n",
            "License: BSD 3-Clause License\n",
            "        \n",
            "        - Copyright (c) 2001-2015, IPython Development Team\n",
            "        - Copyright (c) 2015-, Jupyter Development Team\n",
            "        \n",
            "        All rights reserved.\n",
            "        \n",
            "        Redistribution and use in source and binary forms, with or without\n",
            "        modification, are permitted provided that the following conditions are met:\n",
            "        \n",
            "        1. Redistributions of source code must retain the above copyright notice, this\n",
            "           list of conditions and the following disclaimer.\n",
            "        \n",
            "        2. Redistributions in binary form must reproduce the above copyright notice,\n",
            "           this list of conditions and the following disclaimer in the documentation\n",
            "           and/or other materials provided with the distribution.\n",
            "        \n",
            "        3. Neither the name of the copyright holder nor the names of its\n",
            "           contributors may be used to endorse or promote products derived from\n",
            "           this software without specific prior written permission.\n",
            "        \n",
            "        THIS SOFTWARE IS PROVIDED BY THE COPYRIGHT HOLDERS AND CONTRIBUTORS \"AS IS\"\n",
            "        AND ANY EXPRESS OR IMPLIED WARRANTIES, INCLUDING, BUT NOT LIMITED TO, THE\n",
            "        IMPLIED WARRANTIES OF MERCHANTABILITY AND FITNESS FOR A PARTICULAR PURPOSE ARE\n",
            "        DISCLAIMED. IN NO EVENT SHALL THE COPYRIGHT HOLDER OR CONTRIBUTORS BE LIABLE\n",
            "        FOR ANY DIRECT, INDIRECT, INCIDENTAL, SPECIAL, EXEMPLARY, OR CONSEQUENTIAL\n",
            "        DAMAGES (INCLUDING, BUT NOT LIMITED TO, PROCUREMENT OF SUBSTITUTE GOODS OR\n",
            "        SERVICES; LOSS OF USE, DATA, OR PROFITS; OR BUSINESS INTERRUPTION) HOWEVER\n",
            "        CAUSED AND ON ANY THEORY OF LIABILITY, WHETHER IN CONTRACT, STRICT LIABILITY,\n",
            "        OR TORT (INCLUDING NEGLIGENCE OR OTHERWISE) ARISING IN ANY WAY OUT OF THE USE\n",
            "        OF THIS SOFTWARE, EVEN IF ADVISED OF THE POSSIBILITY OF SUCH DAMAGE.\n",
            "Location: /usr/local/lib/python3.10/dist-packages\n",
            "Requires: fastjsonschema, jsonschema, jupyter-core, traitlets\n",
            "Required-by: jupyter-server, nbclient, nbconvert, notebook\n",
            "Requirement already satisfied: jupyter in /usr/local/lib/python3.10/dist-packages (1.0.0)\n",
            "Requirement already satisfied: notebook in /usr/local/lib/python3.10/dist-packages (from jupyter) (6.5.5)\n",
            "Requirement already satisfied: qtconsole in /usr/local/lib/python3.10/dist-packages (from jupyter) (5.5.2)\n",
            "Requirement already satisfied: jupyter-console in /usr/local/lib/python3.10/dist-packages (from jupyter) (6.1.0)\n",
            "Requirement already satisfied: nbconvert in /usr/local/lib/python3.10/dist-packages (from jupyter) (6.5.4)\n",
            "Requirement already satisfied: ipykernel in /usr/local/lib/python3.10/dist-packages (from jupyter) (5.5.6)\n",
            "Requirement already satisfied: ipywidgets in /usr/local/lib/python3.10/dist-packages (from jupyter) (7.7.1)\n",
            "Requirement already satisfied: ipython-genutils in /usr/local/lib/python3.10/dist-packages (from ipykernel->jupyter) (0.2.0)\n",
            "Requirement already satisfied: ipython>=5.0.0 in /usr/local/lib/python3.10/dist-packages (from ipykernel->jupyter) (7.34.0)\n",
            "Requirement already satisfied: traitlets>=4.1.0 in /usr/local/lib/python3.10/dist-packages (from ipykernel->jupyter) (5.7.1)\n",
            "Requirement already satisfied: jupyter-client in /usr/local/lib/python3.10/dist-packages (from ipykernel->jupyter) (6.1.12)\n",
            "Requirement already satisfied: tornado>=4.2 in /usr/local/lib/python3.10/dist-packages (from ipykernel->jupyter) (6.3.3)\n",
            "Requirement already satisfied: widgetsnbextension~=3.6.0 in /usr/local/lib/python3.10/dist-packages (from ipywidgets->jupyter) (3.6.6)\n",
            "Requirement already satisfied: jupyterlab-widgets>=1.0.0 in /usr/local/lib/python3.10/dist-packages (from ipywidgets->jupyter) (3.0.11)\n",
            "Requirement already satisfied: prompt-toolkit!=3.0.0,!=3.0.1,<3.1.0,>=2.0.0 in /usr/local/lib/python3.10/dist-packages (from jupyter-console->jupyter) (3.0.47)\n",
            "Requirement already satisfied: pygments in /usr/local/lib/python3.10/dist-packages (from jupyter-console->jupyter) (2.16.1)\n",
            "Requirement already satisfied: lxml in /usr/local/lib/python3.10/dist-packages (from nbconvert->jupyter) (4.9.4)\n",
            "Requirement already satisfied: beautifulsoup4 in /usr/local/lib/python3.10/dist-packages (from nbconvert->jupyter) (4.12.3)\n",
            "Requirement already satisfied: bleach in /usr/local/lib/python3.10/dist-packages (from nbconvert->jupyter) (6.1.0)\n",
            "Requirement already satisfied: defusedxml in /usr/local/lib/python3.10/dist-packages (from nbconvert->jupyter) (0.7.1)\n",
            "Requirement already satisfied: entrypoints>=0.2.2 in /usr/local/lib/python3.10/dist-packages (from nbconvert->jupyter) (0.4)\n",
            "Requirement already satisfied: jinja2>=3.0 in /usr/local/lib/python3.10/dist-packages (from nbconvert->jupyter) (3.1.4)\n",
            "Requirement already satisfied: jupyter-core>=4.7 in /usr/local/lib/python3.10/dist-packages (from nbconvert->jupyter) (5.7.2)\n",
            "Requirement already satisfied: jupyterlab-pygments in /usr/local/lib/python3.10/dist-packages (from nbconvert->jupyter) (0.3.0)\n",
            "Requirement already satisfied: MarkupSafe>=2.0 in /usr/local/lib/python3.10/dist-packages (from nbconvert->jupyter) (2.1.5)\n",
            "Requirement already satisfied: mistune<2,>=0.8.1 in /usr/local/lib/python3.10/dist-packages (from nbconvert->jupyter) (0.8.4)\n",
            "Requirement already satisfied: nbclient>=0.5.0 in /usr/local/lib/python3.10/dist-packages (from nbconvert->jupyter) (0.10.0)\n",
            "Requirement already satisfied: nbformat>=5.1 in /usr/local/lib/python3.10/dist-packages (from nbconvert->jupyter) (5.10.4)\n",
            "Requirement already satisfied: packaging in /usr/local/lib/python3.10/dist-packages (from nbconvert->jupyter) (24.1)\n",
            "Requirement already satisfied: pandocfilters>=1.4.1 in /usr/local/lib/python3.10/dist-packages (from nbconvert->jupyter) (1.5.1)\n",
            "Requirement already satisfied: tinycss2 in /usr/local/lib/python3.10/dist-packages (from nbconvert->jupyter) (1.3.0)\n",
            "Requirement already satisfied: pyzmq<25,>=17 in /usr/local/lib/python3.10/dist-packages (from notebook->jupyter) (24.0.1)\n",
            "Requirement already satisfied: argon2-cffi in /usr/local/lib/python3.10/dist-packages (from notebook->jupyter) (23.1.0)\n",
            "Requirement already satisfied: nest-asyncio>=1.5 in /usr/local/lib/python3.10/dist-packages (from notebook->jupyter) (1.6.0)\n",
            "Requirement already satisfied: Send2Trash>=1.8.0 in /usr/local/lib/python3.10/dist-packages (from notebook->jupyter) (1.8.3)\n",
            "Requirement already satisfied: terminado>=0.8.3 in /usr/local/lib/python3.10/dist-packages (from notebook->jupyter) (0.18.1)\n",
            "Requirement already satisfied: prometheus-client in /usr/local/lib/python3.10/dist-packages (from notebook->jupyter) (0.20.0)\n",
            "Requirement already satisfied: nbclassic>=0.4.7 in /usr/local/lib/python3.10/dist-packages (from notebook->jupyter) (1.1.0)\n",
            "Requirement already satisfied: qtpy>=2.4.0 in /usr/local/lib/python3.10/dist-packages (from qtconsole->jupyter) (2.4.1)\n",
            "Requirement already satisfied: setuptools>=18.5 in /usr/local/lib/python3.10/dist-packages (from ipython>=5.0.0->ipykernel->jupyter) (67.7.2)\n",
            "Requirement already satisfied: jedi>=0.16 in /usr/local/lib/python3.10/dist-packages (from ipython>=5.0.0->ipykernel->jupyter) (0.19.1)\n",
            "Requirement already satisfied: decorator in /usr/local/lib/python3.10/dist-packages (from ipython>=5.0.0->ipykernel->jupyter) (4.4.2)\n",
            "Requirement already satisfied: pickleshare in /usr/local/lib/python3.10/dist-packages (from ipython>=5.0.0->ipykernel->jupyter) (0.7.5)\n",
            "Requirement already satisfied: backcall in /usr/local/lib/python3.10/dist-packages (from ipython>=5.0.0->ipykernel->jupyter) (0.2.0)\n",
            "Requirement already satisfied: matplotlib-inline in /usr/local/lib/python3.10/dist-packages (from ipython>=5.0.0->ipykernel->jupyter) (0.1.7)\n",
            "Requirement already satisfied: pexpect>4.3 in /usr/local/lib/python3.10/dist-packages (from ipython>=5.0.0->ipykernel->jupyter) (4.9.0)\n",
            "Requirement already satisfied: python-dateutil>=2.1 in /usr/local/lib/python3.10/dist-packages (from jupyter-client->ipykernel->jupyter) (2.8.2)\n",
            "Requirement already satisfied: platformdirs>=2.5 in /usr/local/lib/python3.10/dist-packages (from jupyter-core>=4.7->nbconvert->jupyter) (4.2.2)\n",
            "Requirement already satisfied: notebook-shim>=0.2.3 in /usr/local/lib/python3.10/dist-packages (from nbclassic>=0.4.7->notebook->jupyter) (0.2.4)\n",
            "Requirement already satisfied: fastjsonschema>=2.15 in /usr/local/lib/python3.10/dist-packages (from nbformat>=5.1->nbconvert->jupyter) (2.20.0)\n",
            "Requirement already satisfied: jsonschema>=2.6 in /usr/local/lib/python3.10/dist-packages (from nbformat>=5.1->nbconvert->jupyter) (4.19.2)\n",
            "Requirement already satisfied: wcwidth in /usr/local/lib/python3.10/dist-packages (from prompt-toolkit!=3.0.0,!=3.0.1,<3.1.0,>=2.0.0->jupyter-console->jupyter) (0.2.13)\n",
            "Requirement already satisfied: ptyprocess in /usr/local/lib/python3.10/dist-packages (from terminado>=0.8.3->notebook->jupyter) (0.7.0)\n",
            "Requirement already satisfied: argon2-cffi-bindings in /usr/local/lib/python3.10/dist-packages (from argon2-cffi->notebook->jupyter) (21.2.0)\n",
            "Requirement already satisfied: soupsieve>1.2 in /usr/local/lib/python3.10/dist-packages (from beautifulsoup4->nbconvert->jupyter) (2.5)\n",
            "Requirement already satisfied: six>=1.9.0 in /usr/local/lib/python3.10/dist-packages (from bleach->nbconvert->jupyter) (1.16.0)\n",
            "Requirement already satisfied: webencodings in /usr/local/lib/python3.10/dist-packages (from bleach->nbconvert->jupyter) (0.5.1)\n",
            "Requirement already satisfied: parso<0.9.0,>=0.8.3 in /usr/local/lib/python3.10/dist-packages (from jedi>=0.16->ipython>=5.0.0->ipykernel->jupyter) (0.8.4)\n",
            "Requirement already satisfied: attrs>=22.2.0 in /usr/local/lib/python3.10/dist-packages (from jsonschema>=2.6->nbformat>=5.1->nbconvert->jupyter) (23.2.0)\n",
            "Requirement already satisfied: jsonschema-specifications>=2023.03.6 in /usr/local/lib/python3.10/dist-packages (from jsonschema>=2.6->nbformat>=5.1->nbconvert->jupyter) (2023.12.1)\n",
            "Requirement already satisfied: referencing>=0.28.4 in /usr/local/lib/python3.10/dist-packages (from jsonschema>=2.6->nbformat>=5.1->nbconvert->jupyter) (0.35.1)\n",
            "Requirement already satisfied: rpds-py>=0.7.1 in /usr/local/lib/python3.10/dist-packages (from jsonschema>=2.6->nbformat>=5.1->nbconvert->jupyter) (0.18.1)\n",
            "Requirement already satisfied: jupyter-server<3,>=1.8 in /usr/local/lib/python3.10/dist-packages (from notebook-shim>=0.2.3->nbclassic>=0.4.7->notebook->jupyter) (1.24.0)\n",
            "Requirement already satisfied: cffi>=1.0.1 in /usr/local/lib/python3.10/dist-packages (from argon2-cffi-bindings->argon2-cffi->notebook->jupyter) (1.16.0)\n",
            "Requirement already satisfied: pycparser in /usr/local/lib/python3.10/dist-packages (from cffi>=1.0.1->argon2-cffi-bindings->argon2-cffi->notebook->jupyter) (2.22)\n",
            "Requirement already satisfied: anyio<4,>=3.1.0 in /usr/local/lib/python3.10/dist-packages (from jupyter-server<3,>=1.8->notebook-shim>=0.2.3->nbclassic>=0.4.7->notebook->jupyter) (3.7.1)\n",
            "Requirement already satisfied: websocket-client in /usr/local/lib/python3.10/dist-packages (from jupyter-server<3,>=1.8->notebook-shim>=0.2.3->nbclassic>=0.4.7->notebook->jupyter) (1.8.0)\n",
            "Requirement already satisfied: idna>=2.8 in /usr/local/lib/python3.10/dist-packages (from anyio<4,>=3.1.0->jupyter-server<3,>=1.8->notebook-shim>=0.2.3->nbclassic>=0.4.7->notebook->jupyter) (3.7)\n",
            "Requirement already satisfied: sniffio>=1.1 in /usr/local/lib/python3.10/dist-packages (from anyio<4,>=3.1.0->jupyter-server<3,>=1.8->notebook-shim>=0.2.3->nbclassic>=0.4.7->notebook->jupyter) (1.3.1)\n",
            "Requirement already satisfied: exceptiongroup in /usr/local/lib/python3.10/dist-packages (from anyio<4,>=3.1.0->jupyter-server<3,>=1.8->notebook-shim>=0.2.3->nbclassic>=0.4.7->notebook->jupyter) (1.2.1)\n"
          ]
        }
      ]
    },
    {
      "metadata": {
        "id": "f854195a-9e60-4dcf-9503-988a2e07119a"
      },
      "cell_type": "code",
      "source": [
        "import yfinance as yf\n",
        "import pandas as pd\n",
        "import requests\n",
        "from bs4 import BeautifulSoup\n",
        "import plotly.graph_objects as go\n",
        "from plotly.subplots import make_subplots"
      ],
      "execution_count": 28,
      "outputs": []
    },
    {
      "metadata": {
        "id": "b145d9e3-1f0c-4b89-be83-7182d6f27c52"
      },
      "cell_type": "markdown",
      "source": [
        "In Python, you can ignore warnings using the warnings module. You can use the filterwarnings function to filter or ignore specific warning messages or categories.\n"
      ]
    },
    {
      "metadata": {
        "id": "ed4ad165-dcc5-4b5b-94f4-63caf2cba982"
      },
      "cell_type": "code",
      "source": [
        "import warnings\n",
        "# Ignore all warnings\n",
        "warnings.filterwarnings(\"ignore\", category=FutureWarning)"
      ],
      "execution_count": 29,
      "outputs": []
    },
    {
      "metadata": {
        "id": "fbcf5807-8854-44ea-9bd2-ac60cc6e8a6e"
      },
      "cell_type": "markdown",
      "source": [
        "## Define Graphing Function\n"
      ]
    },
    {
      "metadata": {
        "id": "a888a40a-2dcd-4721-99b2-71c9ecd0463c"
      },
      "cell_type": "markdown",
      "source": [
        "In this section, we define the function `make_graph`. **You don't have to know how the function works, you should only care about the inputs. It takes a dataframe with stock data (dataframe must contain Date and Close columns), a dataframe with revenue data (dataframe must contain Date and Revenue columns), and the name of the stock.**\n"
      ]
    },
    {
      "metadata": {
        "id": "e5034150-d644-4077-b068-7eae2ec8e19d"
      },
      "cell_type": "code",
      "source": [
        "def make_graph(stock_data, revenue_data, stock):\n",
        "    fig = make_subplots(rows=2, cols=1, shared_xaxes=True, subplot_titles=(\"Historical Share Price\", \"Historical Revenue\"), vertical_spacing = .3)\n",
        "    stock_data_specific = stock_data[stock_data.Date <= '2021--06-14']\n",
        "    revenue_data_specific = revenue_data[revenue_data.Date <= '2021-04-30']\n",
        "    fig.add_trace(go.Scatter(x=pd.to_datetime(stock_data_specific.Date, infer_datetime_format=True), y=stock_data_specific.Close.astype(\"float\"), name=\"Share Price\"), row=1, col=1)\n",
        "    fig.add_trace(go.Scatter(x=pd.to_datetime(revenue_data_specific.Date, infer_datetime_format=True), y=revenue_data_specific.Revenue.astype(\"float\"), name=\"Revenue\"), row=2, col=1)\n",
        "    fig.update_xaxes(title_text=\"Date\", row=1, col=1)\n",
        "    fig.update_xaxes(title_text=\"Date\", row=2, col=1)\n",
        "    fig.update_yaxes(title_text=\"Price ($US)\", row=1, col=1)\n",
        "    fig.update_yaxes(title_text=\"Revenue ($US Millions)\", row=2, col=1)\n",
        "    fig.update_layout(showlegend=False,\n",
        "    height=900,\n",
        "    title=stock,\n",
        "    xaxis_rangeslider_visible=True)\n",
        "    fig.show()"
      ],
      "execution_count": 30,
      "outputs": []
    },
    {
      "metadata": {
        "id": "21360bf5-7820-419c-99cc-2ad8460172a0"
      },
      "cell_type": "markdown",
      "source": [
        "Use the make_graph function that we’ve already defined. You’ll need to invoke it in questions 5 and 6 to display the graphs and create the dashboard.\n",
        "> **Note: You don’t need to redefine the function for plotting graphs anywhere else in this notebook; just use the existing function.**\n"
      ]
    },
    {
      "metadata": {
        "id": "cfa52dc6-77a3-4746-9536-061d762c5bd0"
      },
      "cell_type": "markdown",
      "source": [
        "## Question 1: Use yfinance to Extract Stock Data\n"
      ]
    },
    {
      "metadata": {
        "id": "04270d44-1f8f-4e01-8ccc-87ccd4de747c"
      },
      "cell_type": "markdown",
      "source": [
        "Using the `Ticker` function enter the ticker symbol of the stock we want to extract data on to create a ticker object. The stock is Tesla and its ticker symbol is `TSLA`.\n"
      ]
    },
    {
      "metadata": {
        "colab": {
          "base_uri": "https://localhost:8080/"
        },
        "id": "87a0a238-16de-4608-99bc-2732d4ce48bc",
        "outputId": "65914a41-5ed0-4b5b-f56a-ddcfb43df503"
      },
      "cell_type": "code",
      "source": [
        "# Create a Ticker object for Tesla\n",
        "tesla = yf.Ticker(\"TSLA\")\n",
        "\n",
        "print(tesla.ticker)"
      ],
      "execution_count": 31,
      "outputs": [
        {
          "output_type": "stream",
          "name": "stdout",
          "text": [
            "TSLA\n"
          ]
        }
      ]
    },
    {
      "metadata": {
        "id": "08ed8927-6733-4623-836d-d813b98d6dd3"
      },
      "cell_type": "markdown",
      "source": [
        "Using the ticker object and the function `history` extract stock information and save it in a dataframe named `tesla_data`. Set the `period` parameter to ` \"max\" ` so we get information for the maximum amount of time.\n"
      ]
    },
    {
      "metadata": {
        "id": "f6d1565d-6aa9-4510-af4f-d0f9e1ab486f"
      },
      "cell_type": "code",
      "source": [
        "tesla_data = tesla.history(period=\"max\")"
      ],
      "execution_count": 32,
      "outputs": []
    },
    {
      "metadata": {
        "id": "140d914c-bcd4-402b-af4d-d5da59953785"
      },
      "cell_type": "markdown",
      "source": [
        "**Reset the index** using the `reset_index(inplace=True)` function on the tesla_data DataFrame and display the first five rows of the `tesla_data` dataframe using the `head` function. Take a screenshot of the results and code from the beginning of Question 1 to the results below.\n"
      ]
    },
    {
      "metadata": {
        "colab": {
          "base_uri": "https://localhost:8080/",
          "height": 226
        },
        "id": "8a340cbb-219d-486b-a6b6-3ff8599cafd7",
        "outputId": "ec2c5d54-54c3-4bb2-834f-3a22f45fb88c"
      },
      "cell_type": "code",
      "source": [
        "# Reset the index\n",
        "tesla_data.reset_index(inplace=True)\n",
        "\n",
        "# Display the first five rows\n",
        "tesla_data.head()"
      ],
      "execution_count": 33,
      "outputs": [
        {
          "output_type": "execute_result",
          "data": {
            "text/plain": [
              "                       Date      Open      High       Low     Close  \\\n",
              "0 2010-06-29 00:00:00-04:00  1.266667  1.666667  1.169333  1.592667   \n",
              "1 2010-06-30 00:00:00-04:00  1.719333  2.028000  1.553333  1.588667   \n",
              "2 2010-07-01 00:00:00-04:00  1.666667  1.728000  1.351333  1.464000   \n",
              "3 2010-07-02 00:00:00-04:00  1.533333  1.540000  1.247333  1.280000   \n",
              "4 2010-07-06 00:00:00-04:00  1.333333  1.333333  1.055333  1.074000   \n",
              "\n",
              "      Volume  Dividends  Stock Splits  \n",
              "0  281494500        0.0           0.0  \n",
              "1  257806500        0.0           0.0  \n",
              "2  123282000        0.0           0.0  \n",
              "3   77097000        0.0           0.0  \n",
              "4  103003500        0.0           0.0  "
            ],
            "text/html": [
              "\n",
              "  <div id=\"df-ba166817-63ff-4ce7-afb0-3d3e9def55e9\" class=\"colab-df-container\">\n",
              "    <div>\n",
              "<style scoped>\n",
              "    .dataframe tbody tr th:only-of-type {\n",
              "        vertical-align: middle;\n",
              "    }\n",
              "\n",
              "    .dataframe tbody tr th {\n",
              "        vertical-align: top;\n",
              "    }\n",
              "\n",
              "    .dataframe thead th {\n",
              "        text-align: right;\n",
              "    }\n",
              "</style>\n",
              "<table border=\"1\" class=\"dataframe\">\n",
              "  <thead>\n",
              "    <tr style=\"text-align: right;\">\n",
              "      <th></th>\n",
              "      <th>Date</th>\n",
              "      <th>Open</th>\n",
              "      <th>High</th>\n",
              "      <th>Low</th>\n",
              "      <th>Close</th>\n",
              "      <th>Volume</th>\n",
              "      <th>Dividends</th>\n",
              "      <th>Stock Splits</th>\n",
              "    </tr>\n",
              "  </thead>\n",
              "  <tbody>\n",
              "    <tr>\n",
              "      <th>0</th>\n",
              "      <td>2010-06-29 00:00:00-04:00</td>\n",
              "      <td>1.266667</td>\n",
              "      <td>1.666667</td>\n",
              "      <td>1.169333</td>\n",
              "      <td>1.592667</td>\n",
              "      <td>281494500</td>\n",
              "      <td>0.0</td>\n",
              "      <td>0.0</td>\n",
              "    </tr>\n",
              "    <tr>\n",
              "      <th>1</th>\n",
              "      <td>2010-06-30 00:00:00-04:00</td>\n",
              "      <td>1.719333</td>\n",
              "      <td>2.028000</td>\n",
              "      <td>1.553333</td>\n",
              "      <td>1.588667</td>\n",
              "      <td>257806500</td>\n",
              "      <td>0.0</td>\n",
              "      <td>0.0</td>\n",
              "    </tr>\n",
              "    <tr>\n",
              "      <th>2</th>\n",
              "      <td>2010-07-01 00:00:00-04:00</td>\n",
              "      <td>1.666667</td>\n",
              "      <td>1.728000</td>\n",
              "      <td>1.351333</td>\n",
              "      <td>1.464000</td>\n",
              "      <td>123282000</td>\n",
              "      <td>0.0</td>\n",
              "      <td>0.0</td>\n",
              "    </tr>\n",
              "    <tr>\n",
              "      <th>3</th>\n",
              "      <td>2010-07-02 00:00:00-04:00</td>\n",
              "      <td>1.533333</td>\n",
              "      <td>1.540000</td>\n",
              "      <td>1.247333</td>\n",
              "      <td>1.280000</td>\n",
              "      <td>77097000</td>\n",
              "      <td>0.0</td>\n",
              "      <td>0.0</td>\n",
              "    </tr>\n",
              "    <tr>\n",
              "      <th>4</th>\n",
              "      <td>2010-07-06 00:00:00-04:00</td>\n",
              "      <td>1.333333</td>\n",
              "      <td>1.333333</td>\n",
              "      <td>1.055333</td>\n",
              "      <td>1.074000</td>\n",
              "      <td>103003500</td>\n",
              "      <td>0.0</td>\n",
              "      <td>0.0</td>\n",
              "    </tr>\n",
              "  </tbody>\n",
              "</table>\n",
              "</div>\n",
              "    <div class=\"colab-df-buttons\">\n",
              "\n",
              "  <div class=\"colab-df-container\">\n",
              "    <button class=\"colab-df-convert\" onclick=\"convertToInteractive('df-ba166817-63ff-4ce7-afb0-3d3e9def55e9')\"\n",
              "            title=\"Convert this dataframe to an interactive table.\"\n",
              "            style=\"display:none;\">\n",
              "\n",
              "  <svg xmlns=\"http://www.w3.org/2000/svg\" height=\"24px\" viewBox=\"0 -960 960 960\">\n",
              "    <path d=\"M120-120v-720h720v720H120Zm60-500h600v-160H180v160Zm220 220h160v-160H400v160Zm0 220h160v-160H400v160ZM180-400h160v-160H180v160Zm440 0h160v-160H620v160ZM180-180h160v-160H180v160Zm440 0h160v-160H620v160Z\"/>\n",
              "  </svg>\n",
              "    </button>\n",
              "\n",
              "  <style>\n",
              "    .colab-df-container {\n",
              "      display:flex;\n",
              "      gap: 12px;\n",
              "    }\n",
              "\n",
              "    .colab-df-convert {\n",
              "      background-color: #E8F0FE;\n",
              "      border: none;\n",
              "      border-radius: 50%;\n",
              "      cursor: pointer;\n",
              "      display: none;\n",
              "      fill: #1967D2;\n",
              "      height: 32px;\n",
              "      padding: 0 0 0 0;\n",
              "      width: 32px;\n",
              "    }\n",
              "\n",
              "    .colab-df-convert:hover {\n",
              "      background-color: #E2EBFA;\n",
              "      box-shadow: 0px 1px 2px rgba(60, 64, 67, 0.3), 0px 1px 3px 1px rgba(60, 64, 67, 0.15);\n",
              "      fill: #174EA6;\n",
              "    }\n",
              "\n",
              "    .colab-df-buttons div {\n",
              "      margin-bottom: 4px;\n",
              "    }\n",
              "\n",
              "    [theme=dark] .colab-df-convert {\n",
              "      background-color: #3B4455;\n",
              "      fill: #D2E3FC;\n",
              "    }\n",
              "\n",
              "    [theme=dark] .colab-df-convert:hover {\n",
              "      background-color: #434B5C;\n",
              "      box-shadow: 0px 1px 3px 1px rgba(0, 0, 0, 0.15);\n",
              "      filter: drop-shadow(0px 1px 2px rgba(0, 0, 0, 0.3));\n",
              "      fill: #FFFFFF;\n",
              "    }\n",
              "  </style>\n",
              "\n",
              "    <script>\n",
              "      const buttonEl =\n",
              "        document.querySelector('#df-ba166817-63ff-4ce7-afb0-3d3e9def55e9 button.colab-df-convert');\n",
              "      buttonEl.style.display =\n",
              "        google.colab.kernel.accessAllowed ? 'block' : 'none';\n",
              "\n",
              "      async function convertToInteractive(key) {\n",
              "        const element = document.querySelector('#df-ba166817-63ff-4ce7-afb0-3d3e9def55e9');\n",
              "        const dataTable =\n",
              "          await google.colab.kernel.invokeFunction('convertToInteractive',\n",
              "                                                    [key], {});\n",
              "        if (!dataTable) return;\n",
              "\n",
              "        const docLinkHtml = 'Like what you see? Visit the ' +\n",
              "          '<a target=\"_blank\" href=https://colab.research.google.com/notebooks/data_table.ipynb>data table notebook</a>'\n",
              "          + ' to learn more about interactive tables.';\n",
              "        element.innerHTML = '';\n",
              "        dataTable['output_type'] = 'display_data';\n",
              "        await google.colab.output.renderOutput(dataTable, element);\n",
              "        const docLink = document.createElement('div');\n",
              "        docLink.innerHTML = docLinkHtml;\n",
              "        element.appendChild(docLink);\n",
              "      }\n",
              "    </script>\n",
              "  </div>\n",
              "\n",
              "\n",
              "<div id=\"df-1d0c90ce-74fc-4c6f-a558-c670baef2ad5\">\n",
              "  <button class=\"colab-df-quickchart\" onclick=\"quickchart('df-1d0c90ce-74fc-4c6f-a558-c670baef2ad5')\"\n",
              "            title=\"Suggest charts\"\n",
              "            style=\"display:none;\">\n",
              "\n",
              "<svg xmlns=\"http://www.w3.org/2000/svg\" height=\"24px\"viewBox=\"0 0 24 24\"\n",
              "     width=\"24px\">\n",
              "    <g>\n",
              "        <path d=\"M19 3H5c-1.1 0-2 .9-2 2v14c0 1.1.9 2 2 2h14c1.1 0 2-.9 2-2V5c0-1.1-.9-2-2-2zM9 17H7v-7h2v7zm4 0h-2V7h2v10zm4 0h-2v-4h2v4z\"/>\n",
              "    </g>\n",
              "</svg>\n",
              "  </button>\n",
              "\n",
              "<style>\n",
              "  .colab-df-quickchart {\n",
              "      --bg-color: #E8F0FE;\n",
              "      --fill-color: #1967D2;\n",
              "      --hover-bg-color: #E2EBFA;\n",
              "      --hover-fill-color: #174EA6;\n",
              "      --disabled-fill-color: #AAA;\n",
              "      --disabled-bg-color: #DDD;\n",
              "  }\n",
              "\n",
              "  [theme=dark] .colab-df-quickchart {\n",
              "      --bg-color: #3B4455;\n",
              "      --fill-color: #D2E3FC;\n",
              "      --hover-bg-color: #434B5C;\n",
              "      --hover-fill-color: #FFFFFF;\n",
              "      --disabled-bg-color: #3B4455;\n",
              "      --disabled-fill-color: #666;\n",
              "  }\n",
              "\n",
              "  .colab-df-quickchart {\n",
              "    background-color: var(--bg-color);\n",
              "    border: none;\n",
              "    border-radius: 50%;\n",
              "    cursor: pointer;\n",
              "    display: none;\n",
              "    fill: var(--fill-color);\n",
              "    height: 32px;\n",
              "    padding: 0;\n",
              "    width: 32px;\n",
              "  }\n",
              "\n",
              "  .colab-df-quickchart:hover {\n",
              "    background-color: var(--hover-bg-color);\n",
              "    box-shadow: 0 1px 2px rgba(60, 64, 67, 0.3), 0 1px 3px 1px rgba(60, 64, 67, 0.15);\n",
              "    fill: var(--button-hover-fill-color);\n",
              "  }\n",
              "\n",
              "  .colab-df-quickchart-complete:disabled,\n",
              "  .colab-df-quickchart-complete:disabled:hover {\n",
              "    background-color: var(--disabled-bg-color);\n",
              "    fill: var(--disabled-fill-color);\n",
              "    box-shadow: none;\n",
              "  }\n",
              "\n",
              "  .colab-df-spinner {\n",
              "    border: 2px solid var(--fill-color);\n",
              "    border-color: transparent;\n",
              "    border-bottom-color: var(--fill-color);\n",
              "    animation:\n",
              "      spin 1s steps(1) infinite;\n",
              "  }\n",
              "\n",
              "  @keyframes spin {\n",
              "    0% {\n",
              "      border-color: transparent;\n",
              "      border-bottom-color: var(--fill-color);\n",
              "      border-left-color: var(--fill-color);\n",
              "    }\n",
              "    20% {\n",
              "      border-color: transparent;\n",
              "      border-left-color: var(--fill-color);\n",
              "      border-top-color: var(--fill-color);\n",
              "    }\n",
              "    30% {\n",
              "      border-color: transparent;\n",
              "      border-left-color: var(--fill-color);\n",
              "      border-top-color: var(--fill-color);\n",
              "      border-right-color: var(--fill-color);\n",
              "    }\n",
              "    40% {\n",
              "      border-color: transparent;\n",
              "      border-right-color: var(--fill-color);\n",
              "      border-top-color: var(--fill-color);\n",
              "    }\n",
              "    60% {\n",
              "      border-color: transparent;\n",
              "      border-right-color: var(--fill-color);\n",
              "    }\n",
              "    80% {\n",
              "      border-color: transparent;\n",
              "      border-right-color: var(--fill-color);\n",
              "      border-bottom-color: var(--fill-color);\n",
              "    }\n",
              "    90% {\n",
              "      border-color: transparent;\n",
              "      border-bottom-color: var(--fill-color);\n",
              "    }\n",
              "  }\n",
              "</style>\n",
              "\n",
              "  <script>\n",
              "    async function quickchart(key) {\n",
              "      const quickchartButtonEl =\n",
              "        document.querySelector('#' + key + ' button');\n",
              "      quickchartButtonEl.disabled = true;  // To prevent multiple clicks.\n",
              "      quickchartButtonEl.classList.add('colab-df-spinner');\n",
              "      try {\n",
              "        const charts = await google.colab.kernel.invokeFunction(\n",
              "            'suggestCharts', [key], {});\n",
              "      } catch (error) {\n",
              "        console.error('Error during call to suggestCharts:', error);\n",
              "      }\n",
              "      quickchartButtonEl.classList.remove('colab-df-spinner');\n",
              "      quickchartButtonEl.classList.add('colab-df-quickchart-complete');\n",
              "    }\n",
              "    (() => {\n",
              "      let quickchartButtonEl =\n",
              "        document.querySelector('#df-1d0c90ce-74fc-4c6f-a558-c670baef2ad5 button');\n",
              "      quickchartButtonEl.style.display =\n",
              "        google.colab.kernel.accessAllowed ? 'block' : 'none';\n",
              "    })();\n",
              "  </script>\n",
              "</div>\n",
              "\n",
              "    </div>\n",
              "  </div>\n"
            ],
            "application/vnd.google.colaboratory.intrinsic+json": {
              "type": "dataframe",
              "variable_name": "tesla_data",
              "summary": "{\n  \"name\": \"tesla_data\",\n  \"rows\": 3533,\n  \"fields\": [\n    {\n      \"column\": \"Date\",\n      \"properties\": {\n        \"dtype\": \"date\",\n        \"min\": \"2010-06-29 00:00:00-04:00\",\n        \"max\": \"2024-07-12 00:00:00-04:00\",\n        \"num_unique_values\": 3533,\n        \"samples\": [\n          \"2011-10-11 00:00:00-04:00\",\n          \"2015-12-29 00:00:00-05:00\",\n          \"2019-01-10 00:00:00-05:00\"\n        ],\n        \"semantic_type\": \"\",\n        \"description\": \"\"\n      }\n    },\n    {\n      \"column\": \"Open\",\n      \"properties\": {\n        \"dtype\": \"number\",\n        \"std\": 102.25048542937581,\n        \"min\": 1.0759999752044678,\n        \"max\": 411.4700012207031,\n        \"num_unique_values\": 3227,\n        \"samples\": [\n          15.27066707611084,\n          2.2073330879211426,\n          12.533332824707031\n        ],\n        \"semantic_type\": \"\",\n        \"description\": \"\"\n      }\n    },\n    {\n      \"column\": \"High\",\n      \"properties\": {\n        \"dtype\": \"number\",\n        \"std\": 104.52099210668376,\n        \"min\": 1.108667016029358,\n        \"max\": 414.4966735839844,\n        \"num_unique_values\": 3221,\n        \"samples\": [\n          2.246000051498413,\n          2.50266695022583,\n          9.463333129882812\n        ],\n        \"semantic_type\": \"\",\n        \"description\": \"\"\n      }\n    },\n    {\n      \"column\": \"Low\",\n      \"properties\": {\n        \"dtype\": \"number\",\n        \"std\": 99.78050890344521,\n        \"min\": 0.9986670017242432,\n        \"max\": 405.6666564941406,\n        \"num_unique_values\": 3237,\n        \"samples\": [\n          15.633333206176758,\n          179.8300018310547,\n          15.305999755859375\n        ],\n        \"semantic_type\": \"\",\n        \"description\": \"\"\n      }\n    },\n    {\n      \"column\": \"Close\",\n      \"properties\": {\n        \"dtype\": \"number\",\n        \"std\": 102.18738465582211,\n        \"min\": 1.053333044052124,\n        \"max\": 409.9700012207031,\n        \"num_unique_values\": 3333,\n        \"samples\": [\n          2.2233328819274902,\n          337.7966613769531,\n          14.524666786193848\n        ],\n        \"semantic_type\": \"\",\n        \"description\": \"\"\n      }\n    },\n    {\n      \"column\": \"Volume\",\n      \"properties\": {\n        \"dtype\": \"number\",\n        \"std\": 78779691,\n        \"min\": 1777500,\n        \"max\": 914082000,\n        \"num_unique_values\": 3502,\n        \"samples\": [\n          181006400,\n          10117500,\n          110263500\n        ],\n        \"semantic_type\": \"\",\n        \"description\": \"\"\n      }\n    },\n    {\n      \"column\": \"Dividends\",\n      \"properties\": {\n        \"dtype\": \"number\",\n        \"std\": 0.0,\n        \"min\": 0.0,\n        \"max\": 0.0,\n        \"num_unique_values\": 1,\n        \"samples\": [\n          0.0\n        ],\n        \"semantic_type\": \"\",\n        \"description\": \"\"\n      }\n    },\n    {\n      \"column\": \"Stock Splits\",\n      \"properties\": {\n        \"dtype\": \"number\",\n        \"std\": 0.09808743684656393,\n        \"min\": 0.0,\n        \"max\": 5.0,\n        \"num_unique_values\": 3,\n        \"samples\": [\n          0.0\n        ],\n        \"semantic_type\": \"\",\n        \"description\": \"\"\n      }\n    }\n  ]\n}"
            }
          },
          "metadata": {},
          "execution_count": 33
        }
      ]
    },
    {
      "metadata": {
        "id": "362955cb-232d-406b-85e2-1e0bafcb1502"
      },
      "cell_type": "markdown",
      "source": [
        "## Question 2: Use Webscraping to Extract Tesla Revenue Data\n"
      ]
    },
    {
      "metadata": {
        "id": "08c6d45c-1a19-4ce2-9dd7-3b06f941500e"
      },
      "cell_type": "markdown",
      "source": [
        "Use the `requests` library to download the webpage https://cf-courses-data.s3.us.cloud-object-storage.appdomain.cloud/IBMDeveloperSkillsNetwork-PY0220EN-SkillsNetwork/labs/project/revenue.htm Save the text of the response as a variable named `html_data`.\n"
      ]
    },
    {
      "metadata": {
        "colab": {
          "base_uri": "https://localhost:8080/"
        },
        "id": "cf5d493c-82e9-4b42-8411-a0cafa4b0c37",
        "outputId": "9758b373-d30f-494c-993a-8bccea87cae1"
      },
      "cell_type": "code",
      "source": [
        "# URL of the webpage containing revenue data -- Tesla\n",
        "url = \"https://cf-courses-data.s3.us.cloud-object-storage.appdomain.cloud/IBMDeveloperSkillsNetwork-PY0220EN-SkillsNetwork/labs/project/revenue.htm\"\n",
        "\n",
        "# Send a GET request to the URL\n",
        "response = requests.get(url)\n",
        "\n",
        "# Check if the request was successful!!\n",
        "if response.status_code == 200:\n",
        "    html_data = response.text  # Save the HTML content\n",
        "    print(\"Successfully downloaded\")\n",
        "else:\n",
        "    print(\"Failed:\", response.status_code)"
      ],
      "execution_count": 34,
      "outputs": [
        {
          "output_type": "stream",
          "name": "stdout",
          "text": [
            "Successfully downloaded\n"
          ]
        }
      ]
    },
    {
      "metadata": {
        "id": "c7bb808c-2377-4572-a068-6dcab67f9c92"
      },
      "cell_type": "markdown",
      "source": [
        "Parse the html data using `beautiful_soup` using parser i.e `html5lib` or `html.parser`.\n"
      ]
    },
    {
      "metadata": {
        "id": "eade4ae6-aa6d-4070-b453-4e3782d200c8"
      },
      "cell_type": "code",
      "source": [
        "soup = BeautifulSoup(html_data, 'html.parser')"
      ],
      "execution_count": 35,
      "outputs": []
    },
    {
      "metadata": {
        "id": "1746dfbd-26c4-4e1f-872e-eebbdc5a9631"
      },
      "cell_type": "markdown",
      "source": [
        "Using `BeautifulSoup` or the `read_html` function extract the table with `Tesla Revenue` and store it into a dataframe named `tesla_revenue`. The dataframe should have columns `Date` and `Revenue`.\n"
      ]
    },
    {
      "metadata": {
        "id": "e1b54a24-d43b-4944-8e8c-e4fea8646b32"
      },
      "cell_type": "markdown",
      "source": [
        "<details><summary>Step-by-step instructions</summary>\n",
        "\n",
        "```\n",
        "\n",
        "Here are the step-by-step instructions:\n",
        "\n",
        "1. Create an Empty DataFrame\n",
        "2. Find the Relevant Table\n",
        "3. Check for the Tesla Quarterly Revenue Table\n",
        "4. Iterate Through Rows in the Table Body\n",
        "5. Extract Data from Columns\n",
        "6. Append Data to the DataFrame\n",
        "\n",
        "```\n",
        "</details>\n"
      ]
    },
    {
      "metadata": {
        "id": "45d33c46-e997-4370-a89e-49ec540b0c51"
      },
      "cell_type": "markdown",
      "source": [
        "<details><summary>Click here if you need help locating the table</summary>\n",
        "\n",
        "```\n",
        "    \n",
        "Below is the code to isolate the table, you will now need to loop through the rows and columns like in the previous lab\n",
        "    \n",
        "soup.find_all(\"tbody\")[1]\n",
        "    \n",
        "If you want to use the read_html function the table is located at index 1\n",
        "\n",
        "We are focusing on quarterly revenue in the lab.\n",
        "```\n",
        "\n",
        "</details>\n"
      ]
    },
    {
      "cell_type": "code",
      "source": [
        "\n",
        "# Step by Step instructions:\n",
        "\n",
        "# 1- Create an empty list to store DataFrames for Tesla Revenue\n",
        "tesla_revenue_list = []\n",
        "\n",
        "# 2- Find the relevant table\n",
        "table = soup.find_all(\"tbody\")[1]\n",
        "\n",
        "# 3- Check for the Tesla Quarterly Revenue Table\n",
        "if table:\n",
        "    # 4- Iterate through rows in the table body\n",
        "    for row in table.find_all('tr'):\n",
        "        # 5- Extract Data from Columns\n",
        "        cols = row.find_all('td')\n",
        "        if len(cols) == 2:  # Assuming two columns: Date & Revenue\n",
        "            date = cols[0].text.strip()\n",
        "            revenue = cols[1].text.strip()\n",
        "\n",
        "            # Append Data to the list as a DataFrame\n",
        "            tesla_revenue_list.append(pd.DataFrame({'Date': [date], 'Revenue': [revenue]}))\n",
        "\n",
        "    # Concatenate all DataFrames in the list into one DataFrame\n",
        "    tesla_revenue = pd.concat(tesla_revenue_list, ignore_index=True)\n",
        "\n",
        "    # Display the extracted data\n",
        "    print(tesla_revenue.head())\n",
        "\n",
        "else:\n",
        "    print(\"No tables found in HTML.\")"
      ],
      "metadata": {
        "colab": {
          "base_uri": "https://localhost:8080/"
        },
        "id": "e68w3BKXovGR",
        "outputId": "d69989bc-bd89-4175-89b7-3b214bd403de"
      },
      "execution_count": 36,
      "outputs": [
        {
          "output_type": "stream",
          "name": "stdout",
          "text": [
            "         Date  Revenue\n",
            "0  2022-09-30  $21,454\n",
            "1  2022-06-30  $16,934\n",
            "2  2022-03-31  $18,756\n",
            "3  2021-12-31  $17,719\n",
            "4  2021-09-30  $13,757\n"
          ]
        }
      ]
    },
    {
      "metadata": {
        "id": "507a1dbe-b9a6-46e5-8c92-fbd8282195a3"
      },
      "cell_type": "markdown",
      "source": [
        "Execute the following line to remove the comma and dollar sign from the `Revenue` column.\n"
      ]
    },
    {
      "metadata": {
        "id": "8100b452-0c0e-481d-ae5f-fabed1a7353e"
      },
      "cell_type": "code",
      "source": [
        "# Data Cleaning\n",
        "tesla_revenue[\"Revenue\"] = tesla_revenue['Revenue'].str.replace(',|\\$', '', regex=True)"
      ],
      "execution_count": 37,
      "outputs": []
    },
    {
      "metadata": {
        "id": "8affb707-a4ad-49aa-825c-bf44573a9192"
      },
      "cell_type": "markdown",
      "source": [
        "Execute the following lines to remove an null or empty strings in the Revenue column.\n"
      ]
    },
    {
      "metadata": {
        "colab": {
          "base_uri": "https://localhost:8080/",
          "height": 226
        },
        "id": "d63738d6-70ff-4009-8f8d-8a6b115f0b4a",
        "outputId": "3305eb60-e224-4bf6-cbed-d48773bdcb99"
      },
      "cell_type": "code",
      "source": [
        "# Drop rows with NaN values\n",
        "tesla_revenue.dropna(inplace=True)\n",
        "\n",
        "# Remove rows where 'Revenue' is an empty string\n",
        "tesla_revenue = tesla_revenue[tesla_revenue['Revenue'] != \"\"]\n",
        "\n",
        "# Convert 'Revenue' column to numeric\n",
        "tesla_revenue['Revenue'] = pd.to_numeric(tesla_revenue['Revenue'])\n",
        "\n",
        "tesla_revenue.head()"
      ],
      "execution_count": 38,
      "outputs": [
        {
          "output_type": "execute_result",
          "data": {
            "text/plain": [
              "         Date  Revenue\n",
              "0  2022-09-30    21454\n",
              "1  2022-06-30    16934\n",
              "2  2022-03-31    18756\n",
              "3  2021-12-31    17719\n",
              "4  2021-09-30    13757"
            ],
            "text/html": [
              "\n",
              "  <div id=\"df-ddb66e08-747d-4d2a-8f8b-0ccd4a533165\" class=\"colab-df-container\">\n",
              "    <div>\n",
              "<style scoped>\n",
              "    .dataframe tbody tr th:only-of-type {\n",
              "        vertical-align: middle;\n",
              "    }\n",
              "\n",
              "    .dataframe tbody tr th {\n",
              "        vertical-align: top;\n",
              "    }\n",
              "\n",
              "    .dataframe thead th {\n",
              "        text-align: right;\n",
              "    }\n",
              "</style>\n",
              "<table border=\"1\" class=\"dataframe\">\n",
              "  <thead>\n",
              "    <tr style=\"text-align: right;\">\n",
              "      <th></th>\n",
              "      <th>Date</th>\n",
              "      <th>Revenue</th>\n",
              "    </tr>\n",
              "  </thead>\n",
              "  <tbody>\n",
              "    <tr>\n",
              "      <th>0</th>\n",
              "      <td>2022-09-30</td>\n",
              "      <td>21454</td>\n",
              "    </tr>\n",
              "    <tr>\n",
              "      <th>1</th>\n",
              "      <td>2022-06-30</td>\n",
              "      <td>16934</td>\n",
              "    </tr>\n",
              "    <tr>\n",
              "      <th>2</th>\n",
              "      <td>2022-03-31</td>\n",
              "      <td>18756</td>\n",
              "    </tr>\n",
              "    <tr>\n",
              "      <th>3</th>\n",
              "      <td>2021-12-31</td>\n",
              "      <td>17719</td>\n",
              "    </tr>\n",
              "    <tr>\n",
              "      <th>4</th>\n",
              "      <td>2021-09-30</td>\n",
              "      <td>13757</td>\n",
              "    </tr>\n",
              "  </tbody>\n",
              "</table>\n",
              "</div>\n",
              "    <div class=\"colab-df-buttons\">\n",
              "\n",
              "  <div class=\"colab-df-container\">\n",
              "    <button class=\"colab-df-convert\" onclick=\"convertToInteractive('df-ddb66e08-747d-4d2a-8f8b-0ccd4a533165')\"\n",
              "            title=\"Convert this dataframe to an interactive table.\"\n",
              "            style=\"display:none;\">\n",
              "\n",
              "  <svg xmlns=\"http://www.w3.org/2000/svg\" height=\"24px\" viewBox=\"0 -960 960 960\">\n",
              "    <path d=\"M120-120v-720h720v720H120Zm60-500h600v-160H180v160Zm220 220h160v-160H400v160Zm0 220h160v-160H400v160ZM180-400h160v-160H180v160Zm440 0h160v-160H620v160ZM180-180h160v-160H180v160Zm440 0h160v-160H620v160Z\"/>\n",
              "  </svg>\n",
              "    </button>\n",
              "\n",
              "  <style>\n",
              "    .colab-df-container {\n",
              "      display:flex;\n",
              "      gap: 12px;\n",
              "    }\n",
              "\n",
              "    .colab-df-convert {\n",
              "      background-color: #E8F0FE;\n",
              "      border: none;\n",
              "      border-radius: 50%;\n",
              "      cursor: pointer;\n",
              "      display: none;\n",
              "      fill: #1967D2;\n",
              "      height: 32px;\n",
              "      padding: 0 0 0 0;\n",
              "      width: 32px;\n",
              "    }\n",
              "\n",
              "    .colab-df-convert:hover {\n",
              "      background-color: #E2EBFA;\n",
              "      box-shadow: 0px 1px 2px rgba(60, 64, 67, 0.3), 0px 1px 3px 1px rgba(60, 64, 67, 0.15);\n",
              "      fill: #174EA6;\n",
              "    }\n",
              "\n",
              "    .colab-df-buttons div {\n",
              "      margin-bottom: 4px;\n",
              "    }\n",
              "\n",
              "    [theme=dark] .colab-df-convert {\n",
              "      background-color: #3B4455;\n",
              "      fill: #D2E3FC;\n",
              "    }\n",
              "\n",
              "    [theme=dark] .colab-df-convert:hover {\n",
              "      background-color: #434B5C;\n",
              "      box-shadow: 0px 1px 3px 1px rgba(0, 0, 0, 0.15);\n",
              "      filter: drop-shadow(0px 1px 2px rgba(0, 0, 0, 0.3));\n",
              "      fill: #FFFFFF;\n",
              "    }\n",
              "  </style>\n",
              "\n",
              "    <script>\n",
              "      const buttonEl =\n",
              "        document.querySelector('#df-ddb66e08-747d-4d2a-8f8b-0ccd4a533165 button.colab-df-convert');\n",
              "      buttonEl.style.display =\n",
              "        google.colab.kernel.accessAllowed ? 'block' : 'none';\n",
              "\n",
              "      async function convertToInteractive(key) {\n",
              "        const element = document.querySelector('#df-ddb66e08-747d-4d2a-8f8b-0ccd4a533165');\n",
              "        const dataTable =\n",
              "          await google.colab.kernel.invokeFunction('convertToInteractive',\n",
              "                                                    [key], {});\n",
              "        if (!dataTable) return;\n",
              "\n",
              "        const docLinkHtml = 'Like what you see? Visit the ' +\n",
              "          '<a target=\"_blank\" href=https://colab.research.google.com/notebooks/data_table.ipynb>data table notebook</a>'\n",
              "          + ' to learn more about interactive tables.';\n",
              "        element.innerHTML = '';\n",
              "        dataTable['output_type'] = 'display_data';\n",
              "        await google.colab.output.renderOutput(dataTable, element);\n",
              "        const docLink = document.createElement('div');\n",
              "        docLink.innerHTML = docLinkHtml;\n",
              "        element.appendChild(docLink);\n",
              "      }\n",
              "    </script>\n",
              "  </div>\n",
              "\n",
              "\n",
              "<div id=\"df-76a5ac8a-9db9-4017-84a9-7090be75929f\">\n",
              "  <button class=\"colab-df-quickchart\" onclick=\"quickchart('df-76a5ac8a-9db9-4017-84a9-7090be75929f')\"\n",
              "            title=\"Suggest charts\"\n",
              "            style=\"display:none;\">\n",
              "\n",
              "<svg xmlns=\"http://www.w3.org/2000/svg\" height=\"24px\"viewBox=\"0 0 24 24\"\n",
              "     width=\"24px\">\n",
              "    <g>\n",
              "        <path d=\"M19 3H5c-1.1 0-2 .9-2 2v14c0 1.1.9 2 2 2h14c1.1 0 2-.9 2-2V5c0-1.1-.9-2-2-2zM9 17H7v-7h2v7zm4 0h-2V7h2v10zm4 0h-2v-4h2v4z\"/>\n",
              "    </g>\n",
              "</svg>\n",
              "  </button>\n",
              "\n",
              "<style>\n",
              "  .colab-df-quickchart {\n",
              "      --bg-color: #E8F0FE;\n",
              "      --fill-color: #1967D2;\n",
              "      --hover-bg-color: #E2EBFA;\n",
              "      --hover-fill-color: #174EA6;\n",
              "      --disabled-fill-color: #AAA;\n",
              "      --disabled-bg-color: #DDD;\n",
              "  }\n",
              "\n",
              "  [theme=dark] .colab-df-quickchart {\n",
              "      --bg-color: #3B4455;\n",
              "      --fill-color: #D2E3FC;\n",
              "      --hover-bg-color: #434B5C;\n",
              "      --hover-fill-color: #FFFFFF;\n",
              "      --disabled-bg-color: #3B4455;\n",
              "      --disabled-fill-color: #666;\n",
              "  }\n",
              "\n",
              "  .colab-df-quickchart {\n",
              "    background-color: var(--bg-color);\n",
              "    border: none;\n",
              "    border-radius: 50%;\n",
              "    cursor: pointer;\n",
              "    display: none;\n",
              "    fill: var(--fill-color);\n",
              "    height: 32px;\n",
              "    padding: 0;\n",
              "    width: 32px;\n",
              "  }\n",
              "\n",
              "  .colab-df-quickchart:hover {\n",
              "    background-color: var(--hover-bg-color);\n",
              "    box-shadow: 0 1px 2px rgba(60, 64, 67, 0.3), 0 1px 3px 1px rgba(60, 64, 67, 0.15);\n",
              "    fill: var(--button-hover-fill-color);\n",
              "  }\n",
              "\n",
              "  .colab-df-quickchart-complete:disabled,\n",
              "  .colab-df-quickchart-complete:disabled:hover {\n",
              "    background-color: var(--disabled-bg-color);\n",
              "    fill: var(--disabled-fill-color);\n",
              "    box-shadow: none;\n",
              "  }\n",
              "\n",
              "  .colab-df-spinner {\n",
              "    border: 2px solid var(--fill-color);\n",
              "    border-color: transparent;\n",
              "    border-bottom-color: var(--fill-color);\n",
              "    animation:\n",
              "      spin 1s steps(1) infinite;\n",
              "  }\n",
              "\n",
              "  @keyframes spin {\n",
              "    0% {\n",
              "      border-color: transparent;\n",
              "      border-bottom-color: var(--fill-color);\n",
              "      border-left-color: var(--fill-color);\n",
              "    }\n",
              "    20% {\n",
              "      border-color: transparent;\n",
              "      border-left-color: var(--fill-color);\n",
              "      border-top-color: var(--fill-color);\n",
              "    }\n",
              "    30% {\n",
              "      border-color: transparent;\n",
              "      border-left-color: var(--fill-color);\n",
              "      border-top-color: var(--fill-color);\n",
              "      border-right-color: var(--fill-color);\n",
              "    }\n",
              "    40% {\n",
              "      border-color: transparent;\n",
              "      border-right-color: var(--fill-color);\n",
              "      border-top-color: var(--fill-color);\n",
              "    }\n",
              "    60% {\n",
              "      border-color: transparent;\n",
              "      border-right-color: var(--fill-color);\n",
              "    }\n",
              "    80% {\n",
              "      border-color: transparent;\n",
              "      border-right-color: var(--fill-color);\n",
              "      border-bottom-color: var(--fill-color);\n",
              "    }\n",
              "    90% {\n",
              "      border-color: transparent;\n",
              "      border-bottom-color: var(--fill-color);\n",
              "    }\n",
              "  }\n",
              "</style>\n",
              "\n",
              "  <script>\n",
              "    async function quickchart(key) {\n",
              "      const quickchartButtonEl =\n",
              "        document.querySelector('#' + key + ' button');\n",
              "      quickchartButtonEl.disabled = true;  // To prevent multiple clicks.\n",
              "      quickchartButtonEl.classList.add('colab-df-spinner');\n",
              "      try {\n",
              "        const charts = await google.colab.kernel.invokeFunction(\n",
              "            'suggestCharts', [key], {});\n",
              "      } catch (error) {\n",
              "        console.error('Error during call to suggestCharts:', error);\n",
              "      }\n",
              "      quickchartButtonEl.classList.remove('colab-df-spinner');\n",
              "      quickchartButtonEl.classList.add('colab-df-quickchart-complete');\n",
              "    }\n",
              "    (() => {\n",
              "      let quickchartButtonEl =\n",
              "        document.querySelector('#df-76a5ac8a-9db9-4017-84a9-7090be75929f button');\n",
              "      quickchartButtonEl.style.display =\n",
              "        google.colab.kernel.accessAllowed ? 'block' : 'none';\n",
              "    })();\n",
              "  </script>\n",
              "</div>\n",
              "\n",
              "    </div>\n",
              "  </div>\n"
            ],
            "application/vnd.google.colaboratory.intrinsic+json": {
              "type": "dataframe",
              "variable_name": "tesla_revenue",
              "summary": "{\n  \"name\": \"tesla_revenue\",\n  \"rows\": 53,\n  \"fields\": [\n    {\n      \"column\": \"Date\",\n      \"properties\": {\n        \"dtype\": \"object\",\n        \"num_unique_values\": 53,\n        \"samples\": [\n          \"2017-12-31\",\n          \"2012-06-30\",\n          \"2010-12-31\"\n        ],\n        \"semantic_type\": \"\",\n        \"description\": \"\"\n      }\n    },\n    {\n      \"column\": \"Revenue\",\n      \"properties\": {\n        \"dtype\": \"number\",\n        \"std\": 5484,\n        \"min\": 21,\n        \"max\": 21454,\n        \"num_unique_values\": 51,\n        \"samples\": [\n          39,\n          50,\n          36\n        ],\n        \"semantic_type\": \"\",\n        \"description\": \"\"\n      }\n    }\n  ]\n}"
            }
          },
          "metadata": {},
          "execution_count": 38
        }
      ]
    },
    {
      "metadata": {
        "id": "d9a30f00-f1cf-4f4a-95d3-79ccf6ebfa00"
      },
      "cell_type": "markdown",
      "source": [
        "Display the last 5 row of the `tesla_revenue` dataframe using the `tail` function. Take a screenshot of the results.\n"
      ]
    },
    {
      "metadata": {
        "colab": {
          "base_uri": "https://localhost:8080/",
          "height": 226
        },
        "id": "8176a813-c4b6-4118-9f67-98150db405ef",
        "outputId": "4af24804-bdb2-4c60-842a-8be84225c512"
      },
      "cell_type": "code",
      "source": [
        "tesla_revenue.tail()"
      ],
      "execution_count": 39,
      "outputs": [
        {
          "output_type": "execute_result",
          "data": {
            "text/plain": [
              "          Date  Revenue\n",
              "48  2010-09-30       31\n",
              "49  2010-06-30       28\n",
              "50  2010-03-31       21\n",
              "52  2009-09-30       46\n",
              "53  2009-06-30       27"
            ],
            "text/html": [
              "\n",
              "  <div id=\"df-85b8a38c-48c7-48f6-9543-35ee7754898b\" class=\"colab-df-container\">\n",
              "    <div>\n",
              "<style scoped>\n",
              "    .dataframe tbody tr th:only-of-type {\n",
              "        vertical-align: middle;\n",
              "    }\n",
              "\n",
              "    .dataframe tbody tr th {\n",
              "        vertical-align: top;\n",
              "    }\n",
              "\n",
              "    .dataframe thead th {\n",
              "        text-align: right;\n",
              "    }\n",
              "</style>\n",
              "<table border=\"1\" class=\"dataframe\">\n",
              "  <thead>\n",
              "    <tr style=\"text-align: right;\">\n",
              "      <th></th>\n",
              "      <th>Date</th>\n",
              "      <th>Revenue</th>\n",
              "    </tr>\n",
              "  </thead>\n",
              "  <tbody>\n",
              "    <tr>\n",
              "      <th>48</th>\n",
              "      <td>2010-09-30</td>\n",
              "      <td>31</td>\n",
              "    </tr>\n",
              "    <tr>\n",
              "      <th>49</th>\n",
              "      <td>2010-06-30</td>\n",
              "      <td>28</td>\n",
              "    </tr>\n",
              "    <tr>\n",
              "      <th>50</th>\n",
              "      <td>2010-03-31</td>\n",
              "      <td>21</td>\n",
              "    </tr>\n",
              "    <tr>\n",
              "      <th>52</th>\n",
              "      <td>2009-09-30</td>\n",
              "      <td>46</td>\n",
              "    </tr>\n",
              "    <tr>\n",
              "      <th>53</th>\n",
              "      <td>2009-06-30</td>\n",
              "      <td>27</td>\n",
              "    </tr>\n",
              "  </tbody>\n",
              "</table>\n",
              "</div>\n",
              "    <div class=\"colab-df-buttons\">\n",
              "\n",
              "  <div class=\"colab-df-container\">\n",
              "    <button class=\"colab-df-convert\" onclick=\"convertToInteractive('df-85b8a38c-48c7-48f6-9543-35ee7754898b')\"\n",
              "            title=\"Convert this dataframe to an interactive table.\"\n",
              "            style=\"display:none;\">\n",
              "\n",
              "  <svg xmlns=\"http://www.w3.org/2000/svg\" height=\"24px\" viewBox=\"0 -960 960 960\">\n",
              "    <path d=\"M120-120v-720h720v720H120Zm60-500h600v-160H180v160Zm220 220h160v-160H400v160Zm0 220h160v-160H400v160ZM180-400h160v-160H180v160Zm440 0h160v-160H620v160ZM180-180h160v-160H180v160Zm440 0h160v-160H620v160Z\"/>\n",
              "  </svg>\n",
              "    </button>\n",
              "\n",
              "  <style>\n",
              "    .colab-df-container {\n",
              "      display:flex;\n",
              "      gap: 12px;\n",
              "    }\n",
              "\n",
              "    .colab-df-convert {\n",
              "      background-color: #E8F0FE;\n",
              "      border: none;\n",
              "      border-radius: 50%;\n",
              "      cursor: pointer;\n",
              "      display: none;\n",
              "      fill: #1967D2;\n",
              "      height: 32px;\n",
              "      padding: 0 0 0 0;\n",
              "      width: 32px;\n",
              "    }\n",
              "\n",
              "    .colab-df-convert:hover {\n",
              "      background-color: #E2EBFA;\n",
              "      box-shadow: 0px 1px 2px rgba(60, 64, 67, 0.3), 0px 1px 3px 1px rgba(60, 64, 67, 0.15);\n",
              "      fill: #174EA6;\n",
              "    }\n",
              "\n",
              "    .colab-df-buttons div {\n",
              "      margin-bottom: 4px;\n",
              "    }\n",
              "\n",
              "    [theme=dark] .colab-df-convert {\n",
              "      background-color: #3B4455;\n",
              "      fill: #D2E3FC;\n",
              "    }\n",
              "\n",
              "    [theme=dark] .colab-df-convert:hover {\n",
              "      background-color: #434B5C;\n",
              "      box-shadow: 0px 1px 3px 1px rgba(0, 0, 0, 0.15);\n",
              "      filter: drop-shadow(0px 1px 2px rgba(0, 0, 0, 0.3));\n",
              "      fill: #FFFFFF;\n",
              "    }\n",
              "  </style>\n",
              "\n",
              "    <script>\n",
              "      const buttonEl =\n",
              "        document.querySelector('#df-85b8a38c-48c7-48f6-9543-35ee7754898b button.colab-df-convert');\n",
              "      buttonEl.style.display =\n",
              "        google.colab.kernel.accessAllowed ? 'block' : 'none';\n",
              "\n",
              "      async function convertToInteractive(key) {\n",
              "        const element = document.querySelector('#df-85b8a38c-48c7-48f6-9543-35ee7754898b');\n",
              "        const dataTable =\n",
              "          await google.colab.kernel.invokeFunction('convertToInteractive',\n",
              "                                                    [key], {});\n",
              "        if (!dataTable) return;\n",
              "\n",
              "        const docLinkHtml = 'Like what you see? Visit the ' +\n",
              "          '<a target=\"_blank\" href=https://colab.research.google.com/notebooks/data_table.ipynb>data table notebook</a>'\n",
              "          + ' to learn more about interactive tables.';\n",
              "        element.innerHTML = '';\n",
              "        dataTable['output_type'] = 'display_data';\n",
              "        await google.colab.output.renderOutput(dataTable, element);\n",
              "        const docLink = document.createElement('div');\n",
              "        docLink.innerHTML = docLinkHtml;\n",
              "        element.appendChild(docLink);\n",
              "      }\n",
              "    </script>\n",
              "  </div>\n",
              "\n",
              "\n",
              "<div id=\"df-b13b7c3f-7348-47ea-b538-5bd9251a224c\">\n",
              "  <button class=\"colab-df-quickchart\" onclick=\"quickchart('df-b13b7c3f-7348-47ea-b538-5bd9251a224c')\"\n",
              "            title=\"Suggest charts\"\n",
              "            style=\"display:none;\">\n",
              "\n",
              "<svg xmlns=\"http://www.w3.org/2000/svg\" height=\"24px\"viewBox=\"0 0 24 24\"\n",
              "     width=\"24px\">\n",
              "    <g>\n",
              "        <path d=\"M19 3H5c-1.1 0-2 .9-2 2v14c0 1.1.9 2 2 2h14c1.1 0 2-.9 2-2V5c0-1.1-.9-2-2-2zM9 17H7v-7h2v7zm4 0h-2V7h2v10zm4 0h-2v-4h2v4z\"/>\n",
              "    </g>\n",
              "</svg>\n",
              "  </button>\n",
              "\n",
              "<style>\n",
              "  .colab-df-quickchart {\n",
              "      --bg-color: #E8F0FE;\n",
              "      --fill-color: #1967D2;\n",
              "      --hover-bg-color: #E2EBFA;\n",
              "      --hover-fill-color: #174EA6;\n",
              "      --disabled-fill-color: #AAA;\n",
              "      --disabled-bg-color: #DDD;\n",
              "  }\n",
              "\n",
              "  [theme=dark] .colab-df-quickchart {\n",
              "      --bg-color: #3B4455;\n",
              "      --fill-color: #D2E3FC;\n",
              "      --hover-bg-color: #434B5C;\n",
              "      --hover-fill-color: #FFFFFF;\n",
              "      --disabled-bg-color: #3B4455;\n",
              "      --disabled-fill-color: #666;\n",
              "  }\n",
              "\n",
              "  .colab-df-quickchart {\n",
              "    background-color: var(--bg-color);\n",
              "    border: none;\n",
              "    border-radius: 50%;\n",
              "    cursor: pointer;\n",
              "    display: none;\n",
              "    fill: var(--fill-color);\n",
              "    height: 32px;\n",
              "    padding: 0;\n",
              "    width: 32px;\n",
              "  }\n",
              "\n",
              "  .colab-df-quickchart:hover {\n",
              "    background-color: var(--hover-bg-color);\n",
              "    box-shadow: 0 1px 2px rgba(60, 64, 67, 0.3), 0 1px 3px 1px rgba(60, 64, 67, 0.15);\n",
              "    fill: var(--button-hover-fill-color);\n",
              "  }\n",
              "\n",
              "  .colab-df-quickchart-complete:disabled,\n",
              "  .colab-df-quickchart-complete:disabled:hover {\n",
              "    background-color: var(--disabled-bg-color);\n",
              "    fill: var(--disabled-fill-color);\n",
              "    box-shadow: none;\n",
              "  }\n",
              "\n",
              "  .colab-df-spinner {\n",
              "    border: 2px solid var(--fill-color);\n",
              "    border-color: transparent;\n",
              "    border-bottom-color: var(--fill-color);\n",
              "    animation:\n",
              "      spin 1s steps(1) infinite;\n",
              "  }\n",
              "\n",
              "  @keyframes spin {\n",
              "    0% {\n",
              "      border-color: transparent;\n",
              "      border-bottom-color: var(--fill-color);\n",
              "      border-left-color: var(--fill-color);\n",
              "    }\n",
              "    20% {\n",
              "      border-color: transparent;\n",
              "      border-left-color: var(--fill-color);\n",
              "      border-top-color: var(--fill-color);\n",
              "    }\n",
              "    30% {\n",
              "      border-color: transparent;\n",
              "      border-left-color: var(--fill-color);\n",
              "      border-top-color: var(--fill-color);\n",
              "      border-right-color: var(--fill-color);\n",
              "    }\n",
              "    40% {\n",
              "      border-color: transparent;\n",
              "      border-right-color: var(--fill-color);\n",
              "      border-top-color: var(--fill-color);\n",
              "    }\n",
              "    60% {\n",
              "      border-color: transparent;\n",
              "      border-right-color: var(--fill-color);\n",
              "    }\n",
              "    80% {\n",
              "      border-color: transparent;\n",
              "      border-right-color: var(--fill-color);\n",
              "      border-bottom-color: var(--fill-color);\n",
              "    }\n",
              "    90% {\n",
              "      border-color: transparent;\n",
              "      border-bottom-color: var(--fill-color);\n",
              "    }\n",
              "  }\n",
              "</style>\n",
              "\n",
              "  <script>\n",
              "    async function quickchart(key) {\n",
              "      const quickchartButtonEl =\n",
              "        document.querySelector('#' + key + ' button');\n",
              "      quickchartButtonEl.disabled = true;  // To prevent multiple clicks.\n",
              "      quickchartButtonEl.classList.add('colab-df-spinner');\n",
              "      try {\n",
              "        const charts = await google.colab.kernel.invokeFunction(\n",
              "            'suggestCharts', [key], {});\n",
              "      } catch (error) {\n",
              "        console.error('Error during call to suggestCharts:', error);\n",
              "      }\n",
              "      quickchartButtonEl.classList.remove('colab-df-spinner');\n",
              "      quickchartButtonEl.classList.add('colab-df-quickchart-complete');\n",
              "    }\n",
              "    (() => {\n",
              "      let quickchartButtonEl =\n",
              "        document.querySelector('#df-b13b7c3f-7348-47ea-b538-5bd9251a224c button');\n",
              "      quickchartButtonEl.style.display =\n",
              "        google.colab.kernel.accessAllowed ? 'block' : 'none';\n",
              "    })();\n",
              "  </script>\n",
              "</div>\n",
              "\n",
              "    </div>\n",
              "  </div>\n"
            ],
            "application/vnd.google.colaboratory.intrinsic+json": {
              "type": "dataframe",
              "repr_error": "0"
            }
          },
          "metadata": {},
          "execution_count": 39
        }
      ]
    },
    {
      "metadata": {
        "id": "84df6d8f-6911-436d-bbd1-4a597643d8af"
      },
      "cell_type": "markdown",
      "source": [
        "## Question 3: Use yfinance to Extract Stock Data\n"
      ]
    },
    {
      "metadata": {
        "id": "428c23e7-a65c-4710-b71c-dcc7c3870736"
      },
      "cell_type": "markdown",
      "source": [
        "Using the `Ticker` function enter the ticker symbol of the stock we want to extract data on to create a ticker object. The stock is GameStop and its ticker symbol is `GME`.\n"
      ]
    },
    {
      "metadata": {
        "colab": {
          "base_uri": "https://localhost:8080/"
        },
        "id": "17494201-cea6-4094-9bce-626e8b0c5b0f",
        "outputId": "c68f94ed-2a73-4c4c-92cb-9fbe2a953b4c"
      },
      "cell_type": "code",
      "source": [
        "gme = yf.Ticker(\"GME\")\n",
        "\n",
        "print(gme.ticker)"
      ],
      "execution_count": 40,
      "outputs": [
        {
          "output_type": "stream",
          "name": "stdout",
          "text": [
            "GME\n"
          ]
        }
      ]
    },
    {
      "metadata": {
        "id": "a12168b1-2800-4c9c-9f5e-896a47d8f044"
      },
      "cell_type": "markdown",
      "source": [
        "Using the ticker object and the function `history` extract stock information and save it in a dataframe named `gme_data`. Set the `period` parameter to ` \"max\" ` so we get information for the maximum amount of time.\n"
      ]
    },
    {
      "metadata": {
        "id": "6e6246aa-9dda-41c1-96ab-a779eeb3ec97"
      },
      "cell_type": "code",
      "source": [
        "gme_data = gme.history(period=\"max\")"
      ],
      "execution_count": 41,
      "outputs": []
    },
    {
      "metadata": {
        "id": "a807faf0-9cfb-4ed3-af9c-9d24e346416f"
      },
      "cell_type": "markdown",
      "source": [
        "**Reset the index** using the `reset_index(inplace=True)` function on the gme_data DataFrame and display the first five rows of the `gme_data` dataframe using the `head` function. Take a screenshot of the results and code from the beginning of Question 3 to the results below.\n"
      ]
    },
    {
      "metadata": {
        "colab": {
          "base_uri": "https://localhost:8080/",
          "height": 226
        },
        "id": "e5251560-008f-4708-97da-400a04af66e2",
        "outputId": "f9d54825-5e9b-461b-ef1b-83a2870053fc"
      },
      "cell_type": "code",
      "source": [
        "gme_data.reset_index(inplace=True)\n",
        "\n",
        "gme_data.head()"
      ],
      "execution_count": 42,
      "outputs": [
        {
          "output_type": "execute_result",
          "data": {
            "text/plain": [
              "                       Date      Open      High       Low     Close    Volume  \\\n",
              "0 2002-02-13 00:00:00-05:00  1.620128  1.693350  1.603296  1.691667  76216000   \n",
              "1 2002-02-14 00:00:00-05:00  1.712707  1.716074  1.670626  1.683250  11021600   \n",
              "2 2002-02-15 00:00:00-05:00  1.683250  1.687458  1.658002  1.674834   8389600   \n",
              "3 2002-02-19 00:00:00-05:00  1.666418  1.666418  1.578047  1.607504   7410400   \n",
              "4 2002-02-20 00:00:00-05:00  1.615920  1.662210  1.603296  1.662210   6892800   \n",
              "\n",
              "   Dividends  Stock Splits  \n",
              "0        0.0           0.0  \n",
              "1        0.0           0.0  \n",
              "2        0.0           0.0  \n",
              "3        0.0           0.0  \n",
              "4        0.0           0.0  "
            ],
            "text/html": [
              "\n",
              "  <div id=\"df-e19eecce-86d8-4abb-a972-521537119b56\" class=\"colab-df-container\">\n",
              "    <div>\n",
              "<style scoped>\n",
              "    .dataframe tbody tr th:only-of-type {\n",
              "        vertical-align: middle;\n",
              "    }\n",
              "\n",
              "    .dataframe tbody tr th {\n",
              "        vertical-align: top;\n",
              "    }\n",
              "\n",
              "    .dataframe thead th {\n",
              "        text-align: right;\n",
              "    }\n",
              "</style>\n",
              "<table border=\"1\" class=\"dataframe\">\n",
              "  <thead>\n",
              "    <tr style=\"text-align: right;\">\n",
              "      <th></th>\n",
              "      <th>Date</th>\n",
              "      <th>Open</th>\n",
              "      <th>High</th>\n",
              "      <th>Low</th>\n",
              "      <th>Close</th>\n",
              "      <th>Volume</th>\n",
              "      <th>Dividends</th>\n",
              "      <th>Stock Splits</th>\n",
              "    </tr>\n",
              "  </thead>\n",
              "  <tbody>\n",
              "    <tr>\n",
              "      <th>0</th>\n",
              "      <td>2002-02-13 00:00:00-05:00</td>\n",
              "      <td>1.620128</td>\n",
              "      <td>1.693350</td>\n",
              "      <td>1.603296</td>\n",
              "      <td>1.691667</td>\n",
              "      <td>76216000</td>\n",
              "      <td>0.0</td>\n",
              "      <td>0.0</td>\n",
              "    </tr>\n",
              "    <tr>\n",
              "      <th>1</th>\n",
              "      <td>2002-02-14 00:00:00-05:00</td>\n",
              "      <td>1.712707</td>\n",
              "      <td>1.716074</td>\n",
              "      <td>1.670626</td>\n",
              "      <td>1.683250</td>\n",
              "      <td>11021600</td>\n",
              "      <td>0.0</td>\n",
              "      <td>0.0</td>\n",
              "    </tr>\n",
              "    <tr>\n",
              "      <th>2</th>\n",
              "      <td>2002-02-15 00:00:00-05:00</td>\n",
              "      <td>1.683250</td>\n",
              "      <td>1.687458</td>\n",
              "      <td>1.658002</td>\n",
              "      <td>1.674834</td>\n",
              "      <td>8389600</td>\n",
              "      <td>0.0</td>\n",
              "      <td>0.0</td>\n",
              "    </tr>\n",
              "    <tr>\n",
              "      <th>3</th>\n",
              "      <td>2002-02-19 00:00:00-05:00</td>\n",
              "      <td>1.666418</td>\n",
              "      <td>1.666418</td>\n",
              "      <td>1.578047</td>\n",
              "      <td>1.607504</td>\n",
              "      <td>7410400</td>\n",
              "      <td>0.0</td>\n",
              "      <td>0.0</td>\n",
              "    </tr>\n",
              "    <tr>\n",
              "      <th>4</th>\n",
              "      <td>2002-02-20 00:00:00-05:00</td>\n",
              "      <td>1.615920</td>\n",
              "      <td>1.662210</td>\n",
              "      <td>1.603296</td>\n",
              "      <td>1.662210</td>\n",
              "      <td>6892800</td>\n",
              "      <td>0.0</td>\n",
              "      <td>0.0</td>\n",
              "    </tr>\n",
              "  </tbody>\n",
              "</table>\n",
              "</div>\n",
              "    <div class=\"colab-df-buttons\">\n",
              "\n",
              "  <div class=\"colab-df-container\">\n",
              "    <button class=\"colab-df-convert\" onclick=\"convertToInteractive('df-e19eecce-86d8-4abb-a972-521537119b56')\"\n",
              "            title=\"Convert this dataframe to an interactive table.\"\n",
              "            style=\"display:none;\">\n",
              "\n",
              "  <svg xmlns=\"http://www.w3.org/2000/svg\" height=\"24px\" viewBox=\"0 -960 960 960\">\n",
              "    <path d=\"M120-120v-720h720v720H120Zm60-500h600v-160H180v160Zm220 220h160v-160H400v160Zm0 220h160v-160H400v160ZM180-400h160v-160H180v160Zm440 0h160v-160H620v160ZM180-180h160v-160H180v160Zm440 0h160v-160H620v160Z\"/>\n",
              "  </svg>\n",
              "    </button>\n",
              "\n",
              "  <style>\n",
              "    .colab-df-container {\n",
              "      display:flex;\n",
              "      gap: 12px;\n",
              "    }\n",
              "\n",
              "    .colab-df-convert {\n",
              "      background-color: #E8F0FE;\n",
              "      border: none;\n",
              "      border-radius: 50%;\n",
              "      cursor: pointer;\n",
              "      display: none;\n",
              "      fill: #1967D2;\n",
              "      height: 32px;\n",
              "      padding: 0 0 0 0;\n",
              "      width: 32px;\n",
              "    }\n",
              "\n",
              "    .colab-df-convert:hover {\n",
              "      background-color: #E2EBFA;\n",
              "      box-shadow: 0px 1px 2px rgba(60, 64, 67, 0.3), 0px 1px 3px 1px rgba(60, 64, 67, 0.15);\n",
              "      fill: #174EA6;\n",
              "    }\n",
              "\n",
              "    .colab-df-buttons div {\n",
              "      margin-bottom: 4px;\n",
              "    }\n",
              "\n",
              "    [theme=dark] .colab-df-convert {\n",
              "      background-color: #3B4455;\n",
              "      fill: #D2E3FC;\n",
              "    }\n",
              "\n",
              "    [theme=dark] .colab-df-convert:hover {\n",
              "      background-color: #434B5C;\n",
              "      box-shadow: 0px 1px 3px 1px rgba(0, 0, 0, 0.15);\n",
              "      filter: drop-shadow(0px 1px 2px rgba(0, 0, 0, 0.3));\n",
              "      fill: #FFFFFF;\n",
              "    }\n",
              "  </style>\n",
              "\n",
              "    <script>\n",
              "      const buttonEl =\n",
              "        document.querySelector('#df-e19eecce-86d8-4abb-a972-521537119b56 button.colab-df-convert');\n",
              "      buttonEl.style.display =\n",
              "        google.colab.kernel.accessAllowed ? 'block' : 'none';\n",
              "\n",
              "      async function convertToInteractive(key) {\n",
              "        const element = document.querySelector('#df-e19eecce-86d8-4abb-a972-521537119b56');\n",
              "        const dataTable =\n",
              "          await google.colab.kernel.invokeFunction('convertToInteractive',\n",
              "                                                    [key], {});\n",
              "        if (!dataTable) return;\n",
              "\n",
              "        const docLinkHtml = 'Like what you see? Visit the ' +\n",
              "          '<a target=\"_blank\" href=https://colab.research.google.com/notebooks/data_table.ipynb>data table notebook</a>'\n",
              "          + ' to learn more about interactive tables.';\n",
              "        element.innerHTML = '';\n",
              "        dataTable['output_type'] = 'display_data';\n",
              "        await google.colab.output.renderOutput(dataTable, element);\n",
              "        const docLink = document.createElement('div');\n",
              "        docLink.innerHTML = docLinkHtml;\n",
              "        element.appendChild(docLink);\n",
              "      }\n",
              "    </script>\n",
              "  </div>\n",
              "\n",
              "\n",
              "<div id=\"df-519c20ec-1952-40bf-840e-32a040c9a83f\">\n",
              "  <button class=\"colab-df-quickchart\" onclick=\"quickchart('df-519c20ec-1952-40bf-840e-32a040c9a83f')\"\n",
              "            title=\"Suggest charts\"\n",
              "            style=\"display:none;\">\n",
              "\n",
              "<svg xmlns=\"http://www.w3.org/2000/svg\" height=\"24px\"viewBox=\"0 0 24 24\"\n",
              "     width=\"24px\">\n",
              "    <g>\n",
              "        <path d=\"M19 3H5c-1.1 0-2 .9-2 2v14c0 1.1.9 2 2 2h14c1.1 0 2-.9 2-2V5c0-1.1-.9-2-2-2zM9 17H7v-7h2v7zm4 0h-2V7h2v10zm4 0h-2v-4h2v4z\"/>\n",
              "    </g>\n",
              "</svg>\n",
              "  </button>\n",
              "\n",
              "<style>\n",
              "  .colab-df-quickchart {\n",
              "      --bg-color: #E8F0FE;\n",
              "      --fill-color: #1967D2;\n",
              "      --hover-bg-color: #E2EBFA;\n",
              "      --hover-fill-color: #174EA6;\n",
              "      --disabled-fill-color: #AAA;\n",
              "      --disabled-bg-color: #DDD;\n",
              "  }\n",
              "\n",
              "  [theme=dark] .colab-df-quickchart {\n",
              "      --bg-color: #3B4455;\n",
              "      --fill-color: #D2E3FC;\n",
              "      --hover-bg-color: #434B5C;\n",
              "      --hover-fill-color: #FFFFFF;\n",
              "      --disabled-bg-color: #3B4455;\n",
              "      --disabled-fill-color: #666;\n",
              "  }\n",
              "\n",
              "  .colab-df-quickchart {\n",
              "    background-color: var(--bg-color);\n",
              "    border: none;\n",
              "    border-radius: 50%;\n",
              "    cursor: pointer;\n",
              "    display: none;\n",
              "    fill: var(--fill-color);\n",
              "    height: 32px;\n",
              "    padding: 0;\n",
              "    width: 32px;\n",
              "  }\n",
              "\n",
              "  .colab-df-quickchart:hover {\n",
              "    background-color: var(--hover-bg-color);\n",
              "    box-shadow: 0 1px 2px rgba(60, 64, 67, 0.3), 0 1px 3px 1px rgba(60, 64, 67, 0.15);\n",
              "    fill: var(--button-hover-fill-color);\n",
              "  }\n",
              "\n",
              "  .colab-df-quickchart-complete:disabled,\n",
              "  .colab-df-quickchart-complete:disabled:hover {\n",
              "    background-color: var(--disabled-bg-color);\n",
              "    fill: var(--disabled-fill-color);\n",
              "    box-shadow: none;\n",
              "  }\n",
              "\n",
              "  .colab-df-spinner {\n",
              "    border: 2px solid var(--fill-color);\n",
              "    border-color: transparent;\n",
              "    border-bottom-color: var(--fill-color);\n",
              "    animation:\n",
              "      spin 1s steps(1) infinite;\n",
              "  }\n",
              "\n",
              "  @keyframes spin {\n",
              "    0% {\n",
              "      border-color: transparent;\n",
              "      border-bottom-color: var(--fill-color);\n",
              "      border-left-color: var(--fill-color);\n",
              "    }\n",
              "    20% {\n",
              "      border-color: transparent;\n",
              "      border-left-color: var(--fill-color);\n",
              "      border-top-color: var(--fill-color);\n",
              "    }\n",
              "    30% {\n",
              "      border-color: transparent;\n",
              "      border-left-color: var(--fill-color);\n",
              "      border-top-color: var(--fill-color);\n",
              "      border-right-color: var(--fill-color);\n",
              "    }\n",
              "    40% {\n",
              "      border-color: transparent;\n",
              "      border-right-color: var(--fill-color);\n",
              "      border-top-color: var(--fill-color);\n",
              "    }\n",
              "    60% {\n",
              "      border-color: transparent;\n",
              "      border-right-color: var(--fill-color);\n",
              "    }\n",
              "    80% {\n",
              "      border-color: transparent;\n",
              "      border-right-color: var(--fill-color);\n",
              "      border-bottom-color: var(--fill-color);\n",
              "    }\n",
              "    90% {\n",
              "      border-color: transparent;\n",
              "      border-bottom-color: var(--fill-color);\n",
              "    }\n",
              "  }\n",
              "</style>\n",
              "\n",
              "  <script>\n",
              "    async function quickchart(key) {\n",
              "      const quickchartButtonEl =\n",
              "        document.querySelector('#' + key + ' button');\n",
              "      quickchartButtonEl.disabled = true;  // To prevent multiple clicks.\n",
              "      quickchartButtonEl.classList.add('colab-df-spinner');\n",
              "      try {\n",
              "        const charts = await google.colab.kernel.invokeFunction(\n",
              "            'suggestCharts', [key], {});\n",
              "      } catch (error) {\n",
              "        console.error('Error during call to suggestCharts:', error);\n",
              "      }\n",
              "      quickchartButtonEl.classList.remove('colab-df-spinner');\n",
              "      quickchartButtonEl.classList.add('colab-df-quickchart-complete');\n",
              "    }\n",
              "    (() => {\n",
              "      let quickchartButtonEl =\n",
              "        document.querySelector('#df-519c20ec-1952-40bf-840e-32a040c9a83f button');\n",
              "      quickchartButtonEl.style.display =\n",
              "        google.colab.kernel.accessAllowed ? 'block' : 'none';\n",
              "    })();\n",
              "  </script>\n",
              "</div>\n",
              "\n",
              "    </div>\n",
              "  </div>\n"
            ],
            "application/vnd.google.colaboratory.intrinsic+json": {
              "type": "dataframe",
              "variable_name": "gme_data",
              "summary": "{\n  \"name\": \"gme_data\",\n  \"rows\": 5641,\n  \"fields\": [\n    {\n      \"column\": \"Date\",\n      \"properties\": {\n        \"dtype\": \"date\",\n        \"min\": \"2002-02-13 00:00:00-05:00\",\n        \"max\": \"2024-07-12 00:00:00-04:00\",\n        \"num_unique_values\": 5641,\n        \"samples\": [\n          \"2010-07-22 00:00:00-04:00\",\n          \"2008-07-07 00:00:00-04:00\",\n          \"2015-12-29 00:00:00-05:00\"\n        ],\n        \"semantic_type\": \"\",\n        \"description\": \"\"\n      }\n    },\n    {\n      \"column\": \"Open\",\n      \"properties\": {\n        \"dtype\": \"number\",\n        \"std\": 10.62301873132837,\n        \"min\": 0.643843387643102,\n        \"max\": 94.92749786376953,\n        \"num_unique_values\": 5389,\n        \"samples\": [\n          6.533272844994208,\n          4.495961941768913,\n          20.59000015258789\n        ],\n        \"semantic_type\": \"\",\n        \"description\": \"\"\n      }\n    },\n    {\n      \"column\": \"High\",\n      \"properties\": {\n        \"dtype\": \"number\",\n        \"std\": 11.284960674151119,\n        \"min\": 0.672458315127611,\n        \"max\": 120.75,\n        \"num_unique_values\": 5414,\n        \"samples\": [\n          1.060447818552327,\n          4.401699398898045,\n          3.474476940999407\n        ],\n        \"semantic_type\": \"\",\n        \"description\": \"\"\n      }\n    },\n    {\n      \"column\": \"Low\",\n      \"properties\": {\n        \"dtype\": \"number\",\n        \"std\": 9.97028281246566,\n        \"min\": 0.6312187118812991,\n        \"max\": 72.87750244140625,\n        \"num_unique_values\": 5406,\n        \"samples\": [\n          3.9236556164653478,\n          7.3869148830199585,\n          1.5075000524520874\n        ],\n        \"semantic_type\": \"\",\n        \"description\": \"\"\n      }\n    },\n    {\n      \"column\": \"Close\",\n      \"properties\": {\n        \"dtype\": \"number\",\n        \"std\": 10.529972695402833,\n        \"min\": 0.6387933492660522,\n        \"max\": 86.87750244140625,\n        \"num_unique_values\": 4622,\n        \"samples\": [\n          3.4052164554595947,\n          1.686617374420166,\n          3.176293134689331\n        ],\n        \"semantic_type\": \"\",\n        \"description\": \"\"\n      }\n    },\n    {\n      \"column\": \"Volume\",\n      \"properties\": {\n        \"dtype\": \"number\",\n        \"std\": 29830897,\n        \"min\": 260000,\n        \"max\": 788631600,\n        \"num_unique_values\": 5354,\n        \"samples\": [\n          2746300,\n          13963600,\n          1287200\n        ],\n        \"semantic_type\": \"\",\n        \"description\": \"\"\n      }\n    },\n    {\n      \"column\": \"Dividends\",\n      \"properties\": {\n        \"dtype\": \"number\",\n        \"std\": 0.00600817477759431,\n        \"min\": 0.0,\n        \"max\": 0.095,\n        \"num_unique_values\": 8,\n        \"samples\": [\n          0.0375,\n          0.09,\n          0.0\n        ],\n        \"semantic_type\": \"\",\n        \"description\": \"\"\n      }\n    },\n    {\n      \"column\": \"Stock Splits\",\n      \"properties\": {\n        \"dtype\": \"number\",\n        \"std\": 0.05953963182276481,\n        \"min\": 0.0,\n        \"max\": 4.0,\n        \"num_unique_values\": 3,\n        \"samples\": [\n          0.0,\n          2.0,\n          4.0\n        ],\n        \"semantic_type\": \"\",\n        \"description\": \"\"\n      }\n    }\n  ]\n}"
            }
          },
          "metadata": {},
          "execution_count": 42
        }
      ]
    },
    {
      "metadata": {
        "id": "7ea78e74-dd7f-46aa-ac47-d28bf0c263b9"
      },
      "cell_type": "markdown",
      "source": [
        "## Question 4: Use Webscraping to Extract GME Revenue Data\n"
      ]
    },
    {
      "metadata": {
        "id": "1ad7e07f-0986-407c-a808-9129128f046c"
      },
      "cell_type": "markdown",
      "source": [
        "Use the `requests` library to download the webpage https://cf-courses-data.s3.us.cloud-object-storage.appdomain.cloud/IBMDeveloperSkillsNetwork-PY0220EN-SkillsNetwork/labs/project/stock.html. Save the text of the response as a variable named `html_data_2`.\n"
      ]
    },
    {
      "metadata": {
        "colab": {
          "base_uri": "https://localhost:8080/"
        },
        "id": "ad59702a-8ca4-4552-b36d-2c9f1fa3bcfc",
        "outputId": "715b6327-a8b5-4f8a-cd85-1fe48eda2449"
      },
      "cell_type": "code",
      "source": [
        "#  GME Revenue Data\n",
        "url = \"https://cf-courses-data.s3.us.cloud-object-storage.appdomain.cloud/IBMDeveloperSkillsNetwork-PY0220EN-SkillsNetwork/labs/project/stock.html\"\n",
        "\n",
        "response = requests.get(url)\n",
        "\n",
        "if response.status_code == 200:\n",
        "    html_data_2 = response.text\n",
        "    print(\"Successfully downloaded\")\n",
        "else:\n",
        "    print(\"Failed:\", response.status_code)"
      ],
      "execution_count": 43,
      "outputs": [
        {
          "output_type": "stream",
          "name": "stdout",
          "text": [
            "Successfully downloaded\n"
          ]
        }
      ]
    },
    {
      "metadata": {
        "id": "1cc96c6a-6b0e-4cf0-bc0b-adcd97bad18f"
      },
      "cell_type": "markdown",
      "source": [
        "Parse the html data using `beautiful_soup` using parser i.e `html5lib` or `html.parser`.\n"
      ]
    },
    {
      "metadata": {
        "id": "db00b14d-fa28-4bfd-8a72-ced91f808c6a"
      },
      "cell_type": "code",
      "source": [
        "soup2 = BeautifulSoup(html_data_2, 'html.parser')"
      ],
      "execution_count": 44,
      "outputs": []
    },
    {
      "metadata": {
        "id": "72a7f1d6-f6ad-41ec-b8ad-5e5e558e93ca"
      },
      "cell_type": "markdown",
      "source": [
        "Using `BeautifulSoup` or the `read_html` function extract the table with `GameStop Revenue` and store it into a dataframe named `gme_revenue`. The dataframe should have columns `Date` and `Revenue`. Make sure the comma and dollar sign is removed from the `Revenue` column.\n"
      ]
    },
    {
      "metadata": {
        "id": "91300a10-b463-4312-8353-3524558cb25b"
      },
      "cell_type": "markdown",
      "source": [
        "> **Note: Use the method similar to what you did in question 2.**  \n"
      ]
    },
    {
      "metadata": {
        "id": "c9c8c370-0063-4354-913b-8a5e0779abda"
      },
      "cell_type": "markdown",
      "source": [
        "<details><summary>Click here if you need help locating the table</summary>\n",
        "\n",
        "```\n",
        "    \n",
        "Below is the code to isolate the table, you will now need to loop through the rows and columns like in the previous lab\n",
        "    \n",
        "soup.find_all(\"tbody\")[1]\n",
        "    \n",
        "If you want to use the read_html function the table is located at index 1\n",
        "\n",
        "\n",
        "```\n",
        "\n",
        "</details>\n"
      ]
    },
    {
      "cell_type": "code",
      "source": [
        "import pandas as pd\n",
        "import requests\n",
        "from bs4 import BeautifulSoup\n",
        "\n",
        "\n",
        "table2 = soup2.find_all(\"tbody\")[1]\n",
        "\n",
        "# Create an empty list to store data rows\n",
        "gme_revenue_data = []\n",
        "\n",
        "# Iterate through rows in the table body and extract data\n",
        "for row in table2.find_all('tr'):\n",
        "    cols = row.find_all('td')\n",
        "    if len(cols) == 2:  # Assuming two columns: Date & Revenue\n",
        "        date = cols[0].text.strip()\n",
        "        revenue = cols[1].text.strip()\n",
        "\n",
        "        # Append data as a dictionary to the list\n",
        "        gme_revenue_data.append({'Date': date, 'Revenue': revenue})\n",
        "\n",
        "# Create DataFrame from the list of dictionaries\n",
        "gme_revenue = pd.DataFrame(gme_revenue_data)\n",
        "\n",
        "print(gme_revenue.head())\n",
        "\n",
        "\n",
        "# Data Cleaning\n",
        "gme_revenue[\"Revenue\"] = gme_revenue['Revenue'].str.replace('[,\\\\$]', '', regex=True)\n",
        "\n",
        "# Convert 'Revenue' column to numeric\n",
        "gme_revenue['Revenue'] = pd.to_numeric(gme_revenue['Revenue'])\n",
        "\n",
        "\n",
        "print(\"\\n\\n After removing null or empty strings, commas, and dollar signs:\\n\")\n",
        "print(gme_revenue.head())"
      ],
      "metadata": {
        "colab": {
          "base_uri": "https://localhost:8080/"
        },
        "id": "BBtQzjHqp5VA",
        "outputId": "29e76e95-ff44-400f-fcd5-7936c36eb745"
      },
      "execution_count": 45,
      "outputs": [
        {
          "output_type": "stream",
          "name": "stdout",
          "text": [
            "         Date Revenue\n",
            "0  2020-04-30  $1,021\n",
            "1  2020-01-31  $2,194\n",
            "2  2019-10-31  $1,439\n",
            "3  2019-07-31  $1,286\n",
            "4  2019-04-30  $1,548\n",
            "\n",
            "\n",
            " After removing null or empty strings, commas, and dollar signs:\n",
            "\n",
            "         Date  Revenue\n",
            "0  2020-04-30     1021\n",
            "1  2020-01-31     2194\n",
            "2  2019-10-31     1439\n",
            "3  2019-07-31     1286\n",
            "4  2019-04-30     1548\n"
          ]
        }
      ]
    },
    {
      "metadata": {
        "id": "a05a5209-f3b6-4987-904f-eebe4163bbb8"
      },
      "cell_type": "markdown",
      "source": [
        "Display the last five rows of the `gme_revenue` dataframe using the `tail` function. Take a screenshot of the results.\n"
      ]
    },
    {
      "metadata": {
        "colab": {
          "base_uri": "https://localhost:8080/",
          "height": 226
        },
        "id": "7c9f118c-0c07-4966-a73a-521369fc23c6",
        "outputId": "d7b6d2cc-49d7-4827-9877-d64a72df7120"
      },
      "cell_type": "code",
      "source": [
        "gme_revenue.tail()"
      ],
      "execution_count": 46,
      "outputs": [
        {
          "output_type": "execute_result",
          "data": {
            "text/plain": [
              "          Date  Revenue\n",
              "57  2006-01-31     1667\n",
              "58  2005-10-31      534\n",
              "59  2005-07-31      416\n",
              "60  2005-04-30      475\n",
              "61  2005-01-31      709"
            ],
            "text/html": [
              "\n",
              "  <div id=\"df-6c7359e1-5546-457f-8231-bfde2d9c216d\" class=\"colab-df-container\">\n",
              "    <div>\n",
              "<style scoped>\n",
              "    .dataframe tbody tr th:only-of-type {\n",
              "        vertical-align: middle;\n",
              "    }\n",
              "\n",
              "    .dataframe tbody tr th {\n",
              "        vertical-align: top;\n",
              "    }\n",
              "\n",
              "    .dataframe thead th {\n",
              "        text-align: right;\n",
              "    }\n",
              "</style>\n",
              "<table border=\"1\" class=\"dataframe\">\n",
              "  <thead>\n",
              "    <tr style=\"text-align: right;\">\n",
              "      <th></th>\n",
              "      <th>Date</th>\n",
              "      <th>Revenue</th>\n",
              "    </tr>\n",
              "  </thead>\n",
              "  <tbody>\n",
              "    <tr>\n",
              "      <th>57</th>\n",
              "      <td>2006-01-31</td>\n",
              "      <td>1667</td>\n",
              "    </tr>\n",
              "    <tr>\n",
              "      <th>58</th>\n",
              "      <td>2005-10-31</td>\n",
              "      <td>534</td>\n",
              "    </tr>\n",
              "    <tr>\n",
              "      <th>59</th>\n",
              "      <td>2005-07-31</td>\n",
              "      <td>416</td>\n",
              "    </tr>\n",
              "    <tr>\n",
              "      <th>60</th>\n",
              "      <td>2005-04-30</td>\n",
              "      <td>475</td>\n",
              "    </tr>\n",
              "    <tr>\n",
              "      <th>61</th>\n",
              "      <td>2005-01-31</td>\n",
              "      <td>709</td>\n",
              "    </tr>\n",
              "  </tbody>\n",
              "</table>\n",
              "</div>\n",
              "    <div class=\"colab-df-buttons\">\n",
              "\n",
              "  <div class=\"colab-df-container\">\n",
              "    <button class=\"colab-df-convert\" onclick=\"convertToInteractive('df-6c7359e1-5546-457f-8231-bfde2d9c216d')\"\n",
              "            title=\"Convert this dataframe to an interactive table.\"\n",
              "            style=\"display:none;\">\n",
              "\n",
              "  <svg xmlns=\"http://www.w3.org/2000/svg\" height=\"24px\" viewBox=\"0 -960 960 960\">\n",
              "    <path d=\"M120-120v-720h720v720H120Zm60-500h600v-160H180v160Zm220 220h160v-160H400v160Zm0 220h160v-160H400v160ZM180-400h160v-160H180v160Zm440 0h160v-160H620v160ZM180-180h160v-160H180v160Zm440 0h160v-160H620v160Z\"/>\n",
              "  </svg>\n",
              "    </button>\n",
              "\n",
              "  <style>\n",
              "    .colab-df-container {\n",
              "      display:flex;\n",
              "      gap: 12px;\n",
              "    }\n",
              "\n",
              "    .colab-df-convert {\n",
              "      background-color: #E8F0FE;\n",
              "      border: none;\n",
              "      border-radius: 50%;\n",
              "      cursor: pointer;\n",
              "      display: none;\n",
              "      fill: #1967D2;\n",
              "      height: 32px;\n",
              "      padding: 0 0 0 0;\n",
              "      width: 32px;\n",
              "    }\n",
              "\n",
              "    .colab-df-convert:hover {\n",
              "      background-color: #E2EBFA;\n",
              "      box-shadow: 0px 1px 2px rgba(60, 64, 67, 0.3), 0px 1px 3px 1px rgba(60, 64, 67, 0.15);\n",
              "      fill: #174EA6;\n",
              "    }\n",
              "\n",
              "    .colab-df-buttons div {\n",
              "      margin-bottom: 4px;\n",
              "    }\n",
              "\n",
              "    [theme=dark] .colab-df-convert {\n",
              "      background-color: #3B4455;\n",
              "      fill: #D2E3FC;\n",
              "    }\n",
              "\n",
              "    [theme=dark] .colab-df-convert:hover {\n",
              "      background-color: #434B5C;\n",
              "      box-shadow: 0px 1px 3px 1px rgba(0, 0, 0, 0.15);\n",
              "      filter: drop-shadow(0px 1px 2px rgba(0, 0, 0, 0.3));\n",
              "      fill: #FFFFFF;\n",
              "    }\n",
              "  </style>\n",
              "\n",
              "    <script>\n",
              "      const buttonEl =\n",
              "        document.querySelector('#df-6c7359e1-5546-457f-8231-bfde2d9c216d button.colab-df-convert');\n",
              "      buttonEl.style.display =\n",
              "        google.colab.kernel.accessAllowed ? 'block' : 'none';\n",
              "\n",
              "      async function convertToInteractive(key) {\n",
              "        const element = document.querySelector('#df-6c7359e1-5546-457f-8231-bfde2d9c216d');\n",
              "        const dataTable =\n",
              "          await google.colab.kernel.invokeFunction('convertToInteractive',\n",
              "                                                    [key], {});\n",
              "        if (!dataTable) return;\n",
              "\n",
              "        const docLinkHtml = 'Like what you see? Visit the ' +\n",
              "          '<a target=\"_blank\" href=https://colab.research.google.com/notebooks/data_table.ipynb>data table notebook</a>'\n",
              "          + ' to learn more about interactive tables.';\n",
              "        element.innerHTML = '';\n",
              "        dataTable['output_type'] = 'display_data';\n",
              "        await google.colab.output.renderOutput(dataTable, element);\n",
              "        const docLink = document.createElement('div');\n",
              "        docLink.innerHTML = docLinkHtml;\n",
              "        element.appendChild(docLink);\n",
              "      }\n",
              "    </script>\n",
              "  </div>\n",
              "\n",
              "\n",
              "<div id=\"df-b42a4cd8-9e4d-4bae-b793-475cdfa7b447\">\n",
              "  <button class=\"colab-df-quickchart\" onclick=\"quickchart('df-b42a4cd8-9e4d-4bae-b793-475cdfa7b447')\"\n",
              "            title=\"Suggest charts\"\n",
              "            style=\"display:none;\">\n",
              "\n",
              "<svg xmlns=\"http://www.w3.org/2000/svg\" height=\"24px\"viewBox=\"0 0 24 24\"\n",
              "     width=\"24px\">\n",
              "    <g>\n",
              "        <path d=\"M19 3H5c-1.1 0-2 .9-2 2v14c0 1.1.9 2 2 2h14c1.1 0 2-.9 2-2V5c0-1.1-.9-2-2-2zM9 17H7v-7h2v7zm4 0h-2V7h2v10zm4 0h-2v-4h2v4z\"/>\n",
              "    </g>\n",
              "</svg>\n",
              "  </button>\n",
              "\n",
              "<style>\n",
              "  .colab-df-quickchart {\n",
              "      --bg-color: #E8F0FE;\n",
              "      --fill-color: #1967D2;\n",
              "      --hover-bg-color: #E2EBFA;\n",
              "      --hover-fill-color: #174EA6;\n",
              "      --disabled-fill-color: #AAA;\n",
              "      --disabled-bg-color: #DDD;\n",
              "  }\n",
              "\n",
              "  [theme=dark] .colab-df-quickchart {\n",
              "      --bg-color: #3B4455;\n",
              "      --fill-color: #D2E3FC;\n",
              "      --hover-bg-color: #434B5C;\n",
              "      --hover-fill-color: #FFFFFF;\n",
              "      --disabled-bg-color: #3B4455;\n",
              "      --disabled-fill-color: #666;\n",
              "  }\n",
              "\n",
              "  .colab-df-quickchart {\n",
              "    background-color: var(--bg-color);\n",
              "    border: none;\n",
              "    border-radius: 50%;\n",
              "    cursor: pointer;\n",
              "    display: none;\n",
              "    fill: var(--fill-color);\n",
              "    height: 32px;\n",
              "    padding: 0;\n",
              "    width: 32px;\n",
              "  }\n",
              "\n",
              "  .colab-df-quickchart:hover {\n",
              "    background-color: var(--hover-bg-color);\n",
              "    box-shadow: 0 1px 2px rgba(60, 64, 67, 0.3), 0 1px 3px 1px rgba(60, 64, 67, 0.15);\n",
              "    fill: var(--button-hover-fill-color);\n",
              "  }\n",
              "\n",
              "  .colab-df-quickchart-complete:disabled,\n",
              "  .colab-df-quickchart-complete:disabled:hover {\n",
              "    background-color: var(--disabled-bg-color);\n",
              "    fill: var(--disabled-fill-color);\n",
              "    box-shadow: none;\n",
              "  }\n",
              "\n",
              "  .colab-df-spinner {\n",
              "    border: 2px solid var(--fill-color);\n",
              "    border-color: transparent;\n",
              "    border-bottom-color: var(--fill-color);\n",
              "    animation:\n",
              "      spin 1s steps(1) infinite;\n",
              "  }\n",
              "\n",
              "  @keyframes spin {\n",
              "    0% {\n",
              "      border-color: transparent;\n",
              "      border-bottom-color: var(--fill-color);\n",
              "      border-left-color: var(--fill-color);\n",
              "    }\n",
              "    20% {\n",
              "      border-color: transparent;\n",
              "      border-left-color: var(--fill-color);\n",
              "      border-top-color: var(--fill-color);\n",
              "    }\n",
              "    30% {\n",
              "      border-color: transparent;\n",
              "      border-left-color: var(--fill-color);\n",
              "      border-top-color: var(--fill-color);\n",
              "      border-right-color: var(--fill-color);\n",
              "    }\n",
              "    40% {\n",
              "      border-color: transparent;\n",
              "      border-right-color: var(--fill-color);\n",
              "      border-top-color: var(--fill-color);\n",
              "    }\n",
              "    60% {\n",
              "      border-color: transparent;\n",
              "      border-right-color: var(--fill-color);\n",
              "    }\n",
              "    80% {\n",
              "      border-color: transparent;\n",
              "      border-right-color: var(--fill-color);\n",
              "      border-bottom-color: var(--fill-color);\n",
              "    }\n",
              "    90% {\n",
              "      border-color: transparent;\n",
              "      border-bottom-color: var(--fill-color);\n",
              "    }\n",
              "  }\n",
              "</style>\n",
              "\n",
              "  <script>\n",
              "    async function quickchart(key) {\n",
              "      const quickchartButtonEl =\n",
              "        document.querySelector('#' + key + ' button');\n",
              "      quickchartButtonEl.disabled = true;  // To prevent multiple clicks.\n",
              "      quickchartButtonEl.classList.add('colab-df-spinner');\n",
              "      try {\n",
              "        const charts = await google.colab.kernel.invokeFunction(\n",
              "            'suggestCharts', [key], {});\n",
              "      } catch (error) {\n",
              "        console.error('Error during call to suggestCharts:', error);\n",
              "      }\n",
              "      quickchartButtonEl.classList.remove('colab-df-spinner');\n",
              "      quickchartButtonEl.classList.add('colab-df-quickchart-complete');\n",
              "    }\n",
              "    (() => {\n",
              "      let quickchartButtonEl =\n",
              "        document.querySelector('#df-b42a4cd8-9e4d-4bae-b793-475cdfa7b447 button');\n",
              "      quickchartButtonEl.style.display =\n",
              "        google.colab.kernel.accessAllowed ? 'block' : 'none';\n",
              "    })();\n",
              "  </script>\n",
              "</div>\n",
              "\n",
              "    </div>\n",
              "  </div>\n"
            ],
            "application/vnd.google.colaboratory.intrinsic+json": {
              "type": "dataframe",
              "repr_error": "0"
            }
          },
          "metadata": {},
          "execution_count": 46
        }
      ]
    },
    {
      "metadata": {
        "id": "5aac7079-5e51-4d4b-a768-5cab0cdb8496"
      },
      "cell_type": "markdown",
      "source": [
        "## Question 5: Plot Tesla Stock Graph\n"
      ]
    },
    {
      "metadata": {
        "id": "9903b01e-98e1-4282-91de-c14605c5f1a2"
      },
      "cell_type": "markdown",
      "source": [
        "Use the `make_graph` function to graph the Tesla Stock Data, also provide a title for the graph. Note the graph will only show data upto June 2021.\n"
      ]
    },
    {
      "metadata": {
        "id": "cbaa674d-7580-4835-b27c-72ba8dbb4c9a"
      },
      "cell_type": "markdown",
      "source": [
        "<details><summary>Hint</summary>\n",
        "\n",
        "```\n",
        "\n",
        "You just need to invoke the make_graph function with the required parameter to print the graphs.The structure to call the `make_graph` function is `make_graph(tesla_data, tesla_revenue, 'Tesla')`.\n",
        "\n",
        "```\n",
        "    \n",
        "</details>\n"
      ]
    },
    {
      "metadata": {
        "colab": {
          "base_uri": "https://localhost:8080/",
          "height": 1000
        },
        "id": "757dab59-13ad-41fb-a44c-ab82a73573ac",
        "outputId": "2667c528-d874-46a4-cc85-22bef184baa5"
      },
      "cell_type": "code",
      "source": [
        "import pandas as pd\n",
        "import plotly.graph_objs as go\n",
        "from plotly.subplots import make_subplots\n",
        "\n",
        "\n",
        "# Call make_graph function to plot Tesla stock graph\n",
        "make_graph(tesla_data, tesla_revenue, 'Tesla')"
      ],
      "execution_count": 47,
      "outputs": [
        {
          "output_type": "stream",
          "name": "stderr",
          "text": [
            "<ipython-input-30-47a2266b7876>:5: UserWarning:\n",
            "\n",
            "The argument 'infer_datetime_format' is deprecated and will be removed in a future version. A strict version of it is now the default, see https://pandas.pydata.org/pdeps/0004-consistent-to-datetime-parsing.html. You can safely remove this argument.\n",
            "\n",
            "<ipython-input-30-47a2266b7876>:6: UserWarning:\n",
            "\n",
            "The argument 'infer_datetime_format' is deprecated and will be removed in a future version. A strict version of it is now the default, see https://pandas.pydata.org/pdeps/0004-consistent-to-datetime-parsing.html. You can safely remove this argument.\n",
            "\n"
          ]
        },
        {
          "output_type": "display_data",
          "data": {
            "text/html": [
              "<html>\n",
              "<head><meta charset=\"utf-8\" /></head>\n",
              "<body>\n",
              "    <div>            <script src=\"https://cdnjs.cloudflare.com/ajax/libs/mathjax/2.7.5/MathJax.js?config=TeX-AMS-MML_SVG\"></script><script type=\"text/javascript\">if (window.MathJax && window.MathJax.Hub && window.MathJax.Hub.Config) {window.MathJax.Hub.Config({SVG: {font: \"STIX-Web\"}});}</script>                <script type=\"text/javascript\">window.PlotlyConfig = {MathJaxConfig: 'local'};</script>\n",
              "        <script charset=\"utf-8\" src=\"https://cdn.plot.ly/plotly-2.32.0.min.js\"></script>                <div id=\"af19ee5e-e7e2-413a-884f-9e52971bfdee\" class=\"plotly-graph-div\" style=\"height:900px; width:100%;\"></div>            <script type=\"text/javascript\">                                    window.PLOTLYENV=window.PLOTLYENV || {};                                    if (document.getElementById(\"af19ee5e-e7e2-413a-884f-9e52971bfdee\")) {                    Plotly.newPlot(                        \"af19ee5e-e7e2-413a-884f-9e52971bfdee\",                        [{\"name\":\"Share Price\",\"x\":[\"2010-06-29T00:00:00-04:00\",\"2010-06-30T00:00:00-04:00\",\"2010-07-01T00:00:00-04:00\",\"2010-07-02T00:00:00-04:00\",\"2010-07-06T00:00:00-04:00\",\"2010-07-07T00:00:00-04:00\",\"2010-07-08T00:00:00-04:00\",\"2010-07-09T00:00:00-04:00\",\"2010-07-12T00:00:00-04:00\",\"2010-07-13T00:00:00-04:00\",\"2010-07-14T00:00:00-04:00\",\"2010-07-15T00:00:00-04:00\",\"2010-07-16T00:00:00-04:00\",\"2010-07-19T00:00:00-04:00\",\"2010-07-20T00:00:00-04:00\",\"2010-07-21T00:00:00-04:00\",\"2010-07-22T00:00:00-04:00\",\"2010-07-23T00:00:00-04:00\",\"2010-07-26T00:00:00-04:00\",\"2010-07-27T00:00:00-04:00\",\"2010-07-28T00:00:00-04:00\",\"2010-07-29T00:00:00-04:00\",\"2010-07-30T00:00:00-04:00\",\"2010-08-02T00:00:00-04:00\",\"2010-08-03T00:00:00-04:00\",\"2010-08-04T00:00:00-04:00\",\"2010-08-05T00:00:00-04:00\",\"2010-08-06T00:00:00-04:00\",\"2010-08-09T00:00:00-04:00\",\"2010-08-10T00:00:00-04:00\",\"2010-08-11T00:00:00-04:00\",\"2010-08-12T00:00:00-04:00\",\"2010-08-13T00:00:00-04:00\",\"2010-08-16T00:00:00-04:00\",\"2010-08-17T00:00:00-04:00\",\"2010-08-18T00:00:00-04:00\",\"2010-08-19T00:00:00-04:00\",\"2010-08-20T00:00:00-04:00\",\"2010-08-23T00:00:00-04:00\",\"2010-08-24T00:00:00-04:00\",\"2010-08-25T00:00:00-04:00\",\"2010-08-26T00:00:00-04:00\",\"2010-08-27T00:00:00-04:00\",\"2010-08-30T00:00:00-04:00\",\"2010-08-31T00:00:00-04:00\",\"2010-09-01T00:00:00-04:00\",\"2010-09-02T00:00:00-04:00\",\"2010-09-03T00:00:00-04:00\",\"2010-09-07T00:00:00-04:00\",\"2010-09-08T00:00:00-04:00\",\"2010-09-09T00:00:00-04:00\",\"2010-09-10T00:00:00-04:00\",\"2010-09-13T00:00:00-04:00\",\"2010-09-14T00:00:00-04:00\",\"2010-09-15T00:00:00-04:00\",\"2010-09-16T00:00:00-04:00\",\"2010-09-17T00:00:00-04:00\",\"2010-09-20T00:00:00-04:00\",\"2010-09-21T00:00:00-04:00\",\"2010-09-22T00:00:00-04:00\",\"2010-09-23T00:00:00-04:00\",\"2010-09-24T00:00:00-04:00\",\"2010-09-27T00:00:00-04:00\",\"2010-09-28T00:00:00-04:00\",\"2010-09-29T00:00:00-04:00\",\"2010-09-30T00:00:00-04:00\",\"2010-10-01T00:00:00-04:00\",\"2010-10-04T00:00:00-04:00\",\"2010-10-05T00:00:00-04:00\",\"2010-10-06T00:00:00-04:00\",\"2010-10-07T00:00:00-04:00\",\"2010-10-08T00:00:00-04:00\",\"2010-10-11T00:00:00-04:00\",\"2010-10-12T00:00:00-04:00\",\"2010-10-13T00:00:00-04:00\",\"2010-10-14T00:00:00-04:00\",\"2010-10-15T00:00:00-04:00\",\"2010-10-18T00:00:00-04:00\",\"2010-10-19T00:00:00-04:00\",\"2010-10-20T00:00:00-04:00\",\"2010-10-21T00:00:00-04:00\",\"2010-10-22T00:00:00-04:00\",\"2010-10-25T00:00:00-04:00\",\"2010-10-26T00:00:00-04:00\",\"2010-10-27T00:00:00-04:00\",\"2010-10-28T00:00:00-04:00\",\"2010-10-29T00:00:00-04:00\",\"2010-11-01T00:00:00-04:00\",\"2010-11-02T00:00:00-04:00\",\"2010-11-03T00:00:00-04:00\",\"2010-11-04T00:00:00-04:00\",\"2010-11-05T00:00:00-04:00\",\"2010-11-08T00:00:00-05:00\",\"2010-11-09T00:00:00-05:00\",\"2010-11-10T00:00:00-05:00\",\"2010-11-11T00:00:00-05:00\",\"2010-11-12T00:00:00-05:00\",\"2010-11-15T00:00:00-05:00\",\"2010-11-16T00:00:00-05:00\",\"2010-11-17T00:00:00-05:00\",\"2010-11-18T00:00:00-05:00\",\"2010-11-19T00:00:00-05:00\",\"2010-11-22T00:00:00-05:00\",\"2010-11-23T00:00:00-05:00\",\"2010-11-24T00:00:00-05:00\",\"2010-11-26T00:00:00-05:00\",\"2010-11-29T00:00:00-05:00\",\"2010-11-30T00:00:00-05:00\",\"2010-12-01T00:00:00-05:00\",\"2010-12-02T00:00:00-05:00\",\"2010-12-03T00:00:00-05:00\",\"2010-12-06T00:00:00-05:00\",\"2010-12-07T00:00:00-05:00\",\"2010-12-08T00:00:00-05:00\",\"2010-12-09T00:00:00-05:00\",\"2010-12-10T00:00:00-05:00\",\"2010-12-13T00:00:00-05:00\",\"2010-12-14T00:00:00-05:00\",\"2010-12-15T00:00:00-05:00\",\"2010-12-16T00:00:00-05:00\",\"2010-12-17T00:00:00-05:00\",\"2010-12-20T00:00:00-05:00\",\"2010-12-21T00:00:00-05:00\",\"2010-12-22T00:00:00-05:00\",\"2010-12-23T00:00:00-05:00\",\"2010-12-27T00:00:00-05:00\",\"2010-12-28T00:00:00-05:00\",\"2010-12-29T00:00:00-05:00\",\"2010-12-30T00:00:00-05:00\",\"2010-12-31T00:00:00-05:00\",\"2011-01-03T00:00:00-05:00\",\"2011-01-04T00:00:00-05:00\",\"2011-01-05T00:00:00-05:00\",\"2011-01-06T00:00:00-05:00\",\"2011-01-07T00:00:00-05:00\",\"2011-01-10T00:00:00-05:00\",\"2011-01-11T00:00:00-05:00\",\"2011-01-12T00:00:00-05:00\",\"2011-01-13T00:00:00-05:00\",\"2011-01-14T00:00:00-05:00\",\"2011-01-18T00:00:00-05:00\",\"2011-01-19T00:00:00-05:00\",\"2011-01-20T00:00:00-05:00\",\"2011-01-21T00:00:00-05:00\",\"2011-01-24T00:00:00-05:00\",\"2011-01-25T00:00:00-05:00\",\"2011-01-26T00:00:00-05:00\",\"2011-01-27T00:00:00-05:00\",\"2011-01-28T00:00:00-05:00\",\"2011-01-31T00:00:00-05:00\",\"2011-02-01T00:00:00-05:00\",\"2011-02-02T00:00:00-05:00\",\"2011-02-03T00:00:00-05:00\",\"2011-02-04T00:00:00-05:00\",\"2011-02-07T00:00:00-05:00\",\"2011-02-08T00:00:00-05:00\",\"2011-02-09T00:00:00-05:00\",\"2011-02-10T00:00:00-05:00\",\"2011-02-11T00:00:00-05:00\",\"2011-02-14T00:00:00-05:00\",\"2011-02-15T00:00:00-05:00\",\"2011-02-16T00:00:00-05:00\",\"2011-02-17T00:00:00-05:00\",\"2011-02-18T00:00:00-05:00\",\"2011-02-22T00:00:00-05:00\",\"2011-02-23T00:00:00-05:00\",\"2011-02-24T00:00:00-05:00\",\"2011-02-25T00:00:00-05:00\",\"2011-02-28T00:00:00-05:00\",\"2011-03-01T00:00:00-05:00\",\"2011-03-02T00:00:00-05:00\",\"2011-03-03T00:00:00-05:00\",\"2011-03-04T00:00:00-05:00\",\"2011-03-07T00:00:00-05:00\",\"2011-03-08T00:00:00-05:00\",\"2011-03-09T00:00:00-05:00\",\"2011-03-10T00:00:00-05:00\",\"2011-03-11T00:00:00-05:00\",\"2011-03-14T00:00:00-04:00\",\"2011-03-15T00:00:00-04:00\",\"2011-03-16T00:00:00-04:00\",\"2011-03-17T00:00:00-04:00\",\"2011-03-18T00:00:00-04:00\",\"2011-03-21T00:00:00-04:00\",\"2011-03-22T00:00:00-04:00\",\"2011-03-23T00:00:00-04:00\",\"2011-03-24T00:00:00-04:00\",\"2011-03-25T00:00:00-04:00\",\"2011-03-28T00:00:00-04:00\",\"2011-03-29T00:00:00-04:00\",\"2011-03-30T00:00:00-04:00\",\"2011-03-31T00:00:00-04:00\",\"2011-04-01T00:00:00-04:00\",\"2011-04-04T00:00:00-04:00\",\"2011-04-05T00:00:00-04:00\",\"2011-04-06T00:00:00-04:00\",\"2011-04-07T00:00:00-04:00\",\"2011-04-08T00:00:00-04:00\",\"2011-04-11T00:00:00-04:00\",\"2011-04-12T00:00:00-04:00\",\"2011-04-13T00:00:00-04:00\",\"2011-04-14T00:00:00-04:00\",\"2011-04-15T00:00:00-04:00\",\"2011-04-18T00:00:00-04:00\",\"2011-04-19T00:00:00-04:00\",\"2011-04-20T00:00:00-04:00\",\"2011-04-21T00:00:00-04:00\",\"2011-04-25T00:00:00-04:00\",\"2011-04-26T00:00:00-04:00\",\"2011-04-27T00:00:00-04:00\",\"2011-04-28T00:00:00-04:00\",\"2011-04-29T00:00:00-04:00\",\"2011-05-02T00:00:00-04:00\",\"2011-05-03T00:00:00-04:00\",\"2011-05-04T00:00:00-04:00\",\"2011-05-05T00:00:00-04:00\",\"2011-05-06T00:00:00-04:00\",\"2011-05-09T00:00:00-04:00\",\"2011-05-10T00:00:00-04:00\",\"2011-05-11T00:00:00-04:00\",\"2011-05-12T00:00:00-04:00\",\"2011-05-13T00:00:00-04:00\",\"2011-05-16T00:00:00-04:00\",\"2011-05-17T00:00:00-04:00\",\"2011-05-18T00:00:00-04:00\",\"2011-05-19T00:00:00-04:00\",\"2011-05-20T00:00:00-04:00\",\"2011-05-23T00:00:00-04:00\",\"2011-05-24T00:00:00-04:00\",\"2011-05-25T00:00:00-04:00\",\"2011-05-26T00:00:00-04:00\",\"2011-05-27T00:00:00-04:00\",\"2011-05-31T00:00:00-04:00\",\"2011-06-01T00:00:00-04:00\",\"2011-06-02T00:00:00-04:00\",\"2011-06-03T00:00:00-04:00\",\"2011-06-06T00:00:00-04:00\",\"2011-06-07T00:00:00-04:00\",\"2011-06-08T00:00:00-04:00\",\"2011-06-09T00:00:00-04:00\",\"2011-06-10T00:00:00-04:00\",\"2011-06-13T00:00:00-04:00\",\"2011-06-14T00:00:00-04:00\",\"2011-06-15T00:00:00-04:00\",\"2011-06-16T00:00:00-04:00\",\"2011-06-17T00:00:00-04:00\",\"2011-06-20T00:00:00-04:00\",\"2011-06-21T00:00:00-04:00\",\"2011-06-22T00:00:00-04:00\",\"2011-06-23T00:00:00-04:00\",\"2011-06-24T00:00:00-04:00\",\"2011-06-27T00:00:00-04:00\",\"2011-06-28T00:00:00-04:00\",\"2011-06-29T00:00:00-04:00\",\"2011-06-30T00:00:00-04:00\",\"2011-07-01T00:00:00-04:00\",\"2011-07-05T00:00:00-04:00\",\"2011-07-06T00:00:00-04:00\",\"2011-07-07T00:00:00-04:00\",\"2011-07-08T00:00:00-04:00\",\"2011-07-11T00:00:00-04:00\",\"2011-07-12T00:00:00-04:00\",\"2011-07-13T00:00:00-04:00\",\"2011-07-14T00:00:00-04:00\",\"2011-07-15T00:00:00-04:00\",\"2011-07-18T00:00:00-04:00\",\"2011-07-19T00:00:00-04:00\",\"2011-07-20T00:00:00-04:00\",\"2011-07-21T00:00:00-04:00\",\"2011-07-22T00:00:00-04:00\",\"2011-07-25T00:00:00-04:00\",\"2011-07-26T00:00:00-04:00\",\"2011-07-27T00:00:00-04:00\",\"2011-07-28T00:00:00-04:00\",\"2011-07-29T00:00:00-04:00\",\"2011-08-01T00:00:00-04:00\",\"2011-08-02T00:00:00-04:00\",\"2011-08-03T00:00:00-04:00\",\"2011-08-04T00:00:00-04:00\",\"2011-08-05T00:00:00-04:00\",\"2011-08-08T00:00:00-04:00\",\"2011-08-09T00:00:00-04:00\",\"2011-08-10T00:00:00-04:00\",\"2011-08-11T00:00:00-04:00\",\"2011-08-12T00:00:00-04:00\",\"2011-08-15T00:00:00-04:00\",\"2011-08-16T00:00:00-04:00\",\"2011-08-17T00:00:00-04:00\",\"2011-08-18T00:00:00-04:00\",\"2011-08-19T00:00:00-04:00\",\"2011-08-22T00:00:00-04:00\",\"2011-08-23T00:00:00-04:00\",\"2011-08-24T00:00:00-04:00\",\"2011-08-25T00:00:00-04:00\",\"2011-08-26T00:00:00-04:00\",\"2011-08-29T00:00:00-04:00\",\"2011-08-30T00:00:00-04:00\",\"2011-08-31T00:00:00-04:00\",\"2011-09-01T00:00:00-04:00\",\"2011-09-02T00:00:00-04:00\",\"2011-09-06T00:00:00-04:00\",\"2011-09-07T00:00:00-04:00\",\"2011-09-08T00:00:00-04:00\",\"2011-09-09T00:00:00-04:00\",\"2011-09-12T00:00:00-04:00\",\"2011-09-13T00:00:00-04:00\",\"2011-09-14T00:00:00-04:00\",\"2011-09-15T00:00:00-04:00\",\"2011-09-16T00:00:00-04:00\",\"2011-09-19T00:00:00-04:00\",\"2011-09-20T00:00:00-04:00\",\"2011-09-21T00:00:00-04:00\",\"2011-09-22T00:00:00-04:00\",\"2011-09-23T00:00:00-04:00\",\"2011-09-26T00:00:00-04:00\",\"2011-09-27T00:00:00-04:00\",\"2011-09-28T00:00:00-04:00\",\"2011-09-29T00:00:00-04:00\",\"2011-09-30T00:00:00-04:00\",\"2011-10-03T00:00:00-04:00\",\"2011-10-04T00:00:00-04:00\",\"2011-10-05T00:00:00-04:00\",\"2011-10-06T00:00:00-04:00\",\"2011-10-07T00:00:00-04:00\",\"2011-10-10T00:00:00-04:00\",\"2011-10-11T00:00:00-04:00\",\"2011-10-12T00:00:00-04:00\",\"2011-10-13T00:00:00-04:00\",\"2011-10-14T00:00:00-04:00\",\"2011-10-17T00:00:00-04:00\",\"2011-10-18T00:00:00-04:00\",\"2011-10-19T00:00:00-04:00\",\"2011-10-20T00:00:00-04:00\",\"2011-10-21T00:00:00-04:00\",\"2011-10-24T00:00:00-04:00\",\"2011-10-25T00:00:00-04:00\",\"2011-10-26T00:00:00-04:00\",\"2011-10-27T00:00:00-04:00\",\"2011-10-28T00:00:00-04:00\",\"2011-10-31T00:00:00-04:00\",\"2011-11-01T00:00:00-04:00\",\"2011-11-02T00:00:00-04:00\",\"2011-11-03T00:00:00-04:00\",\"2011-11-04T00:00:00-04:00\",\"2011-11-07T00:00:00-05:00\",\"2011-11-08T00:00:00-05:00\",\"2011-11-09T00:00:00-05:00\",\"2011-11-10T00:00:00-05:00\",\"2011-11-11T00:00:00-05:00\",\"2011-11-14T00:00:00-05:00\",\"2011-11-15T00:00:00-05:00\",\"2011-11-16T00:00:00-05:00\",\"2011-11-17T00:00:00-05:00\",\"2011-11-18T00:00:00-05:00\",\"2011-11-21T00:00:00-05:00\",\"2011-11-22T00:00:00-05:00\",\"2011-11-23T00:00:00-05:00\",\"2011-11-25T00:00:00-05:00\",\"2011-11-28T00:00:00-05:00\",\"2011-11-29T00:00:00-05:00\",\"2011-11-30T00:00:00-05:00\",\"2011-12-01T00:00:00-05:00\",\"2011-12-02T00:00:00-05:00\",\"2011-12-05T00:00:00-05:00\",\"2011-12-06T00:00:00-05:00\",\"2011-12-07T00:00:00-05:00\",\"2011-12-08T00:00:00-05:00\",\"2011-12-09T00:00:00-05:00\",\"2011-12-12T00:00:00-05:00\",\"2011-12-13T00:00:00-05:00\",\"2011-12-14T00:00:00-05:00\",\"2011-12-15T00:00:00-05:00\",\"2011-12-16T00:00:00-05:00\",\"2011-12-19T00:00:00-05:00\",\"2011-12-20T00:00:00-05:00\",\"2011-12-21T00:00:00-05:00\",\"2011-12-22T00:00:00-05:00\",\"2011-12-23T00:00:00-05:00\",\"2011-12-27T00:00:00-05:00\",\"2011-12-28T00:00:00-05:00\",\"2011-12-29T00:00:00-05:00\",\"2011-12-30T00:00:00-05:00\",\"2012-01-03T00:00:00-05:00\",\"2012-01-04T00:00:00-05:00\",\"2012-01-05T00:00:00-05:00\",\"2012-01-06T00:00:00-05:00\",\"2012-01-09T00:00:00-05:00\",\"2012-01-10T00:00:00-05:00\",\"2012-01-11T00:00:00-05:00\",\"2012-01-12T00:00:00-05:00\",\"2012-01-13T00:00:00-05:00\",\"2012-01-17T00:00:00-05:00\",\"2012-01-18T00:00:00-05:00\",\"2012-01-19T00:00:00-05:00\",\"2012-01-20T00:00:00-05:00\",\"2012-01-23T00:00:00-05:00\",\"2012-01-24T00:00:00-05:00\",\"2012-01-25T00:00:00-05:00\",\"2012-01-26T00:00:00-05:00\",\"2012-01-27T00:00:00-05:00\",\"2012-01-30T00:00:00-05:00\",\"2012-01-31T00:00:00-05:00\",\"2012-02-01T00:00:00-05:00\",\"2012-02-02T00:00:00-05:00\",\"2012-02-03T00:00:00-05:00\",\"2012-02-06T00:00:00-05:00\",\"2012-02-07T00:00:00-05:00\",\"2012-02-08T00:00:00-05:00\",\"2012-02-09T00:00:00-05:00\",\"2012-02-10T00:00:00-05:00\",\"2012-02-13T00:00:00-05:00\",\"2012-02-14T00:00:00-05:00\",\"2012-02-15T00:00:00-05:00\",\"2012-02-16T00:00:00-05:00\",\"2012-02-17T00:00:00-05:00\",\"2012-02-21T00:00:00-05:00\",\"2012-02-22T00:00:00-05:00\",\"2012-02-23T00:00:00-05:00\",\"2012-02-24T00:00:00-05:00\",\"2012-02-27T00:00:00-05:00\",\"2012-02-28T00:00:00-05:00\",\"2012-02-29T00:00:00-05:00\",\"2012-03-01T00:00:00-05:00\",\"2012-03-02T00:00:00-05:00\",\"2012-03-05T00:00:00-05:00\",\"2012-03-06T00:00:00-05:00\",\"2012-03-07T00:00:00-05:00\",\"2012-03-08T00:00:00-05:00\",\"2012-03-09T00:00:00-05:00\",\"2012-03-12T00:00:00-04:00\",\"2012-03-13T00:00:00-04:00\",\"2012-03-14T00:00:00-04:00\",\"2012-03-15T00:00:00-04:00\",\"2012-03-16T00:00:00-04:00\",\"2012-03-19T00:00:00-04:00\",\"2012-03-20T00:00:00-04:00\",\"2012-03-21T00:00:00-04:00\",\"2012-03-22T00:00:00-04:00\",\"2012-03-23T00:00:00-04:00\",\"2012-03-26T00:00:00-04:00\",\"2012-03-27T00:00:00-04:00\",\"2012-03-28T00:00:00-04:00\",\"2012-03-29T00:00:00-04:00\",\"2012-03-30T00:00:00-04:00\",\"2012-04-02T00:00:00-04:00\",\"2012-04-03T00:00:00-04:00\",\"2012-04-04T00:00:00-04:00\",\"2012-04-05T00:00:00-04:00\",\"2012-04-09T00:00:00-04:00\",\"2012-04-10T00:00:00-04:00\",\"2012-04-11T00:00:00-04:00\",\"2012-04-12T00:00:00-04:00\",\"2012-04-13T00:00:00-04:00\",\"2012-04-16T00:00:00-04:00\",\"2012-04-17T00:00:00-04:00\",\"2012-04-18T00:00:00-04:00\",\"2012-04-19T00:00:00-04:00\",\"2012-04-20T00:00:00-04:00\",\"2012-04-23T00:00:00-04:00\",\"2012-04-24T00:00:00-04:00\",\"2012-04-25T00:00:00-04:00\",\"2012-04-26T00:00:00-04:00\",\"2012-04-27T00:00:00-04:00\",\"2012-04-30T00:00:00-04:00\",\"2012-05-01T00:00:00-04:00\",\"2012-05-02T00:00:00-04:00\",\"2012-05-03T00:00:00-04:00\",\"2012-05-04T00:00:00-04:00\",\"2012-05-07T00:00:00-04:00\",\"2012-05-08T00:00:00-04:00\",\"2012-05-09T00:00:00-04:00\",\"2012-05-10T00:00:00-04:00\",\"2012-05-11T00:00:00-04:00\",\"2012-05-14T00:00:00-04:00\",\"2012-05-15T00:00:00-04:00\",\"2012-05-16T00:00:00-04:00\",\"2012-05-17T00:00:00-04:00\",\"2012-05-18T00:00:00-04:00\",\"2012-05-21T00:00:00-04:00\",\"2012-05-22T00:00:00-04:00\",\"2012-05-23T00:00:00-04:00\",\"2012-05-24T00:00:00-04:00\",\"2012-05-25T00:00:00-04:00\",\"2012-05-29T00:00:00-04:00\",\"2012-05-30T00:00:00-04:00\",\"2012-05-31T00:00:00-04:00\",\"2012-06-01T00:00:00-04:00\",\"2012-06-04T00:00:00-04:00\",\"2012-06-05T00:00:00-04:00\",\"2012-06-06T00:00:00-04:00\",\"2012-06-07T00:00:00-04:00\",\"2012-06-08T00:00:00-04:00\",\"2012-06-11T00:00:00-04:00\",\"2012-06-12T00:00:00-04:00\",\"2012-06-13T00:00:00-04:00\",\"2012-06-14T00:00:00-04:00\",\"2012-06-15T00:00:00-04:00\",\"2012-06-18T00:00:00-04:00\",\"2012-06-19T00:00:00-04:00\",\"2012-06-20T00:00:00-04:00\",\"2012-06-21T00:00:00-04:00\",\"2012-06-22T00:00:00-04:00\",\"2012-06-25T00:00:00-04:00\",\"2012-06-26T00:00:00-04:00\",\"2012-06-27T00:00:00-04:00\",\"2012-06-28T00:00:00-04:00\",\"2012-06-29T00:00:00-04:00\",\"2012-07-02T00:00:00-04:00\",\"2012-07-03T00:00:00-04:00\",\"2012-07-05T00:00:00-04:00\",\"2012-07-06T00:00:00-04:00\",\"2012-07-09T00:00:00-04:00\",\"2012-07-10T00:00:00-04:00\",\"2012-07-11T00:00:00-04:00\",\"2012-07-12T00:00:00-04:00\",\"2012-07-13T00:00:00-04:00\",\"2012-07-16T00:00:00-04:00\",\"2012-07-17T00:00:00-04:00\",\"2012-07-18T00:00:00-04:00\",\"2012-07-19T00:00:00-04:00\",\"2012-07-20T00:00:00-04:00\",\"2012-07-23T00:00:00-04:00\",\"2012-07-24T00:00:00-04:00\",\"2012-07-25T00:00:00-04:00\",\"2012-07-26T00:00:00-04:00\",\"2012-07-27T00:00:00-04:00\",\"2012-07-30T00:00:00-04:00\",\"2012-07-31T00:00:00-04:00\",\"2012-08-01T00:00:00-04:00\",\"2012-08-02T00:00:00-04:00\",\"2012-08-03T00:00:00-04:00\",\"2012-08-06T00:00:00-04:00\",\"2012-08-07T00:00:00-04:00\",\"2012-08-08T00:00:00-04:00\",\"2012-08-09T00:00:00-04:00\",\"2012-08-10T00:00:00-04:00\",\"2012-08-13T00:00:00-04:00\",\"2012-08-14T00:00:00-04:00\",\"2012-08-15T00:00:00-04:00\",\"2012-08-16T00:00:00-04:00\",\"2012-08-17T00:00:00-04:00\",\"2012-08-20T00:00:00-04:00\",\"2012-08-21T00:00:00-04:00\",\"2012-08-22T00:00:00-04:00\",\"2012-08-23T00:00:00-04:00\",\"2012-08-24T00:00:00-04:00\",\"2012-08-27T00:00:00-04:00\",\"2012-08-28T00:00:00-04:00\",\"2012-08-29T00:00:00-04:00\",\"2012-08-30T00:00:00-04:00\",\"2012-08-31T00:00:00-04:00\",\"2012-09-04T00:00:00-04:00\",\"2012-09-05T00:00:00-04:00\",\"2012-09-06T00:00:00-04:00\",\"2012-09-07T00:00:00-04:00\",\"2012-09-10T00:00:00-04:00\",\"2012-09-11T00:00:00-04:00\",\"2012-09-12T00:00:00-04:00\",\"2012-09-13T00:00:00-04:00\",\"2012-09-14T00:00:00-04:00\",\"2012-09-17T00:00:00-04:00\",\"2012-09-18T00:00:00-04:00\",\"2012-09-19T00:00:00-04:00\",\"2012-09-20T00:00:00-04:00\",\"2012-09-21T00:00:00-04:00\",\"2012-09-24T00:00:00-04:00\",\"2012-09-25T00:00:00-04:00\",\"2012-09-26T00:00:00-04:00\",\"2012-09-27T00:00:00-04:00\",\"2012-09-28T00:00:00-04:00\",\"2012-10-01T00:00:00-04:00\",\"2012-10-02T00:00:00-04:00\",\"2012-10-03T00:00:00-04:00\",\"2012-10-04T00:00:00-04:00\",\"2012-10-05T00:00:00-04:00\",\"2012-10-08T00:00:00-04:00\",\"2012-10-09T00:00:00-04:00\",\"2012-10-10T00:00:00-04:00\",\"2012-10-11T00:00:00-04:00\",\"2012-10-12T00:00:00-04:00\",\"2012-10-15T00:00:00-04:00\",\"2012-10-16T00:00:00-04:00\",\"2012-10-17T00:00:00-04:00\",\"2012-10-18T00:00:00-04:00\",\"2012-10-19T00:00:00-04:00\",\"2012-10-22T00:00:00-04:00\",\"2012-10-23T00:00:00-04:00\",\"2012-10-24T00:00:00-04:00\",\"2012-10-25T00:00:00-04:00\",\"2012-10-26T00:00:00-04:00\",\"2012-10-31T00:00:00-04:00\",\"2012-11-01T00:00:00-04:00\",\"2012-11-02T00:00:00-04:00\",\"2012-11-05T00:00:00-05:00\",\"2012-11-06T00:00:00-05:00\",\"2012-11-07T00:00:00-05:00\",\"2012-11-08T00:00:00-05:00\",\"2012-11-09T00:00:00-05:00\",\"2012-11-12T00:00:00-05:00\",\"2012-11-13T00:00:00-05:00\",\"2012-11-14T00:00:00-05:00\",\"2012-11-15T00:00:00-05:00\",\"2012-11-16T00:00:00-05:00\",\"2012-11-19T00:00:00-05:00\",\"2012-11-20T00:00:00-05:00\",\"2012-11-21T00:00:00-05:00\",\"2012-11-23T00:00:00-05:00\",\"2012-11-26T00:00:00-05:00\",\"2012-11-27T00:00:00-05:00\",\"2012-11-28T00:00:00-05:00\",\"2012-11-29T00:00:00-05:00\",\"2012-11-30T00:00:00-05:00\",\"2012-12-03T00:00:00-05:00\",\"2012-12-04T00:00:00-05:00\",\"2012-12-05T00:00:00-05:00\",\"2012-12-06T00:00:00-05:00\",\"2012-12-07T00:00:00-05:00\",\"2012-12-10T00:00:00-05:00\",\"2012-12-11T00:00:00-05:00\",\"2012-12-12T00:00:00-05:00\",\"2012-12-13T00:00:00-05:00\",\"2012-12-14T00:00:00-05:00\",\"2012-12-17T00:00:00-05:00\",\"2012-12-18T00:00:00-05:00\",\"2012-12-19T00:00:00-05:00\",\"2012-12-20T00:00:00-05:00\",\"2012-12-21T00:00:00-05:00\",\"2012-12-24T00:00:00-05:00\",\"2012-12-26T00:00:00-05:00\",\"2012-12-27T00:00:00-05:00\",\"2012-12-28T00:00:00-05:00\",\"2012-12-31T00:00:00-05:00\",\"2013-01-02T00:00:00-05:00\",\"2013-01-03T00:00:00-05:00\",\"2013-01-04T00:00:00-05:00\",\"2013-01-07T00:00:00-05:00\",\"2013-01-08T00:00:00-05:00\",\"2013-01-09T00:00:00-05:00\",\"2013-01-10T00:00:00-05:00\",\"2013-01-11T00:00:00-05:00\",\"2013-01-14T00:00:00-05:00\",\"2013-01-15T00:00:00-05:00\",\"2013-01-16T00:00:00-05:00\",\"2013-01-17T00:00:00-05:00\",\"2013-01-18T00:00:00-05:00\",\"2013-01-22T00:00:00-05:00\",\"2013-01-23T00:00:00-05:00\",\"2013-01-24T00:00:00-05:00\",\"2013-01-25T00:00:00-05:00\",\"2013-01-28T00:00:00-05:00\",\"2013-01-29T00:00:00-05:00\",\"2013-01-30T00:00:00-05:00\",\"2013-01-31T00:00:00-05:00\",\"2013-02-01T00:00:00-05:00\",\"2013-02-04T00:00:00-05:00\",\"2013-02-05T00:00:00-05:00\",\"2013-02-06T00:00:00-05:00\",\"2013-02-07T00:00:00-05:00\",\"2013-02-08T00:00:00-05:00\",\"2013-02-11T00:00:00-05:00\",\"2013-02-12T00:00:00-05:00\",\"2013-02-13T00:00:00-05:00\",\"2013-02-14T00:00:00-05:00\",\"2013-02-15T00:00:00-05:00\",\"2013-02-19T00:00:00-05:00\",\"2013-02-20T00:00:00-05:00\",\"2013-02-21T00:00:00-05:00\",\"2013-02-22T00:00:00-05:00\",\"2013-02-25T00:00:00-05:00\",\"2013-02-26T00:00:00-05:00\",\"2013-02-27T00:00:00-05:00\",\"2013-02-28T00:00:00-05:00\",\"2013-03-01T00:00:00-05:00\",\"2013-03-04T00:00:00-05:00\",\"2013-03-05T00:00:00-05:00\",\"2013-03-06T00:00:00-05:00\",\"2013-03-07T00:00:00-05:00\",\"2013-03-08T00:00:00-05:00\",\"2013-03-11T00:00:00-04:00\",\"2013-03-12T00:00:00-04:00\",\"2013-03-13T00:00:00-04:00\",\"2013-03-14T00:00:00-04:00\",\"2013-03-15T00:00:00-04:00\",\"2013-03-18T00:00:00-04:00\",\"2013-03-19T00:00:00-04:00\",\"2013-03-20T00:00:00-04:00\",\"2013-03-21T00:00:00-04:00\",\"2013-03-22T00:00:00-04:00\",\"2013-03-25T00:00:00-04:00\",\"2013-03-26T00:00:00-04:00\",\"2013-03-27T00:00:00-04:00\",\"2013-03-28T00:00:00-04:00\",\"2013-04-01T00:00:00-04:00\",\"2013-04-02T00:00:00-04:00\",\"2013-04-03T00:00:00-04:00\",\"2013-04-04T00:00:00-04:00\",\"2013-04-05T00:00:00-04:00\",\"2013-04-08T00:00:00-04:00\",\"2013-04-09T00:00:00-04:00\",\"2013-04-10T00:00:00-04:00\",\"2013-04-11T00:00:00-04:00\",\"2013-04-12T00:00:00-04:00\",\"2013-04-15T00:00:00-04:00\",\"2013-04-16T00:00:00-04:00\",\"2013-04-17T00:00:00-04:00\",\"2013-04-18T00:00:00-04:00\",\"2013-04-19T00:00:00-04:00\",\"2013-04-22T00:00:00-04:00\",\"2013-04-23T00:00:00-04:00\",\"2013-04-24T00:00:00-04:00\",\"2013-04-25T00:00:00-04:00\",\"2013-04-26T00:00:00-04:00\",\"2013-04-29T00:00:00-04:00\",\"2013-04-30T00:00:00-04:00\",\"2013-05-01T00:00:00-04:00\",\"2013-05-02T00:00:00-04:00\",\"2013-05-03T00:00:00-04:00\",\"2013-05-06T00:00:00-04:00\",\"2013-05-07T00:00:00-04:00\",\"2013-05-08T00:00:00-04:00\",\"2013-05-09T00:00:00-04:00\",\"2013-05-10T00:00:00-04:00\",\"2013-05-13T00:00:00-04:00\",\"2013-05-14T00:00:00-04:00\",\"2013-05-15T00:00:00-04:00\",\"2013-05-16T00:00:00-04:00\",\"2013-05-17T00:00:00-04:00\",\"2013-05-20T00:00:00-04:00\",\"2013-05-21T00:00:00-04:00\",\"2013-05-22T00:00:00-04:00\",\"2013-05-23T00:00:00-04:00\",\"2013-05-24T00:00:00-04:00\",\"2013-05-28T00:00:00-04:00\",\"2013-05-29T00:00:00-04:00\",\"2013-05-30T00:00:00-04:00\",\"2013-05-31T00:00:00-04:00\",\"2013-06-03T00:00:00-04:00\",\"2013-06-04T00:00:00-04:00\",\"2013-06-05T00:00:00-04:00\",\"2013-06-06T00:00:00-04:00\",\"2013-06-07T00:00:00-04:00\",\"2013-06-10T00:00:00-04:00\",\"2013-06-11T00:00:00-04:00\",\"2013-06-12T00:00:00-04:00\",\"2013-06-13T00:00:00-04:00\",\"2013-06-14T00:00:00-04:00\",\"2013-06-17T00:00:00-04:00\",\"2013-06-18T00:00:00-04:00\",\"2013-06-19T00:00:00-04:00\",\"2013-06-20T00:00:00-04:00\",\"2013-06-21T00:00:00-04:00\",\"2013-06-24T00:00:00-04:00\",\"2013-06-25T00:00:00-04:00\",\"2013-06-26T00:00:00-04:00\",\"2013-06-27T00:00:00-04:00\",\"2013-06-28T00:00:00-04:00\",\"2013-07-01T00:00:00-04:00\",\"2013-07-02T00:00:00-04:00\",\"2013-07-03T00:00:00-04:00\",\"2013-07-05T00:00:00-04:00\",\"2013-07-08T00:00:00-04:00\",\"2013-07-09T00:00:00-04:00\",\"2013-07-10T00:00:00-04:00\",\"2013-07-11T00:00:00-04:00\",\"2013-07-12T00:00:00-04:00\",\"2013-07-15T00:00:00-04:00\",\"2013-07-16T00:00:00-04:00\",\"2013-07-17T00:00:00-04:00\",\"2013-07-18T00:00:00-04:00\",\"2013-07-19T00:00:00-04:00\",\"2013-07-22T00:00:00-04:00\",\"2013-07-23T00:00:00-04:00\",\"2013-07-24T00:00:00-04:00\",\"2013-07-25T00:00:00-04:00\",\"2013-07-26T00:00:00-04:00\",\"2013-07-29T00:00:00-04:00\",\"2013-07-30T00:00:00-04:00\",\"2013-07-31T00:00:00-04:00\",\"2013-08-01T00:00:00-04:00\",\"2013-08-02T00:00:00-04:00\",\"2013-08-05T00:00:00-04:00\",\"2013-08-06T00:00:00-04:00\",\"2013-08-07T00:00:00-04:00\",\"2013-08-08T00:00:00-04:00\",\"2013-08-09T00:00:00-04:00\",\"2013-08-12T00:00:00-04:00\",\"2013-08-13T00:00:00-04:00\",\"2013-08-14T00:00:00-04:00\",\"2013-08-15T00:00:00-04:00\",\"2013-08-16T00:00:00-04:00\",\"2013-08-19T00:00:00-04:00\",\"2013-08-20T00:00:00-04:00\",\"2013-08-21T00:00:00-04:00\",\"2013-08-22T00:00:00-04:00\",\"2013-08-23T00:00:00-04:00\",\"2013-08-26T00:00:00-04:00\",\"2013-08-27T00:00:00-04:00\",\"2013-08-28T00:00:00-04:00\",\"2013-08-29T00:00:00-04:00\",\"2013-08-30T00:00:00-04:00\",\"2013-09-03T00:00:00-04:00\",\"2013-09-04T00:00:00-04:00\",\"2013-09-05T00:00:00-04:00\",\"2013-09-06T00:00:00-04:00\",\"2013-09-09T00:00:00-04:00\",\"2013-09-10T00:00:00-04:00\",\"2013-09-11T00:00:00-04:00\",\"2013-09-12T00:00:00-04:00\",\"2013-09-13T00:00:00-04:00\",\"2013-09-16T00:00:00-04:00\",\"2013-09-17T00:00:00-04:00\",\"2013-09-18T00:00:00-04:00\",\"2013-09-19T00:00:00-04:00\",\"2013-09-20T00:00:00-04:00\",\"2013-09-23T00:00:00-04:00\",\"2013-09-24T00:00:00-04:00\",\"2013-09-25T00:00:00-04:00\",\"2013-09-26T00:00:00-04:00\",\"2013-09-27T00:00:00-04:00\",\"2013-09-30T00:00:00-04:00\",\"2013-10-01T00:00:00-04:00\",\"2013-10-02T00:00:00-04:00\",\"2013-10-03T00:00:00-04:00\",\"2013-10-04T00:00:00-04:00\",\"2013-10-07T00:00:00-04:00\",\"2013-10-08T00:00:00-04:00\",\"2013-10-09T00:00:00-04:00\",\"2013-10-10T00:00:00-04:00\",\"2013-10-11T00:00:00-04:00\",\"2013-10-14T00:00:00-04:00\",\"2013-10-15T00:00:00-04:00\",\"2013-10-16T00:00:00-04:00\",\"2013-10-17T00:00:00-04:00\",\"2013-10-18T00:00:00-04:00\",\"2013-10-21T00:00:00-04:00\",\"2013-10-22T00:00:00-04:00\",\"2013-10-23T00:00:00-04:00\",\"2013-10-24T00:00:00-04:00\",\"2013-10-25T00:00:00-04:00\",\"2013-10-28T00:00:00-04:00\",\"2013-10-29T00:00:00-04:00\",\"2013-10-30T00:00:00-04:00\",\"2013-10-31T00:00:00-04:00\",\"2013-11-01T00:00:00-04:00\",\"2013-11-04T00:00:00-05:00\",\"2013-11-05T00:00:00-05:00\",\"2013-11-06T00:00:00-05:00\",\"2013-11-07T00:00:00-05:00\",\"2013-11-08T00:00:00-05:00\",\"2013-11-11T00:00:00-05:00\",\"2013-11-12T00:00:00-05:00\",\"2013-11-13T00:00:00-05:00\",\"2013-11-14T00:00:00-05:00\",\"2013-11-15T00:00:00-05:00\",\"2013-11-18T00:00:00-05:00\",\"2013-11-19T00:00:00-05:00\",\"2013-11-20T00:00:00-05:00\",\"2013-11-21T00:00:00-05:00\",\"2013-11-22T00:00:00-05:00\",\"2013-11-25T00:00:00-05:00\",\"2013-11-26T00:00:00-05:00\",\"2013-11-27T00:00:00-05:00\",\"2013-11-29T00:00:00-05:00\",\"2013-12-02T00:00:00-05:00\",\"2013-12-03T00:00:00-05:00\",\"2013-12-04T00:00:00-05:00\",\"2013-12-05T00:00:00-05:00\",\"2013-12-06T00:00:00-05:00\",\"2013-12-09T00:00:00-05:00\",\"2013-12-10T00:00:00-05:00\",\"2013-12-11T00:00:00-05:00\",\"2013-12-12T00:00:00-05:00\",\"2013-12-13T00:00:00-05:00\",\"2013-12-16T00:00:00-05:00\",\"2013-12-17T00:00:00-05:00\",\"2013-12-18T00:00:00-05:00\",\"2013-12-19T00:00:00-05:00\",\"2013-12-20T00:00:00-05:00\",\"2013-12-23T00:00:00-05:00\",\"2013-12-24T00:00:00-05:00\",\"2013-12-26T00:00:00-05:00\",\"2013-12-27T00:00:00-05:00\",\"2013-12-30T00:00:00-05:00\",\"2013-12-31T00:00:00-05:00\",\"2014-01-02T00:00:00-05:00\",\"2014-01-03T00:00:00-05:00\",\"2014-01-06T00:00:00-05:00\",\"2014-01-07T00:00:00-05:00\",\"2014-01-08T00:00:00-05:00\",\"2014-01-09T00:00:00-05:00\",\"2014-01-10T00:00:00-05:00\",\"2014-01-13T00:00:00-05:00\",\"2014-01-14T00:00:00-05:00\",\"2014-01-15T00:00:00-05:00\",\"2014-01-16T00:00:00-05:00\",\"2014-01-17T00:00:00-05:00\",\"2014-01-21T00:00:00-05:00\",\"2014-01-22T00:00:00-05:00\",\"2014-01-23T00:00:00-05:00\",\"2014-01-24T00:00:00-05:00\",\"2014-01-27T00:00:00-05:00\",\"2014-01-28T00:00:00-05:00\",\"2014-01-29T00:00:00-05:00\",\"2014-01-30T00:00:00-05:00\",\"2014-01-31T00:00:00-05:00\",\"2014-02-03T00:00:00-05:00\",\"2014-02-04T00:00:00-05:00\",\"2014-02-05T00:00:00-05:00\",\"2014-02-06T00:00:00-05:00\",\"2014-02-07T00:00:00-05:00\",\"2014-02-10T00:00:00-05:00\",\"2014-02-11T00:00:00-05:00\",\"2014-02-12T00:00:00-05:00\",\"2014-02-13T00:00:00-05:00\",\"2014-02-14T00:00:00-05:00\",\"2014-02-18T00:00:00-05:00\",\"2014-02-19T00:00:00-05:00\",\"2014-02-20T00:00:00-05:00\",\"2014-02-21T00:00:00-05:00\",\"2014-02-24T00:00:00-05:00\",\"2014-02-25T00:00:00-05:00\",\"2014-02-26T00:00:00-05:00\",\"2014-02-27T00:00:00-05:00\",\"2014-02-28T00:00:00-05:00\",\"2014-03-03T00:00:00-05:00\",\"2014-03-04T00:00:00-05:00\",\"2014-03-05T00:00:00-05:00\",\"2014-03-06T00:00:00-05:00\",\"2014-03-07T00:00:00-05:00\",\"2014-03-10T00:00:00-04:00\",\"2014-03-11T00:00:00-04:00\",\"2014-03-12T00:00:00-04:00\",\"2014-03-13T00:00:00-04:00\",\"2014-03-14T00:00:00-04:00\",\"2014-03-17T00:00:00-04:00\",\"2014-03-18T00:00:00-04:00\",\"2014-03-19T00:00:00-04:00\",\"2014-03-20T00:00:00-04:00\",\"2014-03-21T00:00:00-04:00\",\"2014-03-24T00:00:00-04:00\",\"2014-03-25T00:00:00-04:00\",\"2014-03-26T00:00:00-04:00\",\"2014-03-27T00:00:00-04:00\",\"2014-03-28T00:00:00-04:00\",\"2014-03-31T00:00:00-04:00\",\"2014-04-01T00:00:00-04:00\",\"2014-04-02T00:00:00-04:00\",\"2014-04-03T00:00:00-04:00\",\"2014-04-04T00:00:00-04:00\",\"2014-04-07T00:00:00-04:00\",\"2014-04-08T00:00:00-04:00\",\"2014-04-09T00:00:00-04:00\",\"2014-04-10T00:00:00-04:00\",\"2014-04-11T00:00:00-04:00\",\"2014-04-14T00:00:00-04:00\",\"2014-04-15T00:00:00-04:00\",\"2014-04-16T00:00:00-04:00\",\"2014-04-17T00:00:00-04:00\",\"2014-04-21T00:00:00-04:00\",\"2014-04-22T00:00:00-04:00\",\"2014-04-23T00:00:00-04:00\",\"2014-04-24T00:00:00-04:00\",\"2014-04-25T00:00:00-04:00\",\"2014-04-28T00:00:00-04:00\",\"2014-04-29T00:00:00-04:00\",\"2014-04-30T00:00:00-04:00\",\"2014-05-01T00:00:00-04:00\",\"2014-05-02T00:00:00-04:00\",\"2014-05-05T00:00:00-04:00\",\"2014-05-06T00:00:00-04:00\",\"2014-05-07T00:00:00-04:00\",\"2014-05-08T00:00:00-04:00\",\"2014-05-09T00:00:00-04:00\",\"2014-05-12T00:00:00-04:00\",\"2014-05-13T00:00:00-04:00\",\"2014-05-14T00:00:00-04:00\",\"2014-05-15T00:00:00-04:00\",\"2014-05-16T00:00:00-04:00\",\"2014-05-19T00:00:00-04:00\",\"2014-05-20T00:00:00-04:00\",\"2014-05-21T00:00:00-04:00\",\"2014-05-22T00:00:00-04:00\",\"2014-05-23T00:00:00-04:00\",\"2014-05-27T00:00:00-04:00\",\"2014-05-28T00:00:00-04:00\",\"2014-05-29T00:00:00-04:00\",\"2014-05-30T00:00:00-04:00\",\"2014-06-02T00:00:00-04:00\",\"2014-06-03T00:00:00-04:00\",\"2014-06-04T00:00:00-04:00\",\"2014-06-05T00:00:00-04:00\",\"2014-06-06T00:00:00-04:00\",\"2014-06-09T00:00:00-04:00\",\"2014-06-10T00:00:00-04:00\",\"2014-06-11T00:00:00-04:00\",\"2014-06-12T00:00:00-04:00\",\"2014-06-13T00:00:00-04:00\",\"2014-06-16T00:00:00-04:00\",\"2014-06-17T00:00:00-04:00\",\"2014-06-18T00:00:00-04:00\",\"2014-06-19T00:00:00-04:00\",\"2014-06-20T00:00:00-04:00\",\"2014-06-23T00:00:00-04:00\",\"2014-06-24T00:00:00-04:00\",\"2014-06-25T00:00:00-04:00\",\"2014-06-26T00:00:00-04:00\",\"2014-06-27T00:00:00-04:00\",\"2014-06-30T00:00:00-04:00\",\"2014-07-01T00:00:00-04:00\",\"2014-07-02T00:00:00-04:00\",\"2014-07-03T00:00:00-04:00\",\"2014-07-07T00:00:00-04:00\",\"2014-07-08T00:00:00-04:00\",\"2014-07-09T00:00:00-04:00\",\"2014-07-10T00:00:00-04:00\",\"2014-07-11T00:00:00-04:00\",\"2014-07-14T00:00:00-04:00\",\"2014-07-15T00:00:00-04:00\",\"2014-07-16T00:00:00-04:00\",\"2014-07-17T00:00:00-04:00\",\"2014-07-18T00:00:00-04:00\",\"2014-07-21T00:00:00-04:00\",\"2014-07-22T00:00:00-04:00\",\"2014-07-23T00:00:00-04:00\",\"2014-07-24T00:00:00-04:00\",\"2014-07-25T00:00:00-04:00\",\"2014-07-28T00:00:00-04:00\",\"2014-07-29T00:00:00-04:00\",\"2014-07-30T00:00:00-04:00\",\"2014-07-31T00:00:00-04:00\",\"2014-08-01T00:00:00-04:00\",\"2014-08-04T00:00:00-04:00\",\"2014-08-05T00:00:00-04:00\",\"2014-08-06T00:00:00-04:00\",\"2014-08-07T00:00:00-04:00\",\"2014-08-08T00:00:00-04:00\",\"2014-08-11T00:00:00-04:00\",\"2014-08-12T00:00:00-04:00\",\"2014-08-13T00:00:00-04:00\",\"2014-08-14T00:00:00-04:00\",\"2014-08-15T00:00:00-04:00\",\"2014-08-18T00:00:00-04:00\",\"2014-08-19T00:00:00-04:00\",\"2014-08-20T00:00:00-04:00\",\"2014-08-21T00:00:00-04:00\",\"2014-08-22T00:00:00-04:00\",\"2014-08-25T00:00:00-04:00\",\"2014-08-26T00:00:00-04:00\",\"2014-08-27T00:00:00-04:00\",\"2014-08-28T00:00:00-04:00\",\"2014-08-29T00:00:00-04:00\",\"2014-09-02T00:00:00-04:00\",\"2014-09-03T00:00:00-04:00\",\"2014-09-04T00:00:00-04:00\",\"2014-09-05T00:00:00-04:00\",\"2014-09-08T00:00:00-04:00\",\"2014-09-09T00:00:00-04:00\",\"2014-09-10T00:00:00-04:00\",\"2014-09-11T00:00:00-04:00\",\"2014-09-12T00:00:00-04:00\",\"2014-09-15T00:00:00-04:00\",\"2014-09-16T00:00:00-04:00\",\"2014-09-17T00:00:00-04:00\",\"2014-09-18T00:00:00-04:00\",\"2014-09-19T00:00:00-04:00\",\"2014-09-22T00:00:00-04:00\",\"2014-09-23T00:00:00-04:00\",\"2014-09-24T00:00:00-04:00\",\"2014-09-25T00:00:00-04:00\",\"2014-09-26T00:00:00-04:00\",\"2014-09-29T00:00:00-04:00\",\"2014-09-30T00:00:00-04:00\",\"2014-10-01T00:00:00-04:00\",\"2014-10-02T00:00:00-04:00\",\"2014-10-03T00:00:00-04:00\",\"2014-10-06T00:00:00-04:00\",\"2014-10-07T00:00:00-04:00\",\"2014-10-08T00:00:00-04:00\",\"2014-10-09T00:00:00-04:00\",\"2014-10-10T00:00:00-04:00\",\"2014-10-13T00:00:00-04:00\",\"2014-10-14T00:00:00-04:00\",\"2014-10-15T00:00:00-04:00\",\"2014-10-16T00:00:00-04:00\",\"2014-10-17T00:00:00-04:00\",\"2014-10-20T00:00:00-04:00\",\"2014-10-21T00:00:00-04:00\",\"2014-10-22T00:00:00-04:00\",\"2014-10-23T00:00:00-04:00\",\"2014-10-24T00:00:00-04:00\",\"2014-10-27T00:00:00-04:00\",\"2014-10-28T00:00:00-04:00\",\"2014-10-29T00:00:00-04:00\",\"2014-10-30T00:00:00-04:00\",\"2014-10-31T00:00:00-04:00\",\"2014-11-03T00:00:00-05:00\",\"2014-11-04T00:00:00-05:00\",\"2014-11-05T00:00:00-05:00\",\"2014-11-06T00:00:00-05:00\",\"2014-11-07T00:00:00-05:00\",\"2014-11-10T00:00:00-05:00\",\"2014-11-11T00:00:00-05:00\",\"2014-11-12T00:00:00-05:00\",\"2014-11-13T00:00:00-05:00\",\"2014-11-14T00:00:00-05:00\",\"2014-11-17T00:00:00-05:00\",\"2014-11-18T00:00:00-05:00\",\"2014-11-19T00:00:00-05:00\",\"2014-11-20T00:00:00-05:00\",\"2014-11-21T00:00:00-05:00\",\"2014-11-24T00:00:00-05:00\",\"2014-11-25T00:00:00-05:00\",\"2014-11-26T00:00:00-05:00\",\"2014-11-28T00:00:00-05:00\",\"2014-12-01T00:00:00-05:00\",\"2014-12-02T00:00:00-05:00\",\"2014-12-03T00:00:00-05:00\",\"2014-12-04T00:00:00-05:00\",\"2014-12-05T00:00:00-05:00\",\"2014-12-08T00:00:00-05:00\",\"2014-12-09T00:00:00-05:00\",\"2014-12-10T00:00:00-05:00\",\"2014-12-11T00:00:00-05:00\",\"2014-12-12T00:00:00-05:00\",\"2014-12-15T00:00:00-05:00\",\"2014-12-16T00:00:00-05:00\",\"2014-12-17T00:00:00-05:00\",\"2014-12-18T00:00:00-05:00\",\"2014-12-19T00:00:00-05:00\",\"2014-12-22T00:00:00-05:00\",\"2014-12-23T00:00:00-05:00\",\"2014-12-24T00:00:00-05:00\",\"2014-12-26T00:00:00-05:00\",\"2014-12-29T00:00:00-05:00\",\"2014-12-30T00:00:00-05:00\",\"2014-12-31T00:00:00-05:00\",\"2015-01-02T00:00:00-05:00\",\"2015-01-05T00:00:00-05:00\",\"2015-01-06T00:00:00-05:00\",\"2015-01-07T00:00:00-05:00\",\"2015-01-08T00:00:00-05:00\",\"2015-01-09T00:00:00-05:00\",\"2015-01-12T00:00:00-05:00\",\"2015-01-13T00:00:00-05:00\",\"2015-01-14T00:00:00-05:00\",\"2015-01-15T00:00:00-05:00\",\"2015-01-16T00:00:00-05:00\",\"2015-01-20T00:00:00-05:00\",\"2015-01-21T00:00:00-05:00\",\"2015-01-22T00:00:00-05:00\",\"2015-01-23T00:00:00-05:00\",\"2015-01-26T00:00:00-05:00\",\"2015-01-27T00:00:00-05:00\",\"2015-01-28T00:00:00-05:00\",\"2015-01-29T00:00:00-05:00\",\"2015-01-30T00:00:00-05:00\",\"2015-02-02T00:00:00-05:00\",\"2015-02-03T00:00:00-05:00\",\"2015-02-04T00:00:00-05:00\",\"2015-02-05T00:00:00-05:00\",\"2015-02-06T00:00:00-05:00\",\"2015-02-09T00:00:00-05:00\",\"2015-02-10T00:00:00-05:00\",\"2015-02-11T00:00:00-05:00\",\"2015-02-12T00:00:00-05:00\",\"2015-02-13T00:00:00-05:00\",\"2015-02-17T00:00:00-05:00\",\"2015-02-18T00:00:00-05:00\",\"2015-02-19T00:00:00-05:00\",\"2015-02-20T00:00:00-05:00\",\"2015-02-23T00:00:00-05:00\",\"2015-02-24T00:00:00-05:00\",\"2015-02-25T00:00:00-05:00\",\"2015-02-26T00:00:00-05:00\",\"2015-02-27T00:00:00-05:00\",\"2015-03-02T00:00:00-05:00\",\"2015-03-03T00:00:00-05:00\",\"2015-03-04T00:00:00-05:00\",\"2015-03-05T00:00:00-05:00\",\"2015-03-06T00:00:00-05:00\",\"2015-03-09T00:00:00-04:00\",\"2015-03-10T00:00:00-04:00\",\"2015-03-11T00:00:00-04:00\",\"2015-03-12T00:00:00-04:00\",\"2015-03-13T00:00:00-04:00\",\"2015-03-16T00:00:00-04:00\",\"2015-03-17T00:00:00-04:00\",\"2015-03-18T00:00:00-04:00\",\"2015-03-19T00:00:00-04:00\",\"2015-03-20T00:00:00-04:00\",\"2015-03-23T00:00:00-04:00\",\"2015-03-24T00:00:00-04:00\",\"2015-03-25T00:00:00-04:00\",\"2015-03-26T00:00:00-04:00\",\"2015-03-27T00:00:00-04:00\",\"2015-03-30T00:00:00-04:00\",\"2015-03-31T00:00:00-04:00\",\"2015-04-01T00:00:00-04:00\",\"2015-04-02T00:00:00-04:00\",\"2015-04-06T00:00:00-04:00\",\"2015-04-07T00:00:00-04:00\",\"2015-04-08T00:00:00-04:00\",\"2015-04-09T00:00:00-04:00\",\"2015-04-10T00:00:00-04:00\",\"2015-04-13T00:00:00-04:00\",\"2015-04-14T00:00:00-04:00\",\"2015-04-15T00:00:00-04:00\",\"2015-04-16T00:00:00-04:00\",\"2015-04-17T00:00:00-04:00\",\"2015-04-20T00:00:00-04:00\",\"2015-04-21T00:00:00-04:00\",\"2015-04-22T00:00:00-04:00\",\"2015-04-23T00:00:00-04:00\",\"2015-04-24T00:00:00-04:00\",\"2015-04-27T00:00:00-04:00\",\"2015-04-28T00:00:00-04:00\",\"2015-04-29T00:00:00-04:00\",\"2015-04-30T00:00:00-04:00\",\"2015-05-01T00:00:00-04:00\",\"2015-05-04T00:00:00-04:00\",\"2015-05-05T00:00:00-04:00\",\"2015-05-06T00:00:00-04:00\",\"2015-05-07T00:00:00-04:00\",\"2015-05-08T00:00:00-04:00\",\"2015-05-11T00:00:00-04:00\",\"2015-05-12T00:00:00-04:00\",\"2015-05-13T00:00:00-04:00\",\"2015-05-14T00:00:00-04:00\",\"2015-05-15T00:00:00-04:00\",\"2015-05-18T00:00:00-04:00\",\"2015-05-19T00:00:00-04:00\",\"2015-05-20T00:00:00-04:00\",\"2015-05-21T00:00:00-04:00\",\"2015-05-22T00:00:00-04:00\",\"2015-05-26T00:00:00-04:00\",\"2015-05-27T00:00:00-04:00\",\"2015-05-28T00:00:00-04:00\",\"2015-05-29T00:00:00-04:00\",\"2015-06-01T00:00:00-04:00\",\"2015-06-02T00:00:00-04:00\",\"2015-06-03T00:00:00-04:00\",\"2015-06-04T00:00:00-04:00\",\"2015-06-05T00:00:00-04:00\",\"2015-06-08T00:00:00-04:00\",\"2015-06-09T00:00:00-04:00\",\"2015-06-10T00:00:00-04:00\",\"2015-06-11T00:00:00-04:00\",\"2015-06-12T00:00:00-04:00\",\"2015-06-15T00:00:00-04:00\",\"2015-06-16T00:00:00-04:00\",\"2015-06-17T00:00:00-04:00\",\"2015-06-18T00:00:00-04:00\",\"2015-06-19T00:00:00-04:00\",\"2015-06-22T00:00:00-04:00\",\"2015-06-23T00:00:00-04:00\",\"2015-06-24T00:00:00-04:00\",\"2015-06-25T00:00:00-04:00\",\"2015-06-26T00:00:00-04:00\",\"2015-06-29T00:00:00-04:00\",\"2015-06-30T00:00:00-04:00\",\"2015-07-01T00:00:00-04:00\",\"2015-07-02T00:00:00-04:00\",\"2015-07-06T00:00:00-04:00\",\"2015-07-07T00:00:00-04:00\",\"2015-07-08T00:00:00-04:00\",\"2015-07-09T00:00:00-04:00\",\"2015-07-10T00:00:00-04:00\",\"2015-07-13T00:00:00-04:00\",\"2015-07-14T00:00:00-04:00\",\"2015-07-15T00:00:00-04:00\",\"2015-07-16T00:00:00-04:00\",\"2015-07-17T00:00:00-04:00\",\"2015-07-20T00:00:00-04:00\",\"2015-07-21T00:00:00-04:00\",\"2015-07-22T00:00:00-04:00\",\"2015-07-23T00:00:00-04:00\",\"2015-07-24T00:00:00-04:00\",\"2015-07-27T00:00:00-04:00\",\"2015-07-28T00:00:00-04:00\",\"2015-07-29T00:00:00-04:00\",\"2015-07-30T00:00:00-04:00\",\"2015-07-31T00:00:00-04:00\",\"2015-08-03T00:00:00-04:00\",\"2015-08-04T00:00:00-04:00\",\"2015-08-05T00:00:00-04:00\",\"2015-08-06T00:00:00-04:00\",\"2015-08-07T00:00:00-04:00\",\"2015-08-10T00:00:00-04:00\",\"2015-08-11T00:00:00-04:00\",\"2015-08-12T00:00:00-04:00\",\"2015-08-13T00:00:00-04:00\",\"2015-08-14T00:00:00-04:00\",\"2015-08-17T00:00:00-04:00\",\"2015-08-18T00:00:00-04:00\",\"2015-08-19T00:00:00-04:00\",\"2015-08-20T00:00:00-04:00\",\"2015-08-21T00:00:00-04:00\",\"2015-08-24T00:00:00-04:00\",\"2015-08-25T00:00:00-04:00\",\"2015-08-26T00:00:00-04:00\",\"2015-08-27T00:00:00-04:00\",\"2015-08-28T00:00:00-04:00\",\"2015-08-31T00:00:00-04:00\",\"2015-09-01T00:00:00-04:00\",\"2015-09-02T00:00:00-04:00\",\"2015-09-03T00:00:00-04:00\",\"2015-09-04T00:00:00-04:00\",\"2015-09-08T00:00:00-04:00\",\"2015-09-09T00:00:00-04:00\",\"2015-09-10T00:00:00-04:00\",\"2015-09-11T00:00:00-04:00\",\"2015-09-14T00:00:00-04:00\",\"2015-09-15T00:00:00-04:00\",\"2015-09-16T00:00:00-04:00\",\"2015-09-17T00:00:00-04:00\",\"2015-09-18T00:00:00-04:00\",\"2015-09-21T00:00:00-04:00\",\"2015-09-22T00:00:00-04:00\",\"2015-09-23T00:00:00-04:00\",\"2015-09-24T00:00:00-04:00\",\"2015-09-25T00:00:00-04:00\",\"2015-09-28T00:00:00-04:00\",\"2015-09-29T00:00:00-04:00\",\"2015-09-30T00:00:00-04:00\",\"2015-10-01T00:00:00-04:00\",\"2015-10-02T00:00:00-04:00\",\"2015-10-05T00:00:00-04:00\",\"2015-10-06T00:00:00-04:00\",\"2015-10-07T00:00:00-04:00\",\"2015-10-08T00:00:00-04:00\",\"2015-10-09T00:00:00-04:00\",\"2015-10-12T00:00:00-04:00\",\"2015-10-13T00:00:00-04:00\",\"2015-10-14T00:00:00-04:00\",\"2015-10-15T00:00:00-04:00\",\"2015-10-16T00:00:00-04:00\",\"2015-10-19T00:00:00-04:00\",\"2015-10-20T00:00:00-04:00\",\"2015-10-21T00:00:00-04:00\",\"2015-10-22T00:00:00-04:00\",\"2015-10-23T00:00:00-04:00\",\"2015-10-26T00:00:00-04:00\",\"2015-10-27T00:00:00-04:00\",\"2015-10-28T00:00:00-04:00\",\"2015-10-29T00:00:00-04:00\",\"2015-10-30T00:00:00-04:00\",\"2015-11-02T00:00:00-05:00\",\"2015-11-03T00:00:00-05:00\",\"2015-11-04T00:00:00-05:00\",\"2015-11-05T00:00:00-05:00\",\"2015-11-06T00:00:00-05:00\",\"2015-11-09T00:00:00-05:00\",\"2015-11-10T00:00:00-05:00\",\"2015-11-11T00:00:00-05:00\",\"2015-11-12T00:00:00-05:00\",\"2015-11-13T00:00:00-05:00\",\"2015-11-16T00:00:00-05:00\",\"2015-11-17T00:00:00-05:00\",\"2015-11-18T00:00:00-05:00\",\"2015-11-19T00:00:00-05:00\",\"2015-11-20T00:00:00-05:00\",\"2015-11-23T00:00:00-05:00\",\"2015-11-24T00:00:00-05:00\",\"2015-11-25T00:00:00-05:00\",\"2015-11-27T00:00:00-05:00\",\"2015-11-30T00:00:00-05:00\",\"2015-12-01T00:00:00-05:00\",\"2015-12-02T00:00:00-05:00\",\"2015-12-03T00:00:00-05:00\",\"2015-12-04T00:00:00-05:00\",\"2015-12-07T00:00:00-05:00\",\"2015-12-08T00:00:00-05:00\",\"2015-12-09T00:00:00-05:00\",\"2015-12-10T00:00:00-05:00\",\"2015-12-11T00:00:00-05:00\",\"2015-12-14T00:00:00-05:00\",\"2015-12-15T00:00:00-05:00\",\"2015-12-16T00:00:00-05:00\",\"2015-12-17T00:00:00-05:00\",\"2015-12-18T00:00:00-05:00\",\"2015-12-21T00:00:00-05:00\",\"2015-12-22T00:00:00-05:00\",\"2015-12-23T00:00:00-05:00\",\"2015-12-24T00:00:00-05:00\",\"2015-12-28T00:00:00-05:00\",\"2015-12-29T00:00:00-05:00\",\"2015-12-30T00:00:00-05:00\",\"2015-12-31T00:00:00-05:00\",\"2016-01-04T00:00:00-05:00\",\"2016-01-05T00:00:00-05:00\",\"2016-01-06T00:00:00-05:00\",\"2016-01-07T00:00:00-05:00\",\"2016-01-08T00:00:00-05:00\",\"2016-01-11T00:00:00-05:00\",\"2016-01-12T00:00:00-05:00\",\"2016-01-13T00:00:00-05:00\",\"2016-01-14T00:00:00-05:00\",\"2016-01-15T00:00:00-05:00\",\"2016-01-19T00:00:00-05:00\",\"2016-01-20T00:00:00-05:00\",\"2016-01-21T00:00:00-05:00\",\"2016-01-22T00:00:00-05:00\",\"2016-01-25T00:00:00-05:00\",\"2016-01-26T00:00:00-05:00\",\"2016-01-27T00:00:00-05:00\",\"2016-01-28T00:00:00-05:00\",\"2016-01-29T00:00:00-05:00\",\"2016-02-01T00:00:00-05:00\",\"2016-02-02T00:00:00-05:00\",\"2016-02-03T00:00:00-05:00\",\"2016-02-04T00:00:00-05:00\",\"2016-02-05T00:00:00-05:00\",\"2016-02-08T00:00:00-05:00\",\"2016-02-09T00:00:00-05:00\",\"2016-02-10T00:00:00-05:00\",\"2016-02-11T00:00:00-05:00\",\"2016-02-12T00:00:00-05:00\",\"2016-02-16T00:00:00-05:00\",\"2016-02-17T00:00:00-05:00\",\"2016-02-18T00:00:00-05:00\",\"2016-02-19T00:00:00-05:00\",\"2016-02-22T00:00:00-05:00\",\"2016-02-23T00:00:00-05:00\",\"2016-02-24T00:00:00-05:00\",\"2016-02-25T00:00:00-05:00\",\"2016-02-26T00:00:00-05:00\",\"2016-02-29T00:00:00-05:00\",\"2016-03-01T00:00:00-05:00\",\"2016-03-02T00:00:00-05:00\",\"2016-03-03T00:00:00-05:00\",\"2016-03-04T00:00:00-05:00\",\"2016-03-07T00:00:00-05:00\",\"2016-03-08T00:00:00-05:00\",\"2016-03-09T00:00:00-05:00\",\"2016-03-10T00:00:00-05:00\",\"2016-03-11T00:00:00-05:00\",\"2016-03-14T00:00:00-04:00\",\"2016-03-15T00:00:00-04:00\",\"2016-03-16T00:00:00-04:00\",\"2016-03-17T00:00:00-04:00\",\"2016-03-18T00:00:00-04:00\",\"2016-03-21T00:00:00-04:00\",\"2016-03-22T00:00:00-04:00\",\"2016-03-23T00:00:00-04:00\",\"2016-03-24T00:00:00-04:00\",\"2016-03-28T00:00:00-04:00\",\"2016-03-29T00:00:00-04:00\",\"2016-03-30T00:00:00-04:00\",\"2016-03-31T00:00:00-04:00\",\"2016-04-01T00:00:00-04:00\",\"2016-04-04T00:00:00-04:00\",\"2016-04-05T00:00:00-04:00\",\"2016-04-06T00:00:00-04:00\",\"2016-04-07T00:00:00-04:00\",\"2016-04-08T00:00:00-04:00\",\"2016-04-11T00:00:00-04:00\",\"2016-04-12T00:00:00-04:00\",\"2016-04-13T00:00:00-04:00\",\"2016-04-14T00:00:00-04:00\",\"2016-04-15T00:00:00-04:00\",\"2016-04-18T00:00:00-04:00\",\"2016-04-19T00:00:00-04:00\",\"2016-04-20T00:00:00-04:00\",\"2016-04-21T00:00:00-04:00\",\"2016-04-22T00:00:00-04:00\",\"2016-04-25T00:00:00-04:00\",\"2016-04-26T00:00:00-04:00\",\"2016-04-27T00:00:00-04:00\",\"2016-04-28T00:00:00-04:00\",\"2016-04-29T00:00:00-04:00\",\"2016-05-02T00:00:00-04:00\",\"2016-05-03T00:00:00-04:00\",\"2016-05-04T00:00:00-04:00\",\"2016-05-05T00:00:00-04:00\",\"2016-05-06T00:00:00-04:00\",\"2016-05-09T00:00:00-04:00\",\"2016-05-10T00:00:00-04:00\",\"2016-05-11T00:00:00-04:00\",\"2016-05-12T00:00:00-04:00\",\"2016-05-13T00:00:00-04:00\",\"2016-05-16T00:00:00-04:00\",\"2016-05-17T00:00:00-04:00\",\"2016-05-18T00:00:00-04:00\",\"2016-05-19T00:00:00-04:00\",\"2016-05-20T00:00:00-04:00\",\"2016-05-23T00:00:00-04:00\",\"2016-05-24T00:00:00-04:00\",\"2016-05-25T00:00:00-04:00\",\"2016-05-26T00:00:00-04:00\",\"2016-05-27T00:00:00-04:00\",\"2016-05-31T00:00:00-04:00\",\"2016-06-01T00:00:00-04:00\",\"2016-06-02T00:00:00-04:00\",\"2016-06-03T00:00:00-04:00\",\"2016-06-06T00:00:00-04:00\",\"2016-06-07T00:00:00-04:00\",\"2016-06-08T00:00:00-04:00\",\"2016-06-09T00:00:00-04:00\",\"2016-06-10T00:00:00-04:00\",\"2016-06-13T00:00:00-04:00\",\"2016-06-14T00:00:00-04:00\",\"2016-06-15T00:00:00-04:00\",\"2016-06-16T00:00:00-04:00\",\"2016-06-17T00:00:00-04:00\",\"2016-06-20T00:00:00-04:00\",\"2016-06-21T00:00:00-04:00\",\"2016-06-22T00:00:00-04:00\",\"2016-06-23T00:00:00-04:00\",\"2016-06-24T00:00:00-04:00\",\"2016-06-27T00:00:00-04:00\",\"2016-06-28T00:00:00-04:00\",\"2016-06-29T00:00:00-04:00\",\"2016-06-30T00:00:00-04:00\",\"2016-07-01T00:00:00-04:00\",\"2016-07-05T00:00:00-04:00\",\"2016-07-06T00:00:00-04:00\",\"2016-07-07T00:00:00-04:00\",\"2016-07-08T00:00:00-04:00\",\"2016-07-11T00:00:00-04:00\",\"2016-07-12T00:00:00-04:00\",\"2016-07-13T00:00:00-04:00\",\"2016-07-14T00:00:00-04:00\",\"2016-07-15T00:00:00-04:00\",\"2016-07-18T00:00:00-04:00\",\"2016-07-19T00:00:00-04:00\",\"2016-07-20T00:00:00-04:00\",\"2016-07-21T00:00:00-04:00\",\"2016-07-22T00:00:00-04:00\",\"2016-07-25T00:00:00-04:00\",\"2016-07-26T00:00:00-04:00\",\"2016-07-27T00:00:00-04:00\",\"2016-07-28T00:00:00-04:00\",\"2016-07-29T00:00:00-04:00\",\"2016-08-01T00:00:00-04:00\",\"2016-08-02T00:00:00-04:00\",\"2016-08-03T00:00:00-04:00\",\"2016-08-04T00:00:00-04:00\",\"2016-08-05T00:00:00-04:00\",\"2016-08-08T00:00:00-04:00\",\"2016-08-09T00:00:00-04:00\",\"2016-08-10T00:00:00-04:00\",\"2016-08-11T00:00:00-04:00\",\"2016-08-12T00:00:00-04:00\",\"2016-08-15T00:00:00-04:00\",\"2016-08-16T00:00:00-04:00\",\"2016-08-17T00:00:00-04:00\",\"2016-08-18T00:00:00-04:00\",\"2016-08-19T00:00:00-04:00\",\"2016-08-22T00:00:00-04:00\",\"2016-08-23T00:00:00-04:00\",\"2016-08-24T00:00:00-04:00\",\"2016-08-25T00:00:00-04:00\",\"2016-08-26T00:00:00-04:00\",\"2016-08-29T00:00:00-04:00\",\"2016-08-30T00:00:00-04:00\",\"2016-08-31T00:00:00-04:00\",\"2016-09-01T00:00:00-04:00\",\"2016-09-02T00:00:00-04:00\",\"2016-09-06T00:00:00-04:00\",\"2016-09-07T00:00:00-04:00\",\"2016-09-08T00:00:00-04:00\",\"2016-09-09T00:00:00-04:00\",\"2016-09-12T00:00:00-04:00\",\"2016-09-13T00:00:00-04:00\",\"2016-09-14T00:00:00-04:00\",\"2016-09-15T00:00:00-04:00\",\"2016-09-16T00:00:00-04:00\",\"2016-09-19T00:00:00-04:00\",\"2016-09-20T00:00:00-04:00\",\"2016-09-21T00:00:00-04:00\",\"2016-09-22T00:00:00-04:00\",\"2016-09-23T00:00:00-04:00\",\"2016-09-26T00:00:00-04:00\",\"2016-09-27T00:00:00-04:00\",\"2016-09-28T00:00:00-04:00\",\"2016-09-29T00:00:00-04:00\",\"2016-09-30T00:00:00-04:00\",\"2016-10-03T00:00:00-04:00\",\"2016-10-04T00:00:00-04:00\",\"2016-10-05T00:00:00-04:00\",\"2016-10-06T00:00:00-04:00\",\"2016-10-07T00:00:00-04:00\",\"2016-10-10T00:00:00-04:00\",\"2016-10-11T00:00:00-04:00\",\"2016-10-12T00:00:00-04:00\",\"2016-10-13T00:00:00-04:00\",\"2016-10-14T00:00:00-04:00\",\"2016-10-17T00:00:00-04:00\",\"2016-10-18T00:00:00-04:00\",\"2016-10-19T00:00:00-04:00\",\"2016-10-20T00:00:00-04:00\",\"2016-10-21T00:00:00-04:00\",\"2016-10-24T00:00:00-04:00\",\"2016-10-25T00:00:00-04:00\",\"2016-10-26T00:00:00-04:00\",\"2016-10-27T00:00:00-04:00\",\"2016-10-28T00:00:00-04:00\",\"2016-10-31T00:00:00-04:00\",\"2016-11-01T00:00:00-04:00\",\"2016-11-02T00:00:00-04:00\",\"2016-11-03T00:00:00-04:00\",\"2016-11-04T00:00:00-04:00\",\"2016-11-07T00:00:00-05:00\",\"2016-11-08T00:00:00-05:00\",\"2016-11-09T00:00:00-05:00\",\"2016-11-10T00:00:00-05:00\",\"2016-11-11T00:00:00-05:00\",\"2016-11-14T00:00:00-05:00\",\"2016-11-15T00:00:00-05:00\",\"2016-11-16T00:00:00-05:00\",\"2016-11-17T00:00:00-05:00\",\"2016-11-18T00:00:00-05:00\",\"2016-11-21T00:00:00-05:00\",\"2016-11-22T00:00:00-05:00\",\"2016-11-23T00:00:00-05:00\",\"2016-11-25T00:00:00-05:00\",\"2016-11-28T00:00:00-05:00\",\"2016-11-29T00:00:00-05:00\",\"2016-11-30T00:00:00-05:00\",\"2016-12-01T00:00:00-05:00\",\"2016-12-02T00:00:00-05:00\",\"2016-12-05T00:00:00-05:00\",\"2016-12-06T00:00:00-05:00\",\"2016-12-07T00:00:00-05:00\",\"2016-12-08T00:00:00-05:00\",\"2016-12-09T00:00:00-05:00\",\"2016-12-12T00:00:00-05:00\",\"2016-12-13T00:00:00-05:00\",\"2016-12-14T00:00:00-05:00\",\"2016-12-15T00:00:00-05:00\",\"2016-12-16T00:00:00-05:00\",\"2016-12-19T00:00:00-05:00\",\"2016-12-20T00:00:00-05:00\",\"2016-12-21T00:00:00-05:00\",\"2016-12-22T00:00:00-05:00\",\"2016-12-23T00:00:00-05:00\",\"2016-12-27T00:00:00-05:00\",\"2016-12-28T00:00:00-05:00\",\"2016-12-29T00:00:00-05:00\",\"2016-12-30T00:00:00-05:00\",\"2017-01-03T00:00:00-05:00\",\"2017-01-04T00:00:00-05:00\",\"2017-01-05T00:00:00-05:00\",\"2017-01-06T00:00:00-05:00\",\"2017-01-09T00:00:00-05:00\",\"2017-01-10T00:00:00-05:00\",\"2017-01-11T00:00:00-05:00\",\"2017-01-12T00:00:00-05:00\",\"2017-01-13T00:00:00-05:00\",\"2017-01-17T00:00:00-05:00\",\"2017-01-18T00:00:00-05:00\",\"2017-01-19T00:00:00-05:00\",\"2017-01-20T00:00:00-05:00\",\"2017-01-23T00:00:00-05:00\",\"2017-01-24T00:00:00-05:00\",\"2017-01-25T00:00:00-05:00\",\"2017-01-26T00:00:00-05:00\",\"2017-01-27T00:00:00-05:00\",\"2017-01-30T00:00:00-05:00\",\"2017-01-31T00:00:00-05:00\",\"2017-02-01T00:00:00-05:00\",\"2017-02-02T00:00:00-05:00\",\"2017-02-03T00:00:00-05:00\",\"2017-02-06T00:00:00-05:00\",\"2017-02-07T00:00:00-05:00\",\"2017-02-08T00:00:00-05:00\",\"2017-02-09T00:00:00-05:00\",\"2017-02-10T00:00:00-05:00\",\"2017-02-13T00:00:00-05:00\",\"2017-02-14T00:00:00-05:00\",\"2017-02-15T00:00:00-05:00\",\"2017-02-16T00:00:00-05:00\",\"2017-02-17T00:00:00-05:00\",\"2017-02-21T00:00:00-05:00\",\"2017-02-22T00:00:00-05:00\",\"2017-02-23T00:00:00-05:00\",\"2017-02-24T00:00:00-05:00\",\"2017-02-27T00:00:00-05:00\",\"2017-02-28T00:00:00-05:00\",\"2017-03-01T00:00:00-05:00\",\"2017-03-02T00:00:00-05:00\",\"2017-03-03T00:00:00-05:00\",\"2017-03-06T00:00:00-05:00\",\"2017-03-07T00:00:00-05:00\",\"2017-03-08T00:00:00-05:00\",\"2017-03-09T00:00:00-05:00\",\"2017-03-10T00:00:00-05:00\",\"2017-03-13T00:00:00-04:00\",\"2017-03-14T00:00:00-04:00\",\"2017-03-15T00:00:00-04:00\",\"2017-03-16T00:00:00-04:00\",\"2017-03-17T00:00:00-04:00\",\"2017-03-20T00:00:00-04:00\",\"2017-03-21T00:00:00-04:00\",\"2017-03-22T00:00:00-04:00\",\"2017-03-23T00:00:00-04:00\",\"2017-03-24T00:00:00-04:00\",\"2017-03-27T00:00:00-04:00\",\"2017-03-28T00:00:00-04:00\",\"2017-03-29T00:00:00-04:00\",\"2017-03-30T00:00:00-04:00\",\"2017-03-31T00:00:00-04:00\",\"2017-04-03T00:00:00-04:00\",\"2017-04-04T00:00:00-04:00\",\"2017-04-05T00:00:00-04:00\",\"2017-04-06T00:00:00-04:00\",\"2017-04-07T00:00:00-04:00\",\"2017-04-10T00:00:00-04:00\",\"2017-04-11T00:00:00-04:00\",\"2017-04-12T00:00:00-04:00\",\"2017-04-13T00:00:00-04:00\",\"2017-04-17T00:00:00-04:00\",\"2017-04-18T00:00:00-04:00\",\"2017-04-19T00:00:00-04:00\",\"2017-04-20T00:00:00-04:00\",\"2017-04-21T00:00:00-04:00\",\"2017-04-24T00:00:00-04:00\",\"2017-04-25T00:00:00-04:00\",\"2017-04-26T00:00:00-04:00\",\"2017-04-27T00:00:00-04:00\",\"2017-04-28T00:00:00-04:00\",\"2017-05-01T00:00:00-04:00\",\"2017-05-02T00:00:00-04:00\",\"2017-05-03T00:00:00-04:00\",\"2017-05-04T00:00:00-04:00\",\"2017-05-05T00:00:00-04:00\",\"2017-05-08T00:00:00-04:00\",\"2017-05-09T00:00:00-04:00\",\"2017-05-10T00:00:00-04:00\",\"2017-05-11T00:00:00-04:00\",\"2017-05-12T00:00:00-04:00\",\"2017-05-15T00:00:00-04:00\",\"2017-05-16T00:00:00-04:00\",\"2017-05-17T00:00:00-04:00\",\"2017-05-18T00:00:00-04:00\",\"2017-05-19T00:00:00-04:00\",\"2017-05-22T00:00:00-04:00\",\"2017-05-23T00:00:00-04:00\",\"2017-05-24T00:00:00-04:00\",\"2017-05-25T00:00:00-04:00\",\"2017-05-26T00:00:00-04:00\",\"2017-05-30T00:00:00-04:00\",\"2017-05-31T00:00:00-04:00\",\"2017-06-01T00:00:00-04:00\",\"2017-06-02T00:00:00-04:00\",\"2017-06-05T00:00:00-04:00\",\"2017-06-06T00:00:00-04:00\",\"2017-06-07T00:00:00-04:00\",\"2017-06-08T00:00:00-04:00\",\"2017-06-09T00:00:00-04:00\",\"2017-06-12T00:00:00-04:00\",\"2017-06-13T00:00:00-04:00\",\"2017-06-14T00:00:00-04:00\",\"2017-06-15T00:00:00-04:00\",\"2017-06-16T00:00:00-04:00\",\"2017-06-19T00:00:00-04:00\",\"2017-06-20T00:00:00-04:00\",\"2017-06-21T00:00:00-04:00\",\"2017-06-22T00:00:00-04:00\",\"2017-06-23T00:00:00-04:00\",\"2017-06-26T00:00:00-04:00\",\"2017-06-27T00:00:00-04:00\",\"2017-06-28T00:00:00-04:00\",\"2017-06-29T00:00:00-04:00\",\"2017-06-30T00:00:00-04:00\",\"2017-07-03T00:00:00-04:00\",\"2017-07-05T00:00:00-04:00\",\"2017-07-06T00:00:00-04:00\",\"2017-07-07T00:00:00-04:00\",\"2017-07-10T00:00:00-04:00\",\"2017-07-11T00:00:00-04:00\",\"2017-07-12T00:00:00-04:00\",\"2017-07-13T00:00:00-04:00\",\"2017-07-14T00:00:00-04:00\",\"2017-07-17T00:00:00-04:00\",\"2017-07-18T00:00:00-04:00\",\"2017-07-19T00:00:00-04:00\",\"2017-07-20T00:00:00-04:00\",\"2017-07-21T00:00:00-04:00\",\"2017-07-24T00:00:00-04:00\",\"2017-07-25T00:00:00-04:00\",\"2017-07-26T00:00:00-04:00\",\"2017-07-27T00:00:00-04:00\",\"2017-07-28T00:00:00-04:00\",\"2017-07-31T00:00:00-04:00\",\"2017-08-01T00:00:00-04:00\",\"2017-08-02T00:00:00-04:00\",\"2017-08-03T00:00:00-04:00\",\"2017-08-04T00:00:00-04:00\",\"2017-08-07T00:00:00-04:00\",\"2017-08-08T00:00:00-04:00\",\"2017-08-09T00:00:00-04:00\",\"2017-08-10T00:00:00-04:00\",\"2017-08-11T00:00:00-04:00\",\"2017-08-14T00:00:00-04:00\",\"2017-08-15T00:00:00-04:00\",\"2017-08-16T00:00:00-04:00\",\"2017-08-17T00:00:00-04:00\",\"2017-08-18T00:00:00-04:00\",\"2017-08-21T00:00:00-04:00\",\"2017-08-22T00:00:00-04:00\",\"2017-08-23T00:00:00-04:00\",\"2017-08-24T00:00:00-04:00\",\"2017-08-25T00:00:00-04:00\",\"2017-08-28T00:00:00-04:00\",\"2017-08-29T00:00:00-04:00\",\"2017-08-30T00:00:00-04:00\",\"2017-08-31T00:00:00-04:00\",\"2017-09-01T00:00:00-04:00\",\"2017-09-05T00:00:00-04:00\",\"2017-09-06T00:00:00-04:00\",\"2017-09-07T00:00:00-04:00\",\"2017-09-08T00:00:00-04:00\",\"2017-09-11T00:00:00-04:00\",\"2017-09-12T00:00:00-04:00\",\"2017-09-13T00:00:00-04:00\",\"2017-09-14T00:00:00-04:00\",\"2017-09-15T00:00:00-04:00\",\"2017-09-18T00:00:00-04:00\",\"2017-09-19T00:00:00-04:00\",\"2017-09-20T00:00:00-04:00\",\"2017-09-21T00:00:00-04:00\",\"2017-09-22T00:00:00-04:00\",\"2017-09-25T00:00:00-04:00\",\"2017-09-26T00:00:00-04:00\",\"2017-09-27T00:00:00-04:00\",\"2017-09-28T00:00:00-04:00\",\"2017-09-29T00:00:00-04:00\",\"2017-10-02T00:00:00-04:00\",\"2017-10-03T00:00:00-04:00\",\"2017-10-04T00:00:00-04:00\",\"2017-10-05T00:00:00-04:00\",\"2017-10-06T00:00:00-04:00\",\"2017-10-09T00:00:00-04:00\",\"2017-10-10T00:00:00-04:00\",\"2017-10-11T00:00:00-04:00\",\"2017-10-12T00:00:00-04:00\",\"2017-10-13T00:00:00-04:00\",\"2017-10-16T00:00:00-04:00\",\"2017-10-17T00:00:00-04:00\",\"2017-10-18T00:00:00-04:00\",\"2017-10-19T00:00:00-04:00\",\"2017-10-20T00:00:00-04:00\",\"2017-10-23T00:00:00-04:00\",\"2017-10-24T00:00:00-04:00\",\"2017-10-25T00:00:00-04:00\",\"2017-10-26T00:00:00-04:00\",\"2017-10-27T00:00:00-04:00\",\"2017-10-30T00:00:00-04:00\",\"2017-10-31T00:00:00-04:00\",\"2017-11-01T00:00:00-04:00\",\"2017-11-02T00:00:00-04:00\",\"2017-11-03T00:00:00-04:00\",\"2017-11-06T00:00:00-05:00\",\"2017-11-07T00:00:00-05:00\",\"2017-11-08T00:00:00-05:00\",\"2017-11-09T00:00:00-05:00\",\"2017-11-10T00:00:00-05:00\",\"2017-11-13T00:00:00-05:00\",\"2017-11-14T00:00:00-05:00\",\"2017-11-15T00:00:00-05:00\",\"2017-11-16T00:00:00-05:00\",\"2017-11-17T00:00:00-05:00\",\"2017-11-20T00:00:00-05:00\",\"2017-11-21T00:00:00-05:00\",\"2017-11-22T00:00:00-05:00\",\"2017-11-24T00:00:00-05:00\",\"2017-11-27T00:00:00-05:00\",\"2017-11-28T00:00:00-05:00\",\"2017-11-29T00:00:00-05:00\",\"2017-11-30T00:00:00-05:00\",\"2017-12-01T00:00:00-05:00\",\"2017-12-04T00:00:00-05:00\",\"2017-12-05T00:00:00-05:00\",\"2017-12-06T00:00:00-05:00\",\"2017-12-07T00:00:00-05:00\",\"2017-12-08T00:00:00-05:00\",\"2017-12-11T00:00:00-05:00\",\"2017-12-12T00:00:00-05:00\",\"2017-12-13T00:00:00-05:00\",\"2017-12-14T00:00:00-05:00\",\"2017-12-15T00:00:00-05:00\",\"2017-12-18T00:00:00-05:00\",\"2017-12-19T00:00:00-05:00\",\"2017-12-20T00:00:00-05:00\",\"2017-12-21T00:00:00-05:00\",\"2017-12-22T00:00:00-05:00\",\"2017-12-26T00:00:00-05:00\",\"2017-12-27T00:00:00-05:00\",\"2017-12-28T00:00:00-05:00\",\"2017-12-29T00:00:00-05:00\",\"2018-01-02T00:00:00-05:00\",\"2018-01-03T00:00:00-05:00\",\"2018-01-04T00:00:00-05:00\",\"2018-01-05T00:00:00-05:00\",\"2018-01-08T00:00:00-05:00\",\"2018-01-09T00:00:00-05:00\",\"2018-01-10T00:00:00-05:00\",\"2018-01-11T00:00:00-05:00\",\"2018-01-12T00:00:00-05:00\",\"2018-01-16T00:00:00-05:00\",\"2018-01-17T00:00:00-05:00\",\"2018-01-18T00:00:00-05:00\",\"2018-01-19T00:00:00-05:00\",\"2018-01-22T00:00:00-05:00\",\"2018-01-23T00:00:00-05:00\",\"2018-01-24T00:00:00-05:00\",\"2018-01-25T00:00:00-05:00\",\"2018-01-26T00:00:00-05:00\",\"2018-01-29T00:00:00-05:00\",\"2018-01-30T00:00:00-05:00\",\"2018-01-31T00:00:00-05:00\",\"2018-02-01T00:00:00-05:00\",\"2018-02-02T00:00:00-05:00\",\"2018-02-05T00:00:00-05:00\",\"2018-02-06T00:00:00-05:00\",\"2018-02-07T00:00:00-05:00\",\"2018-02-08T00:00:00-05:00\",\"2018-02-09T00:00:00-05:00\",\"2018-02-12T00:00:00-05:00\",\"2018-02-13T00:00:00-05:00\",\"2018-02-14T00:00:00-05:00\",\"2018-02-15T00:00:00-05:00\",\"2018-02-16T00:00:00-05:00\",\"2018-02-20T00:00:00-05:00\",\"2018-02-21T00:00:00-05:00\",\"2018-02-22T00:00:00-05:00\",\"2018-02-23T00:00:00-05:00\",\"2018-02-26T00:00:00-05:00\",\"2018-02-27T00:00:00-05:00\",\"2018-02-28T00:00:00-05:00\",\"2018-03-01T00:00:00-05:00\",\"2018-03-02T00:00:00-05:00\",\"2018-03-05T00:00:00-05:00\",\"2018-03-06T00:00:00-05:00\",\"2018-03-07T00:00:00-05:00\",\"2018-03-08T00:00:00-05:00\",\"2018-03-09T00:00:00-05:00\",\"2018-03-12T00:00:00-04:00\",\"2018-03-13T00:00:00-04:00\",\"2018-03-14T00:00:00-04:00\",\"2018-03-15T00:00:00-04:00\",\"2018-03-16T00:00:00-04:00\",\"2018-03-19T00:00:00-04:00\",\"2018-03-20T00:00:00-04:00\",\"2018-03-21T00:00:00-04:00\",\"2018-03-22T00:00:00-04:00\",\"2018-03-23T00:00:00-04:00\",\"2018-03-26T00:00:00-04:00\",\"2018-03-27T00:00:00-04:00\",\"2018-03-28T00:00:00-04:00\",\"2018-03-29T00:00:00-04:00\",\"2018-04-02T00:00:00-04:00\",\"2018-04-03T00:00:00-04:00\",\"2018-04-04T00:00:00-04:00\",\"2018-04-05T00:00:00-04:00\",\"2018-04-06T00:00:00-04:00\",\"2018-04-09T00:00:00-04:00\",\"2018-04-10T00:00:00-04:00\",\"2018-04-11T00:00:00-04:00\",\"2018-04-12T00:00:00-04:00\",\"2018-04-13T00:00:00-04:00\",\"2018-04-16T00:00:00-04:00\",\"2018-04-17T00:00:00-04:00\",\"2018-04-18T00:00:00-04:00\",\"2018-04-19T00:00:00-04:00\",\"2018-04-20T00:00:00-04:00\",\"2018-04-23T00:00:00-04:00\",\"2018-04-24T00:00:00-04:00\",\"2018-04-25T00:00:00-04:00\",\"2018-04-26T00:00:00-04:00\",\"2018-04-27T00:00:00-04:00\",\"2018-04-30T00:00:00-04:00\",\"2018-05-01T00:00:00-04:00\",\"2018-05-02T00:00:00-04:00\",\"2018-05-03T00:00:00-04:00\",\"2018-05-04T00:00:00-04:00\",\"2018-05-07T00:00:00-04:00\",\"2018-05-08T00:00:00-04:00\",\"2018-05-09T00:00:00-04:00\",\"2018-05-10T00:00:00-04:00\",\"2018-05-11T00:00:00-04:00\",\"2018-05-14T00:00:00-04:00\",\"2018-05-15T00:00:00-04:00\",\"2018-05-16T00:00:00-04:00\",\"2018-05-17T00:00:00-04:00\",\"2018-05-18T00:00:00-04:00\",\"2018-05-21T00:00:00-04:00\",\"2018-05-22T00:00:00-04:00\",\"2018-05-23T00:00:00-04:00\",\"2018-05-24T00:00:00-04:00\",\"2018-05-25T00:00:00-04:00\",\"2018-05-29T00:00:00-04:00\",\"2018-05-30T00:00:00-04:00\",\"2018-05-31T00:00:00-04:00\",\"2018-06-01T00:00:00-04:00\",\"2018-06-04T00:00:00-04:00\",\"2018-06-05T00:00:00-04:00\",\"2018-06-06T00:00:00-04:00\",\"2018-06-07T00:00:00-04:00\",\"2018-06-08T00:00:00-04:00\",\"2018-06-11T00:00:00-04:00\",\"2018-06-12T00:00:00-04:00\",\"2018-06-13T00:00:00-04:00\",\"2018-06-14T00:00:00-04:00\",\"2018-06-15T00:00:00-04:00\",\"2018-06-18T00:00:00-04:00\",\"2018-06-19T00:00:00-04:00\",\"2018-06-20T00:00:00-04:00\",\"2018-06-21T00:00:00-04:00\",\"2018-06-22T00:00:00-04:00\",\"2018-06-25T00:00:00-04:00\",\"2018-06-26T00:00:00-04:00\",\"2018-06-27T00:00:00-04:00\",\"2018-06-28T00:00:00-04:00\",\"2018-06-29T00:00:00-04:00\",\"2018-07-02T00:00:00-04:00\",\"2018-07-03T00:00:00-04:00\",\"2018-07-05T00:00:00-04:00\",\"2018-07-06T00:00:00-04:00\",\"2018-07-09T00:00:00-04:00\",\"2018-07-10T00:00:00-04:00\",\"2018-07-11T00:00:00-04:00\",\"2018-07-12T00:00:00-04:00\",\"2018-07-13T00:00:00-04:00\",\"2018-07-16T00:00:00-04:00\",\"2018-07-17T00:00:00-04:00\",\"2018-07-18T00:00:00-04:00\",\"2018-07-19T00:00:00-04:00\",\"2018-07-20T00:00:00-04:00\",\"2018-07-23T00:00:00-04:00\",\"2018-07-24T00:00:00-04:00\",\"2018-07-25T00:00:00-04:00\",\"2018-07-26T00:00:00-04:00\",\"2018-07-27T00:00:00-04:00\",\"2018-07-30T00:00:00-04:00\",\"2018-07-31T00:00:00-04:00\",\"2018-08-01T00:00:00-04:00\",\"2018-08-02T00:00:00-04:00\",\"2018-08-03T00:00:00-04:00\",\"2018-08-06T00:00:00-04:00\",\"2018-08-07T00:00:00-04:00\",\"2018-08-08T00:00:00-04:00\",\"2018-08-09T00:00:00-04:00\",\"2018-08-10T00:00:00-04:00\",\"2018-08-13T00:00:00-04:00\",\"2018-08-14T00:00:00-04:00\",\"2018-08-15T00:00:00-04:00\",\"2018-08-16T00:00:00-04:00\",\"2018-08-17T00:00:00-04:00\",\"2018-08-20T00:00:00-04:00\",\"2018-08-21T00:00:00-04:00\",\"2018-08-22T00:00:00-04:00\",\"2018-08-23T00:00:00-04:00\",\"2018-08-24T00:00:00-04:00\",\"2018-08-27T00:00:00-04:00\",\"2018-08-28T00:00:00-04:00\",\"2018-08-29T00:00:00-04:00\",\"2018-08-30T00:00:00-04:00\",\"2018-08-31T00:00:00-04:00\",\"2018-09-04T00:00:00-04:00\",\"2018-09-05T00:00:00-04:00\",\"2018-09-06T00:00:00-04:00\",\"2018-09-07T00:00:00-04:00\",\"2018-09-10T00:00:00-04:00\",\"2018-09-11T00:00:00-04:00\",\"2018-09-12T00:00:00-04:00\",\"2018-09-13T00:00:00-04:00\",\"2018-09-14T00:00:00-04:00\",\"2018-09-17T00:00:00-04:00\",\"2018-09-18T00:00:00-04:00\",\"2018-09-19T00:00:00-04:00\",\"2018-09-20T00:00:00-04:00\",\"2018-09-21T00:00:00-04:00\",\"2018-09-24T00:00:00-04:00\",\"2018-09-25T00:00:00-04:00\",\"2018-09-26T00:00:00-04:00\",\"2018-09-27T00:00:00-04:00\",\"2018-09-28T00:00:00-04:00\",\"2018-10-01T00:00:00-04:00\",\"2018-10-02T00:00:00-04:00\",\"2018-10-03T00:00:00-04:00\",\"2018-10-04T00:00:00-04:00\",\"2018-10-05T00:00:00-04:00\",\"2018-10-08T00:00:00-04:00\",\"2018-10-09T00:00:00-04:00\",\"2018-10-10T00:00:00-04:00\",\"2018-10-11T00:00:00-04:00\",\"2018-10-12T00:00:00-04:00\",\"2018-10-15T00:00:00-04:00\",\"2018-10-16T00:00:00-04:00\",\"2018-10-17T00:00:00-04:00\",\"2018-10-18T00:00:00-04:00\",\"2018-10-19T00:00:00-04:00\",\"2018-10-22T00:00:00-04:00\",\"2018-10-23T00:00:00-04:00\",\"2018-10-24T00:00:00-04:00\",\"2018-10-25T00:00:00-04:00\",\"2018-10-26T00:00:00-04:00\",\"2018-10-29T00:00:00-04:00\",\"2018-10-30T00:00:00-04:00\",\"2018-10-31T00:00:00-04:00\",\"2018-11-01T00:00:00-04:00\",\"2018-11-02T00:00:00-04:00\",\"2018-11-05T00:00:00-05:00\",\"2018-11-06T00:00:00-05:00\",\"2018-11-07T00:00:00-05:00\",\"2018-11-08T00:00:00-05:00\",\"2018-11-09T00:00:00-05:00\",\"2018-11-12T00:00:00-05:00\",\"2018-11-13T00:00:00-05:00\",\"2018-11-14T00:00:00-05:00\",\"2018-11-15T00:00:00-05:00\",\"2018-11-16T00:00:00-05:00\",\"2018-11-19T00:00:00-05:00\",\"2018-11-20T00:00:00-05:00\",\"2018-11-21T00:00:00-05:00\",\"2018-11-23T00:00:00-05:00\",\"2018-11-26T00:00:00-05:00\",\"2018-11-27T00:00:00-05:00\",\"2018-11-28T00:00:00-05:00\",\"2018-11-29T00:00:00-05:00\",\"2018-11-30T00:00:00-05:00\",\"2018-12-03T00:00:00-05:00\",\"2018-12-04T00:00:00-05:00\",\"2018-12-06T00:00:00-05:00\",\"2018-12-07T00:00:00-05:00\",\"2018-12-10T00:00:00-05:00\",\"2018-12-11T00:00:00-05:00\",\"2018-12-12T00:00:00-05:00\",\"2018-12-13T00:00:00-05:00\",\"2018-12-14T00:00:00-05:00\",\"2018-12-17T00:00:00-05:00\",\"2018-12-18T00:00:00-05:00\",\"2018-12-19T00:00:00-05:00\",\"2018-12-20T00:00:00-05:00\",\"2018-12-21T00:00:00-05:00\",\"2018-12-24T00:00:00-05:00\",\"2018-12-26T00:00:00-05:00\",\"2018-12-27T00:00:00-05:00\",\"2018-12-28T00:00:00-05:00\",\"2018-12-31T00:00:00-05:00\",\"2019-01-02T00:00:00-05:00\",\"2019-01-03T00:00:00-05:00\",\"2019-01-04T00:00:00-05:00\",\"2019-01-07T00:00:00-05:00\",\"2019-01-08T00:00:00-05:00\",\"2019-01-09T00:00:00-05:00\",\"2019-01-10T00:00:00-05:00\",\"2019-01-11T00:00:00-05:00\",\"2019-01-14T00:00:00-05:00\",\"2019-01-15T00:00:00-05:00\",\"2019-01-16T00:00:00-05:00\",\"2019-01-17T00:00:00-05:00\",\"2019-01-18T00:00:00-05:00\",\"2019-01-22T00:00:00-05:00\",\"2019-01-23T00:00:00-05:00\",\"2019-01-24T00:00:00-05:00\",\"2019-01-25T00:00:00-05:00\",\"2019-01-28T00:00:00-05:00\",\"2019-01-29T00:00:00-05:00\",\"2019-01-30T00:00:00-05:00\",\"2019-01-31T00:00:00-05:00\",\"2019-02-01T00:00:00-05:00\",\"2019-02-04T00:00:00-05:00\",\"2019-02-05T00:00:00-05:00\",\"2019-02-06T00:00:00-05:00\",\"2019-02-07T00:00:00-05:00\",\"2019-02-08T00:00:00-05:00\",\"2019-02-11T00:00:00-05:00\",\"2019-02-12T00:00:00-05:00\",\"2019-02-13T00:00:00-05:00\",\"2019-02-14T00:00:00-05:00\",\"2019-02-15T00:00:00-05:00\",\"2019-02-19T00:00:00-05:00\",\"2019-02-20T00:00:00-05:00\",\"2019-02-21T00:00:00-05:00\",\"2019-02-22T00:00:00-05:00\",\"2019-02-25T00:00:00-05:00\",\"2019-02-26T00:00:00-05:00\",\"2019-02-27T00:00:00-05:00\",\"2019-02-28T00:00:00-05:00\",\"2019-03-01T00:00:00-05:00\",\"2019-03-04T00:00:00-05:00\",\"2019-03-05T00:00:00-05:00\",\"2019-03-06T00:00:00-05:00\",\"2019-03-07T00:00:00-05:00\",\"2019-03-08T00:00:00-05:00\",\"2019-03-11T00:00:00-04:00\",\"2019-03-12T00:00:00-04:00\",\"2019-03-13T00:00:00-04:00\",\"2019-03-14T00:00:00-04:00\",\"2019-03-15T00:00:00-04:00\",\"2019-03-18T00:00:00-04:00\",\"2019-03-19T00:00:00-04:00\",\"2019-03-20T00:00:00-04:00\",\"2019-03-21T00:00:00-04:00\",\"2019-03-22T00:00:00-04:00\",\"2019-03-25T00:00:00-04:00\",\"2019-03-26T00:00:00-04:00\",\"2019-03-27T00:00:00-04:00\",\"2019-03-28T00:00:00-04:00\",\"2019-03-29T00:00:00-04:00\",\"2019-04-01T00:00:00-04:00\",\"2019-04-02T00:00:00-04:00\",\"2019-04-03T00:00:00-04:00\",\"2019-04-04T00:00:00-04:00\",\"2019-04-05T00:00:00-04:00\",\"2019-04-08T00:00:00-04:00\",\"2019-04-09T00:00:00-04:00\",\"2019-04-10T00:00:00-04:00\",\"2019-04-11T00:00:00-04:00\",\"2019-04-12T00:00:00-04:00\",\"2019-04-15T00:00:00-04:00\",\"2019-04-16T00:00:00-04:00\",\"2019-04-17T00:00:00-04:00\",\"2019-04-18T00:00:00-04:00\",\"2019-04-22T00:00:00-04:00\",\"2019-04-23T00:00:00-04:00\",\"2019-04-24T00:00:00-04:00\",\"2019-04-25T00:00:00-04:00\",\"2019-04-26T00:00:00-04:00\",\"2019-04-29T00:00:00-04:00\",\"2019-04-30T00:00:00-04:00\",\"2019-05-01T00:00:00-04:00\",\"2019-05-02T00:00:00-04:00\",\"2019-05-03T00:00:00-04:00\",\"2019-05-06T00:00:00-04:00\",\"2019-05-07T00:00:00-04:00\",\"2019-05-08T00:00:00-04:00\",\"2019-05-09T00:00:00-04:00\",\"2019-05-10T00:00:00-04:00\",\"2019-05-13T00:00:00-04:00\",\"2019-05-14T00:00:00-04:00\",\"2019-05-15T00:00:00-04:00\",\"2019-05-16T00:00:00-04:00\",\"2019-05-17T00:00:00-04:00\",\"2019-05-20T00:00:00-04:00\",\"2019-05-21T00:00:00-04:00\",\"2019-05-22T00:00:00-04:00\",\"2019-05-23T00:00:00-04:00\",\"2019-05-24T00:00:00-04:00\",\"2019-05-28T00:00:00-04:00\",\"2019-05-29T00:00:00-04:00\",\"2019-05-30T00:00:00-04:00\",\"2019-05-31T00:00:00-04:00\",\"2019-06-03T00:00:00-04:00\",\"2019-06-04T00:00:00-04:00\",\"2019-06-05T00:00:00-04:00\",\"2019-06-06T00:00:00-04:00\",\"2019-06-07T00:00:00-04:00\",\"2019-06-10T00:00:00-04:00\",\"2019-06-11T00:00:00-04:00\",\"2019-06-12T00:00:00-04:00\",\"2019-06-13T00:00:00-04:00\",\"2019-06-14T00:00:00-04:00\",\"2019-06-17T00:00:00-04:00\",\"2019-06-18T00:00:00-04:00\",\"2019-06-19T00:00:00-04:00\",\"2019-06-20T00:00:00-04:00\",\"2019-06-21T00:00:00-04:00\",\"2019-06-24T00:00:00-04:00\",\"2019-06-25T00:00:00-04:00\",\"2019-06-26T00:00:00-04:00\",\"2019-06-27T00:00:00-04:00\",\"2019-06-28T00:00:00-04:00\",\"2019-07-01T00:00:00-04:00\",\"2019-07-02T00:00:00-04:00\",\"2019-07-03T00:00:00-04:00\",\"2019-07-05T00:00:00-04:00\",\"2019-07-08T00:00:00-04:00\",\"2019-07-09T00:00:00-04:00\",\"2019-07-10T00:00:00-04:00\",\"2019-07-11T00:00:00-04:00\",\"2019-07-12T00:00:00-04:00\",\"2019-07-15T00:00:00-04:00\",\"2019-07-16T00:00:00-04:00\",\"2019-07-17T00:00:00-04:00\",\"2019-07-18T00:00:00-04:00\",\"2019-07-19T00:00:00-04:00\",\"2019-07-22T00:00:00-04:00\",\"2019-07-23T00:00:00-04:00\",\"2019-07-24T00:00:00-04:00\",\"2019-07-25T00:00:00-04:00\",\"2019-07-26T00:00:00-04:00\",\"2019-07-29T00:00:00-04:00\",\"2019-07-30T00:00:00-04:00\",\"2019-07-31T00:00:00-04:00\",\"2019-08-01T00:00:00-04:00\",\"2019-08-02T00:00:00-04:00\",\"2019-08-05T00:00:00-04:00\",\"2019-08-06T00:00:00-04:00\",\"2019-08-07T00:00:00-04:00\",\"2019-08-08T00:00:00-04:00\",\"2019-08-09T00:00:00-04:00\",\"2019-08-12T00:00:00-04:00\",\"2019-08-13T00:00:00-04:00\",\"2019-08-14T00:00:00-04:00\",\"2019-08-15T00:00:00-04:00\",\"2019-08-16T00:00:00-04:00\",\"2019-08-19T00:00:00-04:00\",\"2019-08-20T00:00:00-04:00\",\"2019-08-21T00:00:00-04:00\",\"2019-08-22T00:00:00-04:00\",\"2019-08-23T00:00:00-04:00\",\"2019-08-26T00:00:00-04:00\",\"2019-08-27T00:00:00-04:00\",\"2019-08-28T00:00:00-04:00\",\"2019-08-29T00:00:00-04:00\",\"2019-08-30T00:00:00-04:00\",\"2019-09-03T00:00:00-04:00\",\"2019-09-04T00:00:00-04:00\",\"2019-09-05T00:00:00-04:00\",\"2019-09-06T00:00:00-04:00\",\"2019-09-09T00:00:00-04:00\",\"2019-09-10T00:00:00-04:00\",\"2019-09-11T00:00:00-04:00\",\"2019-09-12T00:00:00-04:00\",\"2019-09-13T00:00:00-04:00\",\"2019-09-16T00:00:00-04:00\",\"2019-09-17T00:00:00-04:00\",\"2019-09-18T00:00:00-04:00\",\"2019-09-19T00:00:00-04:00\",\"2019-09-20T00:00:00-04:00\",\"2019-09-23T00:00:00-04:00\",\"2019-09-24T00:00:00-04:00\",\"2019-09-25T00:00:00-04:00\",\"2019-09-26T00:00:00-04:00\",\"2019-09-27T00:00:00-04:00\",\"2019-09-30T00:00:00-04:00\",\"2019-10-01T00:00:00-04:00\",\"2019-10-02T00:00:00-04:00\",\"2019-10-03T00:00:00-04:00\",\"2019-10-04T00:00:00-04:00\",\"2019-10-07T00:00:00-04:00\",\"2019-10-08T00:00:00-04:00\",\"2019-10-09T00:00:00-04:00\",\"2019-10-10T00:00:00-04:00\",\"2019-10-11T00:00:00-04:00\",\"2019-10-14T00:00:00-04:00\",\"2019-10-15T00:00:00-04:00\",\"2019-10-16T00:00:00-04:00\",\"2019-10-17T00:00:00-04:00\",\"2019-10-18T00:00:00-04:00\",\"2019-10-21T00:00:00-04:00\",\"2019-10-22T00:00:00-04:00\",\"2019-10-23T00:00:00-04:00\",\"2019-10-24T00:00:00-04:00\",\"2019-10-25T00:00:00-04:00\",\"2019-10-28T00:00:00-04:00\",\"2019-10-29T00:00:00-04:00\",\"2019-10-30T00:00:00-04:00\",\"2019-10-31T00:00:00-04:00\",\"2019-11-01T00:00:00-04:00\",\"2019-11-04T00:00:00-05:00\",\"2019-11-05T00:00:00-05:00\",\"2019-11-06T00:00:00-05:00\",\"2019-11-07T00:00:00-05:00\",\"2019-11-08T00:00:00-05:00\",\"2019-11-11T00:00:00-05:00\",\"2019-11-12T00:00:00-05:00\",\"2019-11-13T00:00:00-05:00\",\"2019-11-14T00:00:00-05:00\",\"2019-11-15T00:00:00-05:00\",\"2019-11-18T00:00:00-05:00\",\"2019-11-19T00:00:00-05:00\",\"2019-11-20T00:00:00-05:00\",\"2019-11-21T00:00:00-05:00\",\"2019-11-22T00:00:00-05:00\",\"2019-11-25T00:00:00-05:00\",\"2019-11-26T00:00:00-05:00\",\"2019-11-27T00:00:00-05:00\",\"2019-11-29T00:00:00-05:00\",\"2019-12-02T00:00:00-05:00\",\"2019-12-03T00:00:00-05:00\",\"2019-12-04T00:00:00-05:00\",\"2019-12-05T00:00:00-05:00\",\"2019-12-06T00:00:00-05:00\",\"2019-12-09T00:00:00-05:00\",\"2019-12-10T00:00:00-05:00\",\"2019-12-11T00:00:00-05:00\",\"2019-12-12T00:00:00-05:00\",\"2019-12-13T00:00:00-05:00\",\"2019-12-16T00:00:00-05:00\",\"2019-12-17T00:00:00-05:00\",\"2019-12-18T00:00:00-05:00\",\"2019-12-19T00:00:00-05:00\",\"2019-12-20T00:00:00-05:00\",\"2019-12-23T00:00:00-05:00\",\"2019-12-24T00:00:00-05:00\",\"2019-12-26T00:00:00-05:00\",\"2019-12-27T00:00:00-05:00\",\"2019-12-30T00:00:00-05:00\",\"2019-12-31T00:00:00-05:00\",\"2020-01-02T00:00:00-05:00\",\"2020-01-03T00:00:00-05:00\",\"2020-01-06T00:00:00-05:00\",\"2020-01-07T00:00:00-05:00\",\"2020-01-08T00:00:00-05:00\",\"2020-01-09T00:00:00-05:00\",\"2020-01-10T00:00:00-05:00\",\"2020-01-13T00:00:00-05:00\",\"2020-01-14T00:00:00-05:00\",\"2020-01-15T00:00:00-05:00\",\"2020-01-16T00:00:00-05:00\",\"2020-01-17T00:00:00-05:00\",\"2020-01-21T00:00:00-05:00\",\"2020-01-22T00:00:00-05:00\",\"2020-01-23T00:00:00-05:00\",\"2020-01-24T00:00:00-05:00\",\"2020-01-27T00:00:00-05:00\",\"2020-01-28T00:00:00-05:00\",\"2020-01-29T00:00:00-05:00\",\"2020-01-30T00:00:00-05:00\",\"2020-01-31T00:00:00-05:00\",\"2020-02-03T00:00:00-05:00\",\"2020-02-04T00:00:00-05:00\",\"2020-02-05T00:00:00-05:00\",\"2020-02-06T00:00:00-05:00\",\"2020-02-07T00:00:00-05:00\",\"2020-02-10T00:00:00-05:00\",\"2020-02-11T00:00:00-05:00\",\"2020-02-12T00:00:00-05:00\",\"2020-02-13T00:00:00-05:00\",\"2020-02-14T00:00:00-05:00\",\"2020-02-18T00:00:00-05:00\",\"2020-02-19T00:00:00-05:00\",\"2020-02-20T00:00:00-05:00\",\"2020-02-21T00:00:00-05:00\",\"2020-02-24T00:00:00-05:00\",\"2020-02-25T00:00:00-05:00\",\"2020-02-26T00:00:00-05:00\",\"2020-02-27T00:00:00-05:00\",\"2020-02-28T00:00:00-05:00\",\"2020-03-02T00:00:00-05:00\",\"2020-03-03T00:00:00-05:00\",\"2020-03-04T00:00:00-05:00\",\"2020-03-05T00:00:00-05:00\",\"2020-03-06T00:00:00-05:00\",\"2020-03-09T00:00:00-04:00\",\"2020-03-10T00:00:00-04:00\",\"2020-03-11T00:00:00-04:00\",\"2020-03-12T00:00:00-04:00\",\"2020-03-13T00:00:00-04:00\",\"2020-03-16T00:00:00-04:00\",\"2020-03-17T00:00:00-04:00\",\"2020-03-18T00:00:00-04:00\",\"2020-03-19T00:00:00-04:00\",\"2020-03-20T00:00:00-04:00\",\"2020-03-23T00:00:00-04:00\",\"2020-03-24T00:00:00-04:00\",\"2020-03-25T00:00:00-04:00\",\"2020-03-26T00:00:00-04:00\",\"2020-03-27T00:00:00-04:00\",\"2020-03-30T00:00:00-04:00\",\"2020-03-31T00:00:00-04:00\",\"2020-04-01T00:00:00-04:00\",\"2020-04-02T00:00:00-04:00\",\"2020-04-03T00:00:00-04:00\",\"2020-04-06T00:00:00-04:00\",\"2020-04-07T00:00:00-04:00\",\"2020-04-08T00:00:00-04:00\",\"2020-04-09T00:00:00-04:00\",\"2020-04-13T00:00:00-04:00\",\"2020-04-14T00:00:00-04:00\",\"2020-04-15T00:00:00-04:00\",\"2020-04-16T00:00:00-04:00\",\"2020-04-17T00:00:00-04:00\",\"2020-04-20T00:00:00-04:00\",\"2020-04-21T00:00:00-04:00\",\"2020-04-22T00:00:00-04:00\",\"2020-04-23T00:00:00-04:00\",\"2020-04-24T00:00:00-04:00\",\"2020-04-27T00:00:00-04:00\",\"2020-04-28T00:00:00-04:00\",\"2020-04-29T00:00:00-04:00\",\"2020-04-30T00:00:00-04:00\",\"2020-05-01T00:00:00-04:00\",\"2020-05-04T00:00:00-04:00\",\"2020-05-05T00:00:00-04:00\",\"2020-05-06T00:00:00-04:00\",\"2020-05-07T00:00:00-04:00\",\"2020-05-08T00:00:00-04:00\",\"2020-05-11T00:00:00-04:00\",\"2020-05-12T00:00:00-04:00\",\"2020-05-13T00:00:00-04:00\",\"2020-05-14T00:00:00-04:00\",\"2020-05-15T00:00:00-04:00\",\"2020-05-18T00:00:00-04:00\",\"2020-05-19T00:00:00-04:00\",\"2020-05-20T00:00:00-04:00\",\"2020-05-21T00:00:00-04:00\",\"2020-05-22T00:00:00-04:00\",\"2020-05-26T00:00:00-04:00\",\"2020-05-27T00:00:00-04:00\",\"2020-05-28T00:00:00-04:00\",\"2020-05-29T00:00:00-04:00\",\"2020-06-01T00:00:00-04:00\",\"2020-06-02T00:00:00-04:00\",\"2020-06-03T00:00:00-04:00\",\"2020-06-04T00:00:00-04:00\",\"2020-06-05T00:00:00-04:00\",\"2020-06-08T00:00:00-04:00\",\"2020-06-09T00:00:00-04:00\",\"2020-06-10T00:00:00-04:00\",\"2020-06-11T00:00:00-04:00\",\"2020-06-12T00:00:00-04:00\",\"2020-06-15T00:00:00-04:00\",\"2020-06-16T00:00:00-04:00\",\"2020-06-17T00:00:00-04:00\",\"2020-06-18T00:00:00-04:00\",\"2020-06-19T00:00:00-04:00\",\"2020-06-22T00:00:00-04:00\",\"2020-06-23T00:00:00-04:00\",\"2020-06-24T00:00:00-04:00\",\"2020-06-25T00:00:00-04:00\",\"2020-06-26T00:00:00-04:00\",\"2020-06-29T00:00:00-04:00\",\"2020-06-30T00:00:00-04:00\",\"2020-07-01T00:00:00-04:00\",\"2020-07-02T00:00:00-04:00\",\"2020-07-06T00:00:00-04:00\",\"2020-07-07T00:00:00-04:00\",\"2020-07-08T00:00:00-04:00\",\"2020-07-09T00:00:00-04:00\",\"2020-07-10T00:00:00-04:00\",\"2020-07-13T00:00:00-04:00\",\"2020-07-14T00:00:00-04:00\",\"2020-07-15T00:00:00-04:00\",\"2020-07-16T00:00:00-04:00\",\"2020-07-17T00:00:00-04:00\",\"2020-07-20T00:00:00-04:00\",\"2020-07-21T00:00:00-04:00\",\"2020-07-22T00:00:00-04:00\",\"2020-07-23T00:00:00-04:00\",\"2020-07-24T00:00:00-04:00\",\"2020-07-27T00:00:00-04:00\",\"2020-07-28T00:00:00-04:00\",\"2020-07-29T00:00:00-04:00\",\"2020-07-30T00:00:00-04:00\",\"2020-07-31T00:00:00-04:00\",\"2020-08-03T00:00:00-04:00\",\"2020-08-04T00:00:00-04:00\",\"2020-08-05T00:00:00-04:00\",\"2020-08-06T00:00:00-04:00\",\"2020-08-07T00:00:00-04:00\",\"2020-08-10T00:00:00-04:00\",\"2020-08-11T00:00:00-04:00\",\"2020-08-12T00:00:00-04:00\",\"2020-08-13T00:00:00-04:00\",\"2020-08-14T00:00:00-04:00\",\"2020-08-17T00:00:00-04:00\",\"2020-08-18T00:00:00-04:00\",\"2020-08-19T00:00:00-04:00\",\"2020-08-20T00:00:00-04:00\",\"2020-08-21T00:00:00-04:00\",\"2020-08-24T00:00:00-04:00\",\"2020-08-25T00:00:00-04:00\",\"2020-08-26T00:00:00-04:00\",\"2020-08-27T00:00:00-04:00\",\"2020-08-28T00:00:00-04:00\",\"2020-08-31T00:00:00-04:00\",\"2020-09-01T00:00:00-04:00\",\"2020-09-02T00:00:00-04:00\",\"2020-09-03T00:00:00-04:00\",\"2020-09-04T00:00:00-04:00\",\"2020-09-08T00:00:00-04:00\",\"2020-09-09T00:00:00-04:00\",\"2020-09-10T00:00:00-04:00\",\"2020-09-11T00:00:00-04:00\",\"2020-09-14T00:00:00-04:00\",\"2020-09-15T00:00:00-04:00\",\"2020-09-16T00:00:00-04:00\",\"2020-09-17T00:00:00-04:00\",\"2020-09-18T00:00:00-04:00\",\"2020-09-21T00:00:00-04:00\",\"2020-09-22T00:00:00-04:00\",\"2020-09-23T00:00:00-04:00\",\"2020-09-24T00:00:00-04:00\",\"2020-09-25T00:00:00-04:00\",\"2020-09-28T00:00:00-04:00\",\"2020-09-29T00:00:00-04:00\",\"2020-09-30T00:00:00-04:00\",\"2020-10-01T00:00:00-04:00\",\"2020-10-02T00:00:00-04:00\",\"2020-10-05T00:00:00-04:00\",\"2020-10-06T00:00:00-04:00\",\"2020-10-07T00:00:00-04:00\",\"2020-10-08T00:00:00-04:00\",\"2020-10-09T00:00:00-04:00\",\"2020-10-12T00:00:00-04:00\",\"2020-10-13T00:00:00-04:00\",\"2020-10-14T00:00:00-04:00\",\"2020-10-15T00:00:00-04:00\",\"2020-10-16T00:00:00-04:00\",\"2020-10-19T00:00:00-04:00\",\"2020-10-20T00:00:00-04:00\",\"2020-10-21T00:00:00-04:00\",\"2020-10-22T00:00:00-04:00\",\"2020-10-23T00:00:00-04:00\",\"2020-10-26T00:00:00-04:00\",\"2020-10-27T00:00:00-04:00\",\"2020-10-28T00:00:00-04:00\",\"2020-10-29T00:00:00-04:00\",\"2020-10-30T00:00:00-04:00\",\"2020-11-02T00:00:00-05:00\",\"2020-11-03T00:00:00-05:00\",\"2020-11-04T00:00:00-05:00\",\"2020-11-05T00:00:00-05:00\",\"2020-11-06T00:00:00-05:00\",\"2020-11-09T00:00:00-05:00\",\"2020-11-10T00:00:00-05:00\",\"2020-11-11T00:00:00-05:00\",\"2020-11-12T00:00:00-05:00\",\"2020-11-13T00:00:00-05:00\",\"2020-11-16T00:00:00-05:00\",\"2020-11-17T00:00:00-05:00\",\"2020-11-18T00:00:00-05:00\",\"2020-11-19T00:00:00-05:00\",\"2020-11-20T00:00:00-05:00\",\"2020-11-23T00:00:00-05:00\",\"2020-11-24T00:00:00-05:00\",\"2020-11-25T00:00:00-05:00\",\"2020-11-27T00:00:00-05:00\",\"2020-11-30T00:00:00-05:00\",\"2020-12-01T00:00:00-05:00\",\"2020-12-02T00:00:00-05:00\",\"2020-12-03T00:00:00-05:00\",\"2020-12-04T00:00:00-05:00\",\"2020-12-07T00:00:00-05:00\",\"2020-12-08T00:00:00-05:00\",\"2020-12-09T00:00:00-05:00\",\"2020-12-10T00:00:00-05:00\",\"2020-12-11T00:00:00-05:00\",\"2020-12-14T00:00:00-05:00\",\"2020-12-15T00:00:00-05:00\",\"2020-12-16T00:00:00-05:00\",\"2020-12-17T00:00:00-05:00\",\"2020-12-18T00:00:00-05:00\",\"2020-12-21T00:00:00-05:00\",\"2020-12-22T00:00:00-05:00\",\"2020-12-23T00:00:00-05:00\",\"2020-12-24T00:00:00-05:00\",\"2020-12-28T00:00:00-05:00\",\"2020-12-29T00:00:00-05:00\",\"2020-12-30T00:00:00-05:00\",\"2020-12-31T00:00:00-05:00\",\"2021-01-04T00:00:00-05:00\",\"2021-01-05T00:00:00-05:00\",\"2021-01-06T00:00:00-05:00\",\"2021-01-07T00:00:00-05:00\",\"2021-01-08T00:00:00-05:00\",\"2021-01-11T00:00:00-05:00\",\"2021-01-12T00:00:00-05:00\",\"2021-01-13T00:00:00-05:00\",\"2021-01-14T00:00:00-05:00\",\"2021-01-15T00:00:00-05:00\",\"2021-01-19T00:00:00-05:00\",\"2021-01-20T00:00:00-05:00\",\"2021-01-21T00:00:00-05:00\",\"2021-01-22T00:00:00-05:00\",\"2021-01-25T00:00:00-05:00\",\"2021-01-26T00:00:00-05:00\",\"2021-01-27T00:00:00-05:00\",\"2021-01-28T00:00:00-05:00\",\"2021-01-29T00:00:00-05:00\",\"2021-02-01T00:00:00-05:00\",\"2021-02-02T00:00:00-05:00\",\"2021-02-03T00:00:00-05:00\",\"2021-02-04T00:00:00-05:00\",\"2021-02-05T00:00:00-05:00\",\"2021-02-08T00:00:00-05:00\",\"2021-02-09T00:00:00-05:00\",\"2021-02-10T00:00:00-05:00\",\"2021-02-11T00:00:00-05:00\",\"2021-02-12T00:00:00-05:00\",\"2021-02-16T00:00:00-05:00\",\"2021-02-17T00:00:00-05:00\",\"2021-02-18T00:00:00-05:00\",\"2021-02-19T00:00:00-05:00\",\"2021-02-22T00:00:00-05:00\",\"2021-02-23T00:00:00-05:00\",\"2021-02-24T00:00:00-05:00\",\"2021-02-25T00:00:00-05:00\",\"2021-02-26T00:00:00-05:00\",\"2021-03-01T00:00:00-05:00\",\"2021-03-02T00:00:00-05:00\",\"2021-03-03T00:00:00-05:00\",\"2021-03-04T00:00:00-05:00\",\"2021-03-05T00:00:00-05:00\",\"2021-03-08T00:00:00-05:00\",\"2021-03-09T00:00:00-05:00\",\"2021-03-10T00:00:00-05:00\",\"2021-03-11T00:00:00-05:00\",\"2021-03-12T00:00:00-05:00\",\"2021-03-15T00:00:00-04:00\",\"2021-03-16T00:00:00-04:00\",\"2021-03-17T00:00:00-04:00\",\"2021-03-18T00:00:00-04:00\",\"2021-03-19T00:00:00-04:00\",\"2021-03-22T00:00:00-04:00\",\"2021-03-23T00:00:00-04:00\",\"2021-03-24T00:00:00-04:00\",\"2021-03-25T00:00:00-04:00\",\"2021-03-26T00:00:00-04:00\",\"2021-03-29T00:00:00-04:00\",\"2021-03-30T00:00:00-04:00\",\"2021-03-31T00:00:00-04:00\",\"2021-04-01T00:00:00-04:00\",\"2021-04-05T00:00:00-04:00\",\"2021-04-06T00:00:00-04:00\",\"2021-04-07T00:00:00-04:00\",\"2021-04-08T00:00:00-04:00\",\"2021-04-09T00:00:00-04:00\",\"2021-04-12T00:00:00-04:00\",\"2021-04-13T00:00:00-04:00\",\"2021-04-14T00:00:00-04:00\",\"2021-04-15T00:00:00-04:00\",\"2021-04-16T00:00:00-04:00\",\"2021-04-19T00:00:00-04:00\",\"2021-04-20T00:00:00-04:00\",\"2021-04-21T00:00:00-04:00\",\"2021-04-22T00:00:00-04:00\",\"2021-04-23T00:00:00-04:00\",\"2021-04-26T00:00:00-04:00\",\"2021-04-27T00:00:00-04:00\",\"2021-04-28T00:00:00-04:00\",\"2021-04-29T00:00:00-04:00\",\"2021-04-30T00:00:00-04:00\",\"2021-05-03T00:00:00-04:00\",\"2021-05-04T00:00:00-04:00\",\"2021-05-05T00:00:00-04:00\",\"2021-05-06T00:00:00-04:00\",\"2021-05-07T00:00:00-04:00\",\"2021-05-10T00:00:00-04:00\",\"2021-05-11T00:00:00-04:00\",\"2021-05-12T00:00:00-04:00\",\"2021-05-13T00:00:00-04:00\",\"2021-05-14T00:00:00-04:00\",\"2021-05-17T00:00:00-04:00\",\"2021-05-18T00:00:00-04:00\",\"2021-05-19T00:00:00-04:00\",\"2021-05-20T00:00:00-04:00\",\"2021-05-21T00:00:00-04:00\",\"2021-05-24T00:00:00-04:00\",\"2021-05-25T00:00:00-04:00\",\"2021-05-26T00:00:00-04:00\",\"2021-05-27T00:00:00-04:00\",\"2021-05-28T00:00:00-04:00\",\"2021-06-01T00:00:00-04:00\",\"2021-06-02T00:00:00-04:00\",\"2021-06-03T00:00:00-04:00\",\"2021-06-04T00:00:00-04:00\",\"2021-06-07T00:00:00-04:00\",\"2021-06-08T00:00:00-04:00\",\"2021-06-09T00:00:00-04:00\",\"2021-06-10T00:00:00-04:00\",\"2021-06-11T00:00:00-04:00\",\"2021-06-14T00:00:00-04:00\"],\"y\":[1.5926669836044312,1.5886670351028442,1.4639999866485596,1.2799999713897705,1.0740000009536743,1.053333044052124,1.1640000343322754,1.159999966621399,1.136667013168335,1.2093329429626465,1.3226670026779175,1.3259999752044678,1.3760000467300415,1.4606670141220093,1.3533329963684082,1.3480000495910645,1.399999976158142,1.4193329811096191,1.3966670036315918,1.3700000047683716,1.3813329935073853,1.3566670417785645,1.329332947731018,1.3946670293807983,1.463333010673523,1.4173330068588257,1.363332986831665,1.305999994277954,1.3066669702529907,1.2686669826507568,1.1933330297470093,1.1733330488204956,1.2213330268859863,1.2519999742507935,1.2766669988632202,1.2513329982757568,1.25266695022583,1.273332953453064,1.3420000076293945,1.2799999713897705,1.3266669511795044,1.3166669607162476,1.3133330345153809,1.324666976928711,1.2986669540405273,1.363332986831665,1.4040000438690186,1.4033329486846924,1.369333028793335,1.3933329582214355,1.380666971206665,1.3446669578552246,1.3813329935073853,1.4079999923706055,1.4653329849243164,1.3960000276565552,1.348667025566101,1.4040000438690186,1.3846670389175415,1.324666976928711,1.3040000200271606,1.340000033378601,1.3686670064926147,1.4266669750213623,1.4653329849243164,1.3606669902801514,1.3733329772949219,1.3993330001831055,1.4079999923706055,1.3639999628067017,1.3619999885559082,1.3619999885559082,1.3493330478668213,1.3493330478668213,1.369333028793335,1.3833329677581787,1.369333028793335,1.348667025566101,1.3366669416427612,1.3766670227050781,1.3833329677581787,1.3813329935073853,1.3899999856948853,1.4240000247955322,1.399999976158142,1.4126670360565186,1.4559999704360962,1.4273329973220825,1.4166669845581055,1.4513330459594727,1.659999966621399,1.6293330192565918,1.6653330326080322,1.6419999599456787,1.957332968711853,1.869333028793335,1.9893330335617065,2.053333044052124,1.9780000448226929,1.965999960899353,1.9926669597625732,2.065999984741211,2.2266669273376465,2.3046669960021973,2.3646669387817383,2.3546669483184814,2.2886669635772705,2.355333089828491,2.2899999618530273,2.1566669940948486,2.0993330478668213,2.02066707611084,2.1040000915527344,2.1579999923706055,2.136667013168335,2.101332902908325,2.0366671085357666,1.9019999504089355,1.9733330011367798,2.053999900817871,2.0906670093536377,2.113332986831665,2.1506669521331787,2.175333023071289,2.00600004196167,1.7033330202102661,1.7606669664382935,1.848667025566101,1.7666670083999634,1.775333046913147,1.7746670246124268,1.777999997138977,1.7886669635772705,1.858667016029358,1.8826669454574585,1.8966670036315918,1.797333002090454,1.797333002090454,1.7480000257492065,1.7166670560836792,1.7093329429626465,1.6019999980926514,1.5080000162124634,1.5360000133514404,1.6326669454574585,1.6453330516815186,1.649999976158142,1.6613329648971558,1.6006669998168945,1.6066670417785645,1.593999981880188,1.5959999561309814,1.5753329992294312,1.5640000104904175,1.5379999876022339,1.6326669454574585,1.547333002090454,1.5479999780654907,1.5499999523162842,1.5386669635772705,1.5226670503616333,1.6486669778823853,1.5733330249786377,1.5453330278396606,1.4579999446868896,1.4553329944610596,1.5019999742507935,1.5740000009536743,1.5926669836044312,1.5959999561309814,1.6013330221176147,1.6239999532699585,1.6633330583572388,1.6626670360565186,1.6440000534057617,1.6480000019073486,1.6006669998168945,1.6046669483184814,1.5499999523162842,1.5299999713897705,1.5213329792022705,1.5206669569015503,1.5306669473648071,1.5153330564498901,1.4793330430984497,1.480666995048523,1.4886670112609863,1.5166670083999634,1.5499999523162842,1.5946669578552246,1.5806670188903809,1.850000023841858,1.7773330211639404,1.722000002861023,1.7799999713897705,1.7660000324249268,1.815999984741211,1.7660000324249268,1.6846669912338257,1.6433329582214355,1.6619999408721924,1.6759999990463257,1.7053329944610596,1.668666958808899,1.6773329973220825,1.7166670560836792,1.7826670408248901,1.7593330144882202,1.7953330278396606,1.8053330183029175,1.843999981880188,1.840000033378601,1.8300000429153442,1.7913329601287842,1.7793329954147339,1.762666940689087,1.8079999685287476,1.8606669902801514,1.8886669874191284,1.8046669960021973,1.8446669578552246,1.8366669416427612,1.773332953453064,1.730666995048523,1.7566670179367065,1.8799999952316284,1.8646670579910278,1.7879999876022339,1.7813329696655273,1.9320000410079956,1.9653329849243164,1.9700000286102295,2.0093328952789307,1.901332974433899,1.9173330068588257,2.0086669921875,1.9133330583572388,1.891332983970642,1.8079999685287476,1.841333031654358,1.8573329448699951,1.8953330516815186,1.9066669940948486,1.8213330507278442,1.7666670083999634,1.7666670083999634,1.7339999675750732,1.835332989692688,1.8140000104904175,1.8473329544067383,1.8380000591278076,1.8306670188903809,1.8739999532699585,1.8860000371932983,1.9420000314712524,1.9346669912338257,1.942667007446289,1.9306670427322388,1.9819999933242798,1.920667052268982,1.8899999856948853,1.878000020980835,1.9093329906463623,1.8406670093536377,1.8386670351028442,1.8153330087661743,1.8593330383300781,1.9126670360565186,1.9133330583572388,1.952666997909546,1.8993330001831055,1.8666670322418213,1.8426669836044312,1.878000020980835,1.878000020980835,1.9179999828338623,1.8226670026779175,1.8133330345153809,1.649999976158142,1.6160000562667847,1.5759999752044678,1.670667052268982,1.5880000591278076,1.6866669654846191,1.753999948501587,1.7486670017242432,1.7400000095367432,1.722000002861023,1.6173330545425415,1.4866670370101929,1.463333010673523,1.5306669473648071,1.591333031654358,1.5406670570373535,1.5820000171661377,1.647333025932312,1.6419999599456787,1.6493330001831055,1.600000023841858,1.5379999876022339,1.5293329954147339,1.5893330574035645,1.5740000009536743,1.5313329696655273,1.525333046913147,1.6053329706192017,1.6226669549942017,1.6546670198440552,1.7200000286102295,1.718000054359436,1.7339999675750732,1.7233330011367798,1.7086670398712158,1.7586669921875,1.7013330459594727,1.746000051498413,1.6393330097198486,1.6080000400543213,1.6260000467300415,1.5820000171661377,1.5773329734802246,1.6913330554962158,1.797333002090454,1.7993329763412476,1.858667016029358,1.8406670093536377,1.8533329963684082,1.8626669645309448,1.8700000047683716,1.8279999494552612,1.8893330097198486,1.8380000591278076,1.8226670026779175,1.8686670064926147,1.9033329486846924,1.8833329677581787,1.8653329610824585,1.9173330068588257,1.9913330078125,1.9579999446868896,1.925333023071289,1.9140000343322754,2.1640000343322754,2.1540000438690186,2.0846669673919678,2.122667074203491,2.058666944503784,2.0886669158935547,2.2426669597625732,2.2146670818328857,2.26200008392334,2.3293330669403076,2.245332956314087,2.173332929611206,2.117332935333252,2.138000011444092,2.0966670513153076,2.1106669902801514,2.1706669330596924,2.1166670322418213,2.1826670169830322,2.173332929611206,2.2200000286102295,2.2946670055389404,2.324666976928711,2.2793331146240234,2.059333086013794,2.069333076477051,2.0273330211639404,1.963333010673523,1.9019999504089355,1.9079999923706055,1.8666670322418213,1.850000023841858,1.8600000143051147,1.8380000591278076,1.8513330221176147,1.8600000143051147,1.9046670198440552,1.9006669521331787,1.9153330326080322,1.9040000438690186,1.871999979019165,1.8473329544067383,1.8079999685287476,1.7940000295639038,1.8166669607162476,1.841333031654358,1.8819999694824219,1.8833329677581787,1.519333004951477,1.773332953453064,1.7873330116271973,1.784000039100647,1.773332953453064,1.7846670150756836,1.8279999494552612,1.8646670579910278,1.929332971572876,1.9553329944610596,1.9713330268859863,1.937999963760376,1.972000002861023,2.016666889190674,2.076667070388794,2.119999885559082,2.1066670417785645,2.128667116165161,2.171999931335449,2.0733330249786377,2.0993330478668213,2.2113330364227295,2.240000009536743,2.2786669731140137,2.3313329219818115,2.299999952316284,2.2813329696655273,2.302000045776367,2.25,2.2413330078125,2.253999948501587,2.2273330688476562,2.2939999103546143,2.2693328857421875,2.251332998275757,2.2073330879211426,2.2079999446868896,2.204667091369629,2.315999984741211,2.4006669521331787,2.4059998989105225,2.3526670932769775,2.3333330154418945,2.3546669483184814,2.3320000171661377,2.330667018890381,2.3433330059051514,2.293333053588867,2.2720000743865967,2.493333101272583,2.5293331146240234,2.5233330726623535,2.4886670112609863,2.4826669692993164,2.438667058944702,2.5339999198913574,2.3333330154418945,2.2986669540405273,2.2100000381469727,2.1640000343322754,2.2060000896453857,2.22933292388916,2.239332914352417,2.1500000953674316,2.1493330001831055,2.177333116531372,2.2106668949127197,2.2106668949127197,2.129333019256592,2.121332883834839,2.194000005722046,2.2326669692993164,2.2226669788360596,2.208667039871216,2.252000093460083,2.262666940689087,2.1640000343322754,2.121999979019165,2.1646668910980225,2.012666940689087,2.003999948501587,2.1973330974578857,2.1500000953674316,2.003999948501587,1.9620000123977661,1.9453330039978027,1.9046670198440552,1.8373329639434814,1.9179999828338623,2.053333044052124,2.068000078201294,2.018666982650757,1.987333059310913,2.1126670837402344,2.0273330211639404,1.9666670560836792,1.8766670227050781,1.858667016029358,1.8606669902801514,1.9479999542236328,1.9286669492721558,2.0053329467773438,1.9413330554962158,1.9773329496383667,1.9846669435501099,1.9593329429626465,1.99399995803833,2.122667074203491,2.1393330097198486,2.252000093460083,2.1459999084472656,2.25266695022583,2.2073330879211426,2.107332944869995,2.130666971206665,2.0940001010894775,2.0859999656677246,2.0266671180725098,2.0439999103546143,2.0820000171661377,2.065999984741211,2.0993330478668213,2.0846669673919678,2.1006669998168945,2.180000066757202,2.2833330631256104,2.3973329067230225,2.2233328819274902,2.1433329582214355,2.1513330936431885,2.119333028793335,2.0439999103546143,1.9893330335617065,1.9299999475479126,1.8753329515457153,1.9673329591751099,1.8233330249786377,1.8279999494552612,1.75,1.7400000095367432,1.8179999589920044,1.8846670389175415,2.016666889190674,1.9393329620361328,1.9606670141220093,1.996000051498413,2.078000068664551,1.9613330364227295,1.9600000381469727,2.0199999809265137,2.000667095184326,1.9673329591751099,1.9406670331954956,1.9966670274734497,2.0486669540405273,1.9666670560836792,1.8880000114440918,1.9126670360565186,1.8940000534057617,1.8940000534057617,1.901332974433899,1.8760000467300415,1.8626669645309448,1.9033329486846924,1.9566669464111328,1.824666976928711,1.8533329963684082,1.8853329420089722,1.9653329849243164,2.0260000228881836,2.169332981109619,2.0893330574035645,2.069999933242798,2.059999942779541,2.001332998275757,2.0439999103546143,1.843999981880188,1.8359999656677246,1.8993330001831055,1.9520000219345093,1.944000005722046,1.9866670370101929,1.9533330202102661,1.9600000381469727,1.9259999990463257,1.9500000476837158,1.891332983970642,1.8933329582214355,1.8880000114440918,1.8426669836044312,1.8220000267028809,1.8706669807434082,1.9213329553604126,1.869333028793335,1.8493330478668213,1.8566670417785645,1.8926670551300049,1.8279999494552612,1.8346669673919678,1.8253329992294312,1.8753329515457153,1.9500000476837158,1.9279999732971191,2.0999999046325684,2.076667070388794,2.1026670932769775,2.0873329639434814,2.0213329792022705,2.0713329315185547,2.107332944869995,2.0920000076293945,2.0546669960021973,2.122667074203491,2.194667100906372,2.200000047683716,2.1646668910980225,2.1419999599456787,2.1513330936431885,2.1433329582214355,2.2153329849243164,2.246000051498413,2.254667043685913,2.308000087738037,2.259999990463257,2.24733304977417,2.259999990463257,2.2780001163482666,2.3046669960021973,2.3519999980926514,2.3506669998168945,2.2406671047210693,2.253999948501587,2.293333053588867,2.305999994277954,2.307332992553711,2.295332908630371,2.266666889190674,2.2853329181671143,2.239332914352417,2.246000051498413,2.2146670818328857,2.257999897003174,2.357332944869995,2.318000078201294,2.293333053588867,2.2893331050872803,2.245332956314087,2.2426669597625732,2.23533296585083,2.194000005722046,2.2173330783843994,2.259999990463257,2.2733330726623535,2.2920000553131104,2.301332950592041,2.3459999561309814,2.4000000953674316,2.4660000801086426,2.4653329849243164,2.5353329181671143,2.5299999713897705,2.501332998275757,2.500667095184326,2.553333044052124,2.5160000324249268,2.5420000553131104,2.611332893371582,2.631999969482422,2.615999937057495,2.561332941055298,2.5260000228881836,2.563333034515381,2.551332950592041,2.4693329334259033,2.618666887283325,2.569333076477051,2.3440001010894775,2.4073328971862793,2.2920000553131104,2.295332908630371,2.3399999141693115,2.322000026702881,2.309999942779541,2.371999979019165,2.4433329105377197,2.512666940689087,2.5486669540405273,2.564666986465454,2.6066670417785645,2.6080000400543213,2.5986669063568115,2.456666946411133,2.3526670932769775,2.3433330059051514,2.3386669158935547,2.396667003631592,2.4006669521331787,2.441333055496216,2.502000093460083,2.5239999294281006,2.5439999103546143,2.5260000228881836,2.9286670684814453,2.9560000896453857,2.740000009536743,2.8006670475006104,2.757999897003174,2.7886669635772705,2.700000047683716,2.7906670570373535,2.9059998989105225,2.9166669845581055,2.886667013168335,3.0393331050872803,3.0299999713897705,3.131333112716675,3.188667058944702,3.3459999561309814,3.4006669521331787,3.361999988555908,3.4666669368743896,3.413332939147949,3.6626670360565186,3.5993330478668213,3.552000045776367,3.607332944869995,3.636667013168335,3.9666669368743896,3.700666904449463,3.7193329334259033,4.626667022705078,5.117332935333252,5.853332996368408,5.549333095550537,5.656000137329102,6.150000095367432,6.099999904632568,5.995999813079834,5.8393330574035645,5.815999984741211,6.182000160217285,6.4720001220703125,7.355332851409912,6.975333213806152,6.99666690826416,6.517333030700684,6.172667026519775,6.322667121887207,6.357999801635742,6.489999771118164,6.802667140960693,6.670000076293945,6.297999858856201,6.51533317565918,6.545332908630371,6.686666965484619,6.813333034515381,6.892666816711426,6.97866678237915,6.710000038146973,6.636666774749756,6.765999794006348,6.826666831970215,7.047999858856201,7.283332824707031,7.157332897186279,7.811999797821045,7.8546671867370605,7.682666778564453,8.005999565124512,8.107333183288574,8.229999542236328,8.15133285522461,8.37399959564209,8.65999984741211,8.484000205993652,7.269999980926514,8.016667366027832,7.935332775115967,7.97866678237915,8.161999702453613,8.182666778564453,8.113332748413086,8.271332740783691,8.62600040435791,8.974666595458984,8.78266716003418,8.95199966430664,9.036666870117188,9.199999809265137,9.645333290100098,9.476667404174805,8.9486665725708,10.232000350952148,10.199999809265137,9.825332641601562,9.695332527160645,9.290666580200195,9.311332702636719,9.466667175292969,9.65999984741211,9.972000122070312,9.857333183288574,10.473333358764648,10.78933334350586,10.947999954223633,11.133999824523926,11.096667289733887,11.070667266845703,11.266667366027832,11.262666702270508,11.374667167663574,11.328666687011719,11.131333351135254,10.713333129882812,11.091333389282227,10.90133285522461,10.995332717895508,11.03600025177002,11.10533332824707,11.081999778747559,11.08133316040039,11.861332893371582,12.22599983215332,12.074000358581543,12.155332565307617,12.349332809448242,12.576000213623047,12.726667404174805,12.891332626342773,12.866666793823242,12.063332557678223,11.553999900817871,12.065333366394043,12.204667091369629,11.648667335510254,11.251999855041504,11.528667449951172,11.91333293914795,11.981332778930664,12.262666702270508,12.237333297729492,12.186667442321777,12.226667404174805,11.506667137145996,11.435999870300293,10.966667175292969,11.543333053588867,11.310667037963867,10.857333183288574,10.964667320251465,10.614666938781738,10.662667274475098,10.811332702636719,11.680000305175781,11.787332534790039,10.077333450317383,9.317999839782715,9.196666717529297,9.646666526794434,9.186667442321777,9.24666690826416,9.173333168029785,9.029999732971191,8.10533332824707,8.406000137329102,8.074000358581543,8.140000343322754,8.092000007629395,8.055999755859375,8.033332824707031,8.462667465209961,8.485333442687988,8.277999877929688,9.646666526794434,9.263333320617676,9.36533260345459,9.157333374023438,9.4399995803833,9.47933292388916,9.3100004196167,9.83133316040039,9.84333324432373,9.862667083740234,10.163999557495117,9.86533260345459,9.381333351135254,9.549332618713379,9.569999694824219,10.093999862670898,10.366666793823242,10.074666976928711,10.162667274475098,10.028667449951172,10.006667137145996,9.970666885375977,9.800000190734863,9.957332611083984,10.085332870483398,9.835332870483398,9.714667320251465,9.28933334350586,10.751333236694336,10.942000389099121,11.39799976348877,11.333999633789062,11.778667449951172,11.904000282287598,12.100000381469727,11.640000343322754,11.307999610900879,11.892000198364258,11.682000160217285,12.189332962036133,12.093999862670898,11.807332992553711,11.915332794189453,11.628000259399414,11.892000198364258,12.435333251953125,13.104000091552734,13.107999801635742,13.021332740783691,13.308667182922363,13.215332984924316,13.579999923706055,12.909333229064941,13.998000144958496,13.973333358764648,14.510000228881836,16.53333282470703,16.866666793823242,16.836000442504883,16.320667266845703,16.70400047302246,16.98933219909668,16.8439998626709,16.862667083740234,16.413999557495117,15.922666549682617,15.62733268737793,16.099332809448242,15.852666854858398,15.39799976348877,15.59866714477539,16.002666473388672,15.72266674041748,15.660667419433594,15.259332656860352,14.678000450134277,14.696000099182129,14.197333335876465,13.821332931518555,14.157999992370605,13.896666526794434,14.464667320251465,15.352666854858398,15.026666641235352,14.148667335510254,13.834667205810547,14.36400032043457,14.461999893188477,13.612667083740234,13.585332870483398,13.206000328063965,12.927332878112793,13.27400016784668,13.208000183105469,13.625332832336426,14.576000213623047,13.866000175476074,13.857333183288574,13.323332786560059,13.234000205993652,13.79466724395752,13.859333038330078,13.84866714477539,14.060667037963867,14.440667152404785,13.8186674118042,13.423333168029785,11.906000137329102,12.150667190551758,12.311332702636719,12.677332878112793,12.708000183105469,12.572667121887207,12.77066707611084,13.072667121887207,13.020000457763672,13.296667098999023,13.658666610717773,13.819999694824219,14.104000091552734,14.015999794006348,14.015999794006348,13.851332664489746,13.646666526794434,13.662667274475098,13.599332809448242,13.793333053588867,13.878000259399414,13.687333106994629,13.486666679382324,13.631333351135254,13.567999839782715,13.761333465576172,14.973999977111816,15.444666862487793,15.141332626342773,15.185999870300293,15.305999755859375,15.814666748046875,15.5,15.792667388916016,15.706666946411133,15.937333106994629,16.003999710083008,15.981332778930664,15.295332908630371,15.283332824707031,14.843999862670898,14.604666709899902,14.870667457580566,14.630666732788086,14.541999816894531,15.113332748413086,14.638667106628418,14.477333068847656,14.359999656677246,14.668000221252441,14.702667236328125,14.638667106628418,14.832667350769043,14.902667045593262,14.904666900634766,14.98799991607666,15.000666618347168,15.261333465576172,14.886667251586914,15.5513334274292,15.90133285522461,15.899333000183105,16.595333099365234,16.826000213623047,16.54199981689453,17.288000106811523,17.33066749572754,17.354000091552734,17.42533302307129,17.46733283996582,17.32933235168457,17.117332458496094,17.047332763671875,16.95599937438965,17.118667602539062,17.503332138061523,17.44933319091797,17.549999237060547,17.590667724609375,17.979999542236328,18.941333770751953,18.746000289916992,19.069332122802734,18.492666244506836,18.80733299255371,18.565332412719727,18.739999771118164,18.687332153320312,18.613332748413086,16.923999786376953,17.382667541503906,17.42533302307129,17.58799934387207,17.288000106811523,16.66866683959961,16.694000244140625,16.80933380126953,16.463333129882812,16.440000534057617,16.35066795349121,16.178667068481445,16.016000747680664,16.761333465576172,17.013999938964844,17.374666213989258,17.30466651916504,17.28533363342285,17.134000778198242,15.793999671936035,14.97266674041748,15.137332916259766,15.313332557678223,15.09000015258789,15.165332794189453,15.364666938781738,15.689332962036133,15.40666675567627,15.685999870300293,15.682666778564453,14.777999877929688,16.184667587280273,15.873332977294922,15.910667419433594,16.113332748413086,16.172666549682617,15.928667068481445,15.39799976348877,16.08133316040039,16.01333236694336,16.1286678314209,16.738666534423828,16.606666564941406,16.780000686645508,17.245332717895508,16.93199920654297,17.18000030517578,16.516000747680664,16.58066749572754,16.185333251953125,16.447999954223633,16.53933334350586,16.562667846679688,16.301332473754883,15.442667007446289,15.428667068481445,15.286666870117188,15.218667030334473,14.913999557495117,14.290666580200195,14.459333419799805,13.989333152770996,13.925333023071289,13.800000190734863,13.602666854858398,13.187333106994629,13.721332550048828,14.550666809082031,14.619333267211914,14.84000015258789,14.731332778930664,14.817333221435547,15.187999725341797,15.047332763671875,14.815333366394043,14.827333450317383,14.620667457580566,14.005999565124512,14.085332870483398,14.063332557678223,14.041333198547363,13.77733325958252,13.480667114257812,13.616666793823242,12.845999717712402,12.791333198547363,12.871333122253418,12.795332908630371,13.104666709899902,13.441332817077637,13.419333457946777,13.770000457763672,13.732000350952148,13.291333198547363,13.680000305175781,13.573332786560059,14.062666893005371,14.557332992553711,14.569999694824219,14.732666969299316,14.490667343139648,14.498666763305664,14.419333457946777,14.186667442321777,13.525333404541016,13.584667205810547,13.623332977294922,13.630666732788086,14.11400032043457,14.473999977111816,13.822667121887207,13.607333183288574,13.583999633789062,13.812666893005371,13.555999755859375,13.155332565307617,13.303999900817871,13.496000289916992,13.375332832336426,12.925333023071289,12.725333213806152,12.687999725341797,12.916000366210938,12.73799991607666,12.578666687011719,13.046667098999023,12.982000350952148,13.380666732788086,13.043333053588867,13.20533275604248,13.308667182922363,13.447999954223633,12.953332901000977,12.694000244140625,12.333333015441895,12.704667091369629,12.584667205810547,12.505999565124512,12.733332633972168,13.539999961853027,13.550000190734863,13.844667434692383,14.005999565124512,14.0600004196167,13.985333442687988,13.830666542053223,13.85533332824707,13.779999732971191,13.78600025177002,13.684666633605957,13.96066665649414,14.629332542419434,14.573332786560059,14.562000274658203,15.436667442321777,15.36533260345459,15.49666690826416,15.069999694824219,15.0686674118042,15.36733341217041,15.529999732971191,15.362000465393066,15.786666870117188,15.77400016784668,15.965999603271484,16.31599998474121,16.211999893188477,16.273332595825195,16.589332580566406,16.583332061767578,16.47599983215332,16.290000915527344,16.374666213989258,16.51533317565918,16.497333526611328,16.495332717895508,16.76333236694336,16.719999313354492,16.6299991607666,16.55666732788086,16.599332809448242,16.39466667175293,16.609333038330078,17.086000442504883,17.066667556762695,16.713333129882812,16.76066780090332,16.71266746520996,16.691999435424805,16.874666213989258,17.360666275024414,17.459333419799805,17.500667572021484,17.319332122802734,17.844667434692383,17.67799949645996,17.91933250427246,17.805999755859375,17.468000411987305,17.884000778198242,17.94333267211914,18.667999267578125,18.648000717163086,17.858667373657227,16.997333526611328,17.19466781616211,17.27666664123535,17.477333068847656,17.709999084472656,17.542667388916016,17.778667449951172,18.310667037963867,18.817333221435547,17.784666061401367,17.857999801635742,17.81333351135254,17.694000244140625,16.867332458496094,17.654666900634766,17.58799934387207,17.785999298095703,17.74333381652832,17.332666397094727,17.75200080871582,18.0086669921875,16.408666610717773,16.167333602905273,16.076000213623047,15.824666976928711,15.878000259399414,16.167333602905273,16.209999084472656,16.999332427978516,17.381332397460938,17.016666412353516,16.14533233642578,15.38466739654541,14.591333389282227,14.66866683959961,14.989333152770996,16.19933319091797,16.565332412719727,16.604000091552734,15.908666610717773,16.512666702270508,16.3713321685791,16.1286678314209,16.544666290283203,16.5939998626709,16.565332412719727,16.682666778564453,16.87933349609375,16.904666900634766,17.483333587646484,17.471332550048828,17.374666213989258,17.613332748413086,17.395999908447266,17.40399932861328,17.541332244873047,17.12733268737793,16.562000274658203,16.44333267211914,16.559999465942383,15.991999626159668,16.504667282104492,16.40999984741211,16.097333908081055,15.46399974822998,15.114666938781738,14.712667465209961,14.371999740600586,14.616666793823242,14.458666801452637,14.753999710083008,15.133999824523926,15.206666946411133,14.20199966430664,14.005999565124512,14.114666938781738,13.939332962036133,14.350666999816895,14.023332595825195,14.197333335876465,14.108667373657227,13.795332908630371,14.252667427062988,13.890000343322754,15.442000389099121,15.451333045959473,15.490667343139648,15.022000312805176,14.433333396911621,14.60533332824707,14.196000099182129,13.812666893005371,14.287332534790039,14.266667366027832,14.73799991607666,14.786666870117188,14.667332649230957,14.516667366027832,14.550000190734863,15.309332847595215,15.440667152404785,15.350666999816895,15.812666893005371,15.465999603271484,15.513999938964844,15.358667373657227,15.408666610717773,15.114666938781738,14.968000411987305,15.137999534606934,14.468000411987305,14.571999549865723,14.739333152770996,15.633999824523926,15.559332847595215,15.36400032043457,15.503999710083008,15.329999923706055,15.313332557678223,15.371333122253418,15.263333320617676,15.812666893005371,15.87266731262207,16.000667572021484,14.894000053405762,14.895333290100098,14.602666854858398,14.376667022705078,14.066666603088379,13.856666564941406,13.998000144958496,13.354000091552734,13.745332717895508,13.666000366210938,13.64799976348877,13.24666690826416,13.33133316040039,13.50333309173584,13.092000007629395,12.904000282287598,12.538000106811523,12.646666526794434,12.74666690826416,13.129332542419434,12.185333251953125,11.565333366394043,11.688667297363281,10.84000015258789,9.866000175476074,9.883333206176758,9.57800006866455,10.031332969665527,10.06933307647705,10.344667434692383,11.245332717895508,11.118000030517578,11.10533332824707,11.849332809448242,11.814000129699707,11.933333396911621,12.495332717895508,12.689332962036133,12.795332908630371,12.423333168029785,12.555999755859375,13.049332618713379,13.402667045593262,13.685999870300293,13.506667137145996,13.914667129516602,13.678667068481445,13.833333015441895,14.34333324432373,14.555999755859375,14.795332908630371,15.092000007629395,15.515999794006348,15.887999534606934,15.616000175476074,14.838666915893555,15.183333396911621,15.350666999816895,15.342000007629395,15.12600040435791,15.317999839782715,15.839332580566406,16.465999603271484,17.031333923339844,17.69466781616211,17.14666748046875,16.67133331298828,16.661333084106445,16.521333694458008,16.968666076660156,16.790666580200195,16.96733283996582,16.92533302307129,16.4913330078125,16.6646671295166,16.55266761779785,16.916667938232422,16.788000106811523,16.916000366210938,16.764667510986328,16.513999938964844,16.05066680908203,16.1200008392334,15.48799991607666,14.837332725524902,14.10200023651123,14.328666687011719,13.928000450134277,13.912667274475098,13.93066692352295,13.8186674118042,13.840666770935059,13.88599967956543,13.644000053405762,14.07800006866455,14.347332954406738,14.685333251953125,14.414667129516602,14.52733325958252,14.638667106628418,15.008000373840332,14.869333267211914,14.881999969482422,14.637332916259766,14.597332954406738,14.599332809448242,14.711999893188477,15.489333152770996,15.701333045959473,15.290666580200195,14.586000442504883,14.524666786193848,14.330666542053223,14.513333320617676,14.528667449951172,14.364666938781738,14.646666526794434,14.640666961669922,13.11066722869873,13.09333324432373,12.876667022705078,13.236666679382324,13.452667236328125,14.012666702270508,14.152000427246094,14.433333396911621,14.26533317565918,14.295999526977539,14.395999908447266,14.45199966430664,14.985333442687988,14.976667404174805,14.835332870483398,14.768667221069336,14.69333267211914,15.083333015441895,15.017333030700684,15.223999977111816,14.699999809265137,14.817999839782715,15.333999633789062,15.300666809082031,15.232666969299316,15.37399959564209,15.652667045593262,15.333999633789062,15.146666526794434,15.052666664123535,15.37399959564209,15.335332870483398,15.077333450317383,15.272000312805176,15.043333053588867,14.994000434875488,15.040666580200195,15.03933334350586,14.907333374023438,14.88266658782959,14.900667190551758,15.0,14.862000465393066,14.989333152770996,14.841333389282227,14.730667114257812,14.666000366210938,14.346667289733887,14.089332580566406,14.133999824523926,13.38466739654541,13.185333251953125,13.522000312805176,13.447333335876465,13.157333374023438,12.964667320251465,13.220000267028809,13.069999694824219,13.093999862670898,13.361332893371582,13.69333267211914,13.755999565124512,13.642666816711426,13.6813325881958,13.76200008392334,13.829999923706055,13.932666778564453,13.720666885375977,13.751333236694336,13.380000114440918,13.60200023651123,14.24666690826416,14.093999862670898,13.897333145141602,13.399999618530273,13.107333183288574,13.396666526794434,13.34000015258789,13.434000015258789,13.349332809448242,13.100666999816895,12.93066692352295,13.273332595825195,13.570667266845703,13.273332595825195,13.339332580566406,13.517333030700684,13.489333152770996,13.482666969299316,13.600666999816895,13.33133316040039,13.182000160217285,12.719332695007324,12.534667015075684,12.494667053222656,12.704000473022461,12.880666732788086,12.996000289916992,12.670666694641113,12.356666564941406,12.570667266845703,12.096667289733887,12.251333236694336,12.26200008392334,12.577333450317383,12.334667205810547,12.3013334274292,12.744667053222656,12.87600040435791,13.109999656677246,13.074666976928711,12.637999534606934,12.626667022705078,12.125332832336426,12.097999572753906,12.453332901000977,12.390000343322754,12.876667022705078,12.81933307647705,12.812000274658203,12.828666687011719,13.210000038146973,13.246000289916992,13.17199993133545,13.499333381652832,13.51533317565918,13.919333457946777,13.846667289733887,13.896666526794434,14.22266674041748,14.635333061218262,14.649333000183105,14.312000274658203,14.246000289916992,14.465999603271484,15.13266658782959,15.116666793823242,15.267333030700684,15.41866683959961,15.324666976928711,15.315333366394043,15.305999755859375,15.850000381469727,15.70533275604248,15.890666961669922,16.250667572021484,16.315332412719727,16.594667434692383,16.974000930786133,16.96466636657715,16.833999633789062,16.863332748413086,16.708667755126953,16.795333862304688,16.615999221801758,16.770000457763672,16.755332946777344,17.184667587280273,17.165332794189453,17.472000122070312,17.946666717529297,17.948667526245117,18.706666946411133,18.73200035095215,18.650667190551758,17.93000030517578,18.148666381835938,18.492666244506836,18.233999252319336,17.06599998474121,17.133333206176758,16.415332794189453,16.666000366210938,16.667999267578125,16.698667526245117,16.771333694458008,16.747333526611328,16.57266616821289,16.45800018310547,16.32666778564453,16.246000289916992,16.411333084106445,17.200000762939453,17.048667907714844,17.469999313354492,17.433332443237305,17.461332321166992,16.711999893188477,17.000667572021484,16.985332489013672,17.54400062561035,18.014667510986328,18.496667861938477,18.492000579833984,18.527999877929688,18.553333282470703,19.90133285522461,20.246667861938477,19.666667938232422,19.913333892822266,20.16933250427246,20.826000213623047,20.58066749572754,19.78933334350586,20.266666412353516,20.09600067138672,20.016666412353516,20.368000030517578,20.167333602905273,20.373332977294922,20.53533363342285,20.91933250427246,20.67799949645996,20.575332641601562,20.937999725341797,21.52199935913086,21.25933265686035,20.73466682434082,19.69733238220215,20.55666732788086,20.479333877563477,21.417333602905273,21.681333541870117,21.540000915527344,21.65399932861328,21.058666229248047,21.134000778198242,20.407333374023438,20.87066650390625,20.722000122070312,20.690000534057617,20.257333755493164,20.681333541870117,21.121999740600586,21.676000595092773,22.34000015258789,22.733999252319336,22.691333770751953,22.656667709350586,23.154666900634766,23.523332595825195,23.976667404174805,24.666667938232422,23.821332931518555,23.93400001525879,25.06333351135254,25.37733268737793,25.022666931152344,24.760000228881836,24.65333366394043,24.81599998474121,25.093332290649414,25.507333755493164,25.56333351135254,25.166000366210938,24.158000946044922,24.749332427978516,24.049999237060547,24.107332229614258,23.507999420166016,21.805999755859375,20.588666915893555,20.881332397460938,21.06999969482422,21.814666748046875,21.968000411987305,21.560667037963867,21.851999282836914,21.30466651916504,21.882667541503906,21.68400001525879,21.994667053222656,21.893333435058594,22.834667205810547,22.639999389648438,22.92333221435547,22.297332763671875,22.33799934387207,21.564666748046875,21.30466651916504,21.72599983215332,23.139333724975586,23.79400062561035,23.67799949645996,24.347999572753906,24.235332489013672,23.69333267211914,23.857999801635742,24.253332138061523,24.155332565307617,24.194000244140625,23.461332321166992,23.163999557495117,22.52400016784668,22.75666618347168,23.51799964904785,23.528667449951172,23.203332901000977,23.04400062561035,23.157333374023438,23.545333862304688,23.726667404174805,23.69333267211914,23.305999755859375,22.968666076660156,23.374000549316406,22.893333435058594,24.246000289916992,24.183332443237305,24.415332794189453,25.176000595092773,25.320667266845703,25.666667938232422,25.00666618347168,24.92733383178711,24.43199920654297,23.4060001373291,22.999332427978516,23.016666412353516,22.731332778930664,22.639999389648438,22.739999771118164,22.768667221069336,23.209333419799805,23.667333602905273,23.68866729736328,23.79199981689453,22.862667083740234,23.70599937438965,23.639999389648438,23.711999893188477,23.704666137695312,23.373332977294922,23.71666717529297,23.976667404174805,23.45400047302246,23.00666618347168,22.468000411987305,22.48933219909668,21.722667694091797,21.744667053222656,21.391332626342773,21.338666915893555,22.101999282836914,21.405332565307617,19.950666427612305,20.4060001373291,20.185333251953125,20.40333366394043,20.292667388916016,20.19933319091797,20.19933319091797,21.02666664123535,20.579999923706055,20.753332138061523,20.833332061767578,21.003332138061523,20.582666397094727,21.187332153320312,20.84000015258789,21.036666870117188,21.12066650390625,21.170000076293945,20.502666473388672,20.59000015258789,20.435333251953125,20.34666633605957,20.246667861938477,20.884000778198242,20.749332427978516,21.0086669921875,21.92733383178711,22.735332489013672,22.601999282836914,22.525999069213867,22.89666748046875,22.591333389282227,22.073333740234375,21.93199920654297,22.110666275024414,21.68000030517578,21.152666091918945,20.775999069213867,21.02400016784668,20.75666618347168,21.368667602539062,21.149999618530273,20.974666595458984,21.10533332824707,22.42733383178711,22.246000289916992,22.31999969482422,22.530000686645508,22.4146671295166,22.67066764831543,23.143999099731445,22.971332550048828,23.334667205810547,23.437332153320312,23.519332885742188,23.05933380126953,22.50933265686035,22.856666564941406,23.302000045776367,23.05466651916504,23.62066650390625,23.28333282470703,22.916667938232422,22.208667755126953,22.264667510986328,23.0,21.01533317565918,20.69466781616211,21.048667907714844,21.577333450317383,21.487333297729492,22.271333694458008,22.365999221801758,22.31800079345703,22.219999313354492,23.077999114990234,23.469999313354492,23.827999114990234,23.39933204650879,22.87066650390625,22.062000274658203,22.341333389282227,22.22333335876465,21.8799991607666,22.15333366394043,21.940000534057617,21.81133270263672,23.034000396728516,22.78933334350586,21.775333404541016,21.706666946411133,21.42333221435547,20.90399932861328,20.703332901000977,21.101999282836914,20.606666564941406,20.1026668548584,20.278667449951172,18.61199951171875,17.185333251953125,17.742000579833984,16.832000732421875,17.8353328704834,19.12933349609375,20.381332397460938,19.953332901000977,19.310667037963867,20.31333351135254,20.062000274658203,19.60533332824707,20.022666931152344,19.413999557495117,19.179332733154297,19.55666732788086,20.005332946777344,19.349332809448242,18.891332626342773,18.8973331451416,18.71266746520996,19.031999588012695,19.60533332824707,19.593332290649414,19.994667053222656,20.07666778564453,18.963333129882812,19.606000900268555,20.184667587280273,20.131332397460938,20.456666946411133,20.334667205810547,20.070667266845703,19.46466636657715,18.94533348083496,19.09866714477539,18.96933364868164,18.454666137695312,18.965999603271484,18.333999633789062,18.60466766357422,18.523332595825195,18.59000015258789,18.917333602905273,19.447999954223633,18.98200035095215,19.454666137695312,19.78266716003418,19.408666610717773,21.299999237060547,21.07266616821289,21.17733383178711,22.139999389648438,22.851333618164062,22.985332489013672,23.847999572753906,23.878000259399414,24.722000122070312,23.503332138061523,24.148000717163086,23.167333602905273,22.242000579833984,22.200666427612305,22.799999237060547,22.96666717529297,23.32866668701172,22.863332748413086,22.33799934387207,20.724000930786133,20.610666275024414,20.593332290649414,21.233999252319336,21.49799919128418,21.263999938964844,21.11400032043457,21.257999420166016,20.67333221435547,21.512666702270508,21.59000015258789,21.34866714477539,20.905332565307617,20.213333129882812,19.82866668701172,20.582666397094727,20.44333267211914,19.812000274658203,19.344667434692383,19.875999450683594,20.055999755859375,23.30266761779785,23.211332321166992,22.799333572387695,25.30466651916504,24.689332962036133,23.496667861938477,23.69933319091797,23.76066780090332,23.176000595092773,22.57933235168457,22.363332748413086,20.366666793823242,20.562667846679688,21.459999084472656,21.44266700744629,21.34000015258789,21.521333694458008,21.284666061401367,20.790666580200195,20.333999633789062,20.209999084472656,20.110666275024414,19.26333236694336,18.715999603271484,18.729999542236328,17.549333572387695,19.03333282470703,18.62933349609375,19.369333267211914,19.297332763671875,19.68000030517578,19.6560001373291,18.997333526611328,19.934667587280273,19.8886661529541,19.940000534057617,19.978666305541992,20.06599998474121,20.6386661529541,20.501333236694336,17.65133285522461,20.713333129882812,20.06800079345703,19.65333366394043,18.788667678833008,17.463333129882812,16.70400047302246,17.520000457763672,17.125333786010742,16.815332412719727,17.25200080871582,17.305999755859375,18.439332962036133,18.118667602539062,17.5939998626709,17.333332061767578,17.39666748046875,19.609333038330078,19.233333587646484,20.99066734313965,22.059999465942383,22.323333740234375,21.99333381652832,22.488000869750977,22.95199966430664,23.0939998626709,22.760000228881836,22.737333297729492,23.21066665649414,23.426666259765625,23.367332458496094,22.0853328704834,22.582000732421875,22.933332443237305,23.229333877563477,23.62066650390625,23.564666748046875,23.166000366210938,22.54599952697754,21.722000122070312,23.066667556762695,22.92799949645996,23.191333770751953,22.744667053222656,23.365333557128906,23.89933204650879,23.979999542236328,24.20400047302246,23.864667892456055,24.343332290649414,24.450666427612305,24.440000534057617,25.119333267211914,24.380666732788086,23.22800064086914,22.468666076660156,22.197999954223633,21.025333404541016,21.31800079345703,19.69266700744629,21.73933219909668,21.075332641601562,22.257999420166016,22.18666648864746,20.674667358398438,20.02400016784668,21.179332733154297,22.33066749572754,22.356666564941406,22.568666458129883,22.99799919128418,23.150667190551758,22.293333053588867,22.961999893188477,23.06999969482422,23.15399932861328,20.150667190551758,19.92799949645996,19.172666549682617,19.43400001525879,19.80266761779785,19.7586669921875,19.83066749572754,20.584667205810547,20.468000411987305,20.81399917602539,20.859333038330078,21.42333221435547,21.148000717163086,20.500667572021484,20.386667251586914,20.856000900268555,20.78733253479004,20.544666290283203,20.251333236694336,20.525333404541016,20.375999450683594,20.17066764831543,19.415332794189453,19.6473331451416,19.917999267578125,19.857332229614258,20.982667922973633,21.325332641601562,19.652666091918945,19.02400016784668,18.43600082397461,18.416000366210938,18.439332962036133,18.94266700744629,19.39466667175293,18.890666961669922,19.263999938964844,19.33066749572754,18.36199951171875,17.965999603271484,17.83133316040039,18.239999771118164,18.26799964904785,17.635332107543945,17.3613338470459,17.851333618164062,18.32200050354004,18.57466697692871,18.657333374023438,19.278667449951172,19.058666229248047,19.45400047302246,17.851999282836914,18.33066749572754,18.213333129882812,18.15399932861328,18.40399932861328,17.89466667175293,17.84666633605957,17.7586669921875,18.224000930786133,18.082000732421875,18.21733283996582,17.516666412353516,17.593332290649414,17.243999481201172,16.5086669921875,15.675999641418457,16.097999572753906,15.912667274475098,15.600666999816895,16.273332595825195,17.00200080871582,17.022666931152344,16.470666885375977,16.32266616821289,16.131999969482422,15.968000411987305,15.133999824523926,15.487333297729492,15.463333129882812,15.222000122070312,14.0686674118042,13.690667152404785,13.67199993133545,12.84866714477539,13.03266716003418,12.708666801452637,12.579999923706055,12.657333374023438,12.54800033569336,12.343999862670898,11.9313325881958,12.90666675567627,13.105999946594238,13.729999542236328,13.633333206176758,14.192000389099121,14.473333358764648,13.950667381286621,14.260666847229004,14.32800006866455,15.001999855041504,14.982666969299316,15.095333099365234,14.641332626342773,14.790666580200195,14.909333229064941,14.650667190551758,14.618000030517578,14.855999946594238,14.897333145141602,15.14466667175293,14.970000267028809,15.65999984741211,15.539999961853027,15.355999946594238,15.337332725524902,15.928000450134277,15.90666675567627,16.338666915893555,16.899999618530273,16.825332641601562,16.99066734313965,16.902666091918945,17.211999893188477,17.045333862304688,17.344667434692383,17.658666610717773,15.254667282104492,15.202667236328125,15.718000411987305,16.150667190551758,16.107332229614258,15.59000015258789,15.62266731262207,15.221332550048828,15.383333206176758,15.561332702636719,15.886667251586914,15.667332649230957,15.267333030700684,15.666666984558105,14.641332626342773,14.37600040435791,14.662667274475098,15.121999740600586,15.057332992553711,14.722000122070312,14.8100004196167,14.09333324432373,14.333333015441895,14.272000312805176,14.37266731262207,14.780667304992676,15.040666580200195,15.000666618347168,14.711999893188477,15.305333137512207,15.16333293914795,15.452667236328125,15.702667236328125,16.47333335876465,16.391332626342773,16.34666633605957,16.187332153320312,16.319332122802734,16.232667922973633,16.440000534057617,16.041332244873047,16.082000732421875,14.880666732788086,15.24666690826416,16.17066764831543,16.142000198364258,16.058000564575195,16.312667846679688,16.208667755126953,15.535332679748535,15.428667068481445,15.847999572753906,16.003332138061523,16.302000045776367,16.31599998474121,16.525999069213867,17.130666732788086,17.19266700744629,17.316667556762695,17.46466636657715,17.1299991607666,16.899999618530273,17.038667678833008,16.978666305541992,19.978666305541992,21.875333786010742,21.847333908081055,21.08133316040039,21.000667572021484,20.994667053222656,20.887332916259766,21.1646671295166,21.148000717163086,21.77199935913086,22.369333267211914,22.47599983215332,23.006000518798828,23.32866668701172,23.073999404907227,23.290000915527344,23.47800064086914,23.332666397094727,23.968000411987305,23.481332778930664,23.655332565307617,22.202667236328125,22.422666549682617,21.92799949645996,22.086000442504883,21.996000289916992,22.32466697692871,22.413333892822266,22.20199966430664,22.024667739868164,22.392667770385742,22.635332107543945,23.256000518798828,23.51333236694336,23.978666305541992,23.892667770385742,25.433332443237305,25.266000747680664,26.209999084472656,26.93600082397461,27.03933334350586,27.947999954223633,28.350000381469727,28.729333877563477,28.691999435424805,27.64666748046875,27.8886661529541,28.68400001525879,29.534000396728516,30.1026668548584,31.270666122436523,32.80933380126953,32.089332580566406,31.876667022705078,34.990665435791016,35.861331939697266,34.56666564941406,34.232666015625,34.03333282470703,36.47999954223633,37.97066879272461,38.14666748046875,37.654666900634766,37.201332092285156,37.793331146240234,38.732666015625,42.72066879272461,43.371334075927734,52.0,59.137332916259766,48.97999954223633,49.930667877197266,49.871334075927734,51.41866683959961,51.62533187866211,51.15266799926758,53.599998474121094,53.33533477783203,57.22666549682617,61.16133117675781,59.96066665649414,60.06666564941406,55.58599853515625,53.32733154296875,51.91999816894531,45.266666412353516,44.53266525268555,49.574668884277344,49.70066833496094,49.96666717529297,48.30266571044922,46.89866638183594,40.53333282470703,43.02199935913086,42.28200149536133,37.369998931884766,36.44133377075195,29.67133331298828,28.68000030517578,24.08133316040039,28.50933265686035,28.50200080871582,28.952667236328125,33.66666793823242,35.95000076293945,35.21066665649414,34.29066848754883,33.47533416748047,34.93333435058594,32.104000091552734,30.29800033569336,32.000667572021484,34.41600036621094,36.36333465576172,36.589332580566406,38.20000076293945,43.39666748046875,47.32600021362305,48.65533447265625,49.680667877197266,50.259334564208984,49.75733184814453,45.781333923339844,48.807334899902344,47.04199981689453,48.34333419799805,53.25,51.27466583251953,53.367332458496094,52.12533187866211,46.75466537475586,50.74599838256836,51.2140007019043,52.172000885009766,52.00266647338867,54.62799835205078,54.08599853515625,53.96066665649414,52.73066711425781,53.55533218383789,53.27799987792969,54.242000579833984,53.867332458496094,54.37066650390625,55.17333221435547,54.45866775512695,54.591331481933594,54.68199920654297,53.72066879272461,55.66666793823242,59.87333297729492,58.770668029785156,58.86399841308594,57.62533187866211,59.04399871826172,63.327999114990234,62.711334228515625,68.336669921875,64.85600280761719,62.35200119018555,66.05999755859375,65.47533416748047,66.11933135986328,66.9306640625,66.72666931152344,66.28800201416016,66.78533172607422,64.0566635131836,65.73200225830078,63.982666015625,67.29000091552734,71.98733520507812,74.64199829101562,80.57733154296875,91.43866729736328,92.65733337402344,91.05867004394531,92.9520034790039,102.97666931152344,99.80400085449219,101.12000274658203,103.06732940673828,100.04266357421875,100.05599975585938,109.53333282470703,104.55733489990234,106.15533447265625,100.87133026123047,94.46666717529297,102.63999938964844,98.43267059326172,99.94066619873047,99.16600036621094,95.38400268554688,99.0,99.13333129882812,99.00133514404297,99.30533599853516,96.84733581542969,94.57133483886719,91.6259994506836,103.65066528320312,108.06666564941406,110.04733276367188,122.3759994506836,125.80599975585938,125.23533630371094,133.45533752441406,136.6653289794922,134.27999877929688,134.8893280029297,143.54466247558594,149.25,147.55999755859375,166.10667419433594,158.35000610351562,149.1233367919922,135.6666717529297,139.44000244140625,110.06999969482422,122.09333038330078,123.77999877929688,124.23999786376953,139.8733367919922,149.9199981689453,147.25332641601562,141.14332580566406,147.38333129882812,149.79666137695312,141.41000366210938,126.78666687011719,129.26333618164062,135.77999877929688,140.39999389648438,139.69000244140625,143.00332641601562,149.3866729736328,138.3633270263672,141.89332580566406,137.9933319091797,141.76666259765625,141.97332763671875,144.6666717529297,147.43333435058594,148.88333129882812,153.76666259765625,149.6266632080078,146.55667114257812,143.61000061035156,140.64666748046875,140.8800048828125,141.92999267578125,140.2100067138672,140.0933380126953,141.55999755859375,135.33999633789062,136.94332885742188,129.34666442871094,133.50332641601562,141.3000030517578,140.32666015625,146.02999877929688,143.31666564941406,140.4199981689453,136.7866668701172,139.0433349609375,137.25332641601562,136.1666717529297,136.02999877929688,147.20333862304688,162.2133331298828,166.42333984375,163.20333862304688,173.9499969482422,185.1266632080078,191.3333282470703,195.25332641601562,189.1999969482422,194.9199981689453,189.60667419433594,197.7933349609375,199.67999267578125,213.9199981689453,216.6266632080078,201.4933319091797,209.02333068847656,203.3300018310547,213.27667236328125,211.0833282470703,207.58999633789062,218.63333129882812,231.6666717529297,216.6199951171875,213.44667053222656,215.32666015625,220.58999633789062,221.22999572753906,221.99667358398438,231.5933380126953,235.22332763671875,243.2566680908203,245.0366668701172,251.9933319091797,272.0133361816406,293.3399963378906,270.39666748046875,283.14666748046875,284.8033447265625,281.6666564941406,275.38665771484375,281.51666259765625,283.48333740234375,281.663330078125,282.21331787109375,293.6000061035156,294.36334228515625,288.0533447265625,278.4766540527344,264.510009765625,279.9366760253906,290.92999267578125,284.89666748046875,283.3299865722656,284.07666015625,287.8066711425781,283.1533203125,268.2733459472656,270.5533447265625,272.0400085449219,265.40667724609375,266.04998779296875,262.4599914550781,260.4333190917969,238.1666717529297,232.94667053222656,247.33999633789062,227.4066619873047,225.1666717529297,239.47666931152344,228.81333923339844,217.73333740234375,207.14666748046875,199.31666564941406,187.6666717529297,224.52667236328125,222.68666076660156,233.1999969482422,231.2433319091797,235.97999572753906,225.6266632080078,233.93666076660156,217.72000122070312,218.2899932861328,223.3333282470703,220.72000122070312,210.08999633789062,213.4633331298828,206.23666381835938,203.76333618164062,211.8733367919922,222.64332580566406,220.5833282470703,230.35000610351562,230.5399932861328,223.6566619873047,227.93333435058594,225.67333984375,233.9933319091797,254.10667419433594,244.07666015625,246.28334045410156,246.5933380126953,238.2100067138672,239.663330078125,248.0399932861328,239.89666748046875,243.13333129882812,246.06666564941406,234.913330078125,231.46665954589844,225.6666717529297,236.47999572753906,228.3000030517578,224.53334045410156,223.64666748046875,221.17999267578125,224.1233367919922,209.67999267578125,205.73333740234375,196.6300048828125,190.56333923339844,196.5800018310547,192.27667236328125,192.6233367919922,187.82000732421875,195.5933380126953,193.6266632080078,202.14666748046875,201.56333923339844,206.3766632080078,210.28334045410156,208.4066619873047,207.96665954589844,201.7066650390625,190.94667053222656,199.68333435058594,201.7100067138672,201.19667053222656,199.5933380126953,203.3733367919922,203.29666137695312,205.89666748046875],\"type\":\"scatter\",\"xaxis\":\"x\",\"yaxis\":\"y\"},{\"name\":\"Revenue\",\"x\":[\"2021-03-31T00:00:00\",\"2020-12-31T00:00:00\",\"2020-09-30T00:00:00\",\"2020-06-30T00:00:00\",\"2020-03-31T00:00:00\",\"2019-12-31T00:00:00\",\"2019-09-30T00:00:00\",\"2019-06-30T00:00:00\",\"2019-03-31T00:00:00\",\"2018-12-31T00:00:00\",\"2018-09-30T00:00:00\",\"2018-06-30T00:00:00\",\"2018-03-31T00:00:00\",\"2017-12-31T00:00:00\",\"2017-09-30T00:00:00\",\"2017-06-30T00:00:00\",\"2017-03-31T00:00:00\",\"2016-12-31T00:00:00\",\"2016-09-30T00:00:00\",\"2016-06-30T00:00:00\",\"2016-03-31T00:00:00\",\"2015-12-31T00:00:00\",\"2015-09-30T00:00:00\",\"2015-06-30T00:00:00\",\"2015-03-31T00:00:00\",\"2014-12-31T00:00:00\",\"2014-09-30T00:00:00\",\"2014-06-30T00:00:00\",\"2014-03-31T00:00:00\",\"2013-12-31T00:00:00\",\"2013-09-30T00:00:00\",\"2013-06-30T00:00:00\",\"2013-03-31T00:00:00\",\"2012-12-31T00:00:00\",\"2012-09-30T00:00:00\",\"2012-06-30T00:00:00\",\"2012-03-31T00:00:00\",\"2011-12-31T00:00:00\",\"2011-09-30T00:00:00\",\"2011-06-30T00:00:00\",\"2011-03-31T00:00:00\",\"2010-12-31T00:00:00\",\"2010-09-30T00:00:00\",\"2010-06-30T00:00:00\",\"2010-03-31T00:00:00\",\"2009-09-30T00:00:00\",\"2009-06-30T00:00:00\"],\"y\":[10389.0,10744.0,8771.0,6036.0,5985.0,7384.0,6303.0,6350.0,4541.0,7226.0,6824.0,4002.0,3409.0,3288.0,2985.0,2790.0,2696.0,2285.0,2298.0,1270.0,1147.0,1214.0,937.0,955.0,940.0,957.0,852.0,769.0,621.0,615.0,431.0,405.0,562.0,306.0,50.0,27.0,30.0,39.0,58.0,58.0,49.0,36.0,31.0,28.0,21.0,46.0,27.0],\"type\":\"scatter\",\"xaxis\":\"x2\",\"yaxis\":\"y2\"}],                        {\"template\":{\"data\":{\"histogram2dcontour\":[{\"type\":\"histogram2dcontour\",\"colorbar\":{\"outlinewidth\":0,\"ticks\":\"\"},\"colorscale\":[[0.0,\"#0d0887\"],[0.1111111111111111,\"#46039f\"],[0.2222222222222222,\"#7201a8\"],[0.3333333333333333,\"#9c179e\"],[0.4444444444444444,\"#bd3786\"],[0.5555555555555556,\"#d8576b\"],[0.6666666666666666,\"#ed7953\"],[0.7777777777777778,\"#fb9f3a\"],[0.8888888888888888,\"#fdca26\"],[1.0,\"#f0f921\"]]}],\"choropleth\":[{\"type\":\"choropleth\",\"colorbar\":{\"outlinewidth\":0,\"ticks\":\"\"}}],\"histogram2d\":[{\"type\":\"histogram2d\",\"colorbar\":{\"outlinewidth\":0,\"ticks\":\"\"},\"colorscale\":[[0.0,\"#0d0887\"],[0.1111111111111111,\"#46039f\"],[0.2222222222222222,\"#7201a8\"],[0.3333333333333333,\"#9c179e\"],[0.4444444444444444,\"#bd3786\"],[0.5555555555555556,\"#d8576b\"],[0.6666666666666666,\"#ed7953\"],[0.7777777777777778,\"#fb9f3a\"],[0.8888888888888888,\"#fdca26\"],[1.0,\"#f0f921\"]]}],\"heatmap\":[{\"type\":\"heatmap\",\"colorbar\":{\"outlinewidth\":0,\"ticks\":\"\"},\"colorscale\":[[0.0,\"#0d0887\"],[0.1111111111111111,\"#46039f\"],[0.2222222222222222,\"#7201a8\"],[0.3333333333333333,\"#9c179e\"],[0.4444444444444444,\"#bd3786\"],[0.5555555555555556,\"#d8576b\"],[0.6666666666666666,\"#ed7953\"],[0.7777777777777778,\"#fb9f3a\"],[0.8888888888888888,\"#fdca26\"],[1.0,\"#f0f921\"]]}],\"heatmapgl\":[{\"type\":\"heatmapgl\",\"colorbar\":{\"outlinewidth\":0,\"ticks\":\"\"},\"colorscale\":[[0.0,\"#0d0887\"],[0.1111111111111111,\"#46039f\"],[0.2222222222222222,\"#7201a8\"],[0.3333333333333333,\"#9c179e\"],[0.4444444444444444,\"#bd3786\"],[0.5555555555555556,\"#d8576b\"],[0.6666666666666666,\"#ed7953\"],[0.7777777777777778,\"#fb9f3a\"],[0.8888888888888888,\"#fdca26\"],[1.0,\"#f0f921\"]]}],\"contourcarpet\":[{\"type\":\"contourcarpet\",\"colorbar\":{\"outlinewidth\":0,\"ticks\":\"\"}}],\"contour\":[{\"type\":\"contour\",\"colorbar\":{\"outlinewidth\":0,\"ticks\":\"\"},\"colorscale\":[[0.0,\"#0d0887\"],[0.1111111111111111,\"#46039f\"],[0.2222222222222222,\"#7201a8\"],[0.3333333333333333,\"#9c179e\"],[0.4444444444444444,\"#bd3786\"],[0.5555555555555556,\"#d8576b\"],[0.6666666666666666,\"#ed7953\"],[0.7777777777777778,\"#fb9f3a\"],[0.8888888888888888,\"#fdca26\"],[1.0,\"#f0f921\"]]}],\"surface\":[{\"type\":\"surface\",\"colorbar\":{\"outlinewidth\":0,\"ticks\":\"\"},\"colorscale\":[[0.0,\"#0d0887\"],[0.1111111111111111,\"#46039f\"],[0.2222222222222222,\"#7201a8\"],[0.3333333333333333,\"#9c179e\"],[0.4444444444444444,\"#bd3786\"],[0.5555555555555556,\"#d8576b\"],[0.6666666666666666,\"#ed7953\"],[0.7777777777777778,\"#fb9f3a\"],[0.8888888888888888,\"#fdca26\"],[1.0,\"#f0f921\"]]}],\"mesh3d\":[{\"type\":\"mesh3d\",\"colorbar\":{\"outlinewidth\":0,\"ticks\":\"\"}}],\"scatter\":[{\"fillpattern\":{\"fillmode\":\"overlay\",\"size\":10,\"solidity\":0.2},\"type\":\"scatter\"}],\"parcoords\":[{\"type\":\"parcoords\",\"line\":{\"colorbar\":{\"outlinewidth\":0,\"ticks\":\"\"}}}],\"scatterpolargl\":[{\"type\":\"scatterpolargl\",\"marker\":{\"colorbar\":{\"outlinewidth\":0,\"ticks\":\"\"}}}],\"bar\":[{\"error_x\":{\"color\":\"#2a3f5f\"},\"error_y\":{\"color\":\"#2a3f5f\"},\"marker\":{\"line\":{\"color\":\"#E5ECF6\",\"width\":0.5},\"pattern\":{\"fillmode\":\"overlay\",\"size\":10,\"solidity\":0.2}},\"type\":\"bar\"}],\"scattergeo\":[{\"type\":\"scattergeo\",\"marker\":{\"colorbar\":{\"outlinewidth\":0,\"ticks\":\"\"}}}],\"scatterpolar\":[{\"type\":\"scatterpolar\",\"marker\":{\"colorbar\":{\"outlinewidth\":0,\"ticks\":\"\"}}}],\"histogram\":[{\"marker\":{\"pattern\":{\"fillmode\":\"overlay\",\"size\":10,\"solidity\":0.2}},\"type\":\"histogram\"}],\"scattergl\":[{\"type\":\"scattergl\",\"marker\":{\"colorbar\":{\"outlinewidth\":0,\"ticks\":\"\"}}}],\"scatter3d\":[{\"type\":\"scatter3d\",\"line\":{\"colorbar\":{\"outlinewidth\":0,\"ticks\":\"\"}},\"marker\":{\"colorbar\":{\"outlinewidth\":0,\"ticks\":\"\"}}}],\"scattermapbox\":[{\"type\":\"scattermapbox\",\"marker\":{\"colorbar\":{\"outlinewidth\":0,\"ticks\":\"\"}}}],\"scatterternary\":[{\"type\":\"scatterternary\",\"marker\":{\"colorbar\":{\"outlinewidth\":0,\"ticks\":\"\"}}}],\"scattercarpet\":[{\"type\":\"scattercarpet\",\"marker\":{\"colorbar\":{\"outlinewidth\":0,\"ticks\":\"\"}}}],\"carpet\":[{\"aaxis\":{\"endlinecolor\":\"#2a3f5f\",\"gridcolor\":\"white\",\"linecolor\":\"white\",\"minorgridcolor\":\"white\",\"startlinecolor\":\"#2a3f5f\"},\"baxis\":{\"endlinecolor\":\"#2a3f5f\",\"gridcolor\":\"white\",\"linecolor\":\"white\",\"minorgridcolor\":\"white\",\"startlinecolor\":\"#2a3f5f\"},\"type\":\"carpet\"}],\"table\":[{\"cells\":{\"fill\":{\"color\":\"#EBF0F8\"},\"line\":{\"color\":\"white\"}},\"header\":{\"fill\":{\"color\":\"#C8D4E3\"},\"line\":{\"color\":\"white\"}},\"type\":\"table\"}],\"barpolar\":[{\"marker\":{\"line\":{\"color\":\"#E5ECF6\",\"width\":0.5},\"pattern\":{\"fillmode\":\"overlay\",\"size\":10,\"solidity\":0.2}},\"type\":\"barpolar\"}],\"pie\":[{\"automargin\":true,\"type\":\"pie\"}]},\"layout\":{\"autotypenumbers\":\"strict\",\"colorway\":[\"#636efa\",\"#EF553B\",\"#00cc96\",\"#ab63fa\",\"#FFA15A\",\"#19d3f3\",\"#FF6692\",\"#B6E880\",\"#FF97FF\",\"#FECB52\"],\"font\":{\"color\":\"#2a3f5f\"},\"hovermode\":\"closest\",\"hoverlabel\":{\"align\":\"left\"},\"paper_bgcolor\":\"white\",\"plot_bgcolor\":\"#E5ECF6\",\"polar\":{\"bgcolor\":\"#E5ECF6\",\"angularaxis\":{\"gridcolor\":\"white\",\"linecolor\":\"white\",\"ticks\":\"\"},\"radialaxis\":{\"gridcolor\":\"white\",\"linecolor\":\"white\",\"ticks\":\"\"}},\"ternary\":{\"bgcolor\":\"#E5ECF6\",\"aaxis\":{\"gridcolor\":\"white\",\"linecolor\":\"white\",\"ticks\":\"\"},\"baxis\":{\"gridcolor\":\"white\",\"linecolor\":\"white\",\"ticks\":\"\"},\"caxis\":{\"gridcolor\":\"white\",\"linecolor\":\"white\",\"ticks\":\"\"}},\"coloraxis\":{\"colorbar\":{\"outlinewidth\":0,\"ticks\":\"\"}},\"colorscale\":{\"sequential\":[[0.0,\"#0d0887\"],[0.1111111111111111,\"#46039f\"],[0.2222222222222222,\"#7201a8\"],[0.3333333333333333,\"#9c179e\"],[0.4444444444444444,\"#bd3786\"],[0.5555555555555556,\"#d8576b\"],[0.6666666666666666,\"#ed7953\"],[0.7777777777777778,\"#fb9f3a\"],[0.8888888888888888,\"#fdca26\"],[1.0,\"#f0f921\"]],\"sequentialminus\":[[0.0,\"#0d0887\"],[0.1111111111111111,\"#46039f\"],[0.2222222222222222,\"#7201a8\"],[0.3333333333333333,\"#9c179e\"],[0.4444444444444444,\"#bd3786\"],[0.5555555555555556,\"#d8576b\"],[0.6666666666666666,\"#ed7953\"],[0.7777777777777778,\"#fb9f3a\"],[0.8888888888888888,\"#fdca26\"],[1.0,\"#f0f921\"]],\"diverging\":[[0,\"#8e0152\"],[0.1,\"#c51b7d\"],[0.2,\"#de77ae\"],[0.3,\"#f1b6da\"],[0.4,\"#fde0ef\"],[0.5,\"#f7f7f7\"],[0.6,\"#e6f5d0\"],[0.7,\"#b8e186\"],[0.8,\"#7fbc41\"],[0.9,\"#4d9221\"],[1,\"#276419\"]]},\"xaxis\":{\"gridcolor\":\"white\",\"linecolor\":\"white\",\"ticks\":\"\",\"title\":{\"standoff\":15},\"zerolinecolor\":\"white\",\"automargin\":true,\"zerolinewidth\":2},\"yaxis\":{\"gridcolor\":\"white\",\"linecolor\":\"white\",\"ticks\":\"\",\"title\":{\"standoff\":15},\"zerolinecolor\":\"white\",\"automargin\":true,\"zerolinewidth\":2},\"scene\":{\"xaxis\":{\"backgroundcolor\":\"#E5ECF6\",\"gridcolor\":\"white\",\"linecolor\":\"white\",\"showbackground\":true,\"ticks\":\"\",\"zerolinecolor\":\"white\",\"gridwidth\":2},\"yaxis\":{\"backgroundcolor\":\"#E5ECF6\",\"gridcolor\":\"white\",\"linecolor\":\"white\",\"showbackground\":true,\"ticks\":\"\",\"zerolinecolor\":\"white\",\"gridwidth\":2},\"zaxis\":{\"backgroundcolor\":\"#E5ECF6\",\"gridcolor\":\"white\",\"linecolor\":\"white\",\"showbackground\":true,\"ticks\":\"\",\"zerolinecolor\":\"white\",\"gridwidth\":2}},\"shapedefaults\":{\"line\":{\"color\":\"#2a3f5f\"}},\"annotationdefaults\":{\"arrowcolor\":\"#2a3f5f\",\"arrowhead\":0,\"arrowwidth\":1},\"geo\":{\"bgcolor\":\"white\",\"landcolor\":\"#E5ECF6\",\"subunitcolor\":\"white\",\"showland\":true,\"showlakes\":true,\"lakecolor\":\"white\"},\"title\":{\"x\":0.05},\"mapbox\":{\"style\":\"light\"}}},\"xaxis\":{\"anchor\":\"y\",\"domain\":[0.0,1.0],\"matches\":\"x2\",\"showticklabels\":false,\"title\":{\"text\":\"Date\"},\"rangeslider\":{\"visible\":true}},\"yaxis\":{\"anchor\":\"x\",\"domain\":[0.6499999999999999,0.9999999999999999],\"title\":{\"text\":\"Price ($US)\"}},\"xaxis2\":{\"anchor\":\"y2\",\"domain\":[0.0,1.0],\"title\":{\"text\":\"Date\"}},\"yaxis2\":{\"anchor\":\"x2\",\"domain\":[0.0,0.35],\"title\":{\"text\":\"Revenue ($US Millions)\"}},\"annotations\":[{\"font\":{\"size\":16},\"showarrow\":false,\"text\":\"Historical Share Price\",\"x\":0.5,\"xanchor\":\"center\",\"xref\":\"paper\",\"y\":0.9999999999999999,\"yanchor\":\"bottom\",\"yref\":\"paper\"},{\"font\":{\"size\":16},\"showarrow\":false,\"text\":\"Historical Revenue\",\"x\":0.5,\"xanchor\":\"center\",\"xref\":\"paper\",\"y\":0.35,\"yanchor\":\"bottom\",\"yref\":\"paper\"}],\"showlegend\":false,\"height\":900,\"title\":{\"text\":\"Tesla\"}},                        {\"responsive\": true}                    ).then(function(){\n",
              "                            \n",
              "var gd = document.getElementById('af19ee5e-e7e2-413a-884f-9e52971bfdee');\n",
              "var x = new MutationObserver(function (mutations, observer) {{\n",
              "        var display = window.getComputedStyle(gd).display;\n",
              "        if (!display || display === 'none') {{\n",
              "            console.log([gd, 'removed!']);\n",
              "            Plotly.purge(gd);\n",
              "            observer.disconnect();\n",
              "        }}\n",
              "}});\n",
              "\n",
              "// Listen for the removal of the full notebook cells\n",
              "var notebookContainer = gd.closest('#notebook-container');\n",
              "if (notebookContainer) {{\n",
              "    x.observe(notebookContainer, {childList: true});\n",
              "}}\n",
              "\n",
              "// Listen for the clearing of the current output cell\n",
              "var outputEl = gd.closest('.output');\n",
              "if (outputEl) {{\n",
              "    x.observe(outputEl, {childList: true});\n",
              "}}\n",
              "\n",
              "                        })                };                            </script>        </div>\n",
              "</body>\n",
              "</html>"
            ]
          },
          "metadata": {}
        }
      ]
    },
    {
      "metadata": {
        "id": "321e881c-2e90-4bb2-90c2-ca1ccccbdf56"
      },
      "cell_type": "markdown",
      "source": [
        "## Question 6: Plot GameStop Stock Graph\n"
      ]
    },
    {
      "metadata": {
        "id": "4d4f7bd3-929f-41d0-a52a-2da9b1560060"
      },
      "cell_type": "markdown",
      "source": [
        "Use the `make_graph` function to graph the GameStop Stock Data, also provide a title for the graph. The structure to call the `make_graph` function is `make_graph(gme_data, gme_revenue, 'GameStop')`. Note the graph will only show data upto June 2021.\n"
      ]
    },
    {
      "metadata": {
        "id": "1192b191-eb26-4e78-964b-dadc3142e0e5"
      },
      "cell_type": "markdown",
      "source": [
        "<details><summary>Hint</summary>\n",
        "\n",
        "```\n",
        "\n",
        "You just need to invoke the make_graph function with the required parameter to print the graphs.The structure to call the `make_graph` function is `make_graph(gme_data, gme_revenue, 'GameStop')`\n",
        "\n",
        "```\n",
        "    \n",
        "</details>\n"
      ]
    },
    {
      "metadata": {
        "colab": {
          "base_uri": "https://localhost:8080/",
          "height": 1000
        },
        "id": "a90bd309-7e61-435c-9f59-6d4f5ed979f2",
        "outputId": "5be6dc80-9807-4cde-fd5d-973f9116955b"
      },
      "cell_type": "code",
      "source": [
        "make_graph(gme_data, gme_revenue, 'GameStop')"
      ],
      "execution_count": 48,
      "outputs": [
        {
          "output_type": "stream",
          "name": "stderr",
          "text": [
            "<ipython-input-30-47a2266b7876>:5: UserWarning:\n",
            "\n",
            "The argument 'infer_datetime_format' is deprecated and will be removed in a future version. A strict version of it is now the default, see https://pandas.pydata.org/pdeps/0004-consistent-to-datetime-parsing.html. You can safely remove this argument.\n",
            "\n",
            "<ipython-input-30-47a2266b7876>:6: UserWarning:\n",
            "\n",
            "The argument 'infer_datetime_format' is deprecated and will be removed in a future version. A strict version of it is now the default, see https://pandas.pydata.org/pdeps/0004-consistent-to-datetime-parsing.html. You can safely remove this argument.\n",
            "\n"
          ]
        },
        {
          "output_type": "display_data",
          "data": {
            "text/html": [
              "<html>\n",
              "<head><meta charset=\"utf-8\" /></head>\n",
              "<body>\n",
              "    <div>            <script src=\"https://cdnjs.cloudflare.com/ajax/libs/mathjax/2.7.5/MathJax.js?config=TeX-AMS-MML_SVG\"></script><script type=\"text/javascript\">if (window.MathJax && window.MathJax.Hub && window.MathJax.Hub.Config) {window.MathJax.Hub.Config({SVG: {font: \"STIX-Web\"}});}</script>                <script type=\"text/javascript\">window.PlotlyConfig = {MathJaxConfig: 'local'};</script>\n",
              "        <script charset=\"utf-8\" src=\"https://cdn.plot.ly/plotly-2.32.0.min.js\"></script>                <div id=\"28e1c912-1d86-4127-8062-a8b512aad3d7\" class=\"plotly-graph-div\" style=\"height:900px; width:100%;\"></div>            <script type=\"text/javascript\">                                    window.PLOTLYENV=window.PLOTLYENV || {};                                    if (document.getElementById(\"28e1c912-1d86-4127-8062-a8b512aad3d7\")) {                    Plotly.newPlot(                        \"28e1c912-1d86-4127-8062-a8b512aad3d7\",                        [{\"name\":\"Share Price\",\"x\":[\"2002-02-13T00:00:00-05:00\",\"2002-02-14T00:00:00-05:00\",\"2002-02-15T00:00:00-05:00\",\"2002-02-19T00:00:00-05:00\",\"2002-02-20T00:00:00-05:00\",\"2002-02-21T00:00:00-05:00\",\"2002-02-22T00:00:00-05:00\",\"2002-02-25T00:00:00-05:00\",\"2002-02-26T00:00:00-05:00\",\"2002-02-27T00:00:00-05:00\",\"2002-02-28T00:00:00-05:00\",\"2002-03-01T00:00:00-05:00\",\"2002-03-04T00:00:00-05:00\",\"2002-03-05T00:00:00-05:00\",\"2002-03-06T00:00:00-05:00\",\"2002-03-07T00:00:00-05:00\",\"2002-03-08T00:00:00-05:00\",\"2002-03-11T00:00:00-05:00\",\"2002-03-12T00:00:00-05:00\",\"2002-03-13T00:00:00-05:00\",\"2002-03-14T00:00:00-05:00\",\"2002-03-15T00:00:00-05:00\",\"2002-03-18T00:00:00-05:00\",\"2002-03-19T00:00:00-05:00\",\"2002-03-20T00:00:00-05:00\",\"2002-03-21T00:00:00-05:00\",\"2002-03-22T00:00:00-05:00\",\"2002-03-25T00:00:00-05:00\",\"2002-03-26T00:00:00-05:00\",\"2002-03-27T00:00:00-05:00\",\"2002-03-28T00:00:00-05:00\",\"2002-04-01T00:00:00-05:00\",\"2002-04-02T00:00:00-05:00\",\"2002-04-03T00:00:00-05:00\",\"2002-04-04T00:00:00-05:00\",\"2002-04-05T00:00:00-05:00\",\"2002-04-08T00:00:00-04:00\",\"2002-04-09T00:00:00-04:00\",\"2002-04-10T00:00:00-04:00\",\"2002-04-11T00:00:00-04:00\",\"2002-04-12T00:00:00-04:00\",\"2002-04-15T00:00:00-04:00\",\"2002-04-16T00:00:00-04:00\",\"2002-04-17T00:00:00-04:00\",\"2002-04-18T00:00:00-04:00\",\"2002-04-19T00:00:00-04:00\",\"2002-04-22T00:00:00-04:00\",\"2002-04-23T00:00:00-04:00\",\"2002-04-24T00:00:00-04:00\",\"2002-04-25T00:00:00-04:00\",\"2002-04-26T00:00:00-04:00\",\"2002-04-29T00:00:00-04:00\",\"2002-04-30T00:00:00-04:00\",\"2002-05-01T00:00:00-04:00\",\"2002-05-02T00:00:00-04:00\",\"2002-05-03T00:00:00-04:00\",\"2002-05-06T00:00:00-04:00\",\"2002-05-07T00:00:00-04:00\",\"2002-05-08T00:00:00-04:00\",\"2002-05-09T00:00:00-04:00\",\"2002-05-10T00:00:00-04:00\",\"2002-05-13T00:00:00-04:00\",\"2002-05-14T00:00:00-04:00\",\"2002-05-15T00:00:00-04:00\",\"2002-05-16T00:00:00-04:00\",\"2002-05-17T00:00:00-04:00\",\"2002-05-20T00:00:00-04:00\",\"2002-05-21T00:00:00-04:00\",\"2002-05-22T00:00:00-04:00\",\"2002-05-23T00:00:00-04:00\",\"2002-05-24T00:00:00-04:00\",\"2002-05-28T00:00:00-04:00\",\"2002-05-29T00:00:00-04:00\",\"2002-05-30T00:00:00-04:00\",\"2002-05-31T00:00:00-04:00\",\"2002-06-03T00:00:00-04:00\",\"2002-06-04T00:00:00-04:00\",\"2002-06-05T00:00:00-04:00\",\"2002-06-06T00:00:00-04:00\",\"2002-06-07T00:00:00-04:00\",\"2002-06-10T00:00:00-04:00\",\"2002-06-11T00:00:00-04:00\",\"2002-06-12T00:00:00-04:00\",\"2002-06-13T00:00:00-04:00\",\"2002-06-14T00:00:00-04:00\",\"2002-06-17T00:00:00-04:00\",\"2002-06-18T00:00:00-04:00\",\"2002-06-19T00:00:00-04:00\",\"2002-06-20T00:00:00-04:00\",\"2002-06-21T00:00:00-04:00\",\"2002-06-24T00:00:00-04:00\",\"2002-06-25T00:00:00-04:00\",\"2002-06-26T00:00:00-04:00\",\"2002-06-27T00:00:00-04:00\",\"2002-06-28T00:00:00-04:00\",\"2002-07-01T00:00:00-04:00\",\"2002-07-02T00:00:00-04:00\",\"2002-07-03T00:00:00-04:00\",\"2002-07-05T00:00:00-04:00\",\"2002-07-08T00:00:00-04:00\",\"2002-07-09T00:00:00-04:00\",\"2002-07-10T00:00:00-04:00\",\"2002-07-11T00:00:00-04:00\",\"2002-07-12T00:00:00-04:00\",\"2002-07-15T00:00:00-04:00\",\"2002-07-16T00:00:00-04:00\",\"2002-07-17T00:00:00-04:00\",\"2002-07-18T00:00:00-04:00\",\"2002-07-19T00:00:00-04:00\",\"2002-07-22T00:00:00-04:00\",\"2002-07-23T00:00:00-04:00\",\"2002-07-24T00:00:00-04:00\",\"2002-07-25T00:00:00-04:00\",\"2002-07-26T00:00:00-04:00\",\"2002-07-29T00:00:00-04:00\",\"2002-07-30T00:00:00-04:00\",\"2002-07-31T00:00:00-04:00\",\"2002-08-01T00:00:00-04:00\",\"2002-08-02T00:00:00-04:00\",\"2002-08-05T00:00:00-04:00\",\"2002-08-06T00:00:00-04:00\",\"2002-08-07T00:00:00-04:00\",\"2002-08-08T00:00:00-04:00\",\"2002-08-09T00:00:00-04:00\",\"2002-08-12T00:00:00-04:00\",\"2002-08-13T00:00:00-04:00\",\"2002-08-14T00:00:00-04:00\",\"2002-08-15T00:00:00-04:00\",\"2002-08-16T00:00:00-04:00\",\"2002-08-19T00:00:00-04:00\",\"2002-08-20T00:00:00-04:00\",\"2002-08-21T00:00:00-04:00\",\"2002-08-22T00:00:00-04:00\",\"2002-08-23T00:00:00-04:00\",\"2002-08-26T00:00:00-04:00\",\"2002-08-27T00:00:00-04:00\",\"2002-08-28T00:00:00-04:00\",\"2002-08-29T00:00:00-04:00\",\"2002-08-30T00:00:00-04:00\",\"2002-09-03T00:00:00-04:00\",\"2002-09-04T00:00:00-04:00\",\"2002-09-05T00:00:00-04:00\",\"2002-09-06T00:00:00-04:00\",\"2002-09-09T00:00:00-04:00\",\"2002-09-10T00:00:00-04:00\",\"2002-09-11T00:00:00-04:00\",\"2002-09-12T00:00:00-04:00\",\"2002-09-13T00:00:00-04:00\",\"2002-09-16T00:00:00-04:00\",\"2002-09-17T00:00:00-04:00\",\"2002-09-18T00:00:00-04:00\",\"2002-09-19T00:00:00-04:00\",\"2002-09-20T00:00:00-04:00\",\"2002-09-23T00:00:00-04:00\",\"2002-09-24T00:00:00-04:00\",\"2002-09-25T00:00:00-04:00\",\"2002-09-26T00:00:00-04:00\",\"2002-09-27T00:00:00-04:00\",\"2002-09-30T00:00:00-04:00\",\"2002-10-01T00:00:00-04:00\",\"2002-10-02T00:00:00-04:00\",\"2002-10-03T00:00:00-04:00\",\"2002-10-04T00:00:00-04:00\",\"2002-10-07T00:00:00-04:00\",\"2002-10-08T00:00:00-04:00\",\"2002-10-09T00:00:00-04:00\",\"2002-10-10T00:00:00-04:00\",\"2002-10-11T00:00:00-04:00\",\"2002-10-14T00:00:00-04:00\",\"2002-10-15T00:00:00-04:00\",\"2002-10-16T00:00:00-04:00\",\"2002-10-17T00:00:00-04:00\",\"2002-10-18T00:00:00-04:00\",\"2002-10-21T00:00:00-04:00\",\"2002-10-22T00:00:00-04:00\",\"2002-10-23T00:00:00-04:00\",\"2002-10-24T00:00:00-04:00\",\"2002-10-25T00:00:00-04:00\",\"2002-10-28T00:00:00-05:00\",\"2002-10-29T00:00:00-05:00\",\"2002-10-30T00:00:00-05:00\",\"2002-10-31T00:00:00-05:00\",\"2002-11-01T00:00:00-05:00\",\"2002-11-04T00:00:00-05:00\",\"2002-11-05T00:00:00-05:00\",\"2002-11-06T00:00:00-05:00\",\"2002-11-07T00:00:00-05:00\",\"2002-11-08T00:00:00-05:00\",\"2002-11-11T00:00:00-05:00\",\"2002-11-12T00:00:00-05:00\",\"2002-11-13T00:00:00-05:00\",\"2002-11-14T00:00:00-05:00\",\"2002-11-15T00:00:00-05:00\",\"2002-11-18T00:00:00-05:00\",\"2002-11-19T00:00:00-05:00\",\"2002-11-20T00:00:00-05:00\",\"2002-11-21T00:00:00-05:00\",\"2002-11-22T00:00:00-05:00\",\"2002-11-25T00:00:00-05:00\",\"2002-11-26T00:00:00-05:00\",\"2002-11-27T00:00:00-05:00\",\"2002-11-29T00:00:00-05:00\",\"2002-12-02T00:00:00-05:00\",\"2002-12-03T00:00:00-05:00\",\"2002-12-04T00:00:00-05:00\",\"2002-12-05T00:00:00-05:00\",\"2002-12-06T00:00:00-05:00\",\"2002-12-09T00:00:00-05:00\",\"2002-12-10T00:00:00-05:00\",\"2002-12-11T00:00:00-05:00\",\"2002-12-12T00:00:00-05:00\",\"2002-12-13T00:00:00-05:00\",\"2002-12-16T00:00:00-05:00\",\"2002-12-17T00:00:00-05:00\",\"2002-12-18T00:00:00-05:00\",\"2002-12-19T00:00:00-05:00\",\"2002-12-20T00:00:00-05:00\",\"2002-12-23T00:00:00-05:00\",\"2002-12-24T00:00:00-05:00\",\"2002-12-26T00:00:00-05:00\",\"2002-12-27T00:00:00-05:00\",\"2002-12-30T00:00:00-05:00\",\"2002-12-31T00:00:00-05:00\",\"2003-01-02T00:00:00-05:00\",\"2003-01-03T00:00:00-05:00\",\"2003-01-06T00:00:00-05:00\",\"2003-01-07T00:00:00-05:00\",\"2003-01-08T00:00:00-05:00\",\"2003-01-09T00:00:00-05:00\",\"2003-01-10T00:00:00-05:00\",\"2003-01-13T00:00:00-05:00\",\"2003-01-14T00:00:00-05:00\",\"2003-01-15T00:00:00-05:00\",\"2003-01-16T00:00:00-05:00\",\"2003-01-17T00:00:00-05:00\",\"2003-01-21T00:00:00-05:00\",\"2003-01-22T00:00:00-05:00\",\"2003-01-23T00:00:00-05:00\",\"2003-01-24T00:00:00-05:00\",\"2003-01-27T00:00:00-05:00\",\"2003-01-28T00:00:00-05:00\",\"2003-01-29T00:00:00-05:00\",\"2003-01-30T00:00:00-05:00\",\"2003-01-31T00:00:00-05:00\",\"2003-02-03T00:00:00-05:00\",\"2003-02-04T00:00:00-05:00\",\"2003-02-05T00:00:00-05:00\",\"2003-02-06T00:00:00-05:00\",\"2003-02-07T00:00:00-05:00\",\"2003-02-10T00:00:00-05:00\",\"2003-02-11T00:00:00-05:00\",\"2003-02-12T00:00:00-05:00\",\"2003-02-13T00:00:00-05:00\",\"2003-02-14T00:00:00-05:00\",\"2003-02-18T00:00:00-05:00\",\"2003-02-19T00:00:00-05:00\",\"2003-02-20T00:00:00-05:00\",\"2003-02-21T00:00:00-05:00\",\"2003-02-24T00:00:00-05:00\",\"2003-02-25T00:00:00-05:00\",\"2003-02-26T00:00:00-05:00\",\"2003-02-27T00:00:00-05:00\",\"2003-02-28T00:00:00-05:00\",\"2003-03-03T00:00:00-05:00\",\"2003-03-04T00:00:00-05:00\",\"2003-03-05T00:00:00-05:00\",\"2003-03-06T00:00:00-05:00\",\"2003-03-07T00:00:00-05:00\",\"2003-03-10T00:00:00-05:00\",\"2003-03-11T00:00:00-05:00\",\"2003-03-12T00:00:00-05:00\",\"2003-03-13T00:00:00-05:00\",\"2003-03-14T00:00:00-05:00\",\"2003-03-17T00:00:00-05:00\",\"2003-03-18T00:00:00-05:00\",\"2003-03-19T00:00:00-05:00\",\"2003-03-20T00:00:00-05:00\",\"2003-03-21T00:00:00-05:00\",\"2003-03-24T00:00:00-05:00\",\"2003-03-25T00:00:00-05:00\",\"2003-03-26T00:00:00-05:00\",\"2003-03-27T00:00:00-05:00\",\"2003-03-28T00:00:00-05:00\",\"2003-03-31T00:00:00-05:00\",\"2003-04-01T00:00:00-05:00\",\"2003-04-02T00:00:00-05:00\",\"2003-04-03T00:00:00-05:00\",\"2003-04-04T00:00:00-05:00\",\"2003-04-07T00:00:00-04:00\",\"2003-04-08T00:00:00-04:00\",\"2003-04-09T00:00:00-04:00\",\"2003-04-10T00:00:00-04:00\",\"2003-04-11T00:00:00-04:00\",\"2003-04-14T00:00:00-04:00\",\"2003-04-15T00:00:00-04:00\",\"2003-04-16T00:00:00-04:00\",\"2003-04-17T00:00:00-04:00\",\"2003-04-21T00:00:00-04:00\",\"2003-04-22T00:00:00-04:00\",\"2003-04-23T00:00:00-04:00\",\"2003-04-24T00:00:00-04:00\",\"2003-04-25T00:00:00-04:00\",\"2003-04-28T00:00:00-04:00\",\"2003-04-29T00:00:00-04:00\",\"2003-04-30T00:00:00-04:00\",\"2003-05-01T00:00:00-04:00\",\"2003-05-02T00:00:00-04:00\",\"2003-05-05T00:00:00-04:00\",\"2003-05-06T00:00:00-04:00\",\"2003-05-07T00:00:00-04:00\",\"2003-05-08T00:00:00-04:00\",\"2003-05-09T00:00:00-04:00\",\"2003-05-12T00:00:00-04:00\",\"2003-05-13T00:00:00-04:00\",\"2003-05-14T00:00:00-04:00\",\"2003-05-15T00:00:00-04:00\",\"2003-05-16T00:00:00-04:00\",\"2003-05-19T00:00:00-04:00\",\"2003-05-20T00:00:00-04:00\",\"2003-05-21T00:00:00-04:00\",\"2003-05-22T00:00:00-04:00\",\"2003-05-23T00:00:00-04:00\",\"2003-05-27T00:00:00-04:00\",\"2003-05-28T00:00:00-04:00\",\"2003-05-29T00:00:00-04:00\",\"2003-05-30T00:00:00-04:00\",\"2003-06-02T00:00:00-04:00\",\"2003-06-03T00:00:00-04:00\",\"2003-06-04T00:00:00-04:00\",\"2003-06-05T00:00:00-04:00\",\"2003-06-06T00:00:00-04:00\",\"2003-06-09T00:00:00-04:00\",\"2003-06-10T00:00:00-04:00\",\"2003-06-11T00:00:00-04:00\",\"2003-06-12T00:00:00-04:00\",\"2003-06-13T00:00:00-04:00\",\"2003-06-16T00:00:00-04:00\",\"2003-06-17T00:00:00-04:00\",\"2003-06-18T00:00:00-04:00\",\"2003-06-19T00:00:00-04:00\",\"2003-06-20T00:00:00-04:00\",\"2003-06-23T00:00:00-04:00\",\"2003-06-24T00:00:00-04:00\",\"2003-06-25T00:00:00-04:00\",\"2003-06-26T00:00:00-04:00\",\"2003-06-27T00:00:00-04:00\",\"2003-06-30T00:00:00-04:00\",\"2003-07-01T00:00:00-04:00\",\"2003-07-02T00:00:00-04:00\",\"2003-07-03T00:00:00-04:00\",\"2003-07-07T00:00:00-04:00\",\"2003-07-08T00:00:00-04:00\",\"2003-07-09T00:00:00-04:00\",\"2003-07-10T00:00:00-04:00\",\"2003-07-11T00:00:00-04:00\",\"2003-07-14T00:00:00-04:00\",\"2003-07-15T00:00:00-04:00\",\"2003-07-16T00:00:00-04:00\",\"2003-07-17T00:00:00-04:00\",\"2003-07-18T00:00:00-04:00\",\"2003-07-21T00:00:00-04:00\",\"2003-07-22T00:00:00-04:00\",\"2003-07-23T00:00:00-04:00\",\"2003-07-24T00:00:00-04:00\",\"2003-07-25T00:00:00-04:00\",\"2003-07-28T00:00:00-04:00\",\"2003-07-29T00:00:00-04:00\",\"2003-07-30T00:00:00-04:00\",\"2003-07-31T00:00:00-04:00\",\"2003-08-01T00:00:00-04:00\",\"2003-08-04T00:00:00-04:00\",\"2003-08-05T00:00:00-04:00\",\"2003-08-06T00:00:00-04:00\",\"2003-08-07T00:00:00-04:00\",\"2003-08-08T00:00:00-04:00\",\"2003-08-11T00:00:00-04:00\",\"2003-08-12T00:00:00-04:00\",\"2003-08-13T00:00:00-04:00\",\"2003-08-14T00:00:00-04:00\",\"2003-08-15T00:00:00-04:00\",\"2003-08-18T00:00:00-04:00\",\"2003-08-19T00:00:00-04:00\",\"2003-08-20T00:00:00-04:00\",\"2003-08-21T00:00:00-04:00\",\"2003-08-22T00:00:00-04:00\",\"2003-08-25T00:00:00-04:00\",\"2003-08-26T00:00:00-04:00\",\"2003-08-27T00:00:00-04:00\",\"2003-08-28T00:00:00-04:00\",\"2003-08-29T00:00:00-04:00\",\"2003-09-02T00:00:00-04:00\",\"2003-09-03T00:00:00-04:00\",\"2003-09-04T00:00:00-04:00\",\"2003-09-05T00:00:00-04:00\",\"2003-09-08T00:00:00-04:00\",\"2003-09-09T00:00:00-04:00\",\"2003-09-10T00:00:00-04:00\",\"2003-09-11T00:00:00-04:00\",\"2003-09-12T00:00:00-04:00\",\"2003-09-15T00:00:00-04:00\",\"2003-09-16T00:00:00-04:00\",\"2003-09-17T00:00:00-04:00\",\"2003-09-18T00:00:00-04:00\",\"2003-09-19T00:00:00-04:00\",\"2003-09-22T00:00:00-04:00\",\"2003-09-23T00:00:00-04:00\",\"2003-09-24T00:00:00-04:00\",\"2003-09-25T00:00:00-04:00\",\"2003-09-26T00:00:00-04:00\",\"2003-09-29T00:00:00-04:00\",\"2003-09-30T00:00:00-04:00\",\"2003-10-01T00:00:00-04:00\",\"2003-10-02T00:00:00-04:00\",\"2003-10-03T00:00:00-04:00\",\"2003-10-06T00:00:00-04:00\",\"2003-10-07T00:00:00-04:00\",\"2003-10-08T00:00:00-04:00\",\"2003-10-09T00:00:00-04:00\",\"2003-10-10T00:00:00-04:00\",\"2003-10-13T00:00:00-04:00\",\"2003-10-14T00:00:00-04:00\",\"2003-10-15T00:00:00-04:00\",\"2003-10-16T00:00:00-04:00\",\"2003-10-17T00:00:00-04:00\",\"2003-10-20T00:00:00-04:00\",\"2003-10-21T00:00:00-04:00\",\"2003-10-22T00:00:00-04:00\",\"2003-10-23T00:00:00-04:00\",\"2003-10-24T00:00:00-04:00\",\"2003-10-27T00:00:00-05:00\",\"2003-10-28T00:00:00-05:00\",\"2003-10-29T00:00:00-05:00\",\"2003-10-30T00:00:00-05:00\",\"2003-10-31T00:00:00-05:00\",\"2003-11-03T00:00:00-05:00\",\"2003-11-04T00:00:00-05:00\",\"2003-11-05T00:00:00-05:00\",\"2003-11-06T00:00:00-05:00\",\"2003-11-07T00:00:00-05:00\",\"2003-11-10T00:00:00-05:00\",\"2003-11-11T00:00:00-05:00\",\"2003-11-12T00:00:00-05:00\",\"2003-11-13T00:00:00-05:00\",\"2003-11-14T00:00:00-05:00\",\"2003-11-17T00:00:00-05:00\",\"2003-11-18T00:00:00-05:00\",\"2003-11-19T00:00:00-05:00\",\"2003-11-20T00:00:00-05:00\",\"2003-11-21T00:00:00-05:00\",\"2003-11-24T00:00:00-05:00\",\"2003-11-25T00:00:00-05:00\",\"2003-11-26T00:00:00-05:00\",\"2003-11-28T00:00:00-05:00\",\"2003-12-01T00:00:00-05:00\",\"2003-12-02T00:00:00-05:00\",\"2003-12-03T00:00:00-05:00\",\"2003-12-04T00:00:00-05:00\",\"2003-12-05T00:00:00-05:00\",\"2003-12-08T00:00:00-05:00\",\"2003-12-09T00:00:00-05:00\",\"2003-12-10T00:00:00-05:00\",\"2003-12-11T00:00:00-05:00\",\"2003-12-12T00:00:00-05:00\",\"2003-12-15T00:00:00-05:00\",\"2003-12-16T00:00:00-05:00\",\"2003-12-17T00:00:00-05:00\",\"2003-12-18T00:00:00-05:00\",\"2003-12-19T00:00:00-05:00\",\"2003-12-22T00:00:00-05:00\",\"2003-12-23T00:00:00-05:00\",\"2003-12-24T00:00:00-05:00\",\"2003-12-26T00:00:00-05:00\",\"2003-12-29T00:00:00-05:00\",\"2003-12-30T00:00:00-05:00\",\"2003-12-31T00:00:00-05:00\",\"2004-01-02T00:00:00-05:00\",\"2004-01-05T00:00:00-05:00\",\"2004-01-06T00:00:00-05:00\",\"2004-01-07T00:00:00-05:00\",\"2004-01-08T00:00:00-05:00\",\"2004-01-09T00:00:00-05:00\",\"2004-01-12T00:00:00-05:00\",\"2004-01-13T00:00:00-05:00\",\"2004-01-14T00:00:00-05:00\",\"2004-01-15T00:00:00-05:00\",\"2004-01-16T00:00:00-05:00\",\"2004-01-20T00:00:00-05:00\",\"2004-01-21T00:00:00-05:00\",\"2004-01-22T00:00:00-05:00\",\"2004-01-23T00:00:00-05:00\",\"2004-01-26T00:00:00-05:00\",\"2004-01-27T00:00:00-05:00\",\"2004-01-28T00:00:00-05:00\",\"2004-01-29T00:00:00-05:00\",\"2004-01-30T00:00:00-05:00\",\"2004-02-02T00:00:00-05:00\",\"2004-02-03T00:00:00-05:00\",\"2004-02-04T00:00:00-05:00\",\"2004-02-05T00:00:00-05:00\",\"2004-02-06T00:00:00-05:00\",\"2004-02-09T00:00:00-05:00\",\"2004-02-10T00:00:00-05:00\",\"2004-02-11T00:00:00-05:00\",\"2004-02-12T00:00:00-05:00\",\"2004-02-13T00:00:00-05:00\",\"2004-02-17T00:00:00-05:00\",\"2004-02-18T00:00:00-05:00\",\"2004-02-19T00:00:00-05:00\",\"2004-02-20T00:00:00-05:00\",\"2004-02-23T00:00:00-05:00\",\"2004-02-24T00:00:00-05:00\",\"2004-02-25T00:00:00-05:00\",\"2004-02-26T00:00:00-05:00\",\"2004-02-27T00:00:00-05:00\",\"2004-03-01T00:00:00-05:00\",\"2004-03-02T00:00:00-05:00\",\"2004-03-03T00:00:00-05:00\",\"2004-03-04T00:00:00-05:00\",\"2004-03-05T00:00:00-05:00\",\"2004-03-08T00:00:00-05:00\",\"2004-03-09T00:00:00-05:00\",\"2004-03-10T00:00:00-05:00\",\"2004-03-11T00:00:00-05:00\",\"2004-03-12T00:00:00-05:00\",\"2004-03-15T00:00:00-05:00\",\"2004-03-16T00:00:00-05:00\",\"2004-03-17T00:00:00-05:00\",\"2004-03-18T00:00:00-05:00\",\"2004-03-19T00:00:00-05:00\",\"2004-03-22T00:00:00-05:00\",\"2004-03-23T00:00:00-05:00\",\"2004-03-24T00:00:00-05:00\",\"2004-03-25T00:00:00-05:00\",\"2004-03-26T00:00:00-05:00\",\"2004-03-29T00:00:00-05:00\",\"2004-03-30T00:00:00-05:00\",\"2004-03-31T00:00:00-05:00\",\"2004-04-01T00:00:00-05:00\",\"2004-04-02T00:00:00-05:00\",\"2004-04-05T00:00:00-04:00\",\"2004-04-06T00:00:00-04:00\",\"2004-04-07T00:00:00-04:00\",\"2004-04-08T00:00:00-04:00\",\"2004-04-12T00:00:00-04:00\",\"2004-04-13T00:00:00-04:00\",\"2004-04-14T00:00:00-04:00\",\"2004-04-15T00:00:00-04:00\",\"2004-04-16T00:00:00-04:00\",\"2004-04-19T00:00:00-04:00\",\"2004-04-20T00:00:00-04:00\",\"2004-04-21T00:00:00-04:00\",\"2004-04-22T00:00:00-04:00\",\"2004-04-23T00:00:00-04:00\",\"2004-04-26T00:00:00-04:00\",\"2004-04-27T00:00:00-04:00\",\"2004-04-28T00:00:00-04:00\",\"2004-04-29T00:00:00-04:00\",\"2004-04-30T00:00:00-04:00\",\"2004-05-03T00:00:00-04:00\",\"2004-05-04T00:00:00-04:00\",\"2004-05-05T00:00:00-04:00\",\"2004-05-06T00:00:00-04:00\",\"2004-05-07T00:00:00-04:00\",\"2004-05-10T00:00:00-04:00\",\"2004-05-11T00:00:00-04:00\",\"2004-05-12T00:00:00-04:00\",\"2004-05-13T00:00:00-04:00\",\"2004-05-14T00:00:00-04:00\",\"2004-05-17T00:00:00-04:00\",\"2004-05-18T00:00:00-04:00\",\"2004-05-19T00:00:00-04:00\",\"2004-05-20T00:00:00-04:00\",\"2004-05-21T00:00:00-04:00\",\"2004-05-24T00:00:00-04:00\",\"2004-05-25T00:00:00-04:00\",\"2004-05-26T00:00:00-04:00\",\"2004-05-27T00:00:00-04:00\",\"2004-05-28T00:00:00-04:00\",\"2004-06-01T00:00:00-04:00\",\"2004-06-02T00:00:00-04:00\",\"2004-06-03T00:00:00-04:00\",\"2004-06-04T00:00:00-04:00\",\"2004-06-07T00:00:00-04:00\",\"2004-06-08T00:00:00-04:00\",\"2004-06-09T00:00:00-04:00\",\"2004-06-10T00:00:00-04:00\",\"2004-06-14T00:00:00-04:00\",\"2004-06-15T00:00:00-04:00\",\"2004-06-16T00:00:00-04:00\",\"2004-06-17T00:00:00-04:00\",\"2004-06-18T00:00:00-04:00\",\"2004-06-21T00:00:00-04:00\",\"2004-06-22T00:00:00-04:00\",\"2004-06-23T00:00:00-04:00\",\"2004-06-24T00:00:00-04:00\",\"2004-06-25T00:00:00-04:00\",\"2004-06-28T00:00:00-04:00\",\"2004-06-29T00:00:00-04:00\",\"2004-06-30T00:00:00-04:00\",\"2004-07-01T00:00:00-04:00\",\"2004-07-02T00:00:00-04:00\",\"2004-07-06T00:00:00-04:00\",\"2004-07-07T00:00:00-04:00\",\"2004-07-08T00:00:00-04:00\",\"2004-07-09T00:00:00-04:00\",\"2004-07-12T00:00:00-04:00\",\"2004-07-13T00:00:00-04:00\",\"2004-07-14T00:00:00-04:00\",\"2004-07-15T00:00:00-04:00\",\"2004-07-16T00:00:00-04:00\",\"2004-07-19T00:00:00-04:00\",\"2004-07-20T00:00:00-04:00\",\"2004-07-21T00:00:00-04:00\",\"2004-07-22T00:00:00-04:00\",\"2004-07-23T00:00:00-04:00\",\"2004-07-26T00:00:00-04:00\",\"2004-07-27T00:00:00-04:00\",\"2004-07-28T00:00:00-04:00\",\"2004-07-29T00:00:00-04:00\",\"2004-07-30T00:00:00-04:00\",\"2004-08-02T00:00:00-04:00\",\"2004-08-03T00:00:00-04:00\",\"2004-08-04T00:00:00-04:00\",\"2004-08-05T00:00:00-04:00\",\"2004-08-06T00:00:00-04:00\",\"2004-08-09T00:00:00-04:00\",\"2004-08-10T00:00:00-04:00\",\"2004-08-11T00:00:00-04:00\",\"2004-08-12T00:00:00-04:00\",\"2004-08-13T00:00:00-04:00\",\"2004-08-16T00:00:00-04:00\",\"2004-08-17T00:00:00-04:00\",\"2004-08-18T00:00:00-04:00\",\"2004-08-19T00:00:00-04:00\",\"2004-08-20T00:00:00-04:00\",\"2004-08-23T00:00:00-04:00\",\"2004-08-24T00:00:00-04:00\",\"2004-08-25T00:00:00-04:00\",\"2004-08-26T00:00:00-04:00\",\"2004-08-27T00:00:00-04:00\",\"2004-08-30T00:00:00-04:00\",\"2004-08-31T00:00:00-04:00\",\"2004-09-01T00:00:00-04:00\",\"2004-09-02T00:00:00-04:00\",\"2004-09-03T00:00:00-04:00\",\"2004-09-07T00:00:00-04:00\",\"2004-09-08T00:00:00-04:00\",\"2004-09-09T00:00:00-04:00\",\"2004-09-10T00:00:00-04:00\",\"2004-09-13T00:00:00-04:00\",\"2004-09-14T00:00:00-04:00\",\"2004-09-15T00:00:00-04:00\",\"2004-09-16T00:00:00-04:00\",\"2004-09-17T00:00:00-04:00\",\"2004-09-20T00:00:00-04:00\",\"2004-09-21T00:00:00-04:00\",\"2004-09-22T00:00:00-04:00\",\"2004-09-23T00:00:00-04:00\",\"2004-09-24T00:00:00-04:00\",\"2004-09-27T00:00:00-04:00\",\"2004-09-28T00:00:00-04:00\",\"2004-09-29T00:00:00-04:00\",\"2004-09-30T00:00:00-04:00\",\"2004-10-01T00:00:00-04:00\",\"2004-10-04T00:00:00-04:00\",\"2004-10-05T00:00:00-04:00\",\"2004-10-06T00:00:00-04:00\",\"2004-10-07T00:00:00-04:00\",\"2004-10-08T00:00:00-04:00\",\"2004-10-11T00:00:00-04:00\",\"2004-10-12T00:00:00-04:00\",\"2004-10-13T00:00:00-04:00\",\"2004-10-14T00:00:00-04:00\",\"2004-10-15T00:00:00-04:00\",\"2004-10-18T00:00:00-04:00\",\"2004-10-19T00:00:00-04:00\",\"2004-10-20T00:00:00-04:00\",\"2004-10-21T00:00:00-04:00\",\"2004-10-22T00:00:00-04:00\",\"2004-10-25T00:00:00-04:00\",\"2004-10-26T00:00:00-04:00\",\"2004-10-27T00:00:00-04:00\",\"2004-10-28T00:00:00-04:00\",\"2004-10-29T00:00:00-04:00\",\"2004-11-01T00:00:00-05:00\",\"2004-11-02T00:00:00-05:00\",\"2004-11-03T00:00:00-05:00\",\"2004-11-04T00:00:00-05:00\",\"2004-11-05T00:00:00-05:00\",\"2004-11-08T00:00:00-05:00\",\"2004-11-09T00:00:00-05:00\",\"2004-11-10T00:00:00-05:00\",\"2004-11-11T00:00:00-05:00\",\"2004-11-12T00:00:00-05:00\",\"2004-11-15T00:00:00-05:00\",\"2004-11-16T00:00:00-05:00\",\"2004-11-17T00:00:00-05:00\",\"2004-11-18T00:00:00-05:00\",\"2004-11-19T00:00:00-05:00\",\"2004-11-22T00:00:00-05:00\",\"2004-11-23T00:00:00-05:00\",\"2004-11-24T00:00:00-05:00\",\"2004-11-26T00:00:00-05:00\",\"2004-11-29T00:00:00-05:00\",\"2004-11-30T00:00:00-05:00\",\"2004-12-01T00:00:00-05:00\",\"2004-12-02T00:00:00-05:00\",\"2004-12-03T00:00:00-05:00\",\"2004-12-06T00:00:00-05:00\",\"2004-12-07T00:00:00-05:00\",\"2004-12-08T00:00:00-05:00\",\"2004-12-09T00:00:00-05:00\",\"2004-12-10T00:00:00-05:00\",\"2004-12-13T00:00:00-05:00\",\"2004-12-14T00:00:00-05:00\",\"2004-12-15T00:00:00-05:00\",\"2004-12-16T00:00:00-05:00\",\"2004-12-17T00:00:00-05:00\",\"2004-12-20T00:00:00-05:00\",\"2004-12-21T00:00:00-05:00\",\"2004-12-22T00:00:00-05:00\",\"2004-12-23T00:00:00-05:00\",\"2004-12-27T00:00:00-05:00\",\"2004-12-28T00:00:00-05:00\",\"2004-12-29T00:00:00-05:00\",\"2004-12-30T00:00:00-05:00\",\"2004-12-31T00:00:00-05:00\",\"2005-01-03T00:00:00-05:00\",\"2005-01-04T00:00:00-05:00\",\"2005-01-05T00:00:00-05:00\",\"2005-01-06T00:00:00-05:00\",\"2005-01-07T00:00:00-05:00\",\"2005-01-10T00:00:00-05:00\",\"2005-01-11T00:00:00-05:00\",\"2005-01-12T00:00:00-05:00\",\"2005-01-13T00:00:00-05:00\",\"2005-01-14T00:00:00-05:00\",\"2005-01-18T00:00:00-05:00\",\"2005-01-19T00:00:00-05:00\",\"2005-01-20T00:00:00-05:00\",\"2005-01-21T00:00:00-05:00\",\"2005-01-24T00:00:00-05:00\",\"2005-01-25T00:00:00-05:00\",\"2005-01-26T00:00:00-05:00\",\"2005-01-27T00:00:00-05:00\",\"2005-01-28T00:00:00-05:00\",\"2005-01-31T00:00:00-05:00\",\"2005-02-01T00:00:00-05:00\",\"2005-02-02T00:00:00-05:00\",\"2005-02-03T00:00:00-05:00\",\"2005-02-04T00:00:00-05:00\",\"2005-02-07T00:00:00-05:00\",\"2005-02-08T00:00:00-05:00\",\"2005-02-09T00:00:00-05:00\",\"2005-02-10T00:00:00-05:00\",\"2005-02-11T00:00:00-05:00\",\"2005-02-14T00:00:00-05:00\",\"2005-02-15T00:00:00-05:00\",\"2005-02-16T00:00:00-05:00\",\"2005-02-17T00:00:00-05:00\",\"2005-02-18T00:00:00-05:00\",\"2005-02-22T00:00:00-05:00\",\"2005-02-23T00:00:00-05:00\",\"2005-02-24T00:00:00-05:00\",\"2005-02-25T00:00:00-05:00\",\"2005-02-28T00:00:00-05:00\",\"2005-03-01T00:00:00-05:00\",\"2005-03-02T00:00:00-05:00\",\"2005-03-03T00:00:00-05:00\",\"2005-03-04T00:00:00-05:00\",\"2005-03-07T00:00:00-05:00\",\"2005-03-08T00:00:00-05:00\",\"2005-03-09T00:00:00-05:00\",\"2005-03-10T00:00:00-05:00\",\"2005-03-11T00:00:00-05:00\",\"2005-03-14T00:00:00-05:00\",\"2005-03-15T00:00:00-05:00\",\"2005-03-16T00:00:00-05:00\",\"2005-03-17T00:00:00-05:00\",\"2005-03-18T00:00:00-05:00\",\"2005-03-21T00:00:00-05:00\",\"2005-03-22T00:00:00-05:00\",\"2005-03-23T00:00:00-05:00\",\"2005-03-24T00:00:00-05:00\",\"2005-03-28T00:00:00-05:00\",\"2005-03-29T00:00:00-05:00\",\"2005-03-30T00:00:00-05:00\",\"2005-03-31T00:00:00-05:00\",\"2005-04-01T00:00:00-05:00\",\"2005-04-04T00:00:00-04:00\",\"2005-04-05T00:00:00-04:00\",\"2005-04-06T00:00:00-04:00\",\"2005-04-07T00:00:00-04:00\",\"2005-04-08T00:00:00-04:00\",\"2005-04-11T00:00:00-04:00\",\"2005-04-12T00:00:00-04:00\",\"2005-04-13T00:00:00-04:00\",\"2005-04-14T00:00:00-04:00\",\"2005-04-15T00:00:00-04:00\",\"2005-04-18T00:00:00-04:00\",\"2005-04-19T00:00:00-04:00\",\"2005-04-20T00:00:00-04:00\",\"2005-04-21T00:00:00-04:00\",\"2005-04-22T00:00:00-04:00\",\"2005-04-25T00:00:00-04:00\",\"2005-04-26T00:00:00-04:00\",\"2005-04-27T00:00:00-04:00\",\"2005-04-28T00:00:00-04:00\",\"2005-04-29T00:00:00-04:00\",\"2005-05-02T00:00:00-04:00\",\"2005-05-03T00:00:00-04:00\",\"2005-05-04T00:00:00-04:00\",\"2005-05-05T00:00:00-04:00\",\"2005-05-06T00:00:00-04:00\",\"2005-05-09T00:00:00-04:00\",\"2005-05-10T00:00:00-04:00\",\"2005-05-11T00:00:00-04:00\",\"2005-05-12T00:00:00-04:00\",\"2005-05-13T00:00:00-04:00\",\"2005-05-16T00:00:00-04:00\",\"2005-05-17T00:00:00-04:00\",\"2005-05-18T00:00:00-04:00\",\"2005-05-19T00:00:00-04:00\",\"2005-05-20T00:00:00-04:00\",\"2005-05-23T00:00:00-04:00\",\"2005-05-24T00:00:00-04:00\",\"2005-05-25T00:00:00-04:00\",\"2005-05-26T00:00:00-04:00\",\"2005-05-27T00:00:00-04:00\",\"2005-05-31T00:00:00-04:00\",\"2005-06-01T00:00:00-04:00\",\"2005-06-02T00:00:00-04:00\",\"2005-06-03T00:00:00-04:00\",\"2005-06-06T00:00:00-04:00\",\"2005-06-07T00:00:00-04:00\",\"2005-06-08T00:00:00-04:00\",\"2005-06-09T00:00:00-04:00\",\"2005-06-10T00:00:00-04:00\",\"2005-06-13T00:00:00-04:00\",\"2005-06-14T00:00:00-04:00\",\"2005-06-15T00:00:00-04:00\",\"2005-06-16T00:00:00-04:00\",\"2005-06-17T00:00:00-04:00\",\"2005-06-20T00:00:00-04:00\",\"2005-06-21T00:00:00-04:00\",\"2005-06-22T00:00:00-04:00\",\"2005-06-23T00:00:00-04:00\",\"2005-06-24T00:00:00-04:00\",\"2005-06-27T00:00:00-04:00\",\"2005-06-28T00:00:00-04:00\",\"2005-06-29T00:00:00-04:00\",\"2005-06-30T00:00:00-04:00\",\"2005-07-01T00:00:00-04:00\",\"2005-07-05T00:00:00-04:00\",\"2005-07-06T00:00:00-04:00\",\"2005-07-07T00:00:00-04:00\",\"2005-07-08T00:00:00-04:00\",\"2005-07-11T00:00:00-04:00\",\"2005-07-12T00:00:00-04:00\",\"2005-07-13T00:00:00-04:00\",\"2005-07-14T00:00:00-04:00\",\"2005-07-15T00:00:00-04:00\",\"2005-07-18T00:00:00-04:00\",\"2005-07-19T00:00:00-04:00\",\"2005-07-20T00:00:00-04:00\",\"2005-07-21T00:00:00-04:00\",\"2005-07-22T00:00:00-04:00\",\"2005-07-25T00:00:00-04:00\",\"2005-07-26T00:00:00-04:00\",\"2005-07-27T00:00:00-04:00\",\"2005-07-28T00:00:00-04:00\",\"2005-07-29T00:00:00-04:00\",\"2005-08-01T00:00:00-04:00\",\"2005-08-02T00:00:00-04:00\",\"2005-08-03T00:00:00-04:00\",\"2005-08-04T00:00:00-04:00\",\"2005-08-05T00:00:00-04:00\",\"2005-08-08T00:00:00-04:00\",\"2005-08-09T00:00:00-04:00\",\"2005-08-10T00:00:00-04:00\",\"2005-08-11T00:00:00-04:00\",\"2005-08-12T00:00:00-04:00\",\"2005-08-15T00:00:00-04:00\",\"2005-08-16T00:00:00-04:00\",\"2005-08-17T00:00:00-04:00\",\"2005-08-18T00:00:00-04:00\",\"2005-08-19T00:00:00-04:00\",\"2005-08-22T00:00:00-04:00\",\"2005-08-23T00:00:00-04:00\",\"2005-08-24T00:00:00-04:00\",\"2005-08-25T00:00:00-04:00\",\"2005-08-26T00:00:00-04:00\",\"2005-08-29T00:00:00-04:00\",\"2005-08-30T00:00:00-04:00\",\"2005-08-31T00:00:00-04:00\",\"2005-09-01T00:00:00-04:00\",\"2005-09-02T00:00:00-04:00\",\"2005-09-06T00:00:00-04:00\",\"2005-09-07T00:00:00-04:00\",\"2005-09-08T00:00:00-04:00\",\"2005-09-09T00:00:00-04:00\",\"2005-09-12T00:00:00-04:00\",\"2005-09-13T00:00:00-04:00\",\"2005-09-14T00:00:00-04:00\",\"2005-09-15T00:00:00-04:00\",\"2005-09-16T00:00:00-04:00\",\"2005-09-19T00:00:00-04:00\",\"2005-09-20T00:00:00-04:00\",\"2005-09-21T00:00:00-04:00\",\"2005-09-22T00:00:00-04:00\",\"2005-09-23T00:00:00-04:00\",\"2005-09-26T00:00:00-04:00\",\"2005-09-27T00:00:00-04:00\",\"2005-09-28T00:00:00-04:00\",\"2005-09-29T00:00:00-04:00\",\"2005-09-30T00:00:00-04:00\",\"2005-10-03T00:00:00-04:00\",\"2005-10-04T00:00:00-04:00\",\"2005-10-05T00:00:00-04:00\",\"2005-10-06T00:00:00-04:00\",\"2005-10-07T00:00:00-04:00\",\"2005-10-10T00:00:00-04:00\",\"2005-10-11T00:00:00-04:00\",\"2005-10-12T00:00:00-04:00\",\"2005-10-13T00:00:00-04:00\",\"2005-10-14T00:00:00-04:00\",\"2005-10-17T00:00:00-04:00\",\"2005-10-18T00:00:00-04:00\",\"2005-10-19T00:00:00-04:00\",\"2005-10-20T00:00:00-04:00\",\"2005-10-21T00:00:00-04:00\",\"2005-10-24T00:00:00-04:00\",\"2005-10-25T00:00:00-04:00\",\"2005-10-26T00:00:00-04:00\",\"2005-10-27T00:00:00-04:00\",\"2005-10-28T00:00:00-04:00\",\"2005-10-31T00:00:00-05:00\",\"2005-11-01T00:00:00-05:00\",\"2005-11-02T00:00:00-05:00\",\"2005-11-03T00:00:00-05:00\",\"2005-11-04T00:00:00-05:00\",\"2005-11-07T00:00:00-05:00\",\"2005-11-08T00:00:00-05:00\",\"2005-11-09T00:00:00-05:00\",\"2005-11-10T00:00:00-05:00\",\"2005-11-11T00:00:00-05:00\",\"2005-11-14T00:00:00-05:00\",\"2005-11-15T00:00:00-05:00\",\"2005-11-16T00:00:00-05:00\",\"2005-11-17T00:00:00-05:00\",\"2005-11-18T00:00:00-05:00\",\"2005-11-21T00:00:00-05:00\",\"2005-11-22T00:00:00-05:00\",\"2005-11-23T00:00:00-05:00\",\"2005-11-25T00:00:00-05:00\",\"2005-11-28T00:00:00-05:00\",\"2005-11-29T00:00:00-05:00\",\"2005-11-30T00:00:00-05:00\",\"2005-12-01T00:00:00-05:00\",\"2005-12-02T00:00:00-05:00\",\"2005-12-05T00:00:00-05:00\",\"2005-12-06T00:00:00-05:00\",\"2005-12-07T00:00:00-05:00\",\"2005-12-08T00:00:00-05:00\",\"2005-12-09T00:00:00-05:00\",\"2005-12-12T00:00:00-05:00\",\"2005-12-13T00:00:00-05:00\",\"2005-12-14T00:00:00-05:00\",\"2005-12-15T00:00:00-05:00\",\"2005-12-16T00:00:00-05:00\",\"2005-12-19T00:00:00-05:00\",\"2005-12-20T00:00:00-05:00\",\"2005-12-21T00:00:00-05:00\",\"2005-12-22T00:00:00-05:00\",\"2005-12-23T00:00:00-05:00\",\"2005-12-27T00:00:00-05:00\",\"2005-12-28T00:00:00-05:00\",\"2005-12-29T00:00:00-05:00\",\"2005-12-30T00:00:00-05:00\",\"2006-01-03T00:00:00-05:00\",\"2006-01-04T00:00:00-05:00\",\"2006-01-05T00:00:00-05:00\",\"2006-01-06T00:00:00-05:00\",\"2006-01-09T00:00:00-05:00\",\"2006-01-10T00:00:00-05:00\",\"2006-01-11T00:00:00-05:00\",\"2006-01-12T00:00:00-05:00\",\"2006-01-13T00:00:00-05:00\",\"2006-01-17T00:00:00-05:00\",\"2006-01-18T00:00:00-05:00\",\"2006-01-19T00:00:00-05:00\",\"2006-01-20T00:00:00-05:00\",\"2006-01-23T00:00:00-05:00\",\"2006-01-24T00:00:00-05:00\",\"2006-01-25T00:00:00-05:00\",\"2006-01-26T00:00:00-05:00\",\"2006-01-27T00:00:00-05:00\",\"2006-01-30T00:00:00-05:00\",\"2006-01-31T00:00:00-05:00\",\"2006-02-01T00:00:00-05:00\",\"2006-02-02T00:00:00-05:00\",\"2006-02-03T00:00:00-05:00\",\"2006-02-06T00:00:00-05:00\",\"2006-02-07T00:00:00-05:00\",\"2006-02-08T00:00:00-05:00\",\"2006-02-09T00:00:00-05:00\",\"2006-02-10T00:00:00-05:00\",\"2006-02-13T00:00:00-05:00\",\"2006-02-14T00:00:00-05:00\",\"2006-02-15T00:00:00-05:00\",\"2006-02-16T00:00:00-05:00\",\"2006-02-17T00:00:00-05:00\",\"2006-02-21T00:00:00-05:00\",\"2006-02-22T00:00:00-05:00\",\"2006-02-23T00:00:00-05:00\",\"2006-02-24T00:00:00-05:00\",\"2006-02-27T00:00:00-05:00\",\"2006-02-28T00:00:00-05:00\",\"2006-03-01T00:00:00-05:00\",\"2006-03-02T00:00:00-05:00\",\"2006-03-03T00:00:00-05:00\",\"2006-03-06T00:00:00-05:00\",\"2006-03-07T00:00:00-05:00\",\"2006-03-08T00:00:00-05:00\",\"2006-03-09T00:00:00-05:00\",\"2006-03-10T00:00:00-05:00\",\"2006-03-13T00:00:00-05:00\",\"2006-03-14T00:00:00-05:00\",\"2006-03-15T00:00:00-05:00\",\"2006-03-16T00:00:00-05:00\",\"2006-03-17T00:00:00-05:00\",\"2006-03-20T00:00:00-05:00\",\"2006-03-21T00:00:00-05:00\",\"2006-03-22T00:00:00-05:00\",\"2006-03-23T00:00:00-05:00\",\"2006-03-24T00:00:00-05:00\",\"2006-03-27T00:00:00-05:00\",\"2006-03-28T00:00:00-05:00\",\"2006-03-29T00:00:00-05:00\",\"2006-03-30T00:00:00-05:00\",\"2006-03-31T00:00:00-05:00\",\"2006-04-03T00:00:00-04:00\",\"2006-04-04T00:00:00-04:00\",\"2006-04-05T00:00:00-04:00\",\"2006-04-06T00:00:00-04:00\",\"2006-04-07T00:00:00-04:00\",\"2006-04-10T00:00:00-04:00\",\"2006-04-11T00:00:00-04:00\",\"2006-04-12T00:00:00-04:00\",\"2006-04-13T00:00:00-04:00\",\"2006-04-17T00:00:00-04:00\",\"2006-04-18T00:00:00-04:00\",\"2006-04-19T00:00:00-04:00\",\"2006-04-20T00:00:00-04:00\",\"2006-04-21T00:00:00-04:00\",\"2006-04-24T00:00:00-04:00\",\"2006-04-25T00:00:00-04:00\",\"2006-04-26T00:00:00-04:00\",\"2006-04-27T00:00:00-04:00\",\"2006-04-28T00:00:00-04:00\",\"2006-05-01T00:00:00-04:00\",\"2006-05-02T00:00:00-04:00\",\"2006-05-03T00:00:00-04:00\",\"2006-05-04T00:00:00-04:00\",\"2006-05-05T00:00:00-04:00\",\"2006-05-08T00:00:00-04:00\",\"2006-05-09T00:00:00-04:00\",\"2006-05-10T00:00:00-04:00\",\"2006-05-11T00:00:00-04:00\",\"2006-05-12T00:00:00-04:00\",\"2006-05-15T00:00:00-04:00\",\"2006-05-16T00:00:00-04:00\",\"2006-05-17T00:00:00-04:00\",\"2006-05-18T00:00:00-04:00\",\"2006-05-19T00:00:00-04:00\",\"2006-05-22T00:00:00-04:00\",\"2006-05-23T00:00:00-04:00\",\"2006-05-24T00:00:00-04:00\",\"2006-05-25T00:00:00-04:00\",\"2006-05-26T00:00:00-04:00\",\"2006-05-30T00:00:00-04:00\",\"2006-05-31T00:00:00-04:00\",\"2006-06-01T00:00:00-04:00\",\"2006-06-02T00:00:00-04:00\",\"2006-06-05T00:00:00-04:00\",\"2006-06-06T00:00:00-04:00\",\"2006-06-07T00:00:00-04:00\",\"2006-06-08T00:00:00-04:00\",\"2006-06-09T00:00:00-04:00\",\"2006-06-12T00:00:00-04:00\",\"2006-06-13T00:00:00-04:00\",\"2006-06-14T00:00:00-04:00\",\"2006-06-15T00:00:00-04:00\",\"2006-06-16T00:00:00-04:00\",\"2006-06-19T00:00:00-04:00\",\"2006-06-20T00:00:00-04:00\",\"2006-06-21T00:00:00-04:00\",\"2006-06-22T00:00:00-04:00\",\"2006-06-23T00:00:00-04:00\",\"2006-06-26T00:00:00-04:00\",\"2006-06-27T00:00:00-04:00\",\"2006-06-28T00:00:00-04:00\",\"2006-06-29T00:00:00-04:00\",\"2006-06-30T00:00:00-04:00\",\"2006-07-03T00:00:00-04:00\",\"2006-07-05T00:00:00-04:00\",\"2006-07-06T00:00:00-04:00\",\"2006-07-07T00:00:00-04:00\",\"2006-07-10T00:00:00-04:00\",\"2006-07-11T00:00:00-04:00\",\"2006-07-12T00:00:00-04:00\",\"2006-07-13T00:00:00-04:00\",\"2006-07-14T00:00:00-04:00\",\"2006-07-17T00:00:00-04:00\",\"2006-07-18T00:00:00-04:00\",\"2006-07-19T00:00:00-04:00\",\"2006-07-20T00:00:00-04:00\",\"2006-07-21T00:00:00-04:00\",\"2006-07-24T00:00:00-04:00\",\"2006-07-25T00:00:00-04:00\",\"2006-07-26T00:00:00-04:00\",\"2006-07-27T00:00:00-04:00\",\"2006-07-28T00:00:00-04:00\",\"2006-07-31T00:00:00-04:00\",\"2006-08-01T00:00:00-04:00\",\"2006-08-02T00:00:00-04:00\",\"2006-08-03T00:00:00-04:00\",\"2006-08-04T00:00:00-04:00\",\"2006-08-07T00:00:00-04:00\",\"2006-08-08T00:00:00-04:00\",\"2006-08-09T00:00:00-04:00\",\"2006-08-10T00:00:00-04:00\",\"2006-08-11T00:00:00-04:00\",\"2006-08-14T00:00:00-04:00\",\"2006-08-15T00:00:00-04:00\",\"2006-08-16T00:00:00-04:00\",\"2006-08-17T00:00:00-04:00\",\"2006-08-18T00:00:00-04:00\",\"2006-08-21T00:00:00-04:00\",\"2006-08-22T00:00:00-04:00\",\"2006-08-23T00:00:00-04:00\",\"2006-08-24T00:00:00-04:00\",\"2006-08-25T00:00:00-04:00\",\"2006-08-28T00:00:00-04:00\",\"2006-08-29T00:00:00-04:00\",\"2006-08-30T00:00:00-04:00\",\"2006-08-31T00:00:00-04:00\",\"2006-09-01T00:00:00-04:00\",\"2006-09-05T00:00:00-04:00\",\"2006-09-06T00:00:00-04:00\",\"2006-09-07T00:00:00-04:00\",\"2006-09-08T00:00:00-04:00\",\"2006-09-11T00:00:00-04:00\",\"2006-09-12T00:00:00-04:00\",\"2006-09-13T00:00:00-04:00\",\"2006-09-14T00:00:00-04:00\",\"2006-09-15T00:00:00-04:00\",\"2006-09-18T00:00:00-04:00\",\"2006-09-19T00:00:00-04:00\",\"2006-09-20T00:00:00-04:00\",\"2006-09-21T00:00:00-04:00\",\"2006-09-22T00:00:00-04:00\",\"2006-09-25T00:00:00-04:00\",\"2006-09-26T00:00:00-04:00\",\"2006-09-27T00:00:00-04:00\",\"2006-09-28T00:00:00-04:00\",\"2006-09-29T00:00:00-04:00\",\"2006-10-02T00:00:00-04:00\",\"2006-10-03T00:00:00-04:00\",\"2006-10-04T00:00:00-04:00\",\"2006-10-05T00:00:00-04:00\",\"2006-10-06T00:00:00-04:00\",\"2006-10-09T00:00:00-04:00\",\"2006-10-10T00:00:00-04:00\",\"2006-10-11T00:00:00-04:00\",\"2006-10-12T00:00:00-04:00\",\"2006-10-13T00:00:00-04:00\",\"2006-10-16T00:00:00-04:00\",\"2006-10-17T00:00:00-04:00\",\"2006-10-18T00:00:00-04:00\",\"2006-10-19T00:00:00-04:00\",\"2006-10-20T00:00:00-04:00\",\"2006-10-23T00:00:00-04:00\",\"2006-10-24T00:00:00-04:00\",\"2006-10-25T00:00:00-04:00\",\"2006-10-26T00:00:00-04:00\",\"2006-10-27T00:00:00-04:00\",\"2006-10-30T00:00:00-05:00\",\"2006-10-31T00:00:00-05:00\",\"2006-11-01T00:00:00-05:00\",\"2006-11-02T00:00:00-05:00\",\"2006-11-03T00:00:00-05:00\",\"2006-11-06T00:00:00-05:00\",\"2006-11-07T00:00:00-05:00\",\"2006-11-08T00:00:00-05:00\",\"2006-11-09T00:00:00-05:00\",\"2006-11-10T00:00:00-05:00\",\"2006-11-13T00:00:00-05:00\",\"2006-11-14T00:00:00-05:00\",\"2006-11-15T00:00:00-05:00\",\"2006-11-16T00:00:00-05:00\",\"2006-11-17T00:00:00-05:00\",\"2006-11-20T00:00:00-05:00\",\"2006-11-21T00:00:00-05:00\",\"2006-11-22T00:00:00-05:00\",\"2006-11-24T00:00:00-05:00\",\"2006-11-27T00:00:00-05:00\",\"2006-11-28T00:00:00-05:00\",\"2006-11-29T00:00:00-05:00\",\"2006-11-30T00:00:00-05:00\",\"2006-12-01T00:00:00-05:00\",\"2006-12-04T00:00:00-05:00\",\"2006-12-05T00:00:00-05:00\",\"2006-12-06T00:00:00-05:00\",\"2006-12-07T00:00:00-05:00\",\"2006-12-08T00:00:00-05:00\",\"2006-12-11T00:00:00-05:00\",\"2006-12-12T00:00:00-05:00\",\"2006-12-13T00:00:00-05:00\",\"2006-12-14T00:00:00-05:00\",\"2006-12-15T00:00:00-05:00\",\"2006-12-18T00:00:00-05:00\",\"2006-12-19T00:00:00-05:00\",\"2006-12-20T00:00:00-05:00\",\"2006-12-21T00:00:00-05:00\",\"2006-12-22T00:00:00-05:00\",\"2006-12-26T00:00:00-05:00\",\"2006-12-27T00:00:00-05:00\",\"2006-12-28T00:00:00-05:00\",\"2006-12-29T00:00:00-05:00\",\"2007-01-03T00:00:00-05:00\",\"2007-01-04T00:00:00-05:00\",\"2007-01-05T00:00:00-05:00\",\"2007-01-08T00:00:00-05:00\",\"2007-01-09T00:00:00-05:00\",\"2007-01-10T00:00:00-05:00\",\"2007-01-11T00:00:00-05:00\",\"2007-01-12T00:00:00-05:00\",\"2007-01-16T00:00:00-05:00\",\"2007-01-17T00:00:00-05:00\",\"2007-01-18T00:00:00-05:00\",\"2007-01-19T00:00:00-05:00\",\"2007-01-22T00:00:00-05:00\",\"2007-01-23T00:00:00-05:00\",\"2007-01-24T00:00:00-05:00\",\"2007-01-25T00:00:00-05:00\",\"2007-01-26T00:00:00-05:00\",\"2007-01-29T00:00:00-05:00\",\"2007-01-30T00:00:00-05:00\",\"2007-01-31T00:00:00-05:00\",\"2007-02-01T00:00:00-05:00\",\"2007-02-02T00:00:00-05:00\",\"2007-02-05T00:00:00-05:00\",\"2007-02-06T00:00:00-05:00\",\"2007-02-07T00:00:00-05:00\",\"2007-02-08T00:00:00-05:00\",\"2007-02-09T00:00:00-05:00\",\"2007-02-12T00:00:00-05:00\",\"2007-02-13T00:00:00-05:00\",\"2007-02-14T00:00:00-05:00\",\"2007-02-15T00:00:00-05:00\",\"2007-02-16T00:00:00-05:00\",\"2007-02-20T00:00:00-05:00\",\"2007-02-21T00:00:00-05:00\",\"2007-02-22T00:00:00-05:00\",\"2007-02-23T00:00:00-05:00\",\"2007-02-26T00:00:00-05:00\",\"2007-02-27T00:00:00-05:00\",\"2007-02-28T00:00:00-05:00\",\"2007-03-01T00:00:00-05:00\",\"2007-03-02T00:00:00-05:00\",\"2007-03-05T00:00:00-05:00\",\"2007-03-06T00:00:00-05:00\",\"2007-03-07T00:00:00-05:00\",\"2007-03-08T00:00:00-05:00\",\"2007-03-09T00:00:00-05:00\",\"2007-03-12T00:00:00-04:00\",\"2007-03-13T00:00:00-04:00\",\"2007-03-14T00:00:00-04:00\",\"2007-03-15T00:00:00-04:00\",\"2007-03-16T00:00:00-04:00\",\"2007-03-19T00:00:00-04:00\",\"2007-03-20T00:00:00-04:00\",\"2007-03-21T00:00:00-04:00\",\"2007-03-22T00:00:00-04:00\",\"2007-03-23T00:00:00-04:00\",\"2007-03-26T00:00:00-04:00\",\"2007-03-27T00:00:00-04:00\",\"2007-03-28T00:00:00-04:00\",\"2007-03-29T00:00:00-04:00\",\"2007-03-30T00:00:00-04:00\",\"2007-04-02T00:00:00-04:00\",\"2007-04-03T00:00:00-04:00\",\"2007-04-04T00:00:00-04:00\",\"2007-04-05T00:00:00-04:00\",\"2007-04-09T00:00:00-04:00\",\"2007-04-10T00:00:00-04:00\",\"2007-04-11T00:00:00-04:00\",\"2007-04-12T00:00:00-04:00\",\"2007-04-13T00:00:00-04:00\",\"2007-04-16T00:00:00-04:00\",\"2007-04-17T00:00:00-04:00\",\"2007-04-18T00:00:00-04:00\",\"2007-04-19T00:00:00-04:00\",\"2007-04-20T00:00:00-04:00\",\"2007-04-23T00:00:00-04:00\",\"2007-04-24T00:00:00-04:00\",\"2007-04-25T00:00:00-04:00\",\"2007-04-26T00:00:00-04:00\",\"2007-04-27T00:00:00-04:00\",\"2007-04-30T00:00:00-04:00\",\"2007-05-01T00:00:00-04:00\",\"2007-05-02T00:00:00-04:00\",\"2007-05-03T00:00:00-04:00\",\"2007-05-04T00:00:00-04:00\",\"2007-05-07T00:00:00-04:00\",\"2007-05-08T00:00:00-04:00\",\"2007-05-09T00:00:00-04:00\",\"2007-05-10T00:00:00-04:00\",\"2007-05-11T00:00:00-04:00\",\"2007-05-14T00:00:00-04:00\",\"2007-05-15T00:00:00-04:00\",\"2007-05-16T00:00:00-04:00\",\"2007-05-17T00:00:00-04:00\",\"2007-05-18T00:00:00-04:00\",\"2007-05-21T00:00:00-04:00\",\"2007-05-22T00:00:00-04:00\",\"2007-05-23T00:00:00-04:00\",\"2007-05-24T00:00:00-04:00\",\"2007-05-25T00:00:00-04:00\",\"2007-05-29T00:00:00-04:00\",\"2007-05-30T00:00:00-04:00\",\"2007-05-31T00:00:00-04:00\",\"2007-06-01T00:00:00-04:00\",\"2007-06-04T00:00:00-04:00\",\"2007-06-05T00:00:00-04:00\",\"2007-06-06T00:00:00-04:00\",\"2007-06-07T00:00:00-04:00\",\"2007-06-08T00:00:00-04:00\",\"2007-06-11T00:00:00-04:00\",\"2007-06-12T00:00:00-04:00\",\"2007-06-13T00:00:00-04:00\",\"2007-06-14T00:00:00-04:00\",\"2007-06-15T00:00:00-04:00\",\"2007-06-18T00:00:00-04:00\",\"2007-06-19T00:00:00-04:00\",\"2007-06-20T00:00:00-04:00\",\"2007-06-21T00:00:00-04:00\",\"2007-06-22T00:00:00-04:00\",\"2007-06-25T00:00:00-04:00\",\"2007-06-26T00:00:00-04:00\",\"2007-06-27T00:00:00-04:00\",\"2007-06-28T00:00:00-04:00\",\"2007-06-29T00:00:00-04:00\",\"2007-07-02T00:00:00-04:00\",\"2007-07-03T00:00:00-04:00\",\"2007-07-05T00:00:00-04:00\",\"2007-07-06T00:00:00-04:00\",\"2007-07-09T00:00:00-04:00\",\"2007-07-10T00:00:00-04:00\",\"2007-07-11T00:00:00-04:00\",\"2007-07-12T00:00:00-04:00\",\"2007-07-13T00:00:00-04:00\",\"2007-07-16T00:00:00-04:00\",\"2007-07-17T00:00:00-04:00\",\"2007-07-18T00:00:00-04:00\",\"2007-07-19T00:00:00-04:00\",\"2007-07-20T00:00:00-04:00\",\"2007-07-23T00:00:00-04:00\",\"2007-07-24T00:00:00-04:00\",\"2007-07-25T00:00:00-04:00\",\"2007-07-26T00:00:00-04:00\",\"2007-07-27T00:00:00-04:00\",\"2007-07-30T00:00:00-04:00\",\"2007-07-31T00:00:00-04:00\",\"2007-08-01T00:00:00-04:00\",\"2007-08-02T00:00:00-04:00\",\"2007-08-03T00:00:00-04:00\",\"2007-08-06T00:00:00-04:00\",\"2007-08-07T00:00:00-04:00\",\"2007-08-08T00:00:00-04:00\",\"2007-08-09T00:00:00-04:00\",\"2007-08-10T00:00:00-04:00\",\"2007-08-13T00:00:00-04:00\",\"2007-08-14T00:00:00-04:00\",\"2007-08-15T00:00:00-04:00\",\"2007-08-16T00:00:00-04:00\",\"2007-08-17T00:00:00-04:00\",\"2007-08-20T00:00:00-04:00\",\"2007-08-21T00:00:00-04:00\",\"2007-08-22T00:00:00-04:00\",\"2007-08-23T00:00:00-04:00\",\"2007-08-24T00:00:00-04:00\",\"2007-08-27T00:00:00-04:00\",\"2007-08-28T00:00:00-04:00\",\"2007-08-29T00:00:00-04:00\",\"2007-08-30T00:00:00-04:00\",\"2007-08-31T00:00:00-04:00\",\"2007-09-04T00:00:00-04:00\",\"2007-09-05T00:00:00-04:00\",\"2007-09-06T00:00:00-04:00\",\"2007-09-07T00:00:00-04:00\",\"2007-09-10T00:00:00-04:00\",\"2007-09-11T00:00:00-04:00\",\"2007-09-12T00:00:00-04:00\",\"2007-09-13T00:00:00-04:00\",\"2007-09-14T00:00:00-04:00\",\"2007-09-17T00:00:00-04:00\",\"2007-09-18T00:00:00-04:00\",\"2007-09-19T00:00:00-04:00\",\"2007-09-20T00:00:00-04:00\",\"2007-09-21T00:00:00-04:00\",\"2007-09-24T00:00:00-04:00\",\"2007-09-25T00:00:00-04:00\",\"2007-09-26T00:00:00-04:00\",\"2007-09-27T00:00:00-04:00\",\"2007-09-28T00:00:00-04:00\",\"2007-10-01T00:00:00-04:00\",\"2007-10-02T00:00:00-04:00\",\"2007-10-03T00:00:00-04:00\",\"2007-10-04T00:00:00-04:00\",\"2007-10-05T00:00:00-04:00\",\"2007-10-08T00:00:00-04:00\",\"2007-10-09T00:00:00-04:00\",\"2007-10-10T00:00:00-04:00\",\"2007-10-11T00:00:00-04:00\",\"2007-10-12T00:00:00-04:00\",\"2007-10-15T00:00:00-04:00\",\"2007-10-16T00:00:00-04:00\",\"2007-10-17T00:00:00-04:00\",\"2007-10-18T00:00:00-04:00\",\"2007-10-19T00:00:00-04:00\",\"2007-10-22T00:00:00-04:00\",\"2007-10-23T00:00:00-04:00\",\"2007-10-24T00:00:00-04:00\",\"2007-10-25T00:00:00-04:00\",\"2007-10-26T00:00:00-04:00\",\"2007-10-29T00:00:00-04:00\",\"2007-10-30T00:00:00-04:00\",\"2007-10-31T00:00:00-04:00\",\"2007-11-01T00:00:00-04:00\",\"2007-11-02T00:00:00-04:00\",\"2007-11-05T00:00:00-05:00\",\"2007-11-06T00:00:00-05:00\",\"2007-11-07T00:00:00-05:00\",\"2007-11-08T00:00:00-05:00\",\"2007-11-09T00:00:00-05:00\",\"2007-11-12T00:00:00-05:00\",\"2007-11-13T00:00:00-05:00\",\"2007-11-14T00:00:00-05:00\",\"2007-11-15T00:00:00-05:00\",\"2007-11-16T00:00:00-05:00\",\"2007-11-19T00:00:00-05:00\",\"2007-11-20T00:00:00-05:00\",\"2007-11-21T00:00:00-05:00\",\"2007-11-23T00:00:00-05:00\",\"2007-11-26T00:00:00-05:00\",\"2007-11-27T00:00:00-05:00\",\"2007-11-28T00:00:00-05:00\",\"2007-11-29T00:00:00-05:00\",\"2007-11-30T00:00:00-05:00\",\"2007-12-03T00:00:00-05:00\",\"2007-12-04T00:00:00-05:00\",\"2007-12-05T00:00:00-05:00\",\"2007-12-06T00:00:00-05:00\",\"2007-12-07T00:00:00-05:00\",\"2007-12-10T00:00:00-05:00\",\"2007-12-11T00:00:00-05:00\",\"2007-12-12T00:00:00-05:00\",\"2007-12-13T00:00:00-05:00\",\"2007-12-14T00:00:00-05:00\",\"2007-12-17T00:00:00-05:00\",\"2007-12-18T00:00:00-05:00\",\"2007-12-19T00:00:00-05:00\",\"2007-12-20T00:00:00-05:00\",\"2007-12-21T00:00:00-05:00\",\"2007-12-24T00:00:00-05:00\",\"2007-12-26T00:00:00-05:00\",\"2007-12-27T00:00:00-05:00\",\"2007-12-28T00:00:00-05:00\",\"2007-12-31T00:00:00-05:00\",\"2008-01-02T00:00:00-05:00\",\"2008-01-03T00:00:00-05:00\",\"2008-01-04T00:00:00-05:00\",\"2008-01-07T00:00:00-05:00\",\"2008-01-08T00:00:00-05:00\",\"2008-01-09T00:00:00-05:00\",\"2008-01-10T00:00:00-05:00\",\"2008-01-11T00:00:00-05:00\",\"2008-01-14T00:00:00-05:00\",\"2008-01-15T00:00:00-05:00\",\"2008-01-16T00:00:00-05:00\",\"2008-01-17T00:00:00-05:00\",\"2008-01-18T00:00:00-05:00\",\"2008-01-22T00:00:00-05:00\",\"2008-01-23T00:00:00-05:00\",\"2008-01-24T00:00:00-05:00\",\"2008-01-25T00:00:00-05:00\",\"2008-01-28T00:00:00-05:00\",\"2008-01-29T00:00:00-05:00\",\"2008-01-30T00:00:00-05:00\",\"2008-01-31T00:00:00-05:00\",\"2008-02-01T00:00:00-05:00\",\"2008-02-04T00:00:00-05:00\",\"2008-02-05T00:00:00-05:00\",\"2008-02-06T00:00:00-05:00\",\"2008-02-07T00:00:00-05:00\",\"2008-02-08T00:00:00-05:00\",\"2008-02-11T00:00:00-05:00\",\"2008-02-12T00:00:00-05:00\",\"2008-02-13T00:00:00-05:00\",\"2008-02-14T00:00:00-05:00\",\"2008-02-15T00:00:00-05:00\",\"2008-02-19T00:00:00-05:00\",\"2008-02-20T00:00:00-05:00\",\"2008-02-21T00:00:00-05:00\",\"2008-02-22T00:00:00-05:00\",\"2008-02-25T00:00:00-05:00\",\"2008-02-26T00:00:00-05:00\",\"2008-02-27T00:00:00-05:00\",\"2008-02-28T00:00:00-05:00\",\"2008-02-29T00:00:00-05:00\",\"2008-03-03T00:00:00-05:00\",\"2008-03-04T00:00:00-05:00\",\"2008-03-05T00:00:00-05:00\",\"2008-03-06T00:00:00-05:00\",\"2008-03-07T00:00:00-05:00\",\"2008-03-10T00:00:00-04:00\",\"2008-03-11T00:00:00-04:00\",\"2008-03-12T00:00:00-04:00\",\"2008-03-13T00:00:00-04:00\",\"2008-03-14T00:00:00-04:00\",\"2008-03-17T00:00:00-04:00\",\"2008-03-18T00:00:00-04:00\",\"2008-03-19T00:00:00-04:00\",\"2008-03-20T00:00:00-04:00\",\"2008-03-24T00:00:00-04:00\",\"2008-03-25T00:00:00-04:00\",\"2008-03-26T00:00:00-04:00\",\"2008-03-27T00:00:00-04:00\",\"2008-03-28T00:00:00-04:00\",\"2008-03-31T00:00:00-04:00\",\"2008-04-01T00:00:00-04:00\",\"2008-04-02T00:00:00-04:00\",\"2008-04-03T00:00:00-04:00\",\"2008-04-04T00:00:00-04:00\",\"2008-04-07T00:00:00-04:00\",\"2008-04-08T00:00:00-04:00\",\"2008-04-09T00:00:00-04:00\",\"2008-04-10T00:00:00-04:00\",\"2008-04-11T00:00:00-04:00\",\"2008-04-14T00:00:00-04:00\",\"2008-04-15T00:00:00-04:00\",\"2008-04-16T00:00:00-04:00\",\"2008-04-17T00:00:00-04:00\",\"2008-04-18T00:00:00-04:00\",\"2008-04-21T00:00:00-04:00\",\"2008-04-22T00:00:00-04:00\",\"2008-04-23T00:00:00-04:00\",\"2008-04-24T00:00:00-04:00\",\"2008-04-25T00:00:00-04:00\",\"2008-04-28T00:00:00-04:00\",\"2008-04-29T00:00:00-04:00\",\"2008-04-30T00:00:00-04:00\",\"2008-05-01T00:00:00-04:00\",\"2008-05-02T00:00:00-04:00\",\"2008-05-05T00:00:00-04:00\",\"2008-05-06T00:00:00-04:00\",\"2008-05-07T00:00:00-04:00\",\"2008-05-08T00:00:00-04:00\",\"2008-05-09T00:00:00-04:00\",\"2008-05-12T00:00:00-04:00\",\"2008-05-13T00:00:00-04:00\",\"2008-05-14T00:00:00-04:00\",\"2008-05-15T00:00:00-04:00\",\"2008-05-16T00:00:00-04:00\",\"2008-05-19T00:00:00-04:00\",\"2008-05-20T00:00:00-04:00\",\"2008-05-21T00:00:00-04:00\",\"2008-05-22T00:00:00-04:00\",\"2008-05-23T00:00:00-04:00\",\"2008-05-27T00:00:00-04:00\",\"2008-05-28T00:00:00-04:00\",\"2008-05-29T00:00:00-04:00\",\"2008-05-30T00:00:00-04:00\",\"2008-06-02T00:00:00-04:00\",\"2008-06-03T00:00:00-04:00\",\"2008-06-04T00:00:00-04:00\",\"2008-06-05T00:00:00-04:00\",\"2008-06-06T00:00:00-04:00\",\"2008-06-09T00:00:00-04:00\",\"2008-06-10T00:00:00-04:00\",\"2008-06-11T00:00:00-04:00\",\"2008-06-12T00:00:00-04:00\",\"2008-06-13T00:00:00-04:00\",\"2008-06-16T00:00:00-04:00\",\"2008-06-17T00:00:00-04:00\",\"2008-06-18T00:00:00-04:00\",\"2008-06-19T00:00:00-04:00\",\"2008-06-20T00:00:00-04:00\",\"2008-06-23T00:00:00-04:00\",\"2008-06-24T00:00:00-04:00\",\"2008-06-25T00:00:00-04:00\",\"2008-06-26T00:00:00-04:00\",\"2008-06-27T00:00:00-04:00\",\"2008-06-30T00:00:00-04:00\",\"2008-07-01T00:00:00-04:00\",\"2008-07-02T00:00:00-04:00\",\"2008-07-03T00:00:00-04:00\",\"2008-07-07T00:00:00-04:00\",\"2008-07-08T00:00:00-04:00\",\"2008-07-09T00:00:00-04:00\",\"2008-07-10T00:00:00-04:00\",\"2008-07-11T00:00:00-04:00\",\"2008-07-14T00:00:00-04:00\",\"2008-07-15T00:00:00-04:00\",\"2008-07-16T00:00:00-04:00\",\"2008-07-17T00:00:00-04:00\",\"2008-07-18T00:00:00-04:00\",\"2008-07-21T00:00:00-04:00\",\"2008-07-22T00:00:00-04:00\",\"2008-07-23T00:00:00-04:00\",\"2008-07-24T00:00:00-04:00\",\"2008-07-25T00:00:00-04:00\",\"2008-07-28T00:00:00-04:00\",\"2008-07-29T00:00:00-04:00\",\"2008-07-30T00:00:00-04:00\",\"2008-07-31T00:00:00-04:00\",\"2008-08-01T00:00:00-04:00\",\"2008-08-04T00:00:00-04:00\",\"2008-08-05T00:00:00-04:00\",\"2008-08-06T00:00:00-04:00\",\"2008-08-07T00:00:00-04:00\",\"2008-08-08T00:00:00-04:00\",\"2008-08-11T00:00:00-04:00\",\"2008-08-12T00:00:00-04:00\",\"2008-08-13T00:00:00-04:00\",\"2008-08-14T00:00:00-04:00\",\"2008-08-15T00:00:00-04:00\",\"2008-08-18T00:00:00-04:00\",\"2008-08-19T00:00:00-04:00\",\"2008-08-20T00:00:00-04:00\",\"2008-08-21T00:00:00-04:00\",\"2008-08-22T00:00:00-04:00\",\"2008-08-25T00:00:00-04:00\",\"2008-08-26T00:00:00-04:00\",\"2008-08-27T00:00:00-04:00\",\"2008-08-28T00:00:00-04:00\",\"2008-08-29T00:00:00-04:00\",\"2008-09-02T00:00:00-04:00\",\"2008-09-03T00:00:00-04:00\",\"2008-09-04T00:00:00-04:00\",\"2008-09-05T00:00:00-04:00\",\"2008-09-08T00:00:00-04:00\",\"2008-09-09T00:00:00-04:00\",\"2008-09-10T00:00:00-04:00\",\"2008-09-11T00:00:00-04:00\",\"2008-09-12T00:00:00-04:00\",\"2008-09-15T00:00:00-04:00\",\"2008-09-16T00:00:00-04:00\",\"2008-09-17T00:00:00-04:00\",\"2008-09-18T00:00:00-04:00\",\"2008-09-19T00:00:00-04:00\",\"2008-09-22T00:00:00-04:00\",\"2008-09-23T00:00:00-04:00\",\"2008-09-24T00:00:00-04:00\",\"2008-09-25T00:00:00-04:00\",\"2008-09-26T00:00:00-04:00\",\"2008-09-29T00:00:00-04:00\",\"2008-09-30T00:00:00-04:00\",\"2008-10-01T00:00:00-04:00\",\"2008-10-02T00:00:00-04:00\",\"2008-10-03T00:00:00-04:00\",\"2008-10-06T00:00:00-04:00\",\"2008-10-07T00:00:00-04:00\",\"2008-10-08T00:00:00-04:00\",\"2008-10-09T00:00:00-04:00\",\"2008-10-10T00:00:00-04:00\",\"2008-10-13T00:00:00-04:00\",\"2008-10-14T00:00:00-04:00\",\"2008-10-15T00:00:00-04:00\",\"2008-10-16T00:00:00-04:00\",\"2008-10-17T00:00:00-04:00\",\"2008-10-20T00:00:00-04:00\",\"2008-10-21T00:00:00-04:00\",\"2008-10-22T00:00:00-04:00\",\"2008-10-23T00:00:00-04:00\",\"2008-10-24T00:00:00-04:00\",\"2008-10-27T00:00:00-04:00\",\"2008-10-28T00:00:00-04:00\",\"2008-10-29T00:00:00-04:00\",\"2008-10-30T00:00:00-04:00\",\"2008-10-31T00:00:00-04:00\",\"2008-11-03T00:00:00-05:00\",\"2008-11-04T00:00:00-05:00\",\"2008-11-05T00:00:00-05:00\",\"2008-11-06T00:00:00-05:00\",\"2008-11-07T00:00:00-05:00\",\"2008-11-10T00:00:00-05:00\",\"2008-11-11T00:00:00-05:00\",\"2008-11-12T00:00:00-05:00\",\"2008-11-13T00:00:00-05:00\",\"2008-11-14T00:00:00-05:00\",\"2008-11-17T00:00:00-05:00\",\"2008-11-18T00:00:00-05:00\",\"2008-11-19T00:00:00-05:00\",\"2008-11-20T00:00:00-05:00\",\"2008-11-21T00:00:00-05:00\",\"2008-11-24T00:00:00-05:00\",\"2008-11-25T00:00:00-05:00\",\"2008-11-26T00:00:00-05:00\",\"2008-11-28T00:00:00-05:00\",\"2008-12-01T00:00:00-05:00\",\"2008-12-02T00:00:00-05:00\",\"2008-12-03T00:00:00-05:00\",\"2008-12-04T00:00:00-05:00\",\"2008-12-05T00:00:00-05:00\",\"2008-12-08T00:00:00-05:00\",\"2008-12-09T00:00:00-05:00\",\"2008-12-10T00:00:00-05:00\",\"2008-12-11T00:00:00-05:00\",\"2008-12-12T00:00:00-05:00\",\"2008-12-15T00:00:00-05:00\",\"2008-12-16T00:00:00-05:00\",\"2008-12-17T00:00:00-05:00\",\"2008-12-18T00:00:00-05:00\",\"2008-12-19T00:00:00-05:00\",\"2008-12-22T00:00:00-05:00\",\"2008-12-23T00:00:00-05:00\",\"2008-12-24T00:00:00-05:00\",\"2008-12-26T00:00:00-05:00\",\"2008-12-29T00:00:00-05:00\",\"2008-12-30T00:00:00-05:00\",\"2008-12-31T00:00:00-05:00\",\"2009-01-02T00:00:00-05:00\",\"2009-01-05T00:00:00-05:00\",\"2009-01-06T00:00:00-05:00\",\"2009-01-07T00:00:00-05:00\",\"2009-01-08T00:00:00-05:00\",\"2009-01-09T00:00:00-05:00\",\"2009-01-12T00:00:00-05:00\",\"2009-01-13T00:00:00-05:00\",\"2009-01-14T00:00:00-05:00\",\"2009-01-15T00:00:00-05:00\",\"2009-01-16T00:00:00-05:00\",\"2009-01-20T00:00:00-05:00\",\"2009-01-21T00:00:00-05:00\",\"2009-01-22T00:00:00-05:00\",\"2009-01-23T00:00:00-05:00\",\"2009-01-26T00:00:00-05:00\",\"2009-01-27T00:00:00-05:00\",\"2009-01-28T00:00:00-05:00\",\"2009-01-29T00:00:00-05:00\",\"2009-01-30T00:00:00-05:00\",\"2009-02-02T00:00:00-05:00\",\"2009-02-03T00:00:00-05:00\",\"2009-02-04T00:00:00-05:00\",\"2009-02-05T00:00:00-05:00\",\"2009-02-06T00:00:00-05:00\",\"2009-02-09T00:00:00-05:00\",\"2009-02-10T00:00:00-05:00\",\"2009-02-11T00:00:00-05:00\",\"2009-02-12T00:00:00-05:00\",\"2009-02-13T00:00:00-05:00\",\"2009-02-17T00:00:00-05:00\",\"2009-02-18T00:00:00-05:00\",\"2009-02-19T00:00:00-05:00\",\"2009-02-20T00:00:00-05:00\",\"2009-02-23T00:00:00-05:00\",\"2009-02-24T00:00:00-05:00\",\"2009-02-25T00:00:00-05:00\",\"2009-02-26T00:00:00-05:00\",\"2009-02-27T00:00:00-05:00\",\"2009-03-02T00:00:00-05:00\",\"2009-03-03T00:00:00-05:00\",\"2009-03-04T00:00:00-05:00\",\"2009-03-05T00:00:00-05:00\",\"2009-03-06T00:00:00-05:00\",\"2009-03-09T00:00:00-04:00\",\"2009-03-10T00:00:00-04:00\",\"2009-03-11T00:00:00-04:00\",\"2009-03-12T00:00:00-04:00\",\"2009-03-13T00:00:00-04:00\",\"2009-03-16T00:00:00-04:00\",\"2009-03-17T00:00:00-04:00\",\"2009-03-18T00:00:00-04:00\",\"2009-03-19T00:00:00-04:00\",\"2009-03-20T00:00:00-04:00\",\"2009-03-23T00:00:00-04:00\",\"2009-03-24T00:00:00-04:00\",\"2009-03-25T00:00:00-04:00\",\"2009-03-26T00:00:00-04:00\",\"2009-03-27T00:00:00-04:00\",\"2009-03-30T00:00:00-04:00\",\"2009-03-31T00:00:00-04:00\",\"2009-04-01T00:00:00-04:00\",\"2009-04-02T00:00:00-04:00\",\"2009-04-03T00:00:00-04:00\",\"2009-04-06T00:00:00-04:00\",\"2009-04-07T00:00:00-04:00\",\"2009-04-08T00:00:00-04:00\",\"2009-04-09T00:00:00-04:00\",\"2009-04-13T00:00:00-04:00\",\"2009-04-14T00:00:00-04:00\",\"2009-04-15T00:00:00-04:00\",\"2009-04-16T00:00:00-04:00\",\"2009-04-17T00:00:00-04:00\",\"2009-04-20T00:00:00-04:00\",\"2009-04-21T00:00:00-04:00\",\"2009-04-22T00:00:00-04:00\",\"2009-04-23T00:00:00-04:00\",\"2009-04-24T00:00:00-04:00\",\"2009-04-27T00:00:00-04:00\",\"2009-04-28T00:00:00-04:00\",\"2009-04-29T00:00:00-04:00\",\"2009-04-30T00:00:00-04:00\",\"2009-05-01T00:00:00-04:00\",\"2009-05-04T00:00:00-04:00\",\"2009-05-05T00:00:00-04:00\",\"2009-05-06T00:00:00-04:00\",\"2009-05-07T00:00:00-04:00\",\"2009-05-08T00:00:00-04:00\",\"2009-05-11T00:00:00-04:00\",\"2009-05-12T00:00:00-04:00\",\"2009-05-13T00:00:00-04:00\",\"2009-05-14T00:00:00-04:00\",\"2009-05-15T00:00:00-04:00\",\"2009-05-18T00:00:00-04:00\",\"2009-05-19T00:00:00-04:00\",\"2009-05-20T00:00:00-04:00\",\"2009-05-21T00:00:00-04:00\",\"2009-05-22T00:00:00-04:00\",\"2009-05-26T00:00:00-04:00\",\"2009-05-27T00:00:00-04:00\",\"2009-05-28T00:00:00-04:00\",\"2009-05-29T00:00:00-04:00\",\"2009-06-01T00:00:00-04:00\",\"2009-06-02T00:00:00-04:00\",\"2009-06-03T00:00:00-04:00\",\"2009-06-04T00:00:00-04:00\",\"2009-06-05T00:00:00-04:00\",\"2009-06-08T00:00:00-04:00\",\"2009-06-09T00:00:00-04:00\",\"2009-06-10T00:00:00-04:00\",\"2009-06-11T00:00:00-04:00\",\"2009-06-12T00:00:00-04:00\",\"2009-06-15T00:00:00-04:00\",\"2009-06-16T00:00:00-04:00\",\"2009-06-17T00:00:00-04:00\",\"2009-06-18T00:00:00-04:00\",\"2009-06-19T00:00:00-04:00\",\"2009-06-22T00:00:00-04:00\",\"2009-06-23T00:00:00-04:00\",\"2009-06-24T00:00:00-04:00\",\"2009-06-25T00:00:00-04:00\",\"2009-06-26T00:00:00-04:00\",\"2009-06-29T00:00:00-04:00\",\"2009-06-30T00:00:00-04:00\",\"2009-07-01T00:00:00-04:00\",\"2009-07-02T00:00:00-04:00\",\"2009-07-06T00:00:00-04:00\",\"2009-07-07T00:00:00-04:00\",\"2009-07-08T00:00:00-04:00\",\"2009-07-09T00:00:00-04:00\",\"2009-07-10T00:00:00-04:00\",\"2009-07-13T00:00:00-04:00\",\"2009-07-14T00:00:00-04:00\",\"2009-07-15T00:00:00-04:00\",\"2009-07-16T00:00:00-04:00\",\"2009-07-17T00:00:00-04:00\",\"2009-07-20T00:00:00-04:00\",\"2009-07-21T00:00:00-04:00\",\"2009-07-22T00:00:00-04:00\",\"2009-07-23T00:00:00-04:00\",\"2009-07-24T00:00:00-04:00\",\"2009-07-27T00:00:00-04:00\",\"2009-07-28T00:00:00-04:00\",\"2009-07-29T00:00:00-04:00\",\"2009-07-30T00:00:00-04:00\",\"2009-07-31T00:00:00-04:00\",\"2009-08-03T00:00:00-04:00\",\"2009-08-04T00:00:00-04:00\",\"2009-08-05T00:00:00-04:00\",\"2009-08-06T00:00:00-04:00\",\"2009-08-07T00:00:00-04:00\",\"2009-08-10T00:00:00-04:00\",\"2009-08-11T00:00:00-04:00\",\"2009-08-12T00:00:00-04:00\",\"2009-08-13T00:00:00-04:00\",\"2009-08-14T00:00:00-04:00\",\"2009-08-17T00:00:00-04:00\",\"2009-08-18T00:00:00-04:00\",\"2009-08-19T00:00:00-04:00\",\"2009-08-20T00:00:00-04:00\",\"2009-08-21T00:00:00-04:00\",\"2009-08-24T00:00:00-04:00\",\"2009-08-25T00:00:00-04:00\",\"2009-08-26T00:00:00-04:00\",\"2009-08-27T00:00:00-04:00\",\"2009-08-28T00:00:00-04:00\",\"2009-08-31T00:00:00-04:00\",\"2009-09-01T00:00:00-04:00\",\"2009-09-02T00:00:00-04:00\",\"2009-09-03T00:00:00-04:00\",\"2009-09-04T00:00:00-04:00\",\"2009-09-08T00:00:00-04:00\",\"2009-09-09T00:00:00-04:00\",\"2009-09-10T00:00:00-04:00\",\"2009-09-11T00:00:00-04:00\",\"2009-09-14T00:00:00-04:00\",\"2009-09-15T00:00:00-04:00\",\"2009-09-16T00:00:00-04:00\",\"2009-09-17T00:00:00-04:00\",\"2009-09-18T00:00:00-04:00\",\"2009-09-21T00:00:00-04:00\",\"2009-09-22T00:00:00-04:00\",\"2009-09-23T00:00:00-04:00\",\"2009-09-24T00:00:00-04:00\",\"2009-09-25T00:00:00-04:00\",\"2009-09-28T00:00:00-04:00\",\"2009-09-29T00:00:00-04:00\",\"2009-09-30T00:00:00-04:00\",\"2009-10-01T00:00:00-04:00\",\"2009-10-02T00:00:00-04:00\",\"2009-10-05T00:00:00-04:00\",\"2009-10-06T00:00:00-04:00\",\"2009-10-07T00:00:00-04:00\",\"2009-10-08T00:00:00-04:00\",\"2009-10-09T00:00:00-04:00\",\"2009-10-12T00:00:00-04:00\",\"2009-10-13T00:00:00-04:00\",\"2009-10-14T00:00:00-04:00\",\"2009-10-15T00:00:00-04:00\",\"2009-10-16T00:00:00-04:00\",\"2009-10-19T00:00:00-04:00\",\"2009-10-20T00:00:00-04:00\",\"2009-10-21T00:00:00-04:00\",\"2009-10-22T00:00:00-04:00\",\"2009-10-23T00:00:00-04:00\",\"2009-10-26T00:00:00-04:00\",\"2009-10-27T00:00:00-04:00\",\"2009-10-28T00:00:00-04:00\",\"2009-10-29T00:00:00-04:00\",\"2009-10-30T00:00:00-04:00\",\"2009-11-02T00:00:00-05:00\",\"2009-11-03T00:00:00-05:00\",\"2009-11-04T00:00:00-05:00\",\"2009-11-05T00:00:00-05:00\",\"2009-11-06T00:00:00-05:00\",\"2009-11-09T00:00:00-05:00\",\"2009-11-10T00:00:00-05:00\",\"2009-11-11T00:00:00-05:00\",\"2009-11-12T00:00:00-05:00\",\"2009-11-13T00:00:00-05:00\",\"2009-11-16T00:00:00-05:00\",\"2009-11-17T00:00:00-05:00\",\"2009-11-18T00:00:00-05:00\",\"2009-11-19T00:00:00-05:00\",\"2009-11-20T00:00:00-05:00\",\"2009-11-23T00:00:00-05:00\",\"2009-11-24T00:00:00-05:00\",\"2009-11-25T00:00:00-05:00\",\"2009-11-27T00:00:00-05:00\",\"2009-11-30T00:00:00-05:00\",\"2009-12-01T00:00:00-05:00\",\"2009-12-02T00:00:00-05:00\",\"2009-12-03T00:00:00-05:00\",\"2009-12-04T00:00:00-05:00\",\"2009-12-07T00:00:00-05:00\",\"2009-12-08T00:00:00-05:00\",\"2009-12-09T00:00:00-05:00\",\"2009-12-10T00:00:00-05:00\",\"2009-12-11T00:00:00-05:00\",\"2009-12-14T00:00:00-05:00\",\"2009-12-15T00:00:00-05:00\",\"2009-12-16T00:00:00-05:00\",\"2009-12-17T00:00:00-05:00\",\"2009-12-18T00:00:00-05:00\",\"2009-12-21T00:00:00-05:00\",\"2009-12-22T00:00:00-05:00\",\"2009-12-23T00:00:00-05:00\",\"2009-12-24T00:00:00-05:00\",\"2009-12-28T00:00:00-05:00\",\"2009-12-29T00:00:00-05:00\",\"2009-12-30T00:00:00-05:00\",\"2009-12-31T00:00:00-05:00\",\"2010-01-04T00:00:00-05:00\",\"2010-01-05T00:00:00-05:00\",\"2010-01-06T00:00:00-05:00\",\"2010-01-07T00:00:00-05:00\",\"2010-01-08T00:00:00-05:00\",\"2010-01-11T00:00:00-05:00\",\"2010-01-12T00:00:00-05:00\",\"2010-01-13T00:00:00-05:00\",\"2010-01-14T00:00:00-05:00\",\"2010-01-15T00:00:00-05:00\",\"2010-01-19T00:00:00-05:00\",\"2010-01-20T00:00:00-05:00\",\"2010-01-21T00:00:00-05:00\",\"2010-01-22T00:00:00-05:00\",\"2010-01-25T00:00:00-05:00\",\"2010-01-26T00:00:00-05:00\",\"2010-01-27T00:00:00-05:00\",\"2010-01-28T00:00:00-05:00\",\"2010-01-29T00:00:00-05:00\",\"2010-02-01T00:00:00-05:00\",\"2010-02-02T00:00:00-05:00\",\"2010-02-03T00:00:00-05:00\",\"2010-02-04T00:00:00-05:00\",\"2010-02-05T00:00:00-05:00\",\"2010-02-08T00:00:00-05:00\",\"2010-02-09T00:00:00-05:00\",\"2010-02-10T00:00:00-05:00\",\"2010-02-11T00:00:00-05:00\",\"2010-02-12T00:00:00-05:00\",\"2010-02-16T00:00:00-05:00\",\"2010-02-17T00:00:00-05:00\",\"2010-02-18T00:00:00-05:00\",\"2010-02-19T00:00:00-05:00\",\"2010-02-22T00:00:00-05:00\",\"2010-02-23T00:00:00-05:00\",\"2010-02-24T00:00:00-05:00\",\"2010-02-25T00:00:00-05:00\",\"2010-02-26T00:00:00-05:00\",\"2010-03-01T00:00:00-05:00\",\"2010-03-02T00:00:00-05:00\",\"2010-03-03T00:00:00-05:00\",\"2010-03-04T00:00:00-05:00\",\"2010-03-05T00:00:00-05:00\",\"2010-03-08T00:00:00-05:00\",\"2010-03-09T00:00:00-05:00\",\"2010-03-10T00:00:00-05:00\",\"2010-03-11T00:00:00-05:00\",\"2010-03-12T00:00:00-05:00\",\"2010-03-15T00:00:00-04:00\",\"2010-03-16T00:00:00-04:00\",\"2010-03-17T00:00:00-04:00\",\"2010-03-18T00:00:00-04:00\",\"2010-03-19T00:00:00-04:00\",\"2010-03-22T00:00:00-04:00\",\"2010-03-23T00:00:00-04:00\",\"2010-03-24T00:00:00-04:00\",\"2010-03-25T00:00:00-04:00\",\"2010-03-26T00:00:00-04:00\",\"2010-03-29T00:00:00-04:00\",\"2010-03-30T00:00:00-04:00\",\"2010-03-31T00:00:00-04:00\",\"2010-04-01T00:00:00-04:00\",\"2010-04-05T00:00:00-04:00\",\"2010-04-06T00:00:00-04:00\",\"2010-04-07T00:00:00-04:00\",\"2010-04-08T00:00:00-04:00\",\"2010-04-09T00:00:00-04:00\",\"2010-04-12T00:00:00-04:00\",\"2010-04-13T00:00:00-04:00\",\"2010-04-14T00:00:00-04:00\",\"2010-04-15T00:00:00-04:00\",\"2010-04-16T00:00:00-04:00\",\"2010-04-19T00:00:00-04:00\",\"2010-04-20T00:00:00-04:00\",\"2010-04-21T00:00:00-04:00\",\"2010-04-22T00:00:00-04:00\",\"2010-04-23T00:00:00-04:00\",\"2010-04-26T00:00:00-04:00\",\"2010-04-27T00:00:00-04:00\",\"2010-04-28T00:00:00-04:00\",\"2010-04-29T00:00:00-04:00\",\"2010-04-30T00:00:00-04:00\",\"2010-05-03T00:00:00-04:00\",\"2010-05-04T00:00:00-04:00\",\"2010-05-05T00:00:00-04:00\",\"2010-05-06T00:00:00-04:00\",\"2010-05-07T00:00:00-04:00\",\"2010-05-10T00:00:00-04:00\",\"2010-05-11T00:00:00-04:00\",\"2010-05-12T00:00:00-04:00\",\"2010-05-13T00:00:00-04:00\",\"2010-05-14T00:00:00-04:00\",\"2010-05-17T00:00:00-04:00\",\"2010-05-18T00:00:00-04:00\",\"2010-05-19T00:00:00-04:00\",\"2010-05-20T00:00:00-04:00\",\"2010-05-21T00:00:00-04:00\",\"2010-05-24T00:00:00-04:00\",\"2010-05-25T00:00:00-04:00\",\"2010-05-26T00:00:00-04:00\",\"2010-05-27T00:00:00-04:00\",\"2010-05-28T00:00:00-04:00\",\"2010-06-01T00:00:00-04:00\",\"2010-06-02T00:00:00-04:00\",\"2010-06-03T00:00:00-04:00\",\"2010-06-04T00:00:00-04:00\",\"2010-06-07T00:00:00-04:00\",\"2010-06-08T00:00:00-04:00\",\"2010-06-09T00:00:00-04:00\",\"2010-06-10T00:00:00-04:00\",\"2010-06-11T00:00:00-04:00\",\"2010-06-14T00:00:00-04:00\",\"2010-06-15T00:00:00-04:00\",\"2010-06-16T00:00:00-04:00\",\"2010-06-17T00:00:00-04:00\",\"2010-06-18T00:00:00-04:00\",\"2010-06-21T00:00:00-04:00\",\"2010-06-22T00:00:00-04:00\",\"2010-06-23T00:00:00-04:00\",\"2010-06-24T00:00:00-04:00\",\"2010-06-25T00:00:00-04:00\",\"2010-06-28T00:00:00-04:00\",\"2010-06-29T00:00:00-04:00\",\"2010-06-30T00:00:00-04:00\",\"2010-07-01T00:00:00-04:00\",\"2010-07-02T00:00:00-04:00\",\"2010-07-06T00:00:00-04:00\",\"2010-07-07T00:00:00-04:00\",\"2010-07-08T00:00:00-04:00\",\"2010-07-09T00:00:00-04:00\",\"2010-07-12T00:00:00-04:00\",\"2010-07-13T00:00:00-04:00\",\"2010-07-14T00:00:00-04:00\",\"2010-07-15T00:00:00-04:00\",\"2010-07-16T00:00:00-04:00\",\"2010-07-19T00:00:00-04:00\",\"2010-07-20T00:00:00-04:00\",\"2010-07-21T00:00:00-04:00\",\"2010-07-22T00:00:00-04:00\",\"2010-07-23T00:00:00-04:00\",\"2010-07-26T00:00:00-04:00\",\"2010-07-27T00:00:00-04:00\",\"2010-07-28T00:00:00-04:00\",\"2010-07-29T00:00:00-04:00\",\"2010-07-30T00:00:00-04:00\",\"2010-08-02T00:00:00-04:00\",\"2010-08-03T00:00:00-04:00\",\"2010-08-04T00:00:00-04:00\",\"2010-08-05T00:00:00-04:00\",\"2010-08-06T00:00:00-04:00\",\"2010-08-09T00:00:00-04:00\",\"2010-08-10T00:00:00-04:00\",\"2010-08-11T00:00:00-04:00\",\"2010-08-12T00:00:00-04:00\",\"2010-08-13T00:00:00-04:00\",\"2010-08-16T00:00:00-04:00\",\"2010-08-17T00:00:00-04:00\",\"2010-08-18T00:00:00-04:00\",\"2010-08-19T00:00:00-04:00\",\"2010-08-20T00:00:00-04:00\",\"2010-08-23T00:00:00-04:00\",\"2010-08-24T00:00:00-04:00\",\"2010-08-25T00:00:00-04:00\",\"2010-08-26T00:00:00-04:00\",\"2010-08-27T00:00:00-04:00\",\"2010-08-30T00:00:00-04:00\",\"2010-08-31T00:00:00-04:00\",\"2010-09-01T00:00:00-04:00\",\"2010-09-02T00:00:00-04:00\",\"2010-09-03T00:00:00-04:00\",\"2010-09-07T00:00:00-04:00\",\"2010-09-08T00:00:00-04:00\",\"2010-09-09T00:00:00-04:00\",\"2010-09-10T00:00:00-04:00\",\"2010-09-13T00:00:00-04:00\",\"2010-09-14T00:00:00-04:00\",\"2010-09-15T00:00:00-04:00\",\"2010-09-16T00:00:00-04:00\",\"2010-09-17T00:00:00-04:00\",\"2010-09-20T00:00:00-04:00\",\"2010-09-21T00:00:00-04:00\",\"2010-09-22T00:00:00-04:00\",\"2010-09-23T00:00:00-04:00\",\"2010-09-24T00:00:00-04:00\",\"2010-09-27T00:00:00-04:00\",\"2010-09-28T00:00:00-04:00\",\"2010-09-29T00:00:00-04:00\",\"2010-09-30T00:00:00-04:00\",\"2010-10-01T00:00:00-04:00\",\"2010-10-04T00:00:00-04:00\",\"2010-10-05T00:00:00-04:00\",\"2010-10-06T00:00:00-04:00\",\"2010-10-07T00:00:00-04:00\",\"2010-10-08T00:00:00-04:00\",\"2010-10-11T00:00:00-04:00\",\"2010-10-12T00:00:00-04:00\",\"2010-10-13T00:00:00-04:00\",\"2010-10-14T00:00:00-04:00\",\"2010-10-15T00:00:00-04:00\",\"2010-10-18T00:00:00-04:00\",\"2010-10-19T00:00:00-04:00\",\"2010-10-20T00:00:00-04:00\",\"2010-10-21T00:00:00-04:00\",\"2010-10-22T00:00:00-04:00\",\"2010-10-25T00:00:00-04:00\",\"2010-10-26T00:00:00-04:00\",\"2010-10-27T00:00:00-04:00\",\"2010-10-28T00:00:00-04:00\",\"2010-10-29T00:00:00-04:00\",\"2010-11-01T00:00:00-04:00\",\"2010-11-02T00:00:00-04:00\",\"2010-11-03T00:00:00-04:00\",\"2010-11-04T00:00:00-04:00\",\"2010-11-05T00:00:00-04:00\",\"2010-11-08T00:00:00-05:00\",\"2010-11-09T00:00:00-05:00\",\"2010-11-10T00:00:00-05:00\",\"2010-11-11T00:00:00-05:00\",\"2010-11-12T00:00:00-05:00\",\"2010-11-15T00:00:00-05:00\",\"2010-11-16T00:00:00-05:00\",\"2010-11-17T00:00:00-05:00\",\"2010-11-18T00:00:00-05:00\",\"2010-11-19T00:00:00-05:00\",\"2010-11-22T00:00:00-05:00\",\"2010-11-23T00:00:00-05:00\",\"2010-11-24T00:00:00-05:00\",\"2010-11-26T00:00:00-05:00\",\"2010-11-29T00:00:00-05:00\",\"2010-11-30T00:00:00-05:00\",\"2010-12-01T00:00:00-05:00\",\"2010-12-02T00:00:00-05:00\",\"2010-12-03T00:00:00-05:00\",\"2010-12-06T00:00:00-05:00\",\"2010-12-07T00:00:00-05:00\",\"2010-12-08T00:00:00-05:00\",\"2010-12-09T00:00:00-05:00\",\"2010-12-10T00:00:00-05:00\",\"2010-12-13T00:00:00-05:00\",\"2010-12-14T00:00:00-05:00\",\"2010-12-15T00:00:00-05:00\",\"2010-12-16T00:00:00-05:00\",\"2010-12-17T00:00:00-05:00\",\"2010-12-20T00:00:00-05:00\",\"2010-12-21T00:00:00-05:00\",\"2010-12-22T00:00:00-05:00\",\"2010-12-23T00:00:00-05:00\",\"2010-12-27T00:00:00-05:00\",\"2010-12-28T00:00:00-05:00\",\"2010-12-29T00:00:00-05:00\",\"2010-12-30T00:00:00-05:00\",\"2010-12-31T00:00:00-05:00\",\"2011-01-03T00:00:00-05:00\",\"2011-01-04T00:00:00-05:00\",\"2011-01-05T00:00:00-05:00\",\"2011-01-06T00:00:00-05:00\",\"2011-01-07T00:00:00-05:00\",\"2011-01-10T00:00:00-05:00\",\"2011-01-11T00:00:00-05:00\",\"2011-01-12T00:00:00-05:00\",\"2011-01-13T00:00:00-05:00\",\"2011-01-14T00:00:00-05:00\",\"2011-01-18T00:00:00-05:00\",\"2011-01-19T00:00:00-05:00\",\"2011-01-20T00:00:00-05:00\",\"2011-01-21T00:00:00-05:00\",\"2011-01-24T00:00:00-05:00\",\"2011-01-25T00:00:00-05:00\",\"2011-01-26T00:00:00-05:00\",\"2011-01-27T00:00:00-05:00\",\"2011-01-28T00:00:00-05:00\",\"2011-01-31T00:00:00-05:00\",\"2011-02-01T00:00:00-05:00\",\"2011-02-02T00:00:00-05:00\",\"2011-02-03T00:00:00-05:00\",\"2011-02-04T00:00:00-05:00\",\"2011-02-07T00:00:00-05:00\",\"2011-02-08T00:00:00-05:00\",\"2011-02-09T00:00:00-05:00\",\"2011-02-10T00:00:00-05:00\",\"2011-02-11T00:00:00-05:00\",\"2011-02-14T00:00:00-05:00\",\"2011-02-15T00:00:00-05:00\",\"2011-02-16T00:00:00-05:00\",\"2011-02-17T00:00:00-05:00\",\"2011-02-18T00:00:00-05:00\",\"2011-02-22T00:00:00-05:00\",\"2011-02-23T00:00:00-05:00\",\"2011-02-24T00:00:00-05:00\",\"2011-02-25T00:00:00-05:00\",\"2011-02-28T00:00:00-05:00\",\"2011-03-01T00:00:00-05:00\",\"2011-03-02T00:00:00-05:00\",\"2011-03-03T00:00:00-05:00\",\"2011-03-04T00:00:00-05:00\",\"2011-03-07T00:00:00-05:00\",\"2011-03-08T00:00:00-05:00\",\"2011-03-09T00:00:00-05:00\",\"2011-03-10T00:00:00-05:00\",\"2011-03-11T00:00:00-05:00\",\"2011-03-14T00:00:00-04:00\",\"2011-03-15T00:00:00-04:00\",\"2011-03-16T00:00:00-04:00\",\"2011-03-17T00:00:00-04:00\",\"2011-03-18T00:00:00-04:00\",\"2011-03-21T00:00:00-04:00\",\"2011-03-22T00:00:00-04:00\",\"2011-03-23T00:00:00-04:00\",\"2011-03-24T00:00:00-04:00\",\"2011-03-25T00:00:00-04:00\",\"2011-03-28T00:00:00-04:00\",\"2011-03-29T00:00:00-04:00\",\"2011-03-30T00:00:00-04:00\",\"2011-03-31T00:00:00-04:00\",\"2011-04-01T00:00:00-04:00\",\"2011-04-04T00:00:00-04:00\",\"2011-04-05T00:00:00-04:00\",\"2011-04-06T00:00:00-04:00\",\"2011-04-07T00:00:00-04:00\",\"2011-04-08T00:00:00-04:00\",\"2011-04-11T00:00:00-04:00\",\"2011-04-12T00:00:00-04:00\",\"2011-04-13T00:00:00-04:00\",\"2011-04-14T00:00:00-04:00\",\"2011-04-15T00:00:00-04:00\",\"2011-04-18T00:00:00-04:00\",\"2011-04-19T00:00:00-04:00\",\"2011-04-20T00:00:00-04:00\",\"2011-04-21T00:00:00-04:00\",\"2011-04-25T00:00:00-04:00\",\"2011-04-26T00:00:00-04:00\",\"2011-04-27T00:00:00-04:00\",\"2011-04-28T00:00:00-04:00\",\"2011-04-29T00:00:00-04:00\",\"2011-05-02T00:00:00-04:00\",\"2011-05-03T00:00:00-04:00\",\"2011-05-04T00:00:00-04:00\",\"2011-05-05T00:00:00-04:00\",\"2011-05-06T00:00:00-04:00\",\"2011-05-09T00:00:00-04:00\",\"2011-05-10T00:00:00-04:00\",\"2011-05-11T00:00:00-04:00\",\"2011-05-12T00:00:00-04:00\",\"2011-05-13T00:00:00-04:00\",\"2011-05-16T00:00:00-04:00\",\"2011-05-17T00:00:00-04:00\",\"2011-05-18T00:00:00-04:00\",\"2011-05-19T00:00:00-04:00\",\"2011-05-20T00:00:00-04:00\",\"2011-05-23T00:00:00-04:00\",\"2011-05-24T00:00:00-04:00\",\"2011-05-25T00:00:00-04:00\",\"2011-05-26T00:00:00-04:00\",\"2011-05-27T00:00:00-04:00\",\"2011-05-31T00:00:00-04:00\",\"2011-06-01T00:00:00-04:00\",\"2011-06-02T00:00:00-04:00\",\"2011-06-03T00:00:00-04:00\",\"2011-06-06T00:00:00-04:00\",\"2011-06-07T00:00:00-04:00\",\"2011-06-08T00:00:00-04:00\",\"2011-06-09T00:00:00-04:00\",\"2011-06-10T00:00:00-04:00\",\"2011-06-13T00:00:00-04:00\",\"2011-06-14T00:00:00-04:00\",\"2011-06-15T00:00:00-04:00\",\"2011-06-16T00:00:00-04:00\",\"2011-06-17T00:00:00-04:00\",\"2011-06-20T00:00:00-04:00\",\"2011-06-21T00:00:00-04:00\",\"2011-06-22T00:00:00-04:00\",\"2011-06-23T00:00:00-04:00\",\"2011-06-24T00:00:00-04:00\",\"2011-06-27T00:00:00-04:00\",\"2011-06-28T00:00:00-04:00\",\"2011-06-29T00:00:00-04:00\",\"2011-06-30T00:00:00-04:00\",\"2011-07-01T00:00:00-04:00\",\"2011-07-05T00:00:00-04:00\",\"2011-07-06T00:00:00-04:00\",\"2011-07-07T00:00:00-04:00\",\"2011-07-08T00:00:00-04:00\",\"2011-07-11T00:00:00-04:00\",\"2011-07-12T00:00:00-04:00\",\"2011-07-13T00:00:00-04:00\",\"2011-07-14T00:00:00-04:00\",\"2011-07-15T00:00:00-04:00\",\"2011-07-18T00:00:00-04:00\",\"2011-07-19T00:00:00-04:00\",\"2011-07-20T00:00:00-04:00\",\"2011-07-21T00:00:00-04:00\",\"2011-07-22T00:00:00-04:00\",\"2011-07-25T00:00:00-04:00\",\"2011-07-26T00:00:00-04:00\",\"2011-07-27T00:00:00-04:00\",\"2011-07-28T00:00:00-04:00\",\"2011-07-29T00:00:00-04:00\",\"2011-08-01T00:00:00-04:00\",\"2011-08-02T00:00:00-04:00\",\"2011-08-03T00:00:00-04:00\",\"2011-08-04T00:00:00-04:00\",\"2011-08-05T00:00:00-04:00\",\"2011-08-08T00:00:00-04:00\",\"2011-08-09T00:00:00-04:00\",\"2011-08-10T00:00:00-04:00\",\"2011-08-11T00:00:00-04:00\",\"2011-08-12T00:00:00-04:00\",\"2011-08-15T00:00:00-04:00\",\"2011-08-16T00:00:00-04:00\",\"2011-08-17T00:00:00-04:00\",\"2011-08-18T00:00:00-04:00\",\"2011-08-19T00:00:00-04:00\",\"2011-08-22T00:00:00-04:00\",\"2011-08-23T00:00:00-04:00\",\"2011-08-24T00:00:00-04:00\",\"2011-08-25T00:00:00-04:00\",\"2011-08-26T00:00:00-04:00\",\"2011-08-29T00:00:00-04:00\",\"2011-08-30T00:00:00-04:00\",\"2011-08-31T00:00:00-04:00\",\"2011-09-01T00:00:00-04:00\",\"2011-09-02T00:00:00-04:00\",\"2011-09-06T00:00:00-04:00\",\"2011-09-07T00:00:00-04:00\",\"2011-09-08T00:00:00-04:00\",\"2011-09-09T00:00:00-04:00\",\"2011-09-12T00:00:00-04:00\",\"2011-09-13T00:00:00-04:00\",\"2011-09-14T00:00:00-04:00\",\"2011-09-15T00:00:00-04:00\",\"2011-09-16T00:00:00-04:00\",\"2011-09-19T00:00:00-04:00\",\"2011-09-20T00:00:00-04:00\",\"2011-09-21T00:00:00-04:00\",\"2011-09-22T00:00:00-04:00\",\"2011-09-23T00:00:00-04:00\",\"2011-09-26T00:00:00-04:00\",\"2011-09-27T00:00:00-04:00\",\"2011-09-28T00:00:00-04:00\",\"2011-09-29T00:00:00-04:00\",\"2011-09-30T00:00:00-04:00\",\"2011-10-03T00:00:00-04:00\",\"2011-10-04T00:00:00-04:00\",\"2011-10-05T00:00:00-04:00\",\"2011-10-06T00:00:00-04:00\",\"2011-10-07T00:00:00-04:00\",\"2011-10-10T00:00:00-04:00\",\"2011-10-11T00:00:00-04:00\",\"2011-10-12T00:00:00-04:00\",\"2011-10-13T00:00:00-04:00\",\"2011-10-14T00:00:00-04:00\",\"2011-10-17T00:00:00-04:00\",\"2011-10-18T00:00:00-04:00\",\"2011-10-19T00:00:00-04:00\",\"2011-10-20T00:00:00-04:00\",\"2011-10-21T00:00:00-04:00\",\"2011-10-24T00:00:00-04:00\",\"2011-10-25T00:00:00-04:00\",\"2011-10-26T00:00:00-04:00\",\"2011-10-27T00:00:00-04:00\",\"2011-10-28T00:00:00-04:00\",\"2011-10-31T00:00:00-04:00\",\"2011-11-01T00:00:00-04:00\",\"2011-11-02T00:00:00-04:00\",\"2011-11-03T00:00:00-04:00\",\"2011-11-04T00:00:00-04:00\",\"2011-11-07T00:00:00-05:00\",\"2011-11-08T00:00:00-05:00\",\"2011-11-09T00:00:00-05:00\",\"2011-11-10T00:00:00-05:00\",\"2011-11-11T00:00:00-05:00\",\"2011-11-14T00:00:00-05:00\",\"2011-11-15T00:00:00-05:00\",\"2011-11-16T00:00:00-05:00\",\"2011-11-17T00:00:00-05:00\",\"2011-11-18T00:00:00-05:00\",\"2011-11-21T00:00:00-05:00\",\"2011-11-22T00:00:00-05:00\",\"2011-11-23T00:00:00-05:00\",\"2011-11-25T00:00:00-05:00\",\"2011-11-28T00:00:00-05:00\",\"2011-11-29T00:00:00-05:00\",\"2011-11-30T00:00:00-05:00\",\"2011-12-01T00:00:00-05:00\",\"2011-12-02T00:00:00-05:00\",\"2011-12-05T00:00:00-05:00\",\"2011-12-06T00:00:00-05:00\",\"2011-12-07T00:00:00-05:00\",\"2011-12-08T00:00:00-05:00\",\"2011-12-09T00:00:00-05:00\",\"2011-12-12T00:00:00-05:00\",\"2011-12-13T00:00:00-05:00\",\"2011-12-14T00:00:00-05:00\",\"2011-12-15T00:00:00-05:00\",\"2011-12-16T00:00:00-05:00\",\"2011-12-19T00:00:00-05:00\",\"2011-12-20T00:00:00-05:00\",\"2011-12-21T00:00:00-05:00\",\"2011-12-22T00:00:00-05:00\",\"2011-12-23T00:00:00-05:00\",\"2011-12-27T00:00:00-05:00\",\"2011-12-28T00:00:00-05:00\",\"2011-12-29T00:00:00-05:00\",\"2011-12-30T00:00:00-05:00\",\"2012-01-03T00:00:00-05:00\",\"2012-01-04T00:00:00-05:00\",\"2012-01-05T00:00:00-05:00\",\"2012-01-06T00:00:00-05:00\",\"2012-01-09T00:00:00-05:00\",\"2012-01-10T00:00:00-05:00\",\"2012-01-11T00:00:00-05:00\",\"2012-01-12T00:00:00-05:00\",\"2012-01-13T00:00:00-05:00\",\"2012-01-17T00:00:00-05:00\",\"2012-01-18T00:00:00-05:00\",\"2012-01-19T00:00:00-05:00\",\"2012-01-20T00:00:00-05:00\",\"2012-01-23T00:00:00-05:00\",\"2012-01-24T00:00:00-05:00\",\"2012-01-25T00:00:00-05:00\",\"2012-01-26T00:00:00-05:00\",\"2012-01-27T00:00:00-05:00\",\"2012-01-30T00:00:00-05:00\",\"2012-01-31T00:00:00-05:00\",\"2012-02-01T00:00:00-05:00\",\"2012-02-02T00:00:00-05:00\",\"2012-02-03T00:00:00-05:00\",\"2012-02-06T00:00:00-05:00\",\"2012-02-07T00:00:00-05:00\",\"2012-02-08T00:00:00-05:00\",\"2012-02-09T00:00:00-05:00\",\"2012-02-10T00:00:00-05:00\",\"2012-02-13T00:00:00-05:00\",\"2012-02-14T00:00:00-05:00\",\"2012-02-15T00:00:00-05:00\",\"2012-02-16T00:00:00-05:00\",\"2012-02-17T00:00:00-05:00\",\"2012-02-21T00:00:00-05:00\",\"2012-02-22T00:00:00-05:00\",\"2012-02-23T00:00:00-05:00\",\"2012-02-24T00:00:00-05:00\",\"2012-02-27T00:00:00-05:00\",\"2012-02-28T00:00:00-05:00\",\"2012-02-29T00:00:00-05:00\",\"2012-03-01T00:00:00-05:00\",\"2012-03-02T00:00:00-05:00\",\"2012-03-05T00:00:00-05:00\",\"2012-03-06T00:00:00-05:00\",\"2012-03-07T00:00:00-05:00\",\"2012-03-08T00:00:00-05:00\",\"2012-03-09T00:00:00-05:00\",\"2012-03-12T00:00:00-04:00\",\"2012-03-13T00:00:00-04:00\",\"2012-03-14T00:00:00-04:00\",\"2012-03-15T00:00:00-04:00\",\"2012-03-16T00:00:00-04:00\",\"2012-03-19T00:00:00-04:00\",\"2012-03-20T00:00:00-04:00\",\"2012-03-21T00:00:00-04:00\",\"2012-03-22T00:00:00-04:00\",\"2012-03-23T00:00:00-04:00\",\"2012-03-26T00:00:00-04:00\",\"2012-03-27T00:00:00-04:00\",\"2012-03-28T00:00:00-04:00\",\"2012-03-29T00:00:00-04:00\",\"2012-03-30T00:00:00-04:00\",\"2012-04-02T00:00:00-04:00\",\"2012-04-03T00:00:00-04:00\",\"2012-04-04T00:00:00-04:00\",\"2012-04-05T00:00:00-04:00\",\"2012-04-09T00:00:00-04:00\",\"2012-04-10T00:00:00-04:00\",\"2012-04-11T00:00:00-04:00\",\"2012-04-12T00:00:00-04:00\",\"2012-04-13T00:00:00-04:00\",\"2012-04-16T00:00:00-04:00\",\"2012-04-17T00:00:00-04:00\",\"2012-04-18T00:00:00-04:00\",\"2012-04-19T00:00:00-04:00\",\"2012-04-20T00:00:00-04:00\",\"2012-04-23T00:00:00-04:00\",\"2012-04-24T00:00:00-04:00\",\"2012-04-25T00:00:00-04:00\",\"2012-04-26T00:00:00-04:00\",\"2012-04-27T00:00:00-04:00\",\"2012-04-30T00:00:00-04:00\",\"2012-05-01T00:00:00-04:00\",\"2012-05-02T00:00:00-04:00\",\"2012-05-03T00:00:00-04:00\",\"2012-05-04T00:00:00-04:00\",\"2012-05-07T00:00:00-04:00\",\"2012-05-08T00:00:00-04:00\",\"2012-05-09T00:00:00-04:00\",\"2012-05-10T00:00:00-04:00\",\"2012-05-11T00:00:00-04:00\",\"2012-05-14T00:00:00-04:00\",\"2012-05-15T00:00:00-04:00\",\"2012-05-16T00:00:00-04:00\",\"2012-05-17T00:00:00-04:00\",\"2012-05-18T00:00:00-04:00\",\"2012-05-21T00:00:00-04:00\",\"2012-05-22T00:00:00-04:00\",\"2012-05-23T00:00:00-04:00\",\"2012-05-24T00:00:00-04:00\",\"2012-05-25T00:00:00-04:00\",\"2012-05-29T00:00:00-04:00\",\"2012-05-30T00:00:00-04:00\",\"2012-05-31T00:00:00-04:00\",\"2012-06-01T00:00:00-04:00\",\"2012-06-04T00:00:00-04:00\",\"2012-06-05T00:00:00-04:00\",\"2012-06-06T00:00:00-04:00\",\"2012-06-07T00:00:00-04:00\",\"2012-06-08T00:00:00-04:00\",\"2012-06-11T00:00:00-04:00\",\"2012-06-12T00:00:00-04:00\",\"2012-06-13T00:00:00-04:00\",\"2012-06-14T00:00:00-04:00\",\"2012-06-15T00:00:00-04:00\",\"2012-06-18T00:00:00-04:00\",\"2012-06-19T00:00:00-04:00\",\"2012-06-20T00:00:00-04:00\",\"2012-06-21T00:00:00-04:00\",\"2012-06-22T00:00:00-04:00\",\"2012-06-25T00:00:00-04:00\",\"2012-06-26T00:00:00-04:00\",\"2012-06-27T00:00:00-04:00\",\"2012-06-28T00:00:00-04:00\",\"2012-06-29T00:00:00-04:00\",\"2012-07-02T00:00:00-04:00\",\"2012-07-03T00:00:00-04:00\",\"2012-07-05T00:00:00-04:00\",\"2012-07-06T00:00:00-04:00\",\"2012-07-09T00:00:00-04:00\",\"2012-07-10T00:00:00-04:00\",\"2012-07-11T00:00:00-04:00\",\"2012-07-12T00:00:00-04:00\",\"2012-07-13T00:00:00-04:00\",\"2012-07-16T00:00:00-04:00\",\"2012-07-17T00:00:00-04:00\",\"2012-07-18T00:00:00-04:00\",\"2012-07-19T00:00:00-04:00\",\"2012-07-20T00:00:00-04:00\",\"2012-07-23T00:00:00-04:00\",\"2012-07-24T00:00:00-04:00\",\"2012-07-25T00:00:00-04:00\",\"2012-07-26T00:00:00-04:00\",\"2012-07-27T00:00:00-04:00\",\"2012-07-30T00:00:00-04:00\",\"2012-07-31T00:00:00-04:00\",\"2012-08-01T00:00:00-04:00\",\"2012-08-02T00:00:00-04:00\",\"2012-08-03T00:00:00-04:00\",\"2012-08-06T00:00:00-04:00\",\"2012-08-07T00:00:00-04:00\",\"2012-08-08T00:00:00-04:00\",\"2012-08-09T00:00:00-04:00\",\"2012-08-10T00:00:00-04:00\",\"2012-08-13T00:00:00-04:00\",\"2012-08-14T00:00:00-04:00\",\"2012-08-15T00:00:00-04:00\",\"2012-08-16T00:00:00-04:00\",\"2012-08-17T00:00:00-04:00\",\"2012-08-20T00:00:00-04:00\",\"2012-08-21T00:00:00-04:00\",\"2012-08-22T00:00:00-04:00\",\"2012-08-23T00:00:00-04:00\",\"2012-08-24T00:00:00-04:00\",\"2012-08-27T00:00:00-04:00\",\"2012-08-28T00:00:00-04:00\",\"2012-08-29T00:00:00-04:00\",\"2012-08-30T00:00:00-04:00\",\"2012-08-31T00:00:00-04:00\",\"2012-09-04T00:00:00-04:00\",\"2012-09-05T00:00:00-04:00\",\"2012-09-06T00:00:00-04:00\",\"2012-09-07T00:00:00-04:00\",\"2012-09-10T00:00:00-04:00\",\"2012-09-11T00:00:00-04:00\",\"2012-09-12T00:00:00-04:00\",\"2012-09-13T00:00:00-04:00\",\"2012-09-14T00:00:00-04:00\",\"2012-09-17T00:00:00-04:00\",\"2012-09-18T00:00:00-04:00\",\"2012-09-19T00:00:00-04:00\",\"2012-09-20T00:00:00-04:00\",\"2012-09-21T00:00:00-04:00\",\"2012-09-24T00:00:00-04:00\",\"2012-09-25T00:00:00-04:00\",\"2012-09-26T00:00:00-04:00\",\"2012-09-27T00:00:00-04:00\",\"2012-09-28T00:00:00-04:00\",\"2012-10-01T00:00:00-04:00\",\"2012-10-02T00:00:00-04:00\",\"2012-10-03T00:00:00-04:00\",\"2012-10-04T00:00:00-04:00\",\"2012-10-05T00:00:00-04:00\",\"2012-10-08T00:00:00-04:00\",\"2012-10-09T00:00:00-04:00\",\"2012-10-10T00:00:00-04:00\",\"2012-10-11T00:00:00-04:00\",\"2012-10-12T00:00:00-04:00\",\"2012-10-15T00:00:00-04:00\",\"2012-10-16T00:00:00-04:00\",\"2012-10-17T00:00:00-04:00\",\"2012-10-18T00:00:00-04:00\",\"2012-10-19T00:00:00-04:00\",\"2012-10-22T00:00:00-04:00\",\"2012-10-23T00:00:00-04:00\",\"2012-10-24T00:00:00-04:00\",\"2012-10-25T00:00:00-04:00\",\"2012-10-26T00:00:00-04:00\",\"2012-10-31T00:00:00-04:00\",\"2012-11-01T00:00:00-04:00\",\"2012-11-02T00:00:00-04:00\",\"2012-11-05T00:00:00-05:00\",\"2012-11-06T00:00:00-05:00\",\"2012-11-07T00:00:00-05:00\",\"2012-11-08T00:00:00-05:00\",\"2012-11-09T00:00:00-05:00\",\"2012-11-12T00:00:00-05:00\",\"2012-11-13T00:00:00-05:00\",\"2012-11-14T00:00:00-05:00\",\"2012-11-15T00:00:00-05:00\",\"2012-11-16T00:00:00-05:00\",\"2012-11-19T00:00:00-05:00\",\"2012-11-20T00:00:00-05:00\",\"2012-11-21T00:00:00-05:00\",\"2012-11-23T00:00:00-05:00\",\"2012-11-26T00:00:00-05:00\",\"2012-11-27T00:00:00-05:00\",\"2012-11-28T00:00:00-05:00\",\"2012-11-29T00:00:00-05:00\",\"2012-11-30T00:00:00-05:00\",\"2012-12-03T00:00:00-05:00\",\"2012-12-04T00:00:00-05:00\",\"2012-12-05T00:00:00-05:00\",\"2012-12-06T00:00:00-05:00\",\"2012-12-07T00:00:00-05:00\",\"2012-12-10T00:00:00-05:00\",\"2012-12-11T00:00:00-05:00\",\"2012-12-12T00:00:00-05:00\",\"2012-12-13T00:00:00-05:00\",\"2012-12-14T00:00:00-05:00\",\"2012-12-17T00:00:00-05:00\",\"2012-12-18T00:00:00-05:00\",\"2012-12-19T00:00:00-05:00\",\"2012-12-20T00:00:00-05:00\",\"2012-12-21T00:00:00-05:00\",\"2012-12-24T00:00:00-05:00\",\"2012-12-26T00:00:00-05:00\",\"2012-12-27T00:00:00-05:00\",\"2012-12-28T00:00:00-05:00\",\"2012-12-31T00:00:00-05:00\",\"2013-01-02T00:00:00-05:00\",\"2013-01-03T00:00:00-05:00\",\"2013-01-04T00:00:00-05:00\",\"2013-01-07T00:00:00-05:00\",\"2013-01-08T00:00:00-05:00\",\"2013-01-09T00:00:00-05:00\",\"2013-01-10T00:00:00-05:00\",\"2013-01-11T00:00:00-05:00\",\"2013-01-14T00:00:00-05:00\",\"2013-01-15T00:00:00-05:00\",\"2013-01-16T00:00:00-05:00\",\"2013-01-17T00:00:00-05:00\",\"2013-01-18T00:00:00-05:00\",\"2013-01-22T00:00:00-05:00\",\"2013-01-23T00:00:00-05:00\",\"2013-01-24T00:00:00-05:00\",\"2013-01-25T00:00:00-05:00\",\"2013-01-28T00:00:00-05:00\",\"2013-01-29T00:00:00-05:00\",\"2013-01-30T00:00:00-05:00\",\"2013-01-31T00:00:00-05:00\",\"2013-02-01T00:00:00-05:00\",\"2013-02-04T00:00:00-05:00\",\"2013-02-05T00:00:00-05:00\",\"2013-02-06T00:00:00-05:00\",\"2013-02-07T00:00:00-05:00\",\"2013-02-08T00:00:00-05:00\",\"2013-02-11T00:00:00-05:00\",\"2013-02-12T00:00:00-05:00\",\"2013-02-13T00:00:00-05:00\",\"2013-02-14T00:00:00-05:00\",\"2013-02-15T00:00:00-05:00\",\"2013-02-19T00:00:00-05:00\",\"2013-02-20T00:00:00-05:00\",\"2013-02-21T00:00:00-05:00\",\"2013-02-22T00:00:00-05:00\",\"2013-02-25T00:00:00-05:00\",\"2013-02-26T00:00:00-05:00\",\"2013-02-27T00:00:00-05:00\",\"2013-02-28T00:00:00-05:00\",\"2013-03-01T00:00:00-05:00\",\"2013-03-04T00:00:00-05:00\",\"2013-03-05T00:00:00-05:00\",\"2013-03-06T00:00:00-05:00\",\"2013-03-07T00:00:00-05:00\",\"2013-03-08T00:00:00-05:00\",\"2013-03-11T00:00:00-04:00\",\"2013-03-12T00:00:00-04:00\",\"2013-03-13T00:00:00-04:00\",\"2013-03-14T00:00:00-04:00\",\"2013-03-15T00:00:00-04:00\",\"2013-03-18T00:00:00-04:00\",\"2013-03-19T00:00:00-04:00\",\"2013-03-20T00:00:00-04:00\",\"2013-03-21T00:00:00-04:00\",\"2013-03-22T00:00:00-04:00\",\"2013-03-25T00:00:00-04:00\",\"2013-03-26T00:00:00-04:00\",\"2013-03-27T00:00:00-04:00\",\"2013-03-28T00:00:00-04:00\",\"2013-04-01T00:00:00-04:00\",\"2013-04-02T00:00:00-04:00\",\"2013-04-03T00:00:00-04:00\",\"2013-04-04T00:00:00-04:00\",\"2013-04-05T00:00:00-04:00\",\"2013-04-08T00:00:00-04:00\",\"2013-04-09T00:00:00-04:00\",\"2013-04-10T00:00:00-04:00\",\"2013-04-11T00:00:00-04:00\",\"2013-04-12T00:00:00-04:00\",\"2013-04-15T00:00:00-04:00\",\"2013-04-16T00:00:00-04:00\",\"2013-04-17T00:00:00-04:00\",\"2013-04-18T00:00:00-04:00\",\"2013-04-19T00:00:00-04:00\",\"2013-04-22T00:00:00-04:00\",\"2013-04-23T00:00:00-04:00\",\"2013-04-24T00:00:00-04:00\",\"2013-04-25T00:00:00-04:00\",\"2013-04-26T00:00:00-04:00\",\"2013-04-29T00:00:00-04:00\",\"2013-04-30T00:00:00-04:00\",\"2013-05-01T00:00:00-04:00\",\"2013-05-02T00:00:00-04:00\",\"2013-05-03T00:00:00-04:00\",\"2013-05-06T00:00:00-04:00\",\"2013-05-07T00:00:00-04:00\",\"2013-05-08T00:00:00-04:00\",\"2013-05-09T00:00:00-04:00\",\"2013-05-10T00:00:00-04:00\",\"2013-05-13T00:00:00-04:00\",\"2013-05-14T00:00:00-04:00\",\"2013-05-15T00:00:00-04:00\",\"2013-05-16T00:00:00-04:00\",\"2013-05-17T00:00:00-04:00\",\"2013-05-20T00:00:00-04:00\",\"2013-05-21T00:00:00-04:00\",\"2013-05-22T00:00:00-04:00\",\"2013-05-23T00:00:00-04:00\",\"2013-05-24T00:00:00-04:00\",\"2013-05-28T00:00:00-04:00\",\"2013-05-29T00:00:00-04:00\",\"2013-05-30T00:00:00-04:00\",\"2013-05-31T00:00:00-04:00\",\"2013-06-03T00:00:00-04:00\",\"2013-06-04T00:00:00-04:00\",\"2013-06-05T00:00:00-04:00\",\"2013-06-06T00:00:00-04:00\",\"2013-06-07T00:00:00-04:00\",\"2013-06-10T00:00:00-04:00\",\"2013-06-11T00:00:00-04:00\",\"2013-06-12T00:00:00-04:00\",\"2013-06-13T00:00:00-04:00\",\"2013-06-14T00:00:00-04:00\",\"2013-06-17T00:00:00-04:00\",\"2013-06-18T00:00:00-04:00\",\"2013-06-19T00:00:00-04:00\",\"2013-06-20T00:00:00-04:00\",\"2013-06-21T00:00:00-04:00\",\"2013-06-24T00:00:00-04:00\",\"2013-06-25T00:00:00-04:00\",\"2013-06-26T00:00:00-04:00\",\"2013-06-27T00:00:00-04:00\",\"2013-06-28T00:00:00-04:00\",\"2013-07-01T00:00:00-04:00\",\"2013-07-02T00:00:00-04:00\",\"2013-07-03T00:00:00-04:00\",\"2013-07-05T00:00:00-04:00\",\"2013-07-08T00:00:00-04:00\",\"2013-07-09T00:00:00-04:00\",\"2013-07-10T00:00:00-04:00\",\"2013-07-11T00:00:00-04:00\",\"2013-07-12T00:00:00-04:00\",\"2013-07-15T00:00:00-04:00\",\"2013-07-16T00:00:00-04:00\",\"2013-07-17T00:00:00-04:00\",\"2013-07-18T00:00:00-04:00\",\"2013-07-19T00:00:00-04:00\",\"2013-07-22T00:00:00-04:00\",\"2013-07-23T00:00:00-04:00\",\"2013-07-24T00:00:00-04:00\",\"2013-07-25T00:00:00-04:00\",\"2013-07-26T00:00:00-04:00\",\"2013-07-29T00:00:00-04:00\",\"2013-07-30T00:00:00-04:00\",\"2013-07-31T00:00:00-04:00\",\"2013-08-01T00:00:00-04:00\",\"2013-08-02T00:00:00-04:00\",\"2013-08-05T00:00:00-04:00\",\"2013-08-06T00:00:00-04:00\",\"2013-08-07T00:00:00-04:00\",\"2013-08-08T00:00:00-04:00\",\"2013-08-09T00:00:00-04:00\",\"2013-08-12T00:00:00-04:00\",\"2013-08-13T00:00:00-04:00\",\"2013-08-14T00:00:00-04:00\",\"2013-08-15T00:00:00-04:00\",\"2013-08-16T00:00:00-04:00\",\"2013-08-19T00:00:00-04:00\",\"2013-08-20T00:00:00-04:00\",\"2013-08-21T00:00:00-04:00\",\"2013-08-22T00:00:00-04:00\",\"2013-08-23T00:00:00-04:00\",\"2013-08-26T00:00:00-04:00\",\"2013-08-27T00:00:00-04:00\",\"2013-08-28T00:00:00-04:00\",\"2013-08-29T00:00:00-04:00\",\"2013-08-30T00:00:00-04:00\",\"2013-09-03T00:00:00-04:00\",\"2013-09-04T00:00:00-04:00\",\"2013-09-05T00:00:00-04:00\",\"2013-09-06T00:00:00-04:00\",\"2013-09-09T00:00:00-04:00\",\"2013-09-10T00:00:00-04:00\",\"2013-09-11T00:00:00-04:00\",\"2013-09-12T00:00:00-04:00\",\"2013-09-13T00:00:00-04:00\",\"2013-09-16T00:00:00-04:00\",\"2013-09-17T00:00:00-04:00\",\"2013-09-18T00:00:00-04:00\",\"2013-09-19T00:00:00-04:00\",\"2013-09-20T00:00:00-04:00\",\"2013-09-23T00:00:00-04:00\",\"2013-09-24T00:00:00-04:00\",\"2013-09-25T00:00:00-04:00\",\"2013-09-26T00:00:00-04:00\",\"2013-09-27T00:00:00-04:00\",\"2013-09-30T00:00:00-04:00\",\"2013-10-01T00:00:00-04:00\",\"2013-10-02T00:00:00-04:00\",\"2013-10-03T00:00:00-04:00\",\"2013-10-04T00:00:00-04:00\",\"2013-10-07T00:00:00-04:00\",\"2013-10-08T00:00:00-04:00\",\"2013-10-09T00:00:00-04:00\",\"2013-10-10T00:00:00-04:00\",\"2013-10-11T00:00:00-04:00\",\"2013-10-14T00:00:00-04:00\",\"2013-10-15T00:00:00-04:00\",\"2013-10-16T00:00:00-04:00\",\"2013-10-17T00:00:00-04:00\",\"2013-10-18T00:00:00-04:00\",\"2013-10-21T00:00:00-04:00\",\"2013-10-22T00:00:00-04:00\",\"2013-10-23T00:00:00-04:00\",\"2013-10-24T00:00:00-04:00\",\"2013-10-25T00:00:00-04:00\",\"2013-10-28T00:00:00-04:00\",\"2013-10-29T00:00:00-04:00\",\"2013-10-30T00:00:00-04:00\",\"2013-10-31T00:00:00-04:00\",\"2013-11-01T00:00:00-04:00\",\"2013-11-04T00:00:00-05:00\",\"2013-11-05T00:00:00-05:00\",\"2013-11-06T00:00:00-05:00\",\"2013-11-07T00:00:00-05:00\",\"2013-11-08T00:00:00-05:00\",\"2013-11-11T00:00:00-05:00\",\"2013-11-12T00:00:00-05:00\",\"2013-11-13T00:00:00-05:00\",\"2013-11-14T00:00:00-05:00\",\"2013-11-15T00:00:00-05:00\",\"2013-11-18T00:00:00-05:00\",\"2013-11-19T00:00:00-05:00\",\"2013-11-20T00:00:00-05:00\",\"2013-11-21T00:00:00-05:00\",\"2013-11-22T00:00:00-05:00\",\"2013-11-25T00:00:00-05:00\",\"2013-11-26T00:00:00-05:00\",\"2013-11-27T00:00:00-05:00\",\"2013-11-29T00:00:00-05:00\",\"2013-12-02T00:00:00-05:00\",\"2013-12-03T00:00:00-05:00\",\"2013-12-04T00:00:00-05:00\",\"2013-12-05T00:00:00-05:00\",\"2013-12-06T00:00:00-05:00\",\"2013-12-09T00:00:00-05:00\",\"2013-12-10T00:00:00-05:00\",\"2013-12-11T00:00:00-05:00\",\"2013-12-12T00:00:00-05:00\",\"2013-12-13T00:00:00-05:00\",\"2013-12-16T00:00:00-05:00\",\"2013-12-17T00:00:00-05:00\",\"2013-12-18T00:00:00-05:00\",\"2013-12-19T00:00:00-05:00\",\"2013-12-20T00:00:00-05:00\",\"2013-12-23T00:00:00-05:00\",\"2013-12-24T00:00:00-05:00\",\"2013-12-26T00:00:00-05:00\",\"2013-12-27T00:00:00-05:00\",\"2013-12-30T00:00:00-05:00\",\"2013-12-31T00:00:00-05:00\",\"2014-01-02T00:00:00-05:00\",\"2014-01-03T00:00:00-05:00\",\"2014-01-06T00:00:00-05:00\",\"2014-01-07T00:00:00-05:00\",\"2014-01-08T00:00:00-05:00\",\"2014-01-09T00:00:00-05:00\",\"2014-01-10T00:00:00-05:00\",\"2014-01-13T00:00:00-05:00\",\"2014-01-14T00:00:00-05:00\",\"2014-01-15T00:00:00-05:00\",\"2014-01-16T00:00:00-05:00\",\"2014-01-17T00:00:00-05:00\",\"2014-01-21T00:00:00-05:00\",\"2014-01-22T00:00:00-05:00\",\"2014-01-23T00:00:00-05:00\",\"2014-01-24T00:00:00-05:00\",\"2014-01-27T00:00:00-05:00\",\"2014-01-28T00:00:00-05:00\",\"2014-01-29T00:00:00-05:00\",\"2014-01-30T00:00:00-05:00\",\"2014-01-31T00:00:00-05:00\",\"2014-02-03T00:00:00-05:00\",\"2014-02-04T00:00:00-05:00\",\"2014-02-05T00:00:00-05:00\",\"2014-02-06T00:00:00-05:00\",\"2014-02-07T00:00:00-05:00\",\"2014-02-10T00:00:00-05:00\",\"2014-02-11T00:00:00-05:00\",\"2014-02-12T00:00:00-05:00\",\"2014-02-13T00:00:00-05:00\",\"2014-02-14T00:00:00-05:00\",\"2014-02-18T00:00:00-05:00\",\"2014-02-19T00:00:00-05:00\",\"2014-02-20T00:00:00-05:00\",\"2014-02-21T00:00:00-05:00\",\"2014-02-24T00:00:00-05:00\",\"2014-02-25T00:00:00-05:00\",\"2014-02-26T00:00:00-05:00\",\"2014-02-27T00:00:00-05:00\",\"2014-02-28T00:00:00-05:00\",\"2014-03-03T00:00:00-05:00\",\"2014-03-04T00:00:00-05:00\",\"2014-03-05T00:00:00-05:00\",\"2014-03-06T00:00:00-05:00\",\"2014-03-07T00:00:00-05:00\",\"2014-03-10T00:00:00-04:00\",\"2014-03-11T00:00:00-04:00\",\"2014-03-12T00:00:00-04:00\",\"2014-03-13T00:00:00-04:00\",\"2014-03-14T00:00:00-04:00\",\"2014-03-17T00:00:00-04:00\",\"2014-03-18T00:00:00-04:00\",\"2014-03-19T00:00:00-04:00\",\"2014-03-20T00:00:00-04:00\",\"2014-03-21T00:00:00-04:00\",\"2014-03-24T00:00:00-04:00\",\"2014-03-25T00:00:00-04:00\",\"2014-03-26T00:00:00-04:00\",\"2014-03-27T00:00:00-04:00\",\"2014-03-28T00:00:00-04:00\",\"2014-03-31T00:00:00-04:00\",\"2014-04-01T00:00:00-04:00\",\"2014-04-02T00:00:00-04:00\",\"2014-04-03T00:00:00-04:00\",\"2014-04-04T00:00:00-04:00\",\"2014-04-07T00:00:00-04:00\",\"2014-04-08T00:00:00-04:00\",\"2014-04-09T00:00:00-04:00\",\"2014-04-10T00:00:00-04:00\",\"2014-04-11T00:00:00-04:00\",\"2014-04-14T00:00:00-04:00\",\"2014-04-15T00:00:00-04:00\",\"2014-04-16T00:00:00-04:00\",\"2014-04-17T00:00:00-04:00\",\"2014-04-21T00:00:00-04:00\",\"2014-04-22T00:00:00-04:00\",\"2014-04-23T00:00:00-04:00\",\"2014-04-24T00:00:00-04:00\",\"2014-04-25T00:00:00-04:00\",\"2014-04-28T00:00:00-04:00\",\"2014-04-29T00:00:00-04:00\",\"2014-04-30T00:00:00-04:00\",\"2014-05-01T00:00:00-04:00\",\"2014-05-02T00:00:00-04:00\",\"2014-05-05T00:00:00-04:00\",\"2014-05-06T00:00:00-04:00\",\"2014-05-07T00:00:00-04:00\",\"2014-05-08T00:00:00-04:00\",\"2014-05-09T00:00:00-04:00\",\"2014-05-12T00:00:00-04:00\",\"2014-05-13T00:00:00-04:00\",\"2014-05-14T00:00:00-04:00\",\"2014-05-15T00:00:00-04:00\",\"2014-05-16T00:00:00-04:00\",\"2014-05-19T00:00:00-04:00\",\"2014-05-20T00:00:00-04:00\",\"2014-05-21T00:00:00-04:00\",\"2014-05-22T00:00:00-04:00\",\"2014-05-23T00:00:00-04:00\",\"2014-05-27T00:00:00-04:00\",\"2014-05-28T00:00:00-04:00\",\"2014-05-29T00:00:00-04:00\",\"2014-05-30T00:00:00-04:00\",\"2014-06-02T00:00:00-04:00\",\"2014-06-03T00:00:00-04:00\",\"2014-06-04T00:00:00-04:00\",\"2014-06-05T00:00:00-04:00\",\"2014-06-06T00:00:00-04:00\",\"2014-06-09T00:00:00-04:00\",\"2014-06-10T00:00:00-04:00\",\"2014-06-11T00:00:00-04:00\",\"2014-06-12T00:00:00-04:00\",\"2014-06-13T00:00:00-04:00\",\"2014-06-16T00:00:00-04:00\",\"2014-06-17T00:00:00-04:00\",\"2014-06-18T00:00:00-04:00\",\"2014-06-19T00:00:00-04:00\",\"2014-06-20T00:00:00-04:00\",\"2014-06-23T00:00:00-04:00\",\"2014-06-24T00:00:00-04:00\",\"2014-06-25T00:00:00-04:00\",\"2014-06-26T00:00:00-04:00\",\"2014-06-27T00:00:00-04:00\",\"2014-06-30T00:00:00-04:00\",\"2014-07-01T00:00:00-04:00\",\"2014-07-02T00:00:00-04:00\",\"2014-07-03T00:00:00-04:00\",\"2014-07-07T00:00:00-04:00\",\"2014-07-08T00:00:00-04:00\",\"2014-07-09T00:00:00-04:00\",\"2014-07-10T00:00:00-04:00\",\"2014-07-11T00:00:00-04:00\",\"2014-07-14T00:00:00-04:00\",\"2014-07-15T00:00:00-04:00\",\"2014-07-16T00:00:00-04:00\",\"2014-07-17T00:00:00-04:00\",\"2014-07-18T00:00:00-04:00\",\"2014-07-21T00:00:00-04:00\",\"2014-07-22T00:00:00-04:00\",\"2014-07-23T00:00:00-04:00\",\"2014-07-24T00:00:00-04:00\",\"2014-07-25T00:00:00-04:00\",\"2014-07-28T00:00:00-04:00\",\"2014-07-29T00:00:00-04:00\",\"2014-07-30T00:00:00-04:00\",\"2014-07-31T00:00:00-04:00\",\"2014-08-01T00:00:00-04:00\",\"2014-08-04T00:00:00-04:00\",\"2014-08-05T00:00:00-04:00\",\"2014-08-06T00:00:00-04:00\",\"2014-08-07T00:00:00-04:00\",\"2014-08-08T00:00:00-04:00\",\"2014-08-11T00:00:00-04:00\",\"2014-08-12T00:00:00-04:00\",\"2014-08-13T00:00:00-04:00\",\"2014-08-14T00:00:00-04:00\",\"2014-08-15T00:00:00-04:00\",\"2014-08-18T00:00:00-04:00\",\"2014-08-19T00:00:00-04:00\",\"2014-08-20T00:00:00-04:00\",\"2014-08-21T00:00:00-04:00\",\"2014-08-22T00:00:00-04:00\",\"2014-08-25T00:00:00-04:00\",\"2014-08-26T00:00:00-04:00\",\"2014-08-27T00:00:00-04:00\",\"2014-08-28T00:00:00-04:00\",\"2014-08-29T00:00:00-04:00\",\"2014-09-02T00:00:00-04:00\",\"2014-09-03T00:00:00-04:00\",\"2014-09-04T00:00:00-04:00\",\"2014-09-05T00:00:00-04:00\",\"2014-09-08T00:00:00-04:00\",\"2014-09-09T00:00:00-04:00\",\"2014-09-10T00:00:00-04:00\",\"2014-09-11T00:00:00-04:00\",\"2014-09-12T00:00:00-04:00\",\"2014-09-15T00:00:00-04:00\",\"2014-09-16T00:00:00-04:00\",\"2014-09-17T00:00:00-04:00\",\"2014-09-18T00:00:00-04:00\",\"2014-09-19T00:00:00-04:00\",\"2014-09-22T00:00:00-04:00\",\"2014-09-23T00:00:00-04:00\",\"2014-09-24T00:00:00-04:00\",\"2014-09-25T00:00:00-04:00\",\"2014-09-26T00:00:00-04:00\",\"2014-09-29T00:00:00-04:00\",\"2014-09-30T00:00:00-04:00\",\"2014-10-01T00:00:00-04:00\",\"2014-10-02T00:00:00-04:00\",\"2014-10-03T00:00:00-04:00\",\"2014-10-06T00:00:00-04:00\",\"2014-10-07T00:00:00-04:00\",\"2014-10-08T00:00:00-04:00\",\"2014-10-09T00:00:00-04:00\",\"2014-10-10T00:00:00-04:00\",\"2014-10-13T00:00:00-04:00\",\"2014-10-14T00:00:00-04:00\",\"2014-10-15T00:00:00-04:00\",\"2014-10-16T00:00:00-04:00\",\"2014-10-17T00:00:00-04:00\",\"2014-10-20T00:00:00-04:00\",\"2014-10-21T00:00:00-04:00\",\"2014-10-22T00:00:00-04:00\",\"2014-10-23T00:00:00-04:00\",\"2014-10-24T00:00:00-04:00\",\"2014-10-27T00:00:00-04:00\",\"2014-10-28T00:00:00-04:00\",\"2014-10-29T00:00:00-04:00\",\"2014-10-30T00:00:00-04:00\",\"2014-10-31T00:00:00-04:00\",\"2014-11-03T00:00:00-05:00\",\"2014-11-04T00:00:00-05:00\",\"2014-11-05T00:00:00-05:00\",\"2014-11-06T00:00:00-05:00\",\"2014-11-07T00:00:00-05:00\",\"2014-11-10T00:00:00-05:00\",\"2014-11-11T00:00:00-05:00\",\"2014-11-12T00:00:00-05:00\",\"2014-11-13T00:00:00-05:00\",\"2014-11-14T00:00:00-05:00\",\"2014-11-17T00:00:00-05:00\",\"2014-11-18T00:00:00-05:00\",\"2014-11-19T00:00:00-05:00\",\"2014-11-20T00:00:00-05:00\",\"2014-11-21T00:00:00-05:00\",\"2014-11-24T00:00:00-05:00\",\"2014-11-25T00:00:00-05:00\",\"2014-11-26T00:00:00-05:00\",\"2014-11-28T00:00:00-05:00\",\"2014-12-01T00:00:00-05:00\",\"2014-12-02T00:00:00-05:00\",\"2014-12-03T00:00:00-05:00\",\"2014-12-04T00:00:00-05:00\",\"2014-12-05T00:00:00-05:00\",\"2014-12-08T00:00:00-05:00\",\"2014-12-09T00:00:00-05:00\",\"2014-12-10T00:00:00-05:00\",\"2014-12-11T00:00:00-05:00\",\"2014-12-12T00:00:00-05:00\",\"2014-12-15T00:00:00-05:00\",\"2014-12-16T00:00:00-05:00\",\"2014-12-17T00:00:00-05:00\",\"2014-12-18T00:00:00-05:00\",\"2014-12-19T00:00:00-05:00\",\"2014-12-22T00:00:00-05:00\",\"2014-12-23T00:00:00-05:00\",\"2014-12-24T00:00:00-05:00\",\"2014-12-26T00:00:00-05:00\",\"2014-12-29T00:00:00-05:00\",\"2014-12-30T00:00:00-05:00\",\"2014-12-31T00:00:00-05:00\",\"2015-01-02T00:00:00-05:00\",\"2015-01-05T00:00:00-05:00\",\"2015-01-06T00:00:00-05:00\",\"2015-01-07T00:00:00-05:00\",\"2015-01-08T00:00:00-05:00\",\"2015-01-09T00:00:00-05:00\",\"2015-01-12T00:00:00-05:00\",\"2015-01-13T00:00:00-05:00\",\"2015-01-14T00:00:00-05:00\",\"2015-01-15T00:00:00-05:00\",\"2015-01-16T00:00:00-05:00\",\"2015-01-20T00:00:00-05:00\",\"2015-01-21T00:00:00-05:00\",\"2015-01-22T00:00:00-05:00\",\"2015-01-23T00:00:00-05:00\",\"2015-01-26T00:00:00-05:00\",\"2015-01-27T00:00:00-05:00\",\"2015-01-28T00:00:00-05:00\",\"2015-01-29T00:00:00-05:00\",\"2015-01-30T00:00:00-05:00\",\"2015-02-02T00:00:00-05:00\",\"2015-02-03T00:00:00-05:00\",\"2015-02-04T00:00:00-05:00\",\"2015-02-05T00:00:00-05:00\",\"2015-02-06T00:00:00-05:00\",\"2015-02-09T00:00:00-05:00\",\"2015-02-10T00:00:00-05:00\",\"2015-02-11T00:00:00-05:00\",\"2015-02-12T00:00:00-05:00\",\"2015-02-13T00:00:00-05:00\",\"2015-02-17T00:00:00-05:00\",\"2015-02-18T00:00:00-05:00\",\"2015-02-19T00:00:00-05:00\",\"2015-02-20T00:00:00-05:00\",\"2015-02-23T00:00:00-05:00\",\"2015-02-24T00:00:00-05:00\",\"2015-02-25T00:00:00-05:00\",\"2015-02-26T00:00:00-05:00\",\"2015-02-27T00:00:00-05:00\",\"2015-03-02T00:00:00-05:00\",\"2015-03-03T00:00:00-05:00\",\"2015-03-04T00:00:00-05:00\",\"2015-03-05T00:00:00-05:00\",\"2015-03-06T00:00:00-05:00\",\"2015-03-09T00:00:00-04:00\",\"2015-03-10T00:00:00-04:00\",\"2015-03-11T00:00:00-04:00\",\"2015-03-12T00:00:00-04:00\",\"2015-03-13T00:00:00-04:00\",\"2015-03-16T00:00:00-04:00\",\"2015-03-17T00:00:00-04:00\",\"2015-03-18T00:00:00-04:00\",\"2015-03-19T00:00:00-04:00\",\"2015-03-20T00:00:00-04:00\",\"2015-03-23T00:00:00-04:00\",\"2015-03-24T00:00:00-04:00\",\"2015-03-25T00:00:00-04:00\",\"2015-03-26T00:00:00-04:00\",\"2015-03-27T00:00:00-04:00\",\"2015-03-30T00:00:00-04:00\",\"2015-03-31T00:00:00-04:00\",\"2015-04-01T00:00:00-04:00\",\"2015-04-02T00:00:00-04:00\",\"2015-04-06T00:00:00-04:00\",\"2015-04-07T00:00:00-04:00\",\"2015-04-08T00:00:00-04:00\",\"2015-04-09T00:00:00-04:00\",\"2015-04-10T00:00:00-04:00\",\"2015-04-13T00:00:00-04:00\",\"2015-04-14T00:00:00-04:00\",\"2015-04-15T00:00:00-04:00\",\"2015-04-16T00:00:00-04:00\",\"2015-04-17T00:00:00-04:00\",\"2015-04-20T00:00:00-04:00\",\"2015-04-21T00:00:00-04:00\",\"2015-04-22T00:00:00-04:00\",\"2015-04-23T00:00:00-04:00\",\"2015-04-24T00:00:00-04:00\",\"2015-04-27T00:00:00-04:00\",\"2015-04-28T00:00:00-04:00\",\"2015-04-29T00:00:00-04:00\",\"2015-04-30T00:00:00-04:00\",\"2015-05-01T00:00:00-04:00\",\"2015-05-04T00:00:00-04:00\",\"2015-05-05T00:00:00-04:00\",\"2015-05-06T00:00:00-04:00\",\"2015-05-07T00:00:00-04:00\",\"2015-05-08T00:00:00-04:00\",\"2015-05-11T00:00:00-04:00\",\"2015-05-12T00:00:00-04:00\",\"2015-05-13T00:00:00-04:00\",\"2015-05-14T00:00:00-04:00\",\"2015-05-15T00:00:00-04:00\",\"2015-05-18T00:00:00-04:00\",\"2015-05-19T00:00:00-04:00\",\"2015-05-20T00:00:00-04:00\",\"2015-05-21T00:00:00-04:00\",\"2015-05-22T00:00:00-04:00\",\"2015-05-26T00:00:00-04:00\",\"2015-05-27T00:00:00-04:00\",\"2015-05-28T00:00:00-04:00\",\"2015-05-29T00:00:00-04:00\",\"2015-06-01T00:00:00-04:00\",\"2015-06-02T00:00:00-04:00\",\"2015-06-03T00:00:00-04:00\",\"2015-06-04T00:00:00-04:00\",\"2015-06-05T00:00:00-04:00\",\"2015-06-08T00:00:00-04:00\",\"2015-06-09T00:00:00-04:00\",\"2015-06-10T00:00:00-04:00\",\"2015-06-11T00:00:00-04:00\",\"2015-06-12T00:00:00-04:00\",\"2015-06-15T00:00:00-04:00\",\"2015-06-16T00:00:00-04:00\",\"2015-06-17T00:00:00-04:00\",\"2015-06-18T00:00:00-04:00\",\"2015-06-19T00:00:00-04:00\",\"2015-06-22T00:00:00-04:00\",\"2015-06-23T00:00:00-04:00\",\"2015-06-24T00:00:00-04:00\",\"2015-06-25T00:00:00-04:00\",\"2015-06-26T00:00:00-04:00\",\"2015-06-29T00:00:00-04:00\",\"2015-06-30T00:00:00-04:00\",\"2015-07-01T00:00:00-04:00\",\"2015-07-02T00:00:00-04:00\",\"2015-07-06T00:00:00-04:00\",\"2015-07-07T00:00:00-04:00\",\"2015-07-08T00:00:00-04:00\",\"2015-07-09T00:00:00-04:00\",\"2015-07-10T00:00:00-04:00\",\"2015-07-13T00:00:00-04:00\",\"2015-07-14T00:00:00-04:00\",\"2015-07-15T00:00:00-04:00\",\"2015-07-16T00:00:00-04:00\",\"2015-07-17T00:00:00-04:00\",\"2015-07-20T00:00:00-04:00\",\"2015-07-21T00:00:00-04:00\",\"2015-07-22T00:00:00-04:00\",\"2015-07-23T00:00:00-04:00\",\"2015-07-24T00:00:00-04:00\",\"2015-07-27T00:00:00-04:00\",\"2015-07-28T00:00:00-04:00\",\"2015-07-29T00:00:00-04:00\",\"2015-07-30T00:00:00-04:00\",\"2015-07-31T00:00:00-04:00\",\"2015-08-03T00:00:00-04:00\",\"2015-08-04T00:00:00-04:00\",\"2015-08-05T00:00:00-04:00\",\"2015-08-06T00:00:00-04:00\",\"2015-08-07T00:00:00-04:00\",\"2015-08-10T00:00:00-04:00\",\"2015-08-11T00:00:00-04:00\",\"2015-08-12T00:00:00-04:00\",\"2015-08-13T00:00:00-04:00\",\"2015-08-14T00:00:00-04:00\",\"2015-08-17T00:00:00-04:00\",\"2015-08-18T00:00:00-04:00\",\"2015-08-19T00:00:00-04:00\",\"2015-08-20T00:00:00-04:00\",\"2015-08-21T00:00:00-04:00\",\"2015-08-24T00:00:00-04:00\",\"2015-08-25T00:00:00-04:00\",\"2015-08-26T00:00:00-04:00\",\"2015-08-27T00:00:00-04:00\",\"2015-08-28T00:00:00-04:00\",\"2015-08-31T00:00:00-04:00\",\"2015-09-01T00:00:00-04:00\",\"2015-09-02T00:00:00-04:00\",\"2015-09-03T00:00:00-04:00\",\"2015-09-04T00:00:00-04:00\",\"2015-09-08T00:00:00-04:00\",\"2015-09-09T00:00:00-04:00\",\"2015-09-10T00:00:00-04:00\",\"2015-09-11T00:00:00-04:00\",\"2015-09-14T00:00:00-04:00\",\"2015-09-15T00:00:00-04:00\",\"2015-09-16T00:00:00-04:00\",\"2015-09-17T00:00:00-04:00\",\"2015-09-18T00:00:00-04:00\",\"2015-09-21T00:00:00-04:00\",\"2015-09-22T00:00:00-04:00\",\"2015-09-23T00:00:00-04:00\",\"2015-09-24T00:00:00-04:00\",\"2015-09-25T00:00:00-04:00\",\"2015-09-28T00:00:00-04:00\",\"2015-09-29T00:00:00-04:00\",\"2015-09-30T00:00:00-04:00\",\"2015-10-01T00:00:00-04:00\",\"2015-10-02T00:00:00-04:00\",\"2015-10-05T00:00:00-04:00\",\"2015-10-06T00:00:00-04:00\",\"2015-10-07T00:00:00-04:00\",\"2015-10-08T00:00:00-04:00\",\"2015-10-09T00:00:00-04:00\",\"2015-10-12T00:00:00-04:00\",\"2015-10-13T00:00:00-04:00\",\"2015-10-14T00:00:00-04:00\",\"2015-10-15T00:00:00-04:00\",\"2015-10-16T00:00:00-04:00\",\"2015-10-19T00:00:00-04:00\",\"2015-10-20T00:00:00-04:00\",\"2015-10-21T00:00:00-04:00\",\"2015-10-22T00:00:00-04:00\",\"2015-10-23T00:00:00-04:00\",\"2015-10-26T00:00:00-04:00\",\"2015-10-27T00:00:00-04:00\",\"2015-10-28T00:00:00-04:00\",\"2015-10-29T00:00:00-04:00\",\"2015-10-30T00:00:00-04:00\",\"2015-11-02T00:00:00-05:00\",\"2015-11-03T00:00:00-05:00\",\"2015-11-04T00:00:00-05:00\",\"2015-11-05T00:00:00-05:00\",\"2015-11-06T00:00:00-05:00\",\"2015-11-09T00:00:00-05:00\",\"2015-11-10T00:00:00-05:00\",\"2015-11-11T00:00:00-05:00\",\"2015-11-12T00:00:00-05:00\",\"2015-11-13T00:00:00-05:00\",\"2015-11-16T00:00:00-05:00\",\"2015-11-17T00:00:00-05:00\",\"2015-11-18T00:00:00-05:00\",\"2015-11-19T00:00:00-05:00\",\"2015-11-20T00:00:00-05:00\",\"2015-11-23T00:00:00-05:00\",\"2015-11-24T00:00:00-05:00\",\"2015-11-25T00:00:00-05:00\",\"2015-11-27T00:00:00-05:00\",\"2015-11-30T00:00:00-05:00\",\"2015-12-01T00:00:00-05:00\",\"2015-12-02T00:00:00-05:00\",\"2015-12-03T00:00:00-05:00\",\"2015-12-04T00:00:00-05:00\",\"2015-12-07T00:00:00-05:00\",\"2015-12-08T00:00:00-05:00\",\"2015-12-09T00:00:00-05:00\",\"2015-12-10T00:00:00-05:00\",\"2015-12-11T00:00:00-05:00\",\"2015-12-14T00:00:00-05:00\",\"2015-12-15T00:00:00-05:00\",\"2015-12-16T00:00:00-05:00\",\"2015-12-17T00:00:00-05:00\",\"2015-12-18T00:00:00-05:00\",\"2015-12-21T00:00:00-05:00\",\"2015-12-22T00:00:00-05:00\",\"2015-12-23T00:00:00-05:00\",\"2015-12-24T00:00:00-05:00\",\"2015-12-28T00:00:00-05:00\",\"2015-12-29T00:00:00-05:00\",\"2015-12-30T00:00:00-05:00\",\"2015-12-31T00:00:00-05:00\",\"2016-01-04T00:00:00-05:00\",\"2016-01-05T00:00:00-05:00\",\"2016-01-06T00:00:00-05:00\",\"2016-01-07T00:00:00-05:00\",\"2016-01-08T00:00:00-05:00\",\"2016-01-11T00:00:00-05:00\",\"2016-01-12T00:00:00-05:00\",\"2016-01-13T00:00:00-05:00\",\"2016-01-14T00:00:00-05:00\",\"2016-01-15T00:00:00-05:00\",\"2016-01-19T00:00:00-05:00\",\"2016-01-20T00:00:00-05:00\",\"2016-01-21T00:00:00-05:00\",\"2016-01-22T00:00:00-05:00\",\"2016-01-25T00:00:00-05:00\",\"2016-01-26T00:00:00-05:00\",\"2016-01-27T00:00:00-05:00\",\"2016-01-28T00:00:00-05:00\",\"2016-01-29T00:00:00-05:00\",\"2016-02-01T00:00:00-05:00\",\"2016-02-02T00:00:00-05:00\",\"2016-02-03T00:00:00-05:00\",\"2016-02-04T00:00:00-05:00\",\"2016-02-05T00:00:00-05:00\",\"2016-02-08T00:00:00-05:00\",\"2016-02-09T00:00:00-05:00\",\"2016-02-10T00:00:00-05:00\",\"2016-02-11T00:00:00-05:00\",\"2016-02-12T00:00:00-05:00\",\"2016-02-16T00:00:00-05:00\",\"2016-02-17T00:00:00-05:00\",\"2016-02-18T00:00:00-05:00\",\"2016-02-19T00:00:00-05:00\",\"2016-02-22T00:00:00-05:00\",\"2016-02-23T00:00:00-05:00\",\"2016-02-24T00:00:00-05:00\",\"2016-02-25T00:00:00-05:00\",\"2016-02-26T00:00:00-05:00\",\"2016-02-29T00:00:00-05:00\",\"2016-03-01T00:00:00-05:00\",\"2016-03-02T00:00:00-05:00\",\"2016-03-03T00:00:00-05:00\",\"2016-03-04T00:00:00-05:00\",\"2016-03-07T00:00:00-05:00\",\"2016-03-08T00:00:00-05:00\",\"2016-03-09T00:00:00-05:00\",\"2016-03-10T00:00:00-05:00\",\"2016-03-11T00:00:00-05:00\",\"2016-03-14T00:00:00-04:00\",\"2016-03-15T00:00:00-04:00\",\"2016-03-16T00:00:00-04:00\",\"2016-03-17T00:00:00-04:00\",\"2016-03-18T00:00:00-04:00\",\"2016-03-21T00:00:00-04:00\",\"2016-03-22T00:00:00-04:00\",\"2016-03-23T00:00:00-04:00\",\"2016-03-24T00:00:00-04:00\",\"2016-03-28T00:00:00-04:00\",\"2016-03-29T00:00:00-04:00\",\"2016-03-30T00:00:00-04:00\",\"2016-03-31T00:00:00-04:00\",\"2016-04-01T00:00:00-04:00\",\"2016-04-04T00:00:00-04:00\",\"2016-04-05T00:00:00-04:00\",\"2016-04-06T00:00:00-04:00\",\"2016-04-07T00:00:00-04:00\",\"2016-04-08T00:00:00-04:00\",\"2016-04-11T00:00:00-04:00\",\"2016-04-12T00:00:00-04:00\",\"2016-04-13T00:00:00-04:00\",\"2016-04-14T00:00:00-04:00\",\"2016-04-15T00:00:00-04:00\",\"2016-04-18T00:00:00-04:00\",\"2016-04-19T00:00:00-04:00\",\"2016-04-20T00:00:00-04:00\",\"2016-04-21T00:00:00-04:00\",\"2016-04-22T00:00:00-04:00\",\"2016-04-25T00:00:00-04:00\",\"2016-04-26T00:00:00-04:00\",\"2016-04-27T00:00:00-04:00\",\"2016-04-28T00:00:00-04:00\",\"2016-04-29T00:00:00-04:00\",\"2016-05-02T00:00:00-04:00\",\"2016-05-03T00:00:00-04:00\",\"2016-05-04T00:00:00-04:00\",\"2016-05-05T00:00:00-04:00\",\"2016-05-06T00:00:00-04:00\",\"2016-05-09T00:00:00-04:00\",\"2016-05-10T00:00:00-04:00\",\"2016-05-11T00:00:00-04:00\",\"2016-05-12T00:00:00-04:00\",\"2016-05-13T00:00:00-04:00\",\"2016-05-16T00:00:00-04:00\",\"2016-05-17T00:00:00-04:00\",\"2016-05-18T00:00:00-04:00\",\"2016-05-19T00:00:00-04:00\",\"2016-05-20T00:00:00-04:00\",\"2016-05-23T00:00:00-04:00\",\"2016-05-24T00:00:00-04:00\",\"2016-05-25T00:00:00-04:00\",\"2016-05-26T00:00:00-04:00\",\"2016-05-27T00:00:00-04:00\",\"2016-05-31T00:00:00-04:00\",\"2016-06-01T00:00:00-04:00\",\"2016-06-02T00:00:00-04:00\",\"2016-06-03T00:00:00-04:00\",\"2016-06-06T00:00:00-04:00\",\"2016-06-07T00:00:00-04:00\",\"2016-06-08T00:00:00-04:00\",\"2016-06-09T00:00:00-04:00\",\"2016-06-10T00:00:00-04:00\",\"2016-06-13T00:00:00-04:00\",\"2016-06-14T00:00:00-04:00\",\"2016-06-15T00:00:00-04:00\",\"2016-06-16T00:00:00-04:00\",\"2016-06-17T00:00:00-04:00\",\"2016-06-20T00:00:00-04:00\",\"2016-06-21T00:00:00-04:00\",\"2016-06-22T00:00:00-04:00\",\"2016-06-23T00:00:00-04:00\",\"2016-06-24T00:00:00-04:00\",\"2016-06-27T00:00:00-04:00\",\"2016-06-28T00:00:00-04:00\",\"2016-06-29T00:00:00-04:00\",\"2016-06-30T00:00:00-04:00\",\"2016-07-01T00:00:00-04:00\",\"2016-07-05T00:00:00-04:00\",\"2016-07-06T00:00:00-04:00\",\"2016-07-07T00:00:00-04:00\",\"2016-07-08T00:00:00-04:00\",\"2016-07-11T00:00:00-04:00\",\"2016-07-12T00:00:00-04:00\",\"2016-07-13T00:00:00-04:00\",\"2016-07-14T00:00:00-04:00\",\"2016-07-15T00:00:00-04:00\",\"2016-07-18T00:00:00-04:00\",\"2016-07-19T00:00:00-04:00\",\"2016-07-20T00:00:00-04:00\",\"2016-07-21T00:00:00-04:00\",\"2016-07-22T00:00:00-04:00\",\"2016-07-25T00:00:00-04:00\",\"2016-07-26T00:00:00-04:00\",\"2016-07-27T00:00:00-04:00\",\"2016-07-28T00:00:00-04:00\",\"2016-07-29T00:00:00-04:00\",\"2016-08-01T00:00:00-04:00\",\"2016-08-02T00:00:00-04:00\",\"2016-08-03T00:00:00-04:00\",\"2016-08-04T00:00:00-04:00\",\"2016-08-05T00:00:00-04:00\",\"2016-08-08T00:00:00-04:00\",\"2016-08-09T00:00:00-04:00\",\"2016-08-10T00:00:00-04:00\",\"2016-08-11T00:00:00-04:00\",\"2016-08-12T00:00:00-04:00\",\"2016-08-15T00:00:00-04:00\",\"2016-08-16T00:00:00-04:00\",\"2016-08-17T00:00:00-04:00\",\"2016-08-18T00:00:00-04:00\",\"2016-08-19T00:00:00-04:00\",\"2016-08-22T00:00:00-04:00\",\"2016-08-23T00:00:00-04:00\",\"2016-08-24T00:00:00-04:00\",\"2016-08-25T00:00:00-04:00\",\"2016-08-26T00:00:00-04:00\",\"2016-08-29T00:00:00-04:00\",\"2016-08-30T00:00:00-04:00\",\"2016-08-31T00:00:00-04:00\",\"2016-09-01T00:00:00-04:00\",\"2016-09-02T00:00:00-04:00\",\"2016-09-06T00:00:00-04:00\",\"2016-09-07T00:00:00-04:00\",\"2016-09-08T00:00:00-04:00\",\"2016-09-09T00:00:00-04:00\",\"2016-09-12T00:00:00-04:00\",\"2016-09-13T00:00:00-04:00\",\"2016-09-14T00:00:00-04:00\",\"2016-09-15T00:00:00-04:00\",\"2016-09-16T00:00:00-04:00\",\"2016-09-19T00:00:00-04:00\",\"2016-09-20T00:00:00-04:00\",\"2016-09-21T00:00:00-04:00\",\"2016-09-22T00:00:00-04:00\",\"2016-09-23T00:00:00-04:00\",\"2016-09-26T00:00:00-04:00\",\"2016-09-27T00:00:00-04:00\",\"2016-09-28T00:00:00-04:00\",\"2016-09-29T00:00:00-04:00\",\"2016-09-30T00:00:00-04:00\",\"2016-10-03T00:00:00-04:00\",\"2016-10-04T00:00:00-04:00\",\"2016-10-05T00:00:00-04:00\",\"2016-10-06T00:00:00-04:00\",\"2016-10-07T00:00:00-04:00\",\"2016-10-10T00:00:00-04:00\",\"2016-10-11T00:00:00-04:00\",\"2016-10-12T00:00:00-04:00\",\"2016-10-13T00:00:00-04:00\",\"2016-10-14T00:00:00-04:00\",\"2016-10-17T00:00:00-04:00\",\"2016-10-18T00:00:00-04:00\",\"2016-10-19T00:00:00-04:00\",\"2016-10-20T00:00:00-04:00\",\"2016-10-21T00:00:00-04:00\",\"2016-10-24T00:00:00-04:00\",\"2016-10-25T00:00:00-04:00\",\"2016-10-26T00:00:00-04:00\",\"2016-10-27T00:00:00-04:00\",\"2016-10-28T00:00:00-04:00\",\"2016-10-31T00:00:00-04:00\",\"2016-11-01T00:00:00-04:00\",\"2016-11-02T00:00:00-04:00\",\"2016-11-03T00:00:00-04:00\",\"2016-11-04T00:00:00-04:00\",\"2016-11-07T00:00:00-05:00\",\"2016-11-08T00:00:00-05:00\",\"2016-11-09T00:00:00-05:00\",\"2016-11-10T00:00:00-05:00\",\"2016-11-11T00:00:00-05:00\",\"2016-11-14T00:00:00-05:00\",\"2016-11-15T00:00:00-05:00\",\"2016-11-16T00:00:00-05:00\",\"2016-11-17T00:00:00-05:00\",\"2016-11-18T00:00:00-05:00\",\"2016-11-21T00:00:00-05:00\",\"2016-11-22T00:00:00-05:00\",\"2016-11-23T00:00:00-05:00\",\"2016-11-25T00:00:00-05:00\",\"2016-11-28T00:00:00-05:00\",\"2016-11-29T00:00:00-05:00\",\"2016-11-30T00:00:00-05:00\",\"2016-12-01T00:00:00-05:00\",\"2016-12-02T00:00:00-05:00\",\"2016-12-05T00:00:00-05:00\",\"2016-12-06T00:00:00-05:00\",\"2016-12-07T00:00:00-05:00\",\"2016-12-08T00:00:00-05:00\",\"2016-12-09T00:00:00-05:00\",\"2016-12-12T00:00:00-05:00\",\"2016-12-13T00:00:00-05:00\",\"2016-12-14T00:00:00-05:00\",\"2016-12-15T00:00:00-05:00\",\"2016-12-16T00:00:00-05:00\",\"2016-12-19T00:00:00-05:00\",\"2016-12-20T00:00:00-05:00\",\"2016-12-21T00:00:00-05:00\",\"2016-12-22T00:00:00-05:00\",\"2016-12-23T00:00:00-05:00\",\"2016-12-27T00:00:00-05:00\",\"2016-12-28T00:00:00-05:00\",\"2016-12-29T00:00:00-05:00\",\"2016-12-30T00:00:00-05:00\",\"2017-01-03T00:00:00-05:00\",\"2017-01-04T00:00:00-05:00\",\"2017-01-05T00:00:00-05:00\",\"2017-01-06T00:00:00-05:00\",\"2017-01-09T00:00:00-05:00\",\"2017-01-10T00:00:00-05:00\",\"2017-01-11T00:00:00-05:00\",\"2017-01-12T00:00:00-05:00\",\"2017-01-13T00:00:00-05:00\",\"2017-01-17T00:00:00-05:00\",\"2017-01-18T00:00:00-05:00\",\"2017-01-19T00:00:00-05:00\",\"2017-01-20T00:00:00-05:00\",\"2017-01-23T00:00:00-05:00\",\"2017-01-24T00:00:00-05:00\",\"2017-01-25T00:00:00-05:00\",\"2017-01-26T00:00:00-05:00\",\"2017-01-27T00:00:00-05:00\",\"2017-01-30T00:00:00-05:00\",\"2017-01-31T00:00:00-05:00\",\"2017-02-01T00:00:00-05:00\",\"2017-02-02T00:00:00-05:00\",\"2017-02-03T00:00:00-05:00\",\"2017-02-06T00:00:00-05:00\",\"2017-02-07T00:00:00-05:00\",\"2017-02-08T00:00:00-05:00\",\"2017-02-09T00:00:00-05:00\",\"2017-02-10T00:00:00-05:00\",\"2017-02-13T00:00:00-05:00\",\"2017-02-14T00:00:00-05:00\",\"2017-02-15T00:00:00-05:00\",\"2017-02-16T00:00:00-05:00\",\"2017-02-17T00:00:00-05:00\",\"2017-02-21T00:00:00-05:00\",\"2017-02-22T00:00:00-05:00\",\"2017-02-23T00:00:00-05:00\",\"2017-02-24T00:00:00-05:00\",\"2017-02-27T00:00:00-05:00\",\"2017-02-28T00:00:00-05:00\",\"2017-03-01T00:00:00-05:00\",\"2017-03-02T00:00:00-05:00\",\"2017-03-03T00:00:00-05:00\",\"2017-03-06T00:00:00-05:00\",\"2017-03-07T00:00:00-05:00\",\"2017-03-08T00:00:00-05:00\",\"2017-03-09T00:00:00-05:00\",\"2017-03-10T00:00:00-05:00\",\"2017-03-13T00:00:00-04:00\",\"2017-03-14T00:00:00-04:00\",\"2017-03-15T00:00:00-04:00\",\"2017-03-16T00:00:00-04:00\",\"2017-03-17T00:00:00-04:00\",\"2017-03-20T00:00:00-04:00\",\"2017-03-21T00:00:00-04:00\",\"2017-03-22T00:00:00-04:00\",\"2017-03-23T00:00:00-04:00\",\"2017-03-24T00:00:00-04:00\",\"2017-03-27T00:00:00-04:00\",\"2017-03-28T00:00:00-04:00\",\"2017-03-29T00:00:00-04:00\",\"2017-03-30T00:00:00-04:00\",\"2017-03-31T00:00:00-04:00\",\"2017-04-03T00:00:00-04:00\",\"2017-04-04T00:00:00-04:00\",\"2017-04-05T00:00:00-04:00\",\"2017-04-06T00:00:00-04:00\",\"2017-04-07T00:00:00-04:00\",\"2017-04-10T00:00:00-04:00\",\"2017-04-11T00:00:00-04:00\",\"2017-04-12T00:00:00-04:00\",\"2017-04-13T00:00:00-04:00\",\"2017-04-17T00:00:00-04:00\",\"2017-04-18T00:00:00-04:00\",\"2017-04-19T00:00:00-04:00\",\"2017-04-20T00:00:00-04:00\",\"2017-04-21T00:00:00-04:00\",\"2017-04-24T00:00:00-04:00\",\"2017-04-25T00:00:00-04:00\",\"2017-04-26T00:00:00-04:00\",\"2017-04-27T00:00:00-04:00\",\"2017-04-28T00:00:00-04:00\",\"2017-05-01T00:00:00-04:00\",\"2017-05-02T00:00:00-04:00\",\"2017-05-03T00:00:00-04:00\",\"2017-05-04T00:00:00-04:00\",\"2017-05-05T00:00:00-04:00\",\"2017-05-08T00:00:00-04:00\",\"2017-05-09T00:00:00-04:00\",\"2017-05-10T00:00:00-04:00\",\"2017-05-11T00:00:00-04:00\",\"2017-05-12T00:00:00-04:00\",\"2017-05-15T00:00:00-04:00\",\"2017-05-16T00:00:00-04:00\",\"2017-05-17T00:00:00-04:00\",\"2017-05-18T00:00:00-04:00\",\"2017-05-19T00:00:00-04:00\",\"2017-05-22T00:00:00-04:00\",\"2017-05-23T00:00:00-04:00\",\"2017-05-24T00:00:00-04:00\",\"2017-05-25T00:00:00-04:00\",\"2017-05-26T00:00:00-04:00\",\"2017-05-30T00:00:00-04:00\",\"2017-05-31T00:00:00-04:00\",\"2017-06-01T00:00:00-04:00\",\"2017-06-02T00:00:00-04:00\",\"2017-06-05T00:00:00-04:00\",\"2017-06-06T00:00:00-04:00\",\"2017-06-07T00:00:00-04:00\",\"2017-06-08T00:00:00-04:00\",\"2017-06-09T00:00:00-04:00\",\"2017-06-12T00:00:00-04:00\",\"2017-06-13T00:00:00-04:00\",\"2017-06-14T00:00:00-04:00\",\"2017-06-15T00:00:00-04:00\",\"2017-06-16T00:00:00-04:00\",\"2017-06-19T00:00:00-04:00\",\"2017-06-20T00:00:00-04:00\",\"2017-06-21T00:00:00-04:00\",\"2017-06-22T00:00:00-04:00\",\"2017-06-23T00:00:00-04:00\",\"2017-06-26T00:00:00-04:00\",\"2017-06-27T00:00:00-04:00\",\"2017-06-28T00:00:00-04:00\",\"2017-06-29T00:00:00-04:00\",\"2017-06-30T00:00:00-04:00\",\"2017-07-03T00:00:00-04:00\",\"2017-07-05T00:00:00-04:00\",\"2017-07-06T00:00:00-04:00\",\"2017-07-07T00:00:00-04:00\",\"2017-07-10T00:00:00-04:00\",\"2017-07-11T00:00:00-04:00\",\"2017-07-12T00:00:00-04:00\",\"2017-07-13T00:00:00-04:00\",\"2017-07-14T00:00:00-04:00\",\"2017-07-17T00:00:00-04:00\",\"2017-07-18T00:00:00-04:00\",\"2017-07-19T00:00:00-04:00\",\"2017-07-20T00:00:00-04:00\",\"2017-07-21T00:00:00-04:00\",\"2017-07-24T00:00:00-04:00\",\"2017-07-25T00:00:00-04:00\",\"2017-07-26T00:00:00-04:00\",\"2017-07-27T00:00:00-04:00\",\"2017-07-28T00:00:00-04:00\",\"2017-07-31T00:00:00-04:00\",\"2017-08-01T00:00:00-04:00\",\"2017-08-02T00:00:00-04:00\",\"2017-08-03T00:00:00-04:00\",\"2017-08-04T00:00:00-04:00\",\"2017-08-07T00:00:00-04:00\",\"2017-08-08T00:00:00-04:00\",\"2017-08-09T00:00:00-04:00\",\"2017-08-10T00:00:00-04:00\",\"2017-08-11T00:00:00-04:00\",\"2017-08-14T00:00:00-04:00\",\"2017-08-15T00:00:00-04:00\",\"2017-08-16T00:00:00-04:00\",\"2017-08-17T00:00:00-04:00\",\"2017-08-18T00:00:00-04:00\",\"2017-08-21T00:00:00-04:00\",\"2017-08-22T00:00:00-04:00\",\"2017-08-23T00:00:00-04:00\",\"2017-08-24T00:00:00-04:00\",\"2017-08-25T00:00:00-04:00\",\"2017-08-28T00:00:00-04:00\",\"2017-08-29T00:00:00-04:00\",\"2017-08-30T00:00:00-04:00\",\"2017-08-31T00:00:00-04:00\",\"2017-09-01T00:00:00-04:00\",\"2017-09-05T00:00:00-04:00\",\"2017-09-06T00:00:00-04:00\",\"2017-09-07T00:00:00-04:00\",\"2017-09-08T00:00:00-04:00\",\"2017-09-11T00:00:00-04:00\",\"2017-09-12T00:00:00-04:00\",\"2017-09-13T00:00:00-04:00\",\"2017-09-14T00:00:00-04:00\",\"2017-09-15T00:00:00-04:00\",\"2017-09-18T00:00:00-04:00\",\"2017-09-19T00:00:00-04:00\",\"2017-09-20T00:00:00-04:00\",\"2017-09-21T00:00:00-04:00\",\"2017-09-22T00:00:00-04:00\",\"2017-09-25T00:00:00-04:00\",\"2017-09-26T00:00:00-04:00\",\"2017-09-27T00:00:00-04:00\",\"2017-09-28T00:00:00-04:00\",\"2017-09-29T00:00:00-04:00\",\"2017-10-02T00:00:00-04:00\",\"2017-10-03T00:00:00-04:00\",\"2017-10-04T00:00:00-04:00\",\"2017-10-05T00:00:00-04:00\",\"2017-10-06T00:00:00-04:00\",\"2017-10-09T00:00:00-04:00\",\"2017-10-10T00:00:00-04:00\",\"2017-10-11T00:00:00-04:00\",\"2017-10-12T00:00:00-04:00\",\"2017-10-13T00:00:00-04:00\",\"2017-10-16T00:00:00-04:00\",\"2017-10-17T00:00:00-04:00\",\"2017-10-18T00:00:00-04:00\",\"2017-10-19T00:00:00-04:00\",\"2017-10-20T00:00:00-04:00\",\"2017-10-23T00:00:00-04:00\",\"2017-10-24T00:00:00-04:00\",\"2017-10-25T00:00:00-04:00\",\"2017-10-26T00:00:00-04:00\",\"2017-10-27T00:00:00-04:00\",\"2017-10-30T00:00:00-04:00\",\"2017-10-31T00:00:00-04:00\",\"2017-11-01T00:00:00-04:00\",\"2017-11-02T00:00:00-04:00\",\"2017-11-03T00:00:00-04:00\",\"2017-11-06T00:00:00-05:00\",\"2017-11-07T00:00:00-05:00\",\"2017-11-08T00:00:00-05:00\",\"2017-11-09T00:00:00-05:00\",\"2017-11-10T00:00:00-05:00\",\"2017-11-13T00:00:00-05:00\",\"2017-11-14T00:00:00-05:00\",\"2017-11-15T00:00:00-05:00\",\"2017-11-16T00:00:00-05:00\",\"2017-11-17T00:00:00-05:00\",\"2017-11-20T00:00:00-05:00\",\"2017-11-21T00:00:00-05:00\",\"2017-11-22T00:00:00-05:00\",\"2017-11-24T00:00:00-05:00\",\"2017-11-27T00:00:00-05:00\",\"2017-11-28T00:00:00-05:00\",\"2017-11-29T00:00:00-05:00\",\"2017-11-30T00:00:00-05:00\",\"2017-12-01T00:00:00-05:00\",\"2017-12-04T00:00:00-05:00\",\"2017-12-05T00:00:00-05:00\",\"2017-12-06T00:00:00-05:00\",\"2017-12-07T00:00:00-05:00\",\"2017-12-08T00:00:00-05:00\",\"2017-12-11T00:00:00-05:00\",\"2017-12-12T00:00:00-05:00\",\"2017-12-13T00:00:00-05:00\",\"2017-12-14T00:00:00-05:00\",\"2017-12-15T00:00:00-05:00\",\"2017-12-18T00:00:00-05:00\",\"2017-12-19T00:00:00-05:00\",\"2017-12-20T00:00:00-05:00\",\"2017-12-21T00:00:00-05:00\",\"2017-12-22T00:00:00-05:00\",\"2017-12-26T00:00:00-05:00\",\"2017-12-27T00:00:00-05:00\",\"2017-12-28T00:00:00-05:00\",\"2017-12-29T00:00:00-05:00\",\"2018-01-02T00:00:00-05:00\",\"2018-01-03T00:00:00-05:00\",\"2018-01-04T00:00:00-05:00\",\"2018-01-05T00:00:00-05:00\",\"2018-01-08T00:00:00-05:00\",\"2018-01-09T00:00:00-05:00\",\"2018-01-10T00:00:00-05:00\",\"2018-01-11T00:00:00-05:00\",\"2018-01-12T00:00:00-05:00\",\"2018-01-16T00:00:00-05:00\",\"2018-01-17T00:00:00-05:00\",\"2018-01-18T00:00:00-05:00\",\"2018-01-19T00:00:00-05:00\",\"2018-01-22T00:00:00-05:00\",\"2018-01-23T00:00:00-05:00\",\"2018-01-24T00:00:00-05:00\",\"2018-01-25T00:00:00-05:00\",\"2018-01-26T00:00:00-05:00\",\"2018-01-29T00:00:00-05:00\",\"2018-01-30T00:00:00-05:00\",\"2018-01-31T00:00:00-05:00\",\"2018-02-01T00:00:00-05:00\",\"2018-02-02T00:00:00-05:00\",\"2018-02-05T00:00:00-05:00\",\"2018-02-06T00:00:00-05:00\",\"2018-02-07T00:00:00-05:00\",\"2018-02-08T00:00:00-05:00\",\"2018-02-09T00:00:00-05:00\",\"2018-02-12T00:00:00-05:00\",\"2018-02-13T00:00:00-05:00\",\"2018-02-14T00:00:00-05:00\",\"2018-02-15T00:00:00-05:00\",\"2018-02-16T00:00:00-05:00\",\"2018-02-20T00:00:00-05:00\",\"2018-02-21T00:00:00-05:00\",\"2018-02-22T00:00:00-05:00\",\"2018-02-23T00:00:00-05:00\",\"2018-02-26T00:00:00-05:00\",\"2018-02-27T00:00:00-05:00\",\"2018-02-28T00:00:00-05:00\",\"2018-03-01T00:00:00-05:00\",\"2018-03-02T00:00:00-05:00\",\"2018-03-05T00:00:00-05:00\",\"2018-03-06T00:00:00-05:00\",\"2018-03-07T00:00:00-05:00\",\"2018-03-08T00:00:00-05:00\",\"2018-03-09T00:00:00-05:00\",\"2018-03-12T00:00:00-04:00\",\"2018-03-13T00:00:00-04:00\",\"2018-03-14T00:00:00-04:00\",\"2018-03-15T00:00:00-04:00\",\"2018-03-16T00:00:00-04:00\",\"2018-03-19T00:00:00-04:00\",\"2018-03-20T00:00:00-04:00\",\"2018-03-21T00:00:00-04:00\",\"2018-03-22T00:00:00-04:00\",\"2018-03-23T00:00:00-04:00\",\"2018-03-26T00:00:00-04:00\",\"2018-03-27T00:00:00-04:00\",\"2018-03-28T00:00:00-04:00\",\"2018-03-29T00:00:00-04:00\",\"2018-04-02T00:00:00-04:00\",\"2018-04-03T00:00:00-04:00\",\"2018-04-04T00:00:00-04:00\",\"2018-04-05T00:00:00-04:00\",\"2018-04-06T00:00:00-04:00\",\"2018-04-09T00:00:00-04:00\",\"2018-04-10T00:00:00-04:00\",\"2018-04-11T00:00:00-04:00\",\"2018-04-12T00:00:00-04:00\",\"2018-04-13T00:00:00-04:00\",\"2018-04-16T00:00:00-04:00\",\"2018-04-17T00:00:00-04:00\",\"2018-04-18T00:00:00-04:00\",\"2018-04-19T00:00:00-04:00\",\"2018-04-20T00:00:00-04:00\",\"2018-04-23T00:00:00-04:00\",\"2018-04-24T00:00:00-04:00\",\"2018-04-25T00:00:00-04:00\",\"2018-04-26T00:00:00-04:00\",\"2018-04-27T00:00:00-04:00\",\"2018-04-30T00:00:00-04:00\",\"2018-05-01T00:00:00-04:00\",\"2018-05-02T00:00:00-04:00\",\"2018-05-03T00:00:00-04:00\",\"2018-05-04T00:00:00-04:00\",\"2018-05-07T00:00:00-04:00\",\"2018-05-08T00:00:00-04:00\",\"2018-05-09T00:00:00-04:00\",\"2018-05-10T00:00:00-04:00\",\"2018-05-11T00:00:00-04:00\",\"2018-05-14T00:00:00-04:00\",\"2018-05-15T00:00:00-04:00\",\"2018-05-16T00:00:00-04:00\",\"2018-05-17T00:00:00-04:00\",\"2018-05-18T00:00:00-04:00\",\"2018-05-21T00:00:00-04:00\",\"2018-05-22T00:00:00-04:00\",\"2018-05-23T00:00:00-04:00\",\"2018-05-24T00:00:00-04:00\",\"2018-05-25T00:00:00-04:00\",\"2018-05-29T00:00:00-04:00\",\"2018-05-30T00:00:00-04:00\",\"2018-05-31T00:00:00-04:00\",\"2018-06-01T00:00:00-04:00\",\"2018-06-04T00:00:00-04:00\",\"2018-06-05T00:00:00-04:00\",\"2018-06-06T00:00:00-04:00\",\"2018-06-07T00:00:00-04:00\",\"2018-06-08T00:00:00-04:00\",\"2018-06-11T00:00:00-04:00\",\"2018-06-12T00:00:00-04:00\",\"2018-06-13T00:00:00-04:00\",\"2018-06-14T00:00:00-04:00\",\"2018-06-15T00:00:00-04:00\",\"2018-06-18T00:00:00-04:00\",\"2018-06-19T00:00:00-04:00\",\"2018-06-20T00:00:00-04:00\",\"2018-06-21T00:00:00-04:00\",\"2018-06-22T00:00:00-04:00\",\"2018-06-25T00:00:00-04:00\",\"2018-06-26T00:00:00-04:00\",\"2018-06-27T00:00:00-04:00\",\"2018-06-28T00:00:00-04:00\",\"2018-06-29T00:00:00-04:00\",\"2018-07-02T00:00:00-04:00\",\"2018-07-03T00:00:00-04:00\",\"2018-07-05T00:00:00-04:00\",\"2018-07-06T00:00:00-04:00\",\"2018-07-09T00:00:00-04:00\",\"2018-07-10T00:00:00-04:00\",\"2018-07-11T00:00:00-04:00\",\"2018-07-12T00:00:00-04:00\",\"2018-07-13T00:00:00-04:00\",\"2018-07-16T00:00:00-04:00\",\"2018-07-17T00:00:00-04:00\",\"2018-07-18T00:00:00-04:00\",\"2018-07-19T00:00:00-04:00\",\"2018-07-20T00:00:00-04:00\",\"2018-07-23T00:00:00-04:00\",\"2018-07-24T00:00:00-04:00\",\"2018-07-25T00:00:00-04:00\",\"2018-07-26T00:00:00-04:00\",\"2018-07-27T00:00:00-04:00\",\"2018-07-30T00:00:00-04:00\",\"2018-07-31T00:00:00-04:00\",\"2018-08-01T00:00:00-04:00\",\"2018-08-02T00:00:00-04:00\",\"2018-08-03T00:00:00-04:00\",\"2018-08-06T00:00:00-04:00\",\"2018-08-07T00:00:00-04:00\",\"2018-08-08T00:00:00-04:00\",\"2018-08-09T00:00:00-04:00\",\"2018-08-10T00:00:00-04:00\",\"2018-08-13T00:00:00-04:00\",\"2018-08-14T00:00:00-04:00\",\"2018-08-15T00:00:00-04:00\",\"2018-08-16T00:00:00-04:00\",\"2018-08-17T00:00:00-04:00\",\"2018-08-20T00:00:00-04:00\",\"2018-08-21T00:00:00-04:00\",\"2018-08-22T00:00:00-04:00\",\"2018-08-23T00:00:00-04:00\",\"2018-08-24T00:00:00-04:00\",\"2018-08-27T00:00:00-04:00\",\"2018-08-28T00:00:00-04:00\",\"2018-08-29T00:00:00-04:00\",\"2018-08-30T00:00:00-04:00\",\"2018-08-31T00:00:00-04:00\",\"2018-09-04T00:00:00-04:00\",\"2018-09-05T00:00:00-04:00\",\"2018-09-06T00:00:00-04:00\",\"2018-09-07T00:00:00-04:00\",\"2018-09-10T00:00:00-04:00\",\"2018-09-11T00:00:00-04:00\",\"2018-09-12T00:00:00-04:00\",\"2018-09-13T00:00:00-04:00\",\"2018-09-14T00:00:00-04:00\",\"2018-09-17T00:00:00-04:00\",\"2018-09-18T00:00:00-04:00\",\"2018-09-19T00:00:00-04:00\",\"2018-09-20T00:00:00-04:00\",\"2018-09-21T00:00:00-04:00\",\"2018-09-24T00:00:00-04:00\",\"2018-09-25T00:00:00-04:00\",\"2018-09-26T00:00:00-04:00\",\"2018-09-27T00:00:00-04:00\",\"2018-09-28T00:00:00-04:00\",\"2018-10-01T00:00:00-04:00\",\"2018-10-02T00:00:00-04:00\",\"2018-10-03T00:00:00-04:00\",\"2018-10-04T00:00:00-04:00\",\"2018-10-05T00:00:00-04:00\",\"2018-10-08T00:00:00-04:00\",\"2018-10-09T00:00:00-04:00\",\"2018-10-10T00:00:00-04:00\",\"2018-10-11T00:00:00-04:00\",\"2018-10-12T00:00:00-04:00\",\"2018-10-15T00:00:00-04:00\",\"2018-10-16T00:00:00-04:00\",\"2018-10-17T00:00:00-04:00\",\"2018-10-18T00:00:00-04:00\",\"2018-10-19T00:00:00-04:00\",\"2018-10-22T00:00:00-04:00\",\"2018-10-23T00:00:00-04:00\",\"2018-10-24T00:00:00-04:00\",\"2018-10-25T00:00:00-04:00\",\"2018-10-26T00:00:00-04:00\",\"2018-10-29T00:00:00-04:00\",\"2018-10-30T00:00:00-04:00\",\"2018-10-31T00:00:00-04:00\",\"2018-11-01T00:00:00-04:00\",\"2018-11-02T00:00:00-04:00\",\"2018-11-05T00:00:00-05:00\",\"2018-11-06T00:00:00-05:00\",\"2018-11-07T00:00:00-05:00\",\"2018-11-08T00:00:00-05:00\",\"2018-11-09T00:00:00-05:00\",\"2018-11-12T00:00:00-05:00\",\"2018-11-13T00:00:00-05:00\",\"2018-11-14T00:00:00-05:00\",\"2018-11-15T00:00:00-05:00\",\"2018-11-16T00:00:00-05:00\",\"2018-11-19T00:00:00-05:00\",\"2018-11-20T00:00:00-05:00\",\"2018-11-21T00:00:00-05:00\",\"2018-11-23T00:00:00-05:00\",\"2018-11-26T00:00:00-05:00\",\"2018-11-27T00:00:00-05:00\",\"2018-11-28T00:00:00-05:00\",\"2018-11-29T00:00:00-05:00\",\"2018-11-30T00:00:00-05:00\",\"2018-12-03T00:00:00-05:00\",\"2018-12-04T00:00:00-05:00\",\"2018-12-06T00:00:00-05:00\",\"2018-12-07T00:00:00-05:00\",\"2018-12-10T00:00:00-05:00\",\"2018-12-11T00:00:00-05:00\",\"2018-12-12T00:00:00-05:00\",\"2018-12-13T00:00:00-05:00\",\"2018-12-14T00:00:00-05:00\",\"2018-12-17T00:00:00-05:00\",\"2018-12-18T00:00:00-05:00\",\"2018-12-19T00:00:00-05:00\",\"2018-12-20T00:00:00-05:00\",\"2018-12-21T00:00:00-05:00\",\"2018-12-24T00:00:00-05:00\",\"2018-12-26T00:00:00-05:00\",\"2018-12-27T00:00:00-05:00\",\"2018-12-28T00:00:00-05:00\",\"2018-12-31T00:00:00-05:00\",\"2019-01-02T00:00:00-05:00\",\"2019-01-03T00:00:00-05:00\",\"2019-01-04T00:00:00-05:00\",\"2019-01-07T00:00:00-05:00\",\"2019-01-08T00:00:00-05:00\",\"2019-01-09T00:00:00-05:00\",\"2019-01-10T00:00:00-05:00\",\"2019-01-11T00:00:00-05:00\",\"2019-01-14T00:00:00-05:00\",\"2019-01-15T00:00:00-05:00\",\"2019-01-16T00:00:00-05:00\",\"2019-01-17T00:00:00-05:00\",\"2019-01-18T00:00:00-05:00\",\"2019-01-22T00:00:00-05:00\",\"2019-01-23T00:00:00-05:00\",\"2019-01-24T00:00:00-05:00\",\"2019-01-25T00:00:00-05:00\",\"2019-01-28T00:00:00-05:00\",\"2019-01-29T00:00:00-05:00\",\"2019-01-30T00:00:00-05:00\",\"2019-01-31T00:00:00-05:00\",\"2019-02-01T00:00:00-05:00\",\"2019-02-04T00:00:00-05:00\",\"2019-02-05T00:00:00-05:00\",\"2019-02-06T00:00:00-05:00\",\"2019-02-07T00:00:00-05:00\",\"2019-02-08T00:00:00-05:00\",\"2019-02-11T00:00:00-05:00\",\"2019-02-12T00:00:00-05:00\",\"2019-02-13T00:00:00-05:00\",\"2019-02-14T00:00:00-05:00\",\"2019-02-15T00:00:00-05:00\",\"2019-02-19T00:00:00-05:00\",\"2019-02-20T00:00:00-05:00\",\"2019-02-21T00:00:00-05:00\",\"2019-02-22T00:00:00-05:00\",\"2019-02-25T00:00:00-05:00\",\"2019-02-26T00:00:00-05:00\",\"2019-02-27T00:00:00-05:00\",\"2019-02-28T00:00:00-05:00\",\"2019-03-01T00:00:00-05:00\",\"2019-03-04T00:00:00-05:00\",\"2019-03-05T00:00:00-05:00\",\"2019-03-06T00:00:00-05:00\",\"2019-03-07T00:00:00-05:00\",\"2019-03-08T00:00:00-05:00\",\"2019-03-11T00:00:00-04:00\",\"2019-03-12T00:00:00-04:00\",\"2019-03-13T00:00:00-04:00\",\"2019-03-14T00:00:00-04:00\",\"2019-03-15T00:00:00-04:00\",\"2019-03-18T00:00:00-04:00\",\"2019-03-19T00:00:00-04:00\",\"2019-03-20T00:00:00-04:00\",\"2019-03-21T00:00:00-04:00\",\"2019-03-22T00:00:00-04:00\",\"2019-03-25T00:00:00-04:00\",\"2019-03-26T00:00:00-04:00\",\"2019-03-27T00:00:00-04:00\",\"2019-03-28T00:00:00-04:00\",\"2019-03-29T00:00:00-04:00\",\"2019-04-01T00:00:00-04:00\",\"2019-04-02T00:00:00-04:00\",\"2019-04-03T00:00:00-04:00\",\"2019-04-04T00:00:00-04:00\",\"2019-04-05T00:00:00-04:00\",\"2019-04-08T00:00:00-04:00\",\"2019-04-09T00:00:00-04:00\",\"2019-04-10T00:00:00-04:00\",\"2019-04-11T00:00:00-04:00\",\"2019-04-12T00:00:00-04:00\",\"2019-04-15T00:00:00-04:00\",\"2019-04-16T00:00:00-04:00\",\"2019-04-17T00:00:00-04:00\",\"2019-04-18T00:00:00-04:00\",\"2019-04-22T00:00:00-04:00\",\"2019-04-23T00:00:00-04:00\",\"2019-04-24T00:00:00-04:00\",\"2019-04-25T00:00:00-04:00\",\"2019-04-26T00:00:00-04:00\",\"2019-04-29T00:00:00-04:00\",\"2019-04-30T00:00:00-04:00\",\"2019-05-01T00:00:00-04:00\",\"2019-05-02T00:00:00-04:00\",\"2019-05-03T00:00:00-04:00\",\"2019-05-06T00:00:00-04:00\",\"2019-05-07T00:00:00-04:00\",\"2019-05-08T00:00:00-04:00\",\"2019-05-09T00:00:00-04:00\",\"2019-05-10T00:00:00-04:00\",\"2019-05-13T00:00:00-04:00\",\"2019-05-14T00:00:00-04:00\",\"2019-05-15T00:00:00-04:00\",\"2019-05-16T00:00:00-04:00\",\"2019-05-17T00:00:00-04:00\",\"2019-05-20T00:00:00-04:00\",\"2019-05-21T00:00:00-04:00\",\"2019-05-22T00:00:00-04:00\",\"2019-05-23T00:00:00-04:00\",\"2019-05-24T00:00:00-04:00\",\"2019-05-28T00:00:00-04:00\",\"2019-05-29T00:00:00-04:00\",\"2019-05-30T00:00:00-04:00\",\"2019-05-31T00:00:00-04:00\",\"2019-06-03T00:00:00-04:00\",\"2019-06-04T00:00:00-04:00\",\"2019-06-05T00:00:00-04:00\",\"2019-06-06T00:00:00-04:00\",\"2019-06-07T00:00:00-04:00\",\"2019-06-10T00:00:00-04:00\",\"2019-06-11T00:00:00-04:00\",\"2019-06-12T00:00:00-04:00\",\"2019-06-13T00:00:00-04:00\",\"2019-06-14T00:00:00-04:00\",\"2019-06-17T00:00:00-04:00\",\"2019-06-18T00:00:00-04:00\",\"2019-06-19T00:00:00-04:00\",\"2019-06-20T00:00:00-04:00\",\"2019-06-21T00:00:00-04:00\",\"2019-06-24T00:00:00-04:00\",\"2019-06-25T00:00:00-04:00\",\"2019-06-26T00:00:00-04:00\",\"2019-06-27T00:00:00-04:00\",\"2019-06-28T00:00:00-04:00\",\"2019-07-01T00:00:00-04:00\",\"2019-07-02T00:00:00-04:00\",\"2019-07-03T00:00:00-04:00\",\"2019-07-05T00:00:00-04:00\",\"2019-07-08T00:00:00-04:00\",\"2019-07-09T00:00:00-04:00\",\"2019-07-10T00:00:00-04:00\",\"2019-07-11T00:00:00-04:00\",\"2019-07-12T00:00:00-04:00\",\"2019-07-15T00:00:00-04:00\",\"2019-07-16T00:00:00-04:00\",\"2019-07-17T00:00:00-04:00\",\"2019-07-18T00:00:00-04:00\",\"2019-07-19T00:00:00-04:00\",\"2019-07-22T00:00:00-04:00\",\"2019-07-23T00:00:00-04:00\",\"2019-07-24T00:00:00-04:00\",\"2019-07-25T00:00:00-04:00\",\"2019-07-26T00:00:00-04:00\",\"2019-07-29T00:00:00-04:00\",\"2019-07-30T00:00:00-04:00\",\"2019-07-31T00:00:00-04:00\",\"2019-08-01T00:00:00-04:00\",\"2019-08-02T00:00:00-04:00\",\"2019-08-05T00:00:00-04:00\",\"2019-08-06T00:00:00-04:00\",\"2019-08-07T00:00:00-04:00\",\"2019-08-08T00:00:00-04:00\",\"2019-08-09T00:00:00-04:00\",\"2019-08-12T00:00:00-04:00\",\"2019-08-13T00:00:00-04:00\",\"2019-08-14T00:00:00-04:00\",\"2019-08-15T00:00:00-04:00\",\"2019-08-16T00:00:00-04:00\",\"2019-08-19T00:00:00-04:00\",\"2019-08-20T00:00:00-04:00\",\"2019-08-21T00:00:00-04:00\",\"2019-08-22T00:00:00-04:00\",\"2019-08-23T00:00:00-04:00\",\"2019-08-26T00:00:00-04:00\",\"2019-08-27T00:00:00-04:00\",\"2019-08-28T00:00:00-04:00\",\"2019-08-29T00:00:00-04:00\",\"2019-08-30T00:00:00-04:00\",\"2019-09-03T00:00:00-04:00\",\"2019-09-04T00:00:00-04:00\",\"2019-09-05T00:00:00-04:00\",\"2019-09-06T00:00:00-04:00\",\"2019-09-09T00:00:00-04:00\",\"2019-09-10T00:00:00-04:00\",\"2019-09-11T00:00:00-04:00\",\"2019-09-12T00:00:00-04:00\",\"2019-09-13T00:00:00-04:00\",\"2019-09-16T00:00:00-04:00\",\"2019-09-17T00:00:00-04:00\",\"2019-09-18T00:00:00-04:00\",\"2019-09-19T00:00:00-04:00\",\"2019-09-20T00:00:00-04:00\",\"2019-09-23T00:00:00-04:00\",\"2019-09-24T00:00:00-04:00\",\"2019-09-25T00:00:00-04:00\",\"2019-09-26T00:00:00-04:00\",\"2019-09-27T00:00:00-04:00\",\"2019-09-30T00:00:00-04:00\",\"2019-10-01T00:00:00-04:00\",\"2019-10-02T00:00:00-04:00\",\"2019-10-03T00:00:00-04:00\",\"2019-10-04T00:00:00-04:00\",\"2019-10-07T00:00:00-04:00\",\"2019-10-08T00:00:00-04:00\",\"2019-10-09T00:00:00-04:00\",\"2019-10-10T00:00:00-04:00\",\"2019-10-11T00:00:00-04:00\",\"2019-10-14T00:00:00-04:00\",\"2019-10-15T00:00:00-04:00\",\"2019-10-16T00:00:00-04:00\",\"2019-10-17T00:00:00-04:00\",\"2019-10-18T00:00:00-04:00\",\"2019-10-21T00:00:00-04:00\",\"2019-10-22T00:00:00-04:00\",\"2019-10-23T00:00:00-04:00\",\"2019-10-24T00:00:00-04:00\",\"2019-10-25T00:00:00-04:00\",\"2019-10-28T00:00:00-04:00\",\"2019-10-29T00:00:00-04:00\",\"2019-10-30T00:00:00-04:00\",\"2019-10-31T00:00:00-04:00\",\"2019-11-01T00:00:00-04:00\",\"2019-11-04T00:00:00-05:00\",\"2019-11-05T00:00:00-05:00\",\"2019-11-06T00:00:00-05:00\",\"2019-11-07T00:00:00-05:00\",\"2019-11-08T00:00:00-05:00\",\"2019-11-11T00:00:00-05:00\",\"2019-11-12T00:00:00-05:00\",\"2019-11-13T00:00:00-05:00\",\"2019-11-14T00:00:00-05:00\",\"2019-11-15T00:00:00-05:00\",\"2019-11-18T00:00:00-05:00\",\"2019-11-19T00:00:00-05:00\",\"2019-11-20T00:00:00-05:00\",\"2019-11-21T00:00:00-05:00\",\"2019-11-22T00:00:00-05:00\",\"2019-11-25T00:00:00-05:00\",\"2019-11-26T00:00:00-05:00\",\"2019-11-27T00:00:00-05:00\",\"2019-11-29T00:00:00-05:00\",\"2019-12-02T00:00:00-05:00\",\"2019-12-03T00:00:00-05:00\",\"2019-12-04T00:00:00-05:00\",\"2019-12-05T00:00:00-05:00\",\"2019-12-06T00:00:00-05:00\",\"2019-12-09T00:00:00-05:00\",\"2019-12-10T00:00:00-05:00\",\"2019-12-11T00:00:00-05:00\",\"2019-12-12T00:00:00-05:00\",\"2019-12-13T00:00:00-05:00\",\"2019-12-16T00:00:00-05:00\",\"2019-12-17T00:00:00-05:00\",\"2019-12-18T00:00:00-05:00\",\"2019-12-19T00:00:00-05:00\",\"2019-12-20T00:00:00-05:00\",\"2019-12-23T00:00:00-05:00\",\"2019-12-24T00:00:00-05:00\",\"2019-12-26T00:00:00-05:00\",\"2019-12-27T00:00:00-05:00\",\"2019-12-30T00:00:00-05:00\",\"2019-12-31T00:00:00-05:00\",\"2020-01-02T00:00:00-05:00\",\"2020-01-03T00:00:00-05:00\",\"2020-01-06T00:00:00-05:00\",\"2020-01-07T00:00:00-05:00\",\"2020-01-08T00:00:00-05:00\",\"2020-01-09T00:00:00-05:00\",\"2020-01-10T00:00:00-05:00\",\"2020-01-13T00:00:00-05:00\",\"2020-01-14T00:00:00-05:00\",\"2020-01-15T00:00:00-05:00\",\"2020-01-16T00:00:00-05:00\",\"2020-01-17T00:00:00-05:00\",\"2020-01-21T00:00:00-05:00\",\"2020-01-22T00:00:00-05:00\",\"2020-01-23T00:00:00-05:00\",\"2020-01-24T00:00:00-05:00\",\"2020-01-27T00:00:00-05:00\",\"2020-01-28T00:00:00-05:00\",\"2020-01-29T00:00:00-05:00\",\"2020-01-30T00:00:00-05:00\",\"2020-01-31T00:00:00-05:00\",\"2020-02-03T00:00:00-05:00\",\"2020-02-04T00:00:00-05:00\",\"2020-02-05T00:00:00-05:00\",\"2020-02-06T00:00:00-05:00\",\"2020-02-07T00:00:00-05:00\",\"2020-02-10T00:00:00-05:00\",\"2020-02-11T00:00:00-05:00\",\"2020-02-12T00:00:00-05:00\",\"2020-02-13T00:00:00-05:00\",\"2020-02-14T00:00:00-05:00\",\"2020-02-18T00:00:00-05:00\",\"2020-02-19T00:00:00-05:00\",\"2020-02-20T00:00:00-05:00\",\"2020-02-21T00:00:00-05:00\",\"2020-02-24T00:00:00-05:00\",\"2020-02-25T00:00:00-05:00\",\"2020-02-26T00:00:00-05:00\",\"2020-02-27T00:00:00-05:00\",\"2020-02-28T00:00:00-05:00\",\"2020-03-02T00:00:00-05:00\",\"2020-03-03T00:00:00-05:00\",\"2020-03-04T00:00:00-05:00\",\"2020-03-05T00:00:00-05:00\",\"2020-03-06T00:00:00-05:00\",\"2020-03-09T00:00:00-04:00\",\"2020-03-10T00:00:00-04:00\",\"2020-03-11T00:00:00-04:00\",\"2020-03-12T00:00:00-04:00\",\"2020-03-13T00:00:00-04:00\",\"2020-03-16T00:00:00-04:00\",\"2020-03-17T00:00:00-04:00\",\"2020-03-18T00:00:00-04:00\",\"2020-03-19T00:00:00-04:00\",\"2020-03-20T00:00:00-04:00\",\"2020-03-23T00:00:00-04:00\",\"2020-03-24T00:00:00-04:00\",\"2020-03-25T00:00:00-04:00\",\"2020-03-26T00:00:00-04:00\",\"2020-03-27T00:00:00-04:00\",\"2020-03-30T00:00:00-04:00\",\"2020-03-31T00:00:00-04:00\",\"2020-04-01T00:00:00-04:00\",\"2020-04-02T00:00:00-04:00\",\"2020-04-03T00:00:00-04:00\",\"2020-04-06T00:00:00-04:00\",\"2020-04-07T00:00:00-04:00\",\"2020-04-08T00:00:00-04:00\",\"2020-04-09T00:00:00-04:00\",\"2020-04-13T00:00:00-04:00\",\"2020-04-14T00:00:00-04:00\",\"2020-04-15T00:00:00-04:00\",\"2020-04-16T00:00:00-04:00\",\"2020-04-17T00:00:00-04:00\",\"2020-04-20T00:00:00-04:00\",\"2020-04-21T00:00:00-04:00\",\"2020-04-22T00:00:00-04:00\",\"2020-04-23T00:00:00-04:00\",\"2020-04-24T00:00:00-04:00\",\"2020-04-27T00:00:00-04:00\",\"2020-04-28T00:00:00-04:00\",\"2020-04-29T00:00:00-04:00\",\"2020-04-30T00:00:00-04:00\",\"2020-05-01T00:00:00-04:00\",\"2020-05-04T00:00:00-04:00\",\"2020-05-05T00:00:00-04:00\",\"2020-05-06T00:00:00-04:00\",\"2020-05-07T00:00:00-04:00\",\"2020-05-08T00:00:00-04:00\",\"2020-05-11T00:00:00-04:00\",\"2020-05-12T00:00:00-04:00\",\"2020-05-13T00:00:00-04:00\",\"2020-05-14T00:00:00-04:00\",\"2020-05-15T00:00:00-04:00\",\"2020-05-18T00:00:00-04:00\",\"2020-05-19T00:00:00-04:00\",\"2020-05-20T00:00:00-04:00\",\"2020-05-21T00:00:00-04:00\",\"2020-05-22T00:00:00-04:00\",\"2020-05-26T00:00:00-04:00\",\"2020-05-27T00:00:00-04:00\",\"2020-05-28T00:00:00-04:00\",\"2020-05-29T00:00:00-04:00\",\"2020-06-01T00:00:00-04:00\",\"2020-06-02T00:00:00-04:00\",\"2020-06-03T00:00:00-04:00\",\"2020-06-04T00:00:00-04:00\",\"2020-06-05T00:00:00-04:00\",\"2020-06-08T00:00:00-04:00\",\"2020-06-09T00:00:00-04:00\",\"2020-06-10T00:00:00-04:00\",\"2020-06-11T00:00:00-04:00\",\"2020-06-12T00:00:00-04:00\",\"2020-06-15T00:00:00-04:00\",\"2020-06-16T00:00:00-04:00\",\"2020-06-17T00:00:00-04:00\",\"2020-06-18T00:00:00-04:00\",\"2020-06-19T00:00:00-04:00\",\"2020-06-22T00:00:00-04:00\",\"2020-06-23T00:00:00-04:00\",\"2020-06-24T00:00:00-04:00\",\"2020-06-25T00:00:00-04:00\",\"2020-06-26T00:00:00-04:00\",\"2020-06-29T00:00:00-04:00\",\"2020-06-30T00:00:00-04:00\",\"2020-07-01T00:00:00-04:00\",\"2020-07-02T00:00:00-04:00\",\"2020-07-06T00:00:00-04:00\",\"2020-07-07T00:00:00-04:00\",\"2020-07-08T00:00:00-04:00\",\"2020-07-09T00:00:00-04:00\",\"2020-07-10T00:00:00-04:00\",\"2020-07-13T00:00:00-04:00\",\"2020-07-14T00:00:00-04:00\",\"2020-07-15T00:00:00-04:00\",\"2020-07-16T00:00:00-04:00\",\"2020-07-17T00:00:00-04:00\",\"2020-07-20T00:00:00-04:00\",\"2020-07-21T00:00:00-04:00\",\"2020-07-22T00:00:00-04:00\",\"2020-07-23T00:00:00-04:00\",\"2020-07-24T00:00:00-04:00\",\"2020-07-27T00:00:00-04:00\",\"2020-07-28T00:00:00-04:00\",\"2020-07-29T00:00:00-04:00\",\"2020-07-30T00:00:00-04:00\",\"2020-07-31T00:00:00-04:00\",\"2020-08-03T00:00:00-04:00\",\"2020-08-04T00:00:00-04:00\",\"2020-08-05T00:00:00-04:00\",\"2020-08-06T00:00:00-04:00\",\"2020-08-07T00:00:00-04:00\",\"2020-08-10T00:00:00-04:00\",\"2020-08-11T00:00:00-04:00\",\"2020-08-12T00:00:00-04:00\",\"2020-08-13T00:00:00-04:00\",\"2020-08-14T00:00:00-04:00\",\"2020-08-17T00:00:00-04:00\",\"2020-08-18T00:00:00-04:00\",\"2020-08-19T00:00:00-04:00\",\"2020-08-20T00:00:00-04:00\",\"2020-08-21T00:00:00-04:00\",\"2020-08-24T00:00:00-04:00\",\"2020-08-25T00:00:00-04:00\",\"2020-08-26T00:00:00-04:00\",\"2020-08-27T00:00:00-04:00\",\"2020-08-28T00:00:00-04:00\",\"2020-08-31T00:00:00-04:00\",\"2020-09-01T00:00:00-04:00\",\"2020-09-02T00:00:00-04:00\",\"2020-09-03T00:00:00-04:00\",\"2020-09-04T00:00:00-04:00\",\"2020-09-08T00:00:00-04:00\",\"2020-09-09T00:00:00-04:00\",\"2020-09-10T00:00:00-04:00\",\"2020-09-11T00:00:00-04:00\",\"2020-09-14T00:00:00-04:00\",\"2020-09-15T00:00:00-04:00\",\"2020-09-16T00:00:00-04:00\",\"2020-09-17T00:00:00-04:00\",\"2020-09-18T00:00:00-04:00\",\"2020-09-21T00:00:00-04:00\",\"2020-09-22T00:00:00-04:00\",\"2020-09-23T00:00:00-04:00\",\"2020-09-24T00:00:00-04:00\",\"2020-09-25T00:00:00-04:00\",\"2020-09-28T00:00:00-04:00\",\"2020-09-29T00:00:00-04:00\",\"2020-09-30T00:00:00-04:00\",\"2020-10-01T00:00:00-04:00\",\"2020-10-02T00:00:00-04:00\",\"2020-10-05T00:00:00-04:00\",\"2020-10-06T00:00:00-04:00\",\"2020-10-07T00:00:00-04:00\",\"2020-10-08T00:00:00-04:00\",\"2020-10-09T00:00:00-04:00\",\"2020-10-12T00:00:00-04:00\",\"2020-10-13T00:00:00-04:00\",\"2020-10-14T00:00:00-04:00\",\"2020-10-15T00:00:00-04:00\",\"2020-10-16T00:00:00-04:00\",\"2020-10-19T00:00:00-04:00\",\"2020-10-20T00:00:00-04:00\",\"2020-10-21T00:00:00-04:00\",\"2020-10-22T00:00:00-04:00\",\"2020-10-23T00:00:00-04:00\",\"2020-10-26T00:00:00-04:00\",\"2020-10-27T00:00:00-04:00\",\"2020-10-28T00:00:00-04:00\",\"2020-10-29T00:00:00-04:00\",\"2020-10-30T00:00:00-04:00\",\"2020-11-02T00:00:00-05:00\",\"2020-11-03T00:00:00-05:00\",\"2020-11-04T00:00:00-05:00\",\"2020-11-05T00:00:00-05:00\",\"2020-11-06T00:00:00-05:00\",\"2020-11-09T00:00:00-05:00\",\"2020-11-10T00:00:00-05:00\",\"2020-11-11T00:00:00-05:00\",\"2020-11-12T00:00:00-05:00\",\"2020-11-13T00:00:00-05:00\",\"2020-11-16T00:00:00-05:00\",\"2020-11-17T00:00:00-05:00\",\"2020-11-18T00:00:00-05:00\",\"2020-11-19T00:00:00-05:00\",\"2020-11-20T00:00:00-05:00\",\"2020-11-23T00:00:00-05:00\",\"2020-11-24T00:00:00-05:00\",\"2020-11-25T00:00:00-05:00\",\"2020-11-27T00:00:00-05:00\",\"2020-11-30T00:00:00-05:00\",\"2020-12-01T00:00:00-05:00\",\"2020-12-02T00:00:00-05:00\",\"2020-12-03T00:00:00-05:00\",\"2020-12-04T00:00:00-05:00\",\"2020-12-07T00:00:00-05:00\",\"2020-12-08T00:00:00-05:00\",\"2020-12-09T00:00:00-05:00\",\"2020-12-10T00:00:00-05:00\",\"2020-12-11T00:00:00-05:00\",\"2020-12-14T00:00:00-05:00\",\"2020-12-15T00:00:00-05:00\",\"2020-12-16T00:00:00-05:00\",\"2020-12-17T00:00:00-05:00\",\"2020-12-18T00:00:00-05:00\",\"2020-12-21T00:00:00-05:00\",\"2020-12-22T00:00:00-05:00\",\"2020-12-23T00:00:00-05:00\",\"2020-12-24T00:00:00-05:00\",\"2020-12-28T00:00:00-05:00\",\"2020-12-29T00:00:00-05:00\",\"2020-12-30T00:00:00-05:00\",\"2020-12-31T00:00:00-05:00\",\"2021-01-04T00:00:00-05:00\",\"2021-01-05T00:00:00-05:00\",\"2021-01-06T00:00:00-05:00\",\"2021-01-07T00:00:00-05:00\",\"2021-01-08T00:00:00-05:00\",\"2021-01-11T00:00:00-05:00\",\"2021-01-12T00:00:00-05:00\",\"2021-01-13T00:00:00-05:00\",\"2021-01-14T00:00:00-05:00\",\"2021-01-15T00:00:00-05:00\",\"2021-01-19T00:00:00-05:00\",\"2021-01-20T00:00:00-05:00\",\"2021-01-21T00:00:00-05:00\",\"2021-01-22T00:00:00-05:00\",\"2021-01-25T00:00:00-05:00\",\"2021-01-26T00:00:00-05:00\",\"2021-01-27T00:00:00-05:00\",\"2021-01-28T00:00:00-05:00\",\"2021-01-29T00:00:00-05:00\",\"2021-02-01T00:00:00-05:00\",\"2021-02-02T00:00:00-05:00\",\"2021-02-03T00:00:00-05:00\",\"2021-02-04T00:00:00-05:00\",\"2021-02-05T00:00:00-05:00\",\"2021-02-08T00:00:00-05:00\",\"2021-02-09T00:00:00-05:00\",\"2021-02-10T00:00:00-05:00\",\"2021-02-11T00:00:00-05:00\",\"2021-02-12T00:00:00-05:00\",\"2021-02-16T00:00:00-05:00\",\"2021-02-17T00:00:00-05:00\",\"2021-02-18T00:00:00-05:00\",\"2021-02-19T00:00:00-05:00\",\"2021-02-22T00:00:00-05:00\",\"2021-02-23T00:00:00-05:00\",\"2021-02-24T00:00:00-05:00\",\"2021-02-25T00:00:00-05:00\",\"2021-02-26T00:00:00-05:00\",\"2021-03-01T00:00:00-05:00\",\"2021-03-02T00:00:00-05:00\",\"2021-03-03T00:00:00-05:00\",\"2021-03-04T00:00:00-05:00\",\"2021-03-05T00:00:00-05:00\",\"2021-03-08T00:00:00-05:00\",\"2021-03-09T00:00:00-05:00\",\"2021-03-10T00:00:00-05:00\",\"2021-03-11T00:00:00-05:00\",\"2021-03-12T00:00:00-05:00\",\"2021-03-15T00:00:00-04:00\",\"2021-03-16T00:00:00-04:00\",\"2021-03-17T00:00:00-04:00\",\"2021-03-18T00:00:00-04:00\",\"2021-03-19T00:00:00-04:00\",\"2021-03-22T00:00:00-04:00\",\"2021-03-23T00:00:00-04:00\",\"2021-03-24T00:00:00-04:00\",\"2021-03-25T00:00:00-04:00\",\"2021-03-26T00:00:00-04:00\",\"2021-03-29T00:00:00-04:00\",\"2021-03-30T00:00:00-04:00\",\"2021-03-31T00:00:00-04:00\",\"2021-04-01T00:00:00-04:00\",\"2021-04-05T00:00:00-04:00\",\"2021-04-06T00:00:00-04:00\",\"2021-04-07T00:00:00-04:00\",\"2021-04-08T00:00:00-04:00\",\"2021-04-09T00:00:00-04:00\",\"2021-04-12T00:00:00-04:00\",\"2021-04-13T00:00:00-04:00\",\"2021-04-14T00:00:00-04:00\",\"2021-04-15T00:00:00-04:00\",\"2021-04-16T00:00:00-04:00\",\"2021-04-19T00:00:00-04:00\",\"2021-04-20T00:00:00-04:00\",\"2021-04-21T00:00:00-04:00\",\"2021-04-22T00:00:00-04:00\",\"2021-04-23T00:00:00-04:00\",\"2021-04-26T00:00:00-04:00\",\"2021-04-27T00:00:00-04:00\",\"2021-04-28T00:00:00-04:00\",\"2021-04-29T00:00:00-04:00\",\"2021-04-30T00:00:00-04:00\",\"2021-05-03T00:00:00-04:00\",\"2021-05-04T00:00:00-04:00\",\"2021-05-05T00:00:00-04:00\",\"2021-05-06T00:00:00-04:00\",\"2021-05-07T00:00:00-04:00\",\"2021-05-10T00:00:00-04:00\",\"2021-05-11T00:00:00-04:00\",\"2021-05-12T00:00:00-04:00\",\"2021-05-13T00:00:00-04:00\",\"2021-05-14T00:00:00-04:00\",\"2021-05-17T00:00:00-04:00\",\"2021-05-18T00:00:00-04:00\",\"2021-05-19T00:00:00-04:00\",\"2021-05-20T00:00:00-04:00\",\"2021-05-21T00:00:00-04:00\",\"2021-05-24T00:00:00-04:00\",\"2021-05-25T00:00:00-04:00\",\"2021-05-26T00:00:00-04:00\",\"2021-05-27T00:00:00-04:00\",\"2021-05-28T00:00:00-04:00\",\"2021-06-01T00:00:00-04:00\",\"2021-06-02T00:00:00-04:00\",\"2021-06-03T00:00:00-04:00\",\"2021-06-04T00:00:00-04:00\",\"2021-06-07T00:00:00-04:00\",\"2021-06-08T00:00:00-04:00\",\"2021-06-09T00:00:00-04:00\",\"2021-06-10T00:00:00-04:00\",\"2021-06-11T00:00:00-04:00\",\"2021-06-14T00:00:00-04:00\"],\"y\":[1.691666603088379,1.6832503080368042,1.6748340129852295,1.6075040102005005,1.6622095108032227,1.6580018997192383,1.6285449266433716,1.6411687135696411,1.6411687135696411,1.611711859703064,1.6075040102005005,1.63022780418396,1.6580018997192383,1.6201280355453491,1.6285449266433716,1.71859872341156,1.7589964866638184,1.781720757484436,1.7842450141906738,1.7690963745117188,1.7674131393432617,1.7127074003219604,1.62433660030365,1.5738390684127808,1.516608715057373,1.5780470371246338,1.62433660030365,1.6596845388412476,1.6815670728683472,1.7337480783462524,1.7000830173492432,1.6032955646514893,1.5687896013259888,1.5654230117797852,1.5948797464370728,1.5561648607254028,1.5401737689971924,1.5948797464370728,1.5923547744750977,1.5570067167282104,1.5359658002853394,1.5620558261871338,1.5990879535675049,1.6672592163085938,1.6672592163085938,1.7059741020202637,1.6832503080368042,1.645377278327942,1.633594036102295,1.6327531337738037,1.6201280355453491,1.5906717777252197,1.6032955646514893,1.7253320217132568,1.7531055212020874,1.7505804300308228,1.830534815788269,1.8094942569732666,1.8852401971817017,1.9231137037277222,1.8566248416900635,1.8094942569732666,1.7505804300308228,1.6706264019012451,1.7337480783462524,1.786769986152649,1.7993946075439453,1.7253320217132568,1.7884533405303955,1.8860818147659302,1.9744523763656616,2.037574529647827,1.9862358570098877,1.9576197862625122,2.035890817642212,1.9567784070968628,1.9719278812408447,1.9567784070968628,1.9567784070968628,1.9315301179885864,1.8936561346054077,1.9146971702575684,1.8852401971817017,1.9323712587356567,1.8944981098175049,1.9374207258224487,1.8953399658203125,1.9357378482818604,1.8431591987609863,1.7674131393432617,1.7270148992538452,1.6815670728683472,1.5948797464370728,1.6832503080368042,1.766571283340454,1.6613681316375732,1.5788886547088623,1.5570067167282104,1.5999294519424438,1.6672592163085938,1.6411687135696411,1.6159201860427856,1.5511151552200317,1.4888348579406738,1.4055142402648926,1.3625913858413696,1.3541747331619263,1.3499666452407837,1.3280844688415527,1.3297675848007202,1.3466005325317383,1.4804186820983887,1.429079532623291,1.4762104749679565,1.5401737689971924,1.5107176303863525,1.472844123840332,1.4046725034713745,1.2708539962768555,1.2918944358825684,1.3289262056350708,1.3373422622680664,1.2540212869644165,1.2834782600402832,1.3676410913467407,1.3760573863983154,1.4560116529464722,1.5233412981033325,1.5931963920593262,1.6790422201156616,1.7606797218322754,1.8052862882614136,1.7253320217132568,1.6622095108032227,1.7387974262237549,1.73458993434906,1.7589964866638184,1.8036023378372192,1.7505804300308228,1.6832503080368042,1.5654230117797852,1.6142374277114868,1.650426983833313,1.6874587535858154,1.7169147729873657,1.7505804300308228,1.7169147729873657,1.649585485458374,1.7009245157241821,1.71859872341156,1.691666603088379,1.7068156003952026,1.6874587535858154,1.6748340129852295,1.6344358921051025,1.653793215751648,1.7379560470581055,1.790978193283081,1.7211236953735352,1.6832503080368042,1.6664179563522339,1.611711859703064,1.6251778602600098,1.5654230117797852,1.5906717777252197,1.4703192710876465,1.5410157442092896,1.5628982782363892,1.5772054195404053,1.648743987083435,1.6411687135696411,1.6647346019744873,1.7127074003219604,1.7547887563705444,1.6133954524993896,1.6782002449035645,1.7169147729873657,1.7127074003219604,1.5612146854400635,1.514925241470337,1.514925241470337,1.5065090656280518,1.4837851524353027,1.5216585397720337,1.5780470371246338,1.5654230117797852,1.5544816255569458,1.4332873821258545,1.4644275903701782,1.5485904216766357,1.5990879535675049,1.5990879535675049,1.6975575685501099,1.7034493684768677,1.6075040102005005,1.6201280355453491,1.63611900806427,1.5570067167282104,1.5620558261871338,1.5570067167282104,1.5713139772415161,1.5654230117797852,1.5906717777252197,1.6041373014450073,1.5822553634643555,1.6201280355453491,1.6176034212112427,1.5275497436523438,1.5250250101089478,1.4484364986419678,1.5233412981033325,1.3297675848007202,1.3466005325317383,1.2540212869644165,1.121044635772705,0.7843948006629944,0.7970189452171326,0.7911276817321777,0.7700868844985962,0.7742952108383179,0.7869195342063904,0.8189011812210083,0.824792742729187,0.818059504032135,0.8306840658187866,0.8315257430076599,0.8500415086746216,0.8542495965957642,0.8921225070953369,0.8736070394515991,0.8879146575927734,0.8332089781761169,0.8029102087020874,0.8037520051002502,0.8037520051002502,0.812168300151825,0.8332089781761169,0.8205843567848206,0.7919692993164062,0.7574626207351685,0.7566210031509399,0.7574626207351685,0.746521532535553,0.715381383895874,0.6951824426651001,0.7145397663116455,0.6943408250808716,0.6733002662658691,0.6665669679641724,0.6497347354888916,0.6387933492660522,0.6733002662658691,0.6665669679641724,0.6926575303077698,0.8584573864936829,0.8752902150154114,0.8576160073280334,0.8921225070953369,0.8710821866989136,0.8677155375480652,0.8550912141799927,0.8635074496269226,0.8837065696716309,0.9072720408439636,0.8752902150154114,0.8837065696716309,0.9089550971984863,0.9190546870231628,0.8921225070953369,0.9022221565246582,0.9257878065109253,0.9712356925010681,1.0183665752410889,1.0225744247436523,1.0183665752410889,1.0208911895751953,0.9931179285049438,1.020049810409546,0.9905930161476135,1.00153386592865,1.0099502801895142,1.0099502801895142,1.0133163928985596,1.0099502801895142,1.0107918977737427,1.025099277496338,1.0082670450210571,1.0840132236480713,1.0899046659469604,1.0772802829742432,1.0570811033248901,1.0377238988876343,1.045298457145691,1.073072075843811,1.0562398433685303,1.0629727840423584,1.041932225227356,1.0604478120803833,1.0688639879226685,1.0941128730773926,1.0436151027679443,1.0166831016540527,1.0335155725479126,1.0671805143356323,1.0057421922683716,0.9594528675079346,0.9476699829101562,1.0074254274368286,0.9880678653717041,1.117677927017212,1.098320722579956,1.11851966381073,1.1538680791854858,1.096637487411499,1.123569369316101,1.0932711362838745,1.0941128730773926,1.046140193939209,1.0166831016540527,1.0394071340560913,0.9720770120620728,0.9889096021652222,1.0141584873199463,1.0495065450668335,1.0495065450668335,1.0545562505722046,1.063814401626587,1.0621310472488403,1.0604478120803833,1.0814884901046753,1.0856964588165283,1.073072075843811,1.073072075843811,1.073072075843811,1.0697057247161865,1.073072075843811,1.1101036071777344,1.1681755781173706,1.167333960533142,1.139560580253601,1.1429270505905151,1.1025289297103882,1.1260943412780762,1.1109451055526733,1.0890629291534424,1.0562398433685303,1.0873796939849854,1.1101036071777344,1.1446102857589722,1.1193615198135376,1.158918023109436,1.227931022644043,1.249813437461853,1.2035239934921265,1.1824837923049927,1.2119402885437012,1.1883748769760132,1.1462931632995605,1.136193871498108,1.1404021978378296,1.1109451055526733,1.1547096967697144,1.115994930267334,1.1319856643676758,1.136193871498108,1.186691164970398,1.1993162631988525,1.19089937210083,1.1446102857589722,1.138718843460083,1.1572345495224,1.1277775764465332,1.1025289297103882,1.1058956384658813,1.0705472230911255,1.0654975175857544,1.073072075843811,1.0814884901046753,1.1025289297103882,1.1109451055526733,1.0941128730773926,1.205207109451294,1.2430803775787354,1.316301703453064,1.3701659440994263,1.3886816501617432,1.342391848564148,1.380265474319458,1.3886816501617432,1.3996226787567139,1.4560116529464722,1.4955679178237915,1.5132420063018799,1.514925241470337,1.5014591217041016,1.489676594734192,1.4509613513946533,1.4299207925796509,1.4147719144821167,1.4475951194763184,1.4181383848190308,1.4534865617752075,1.4433873891830444,1.4433873891830444,1.4122469425201416,1.4433873891830444,1.3785818815231323,1.3466005325317383,1.3676410913467407,1.3718490600585938,1.338183879852295,1.3676410913467407,1.3954145908355713,1.4038307666778564,1.451803207397461,1.451803207397461,1.4374958276748657,1.472844123840332,1.4661110639572144,1.5511151552200317,1.586463451385498,1.5923547744750977,1.575522541999817,1.5359658002853394,1.5191335678100586,1.5157668590545654,1.4770519733428955,1.4316048622131348,1.3524917364120483,1.4038307666778564,1.4602196216583252,1.430762767791748,1.430762767791748,1.4156134128570557,1.3146183490753174,1.3356589078903198,1.4055142402648926,1.4223464727401733,1.4139302968978882,1.4013055562973022,1.4223464727401733,1.4534865617752075,1.4055142402648926,1.360907793045044,1.3466005325317383,1.2750619649887085,1.296944499015808,1.365116000175476,1.360907793045044,1.3861565589904785,1.3575414419174194,1.360066533088684,1.3592244386672974,1.3457585573196411,1.2834782600402832,1.2876864671707153,1.250654935836792,1.2371890544891357,1.2346638441085815,1.2035239934921265,1.2169902324676514,1.2876864671707153,1.274220585823059,1.2127816677093506,1.2573878765106201,1.2371890544891357,1.2750619649887085,1.2952611446380615,1.2658041715621948,1.323876142501831,1.2615963220596313,1.2674875259399414,1.2961026430130005,1.3070436716079712,1.296944499015808,1.273378849029541,1.3516498804092407,1.514925241470337,1.4349708557128906,1.5628982782363892,1.512400507926941,1.5115587711334229,1.4997758865356445,1.4795769453048706,1.4644275903701782,1.472844123840332,1.4644275903701782,1.4694777727127075,1.4484364986419678,1.4299207925796509,1.4425456523895264,1.4349708557128906,1.3928896188735962,1.3886816501617432,1.3970977067947388,1.3760573863983154,1.3710074424743652,1.3735324144363403,1.3886816501617432,1.4661110639572144,1.4139302968978882,1.4475951194763184,1.472844123840332,1.472844123840332,1.4459117650985718,1.5410157442092896,1.5191335678100586,1.519974708557129,1.514925241470337,1.4989341497421265,1.567947506904602,1.5696310997009277,1.5553231239318848,1.5696310997009277,1.5620558261871338,1.5275497436523438,1.5393327474594116,1.5157668590545654,1.5233412981033325,1.4980928897857666,1.492201566696167,1.436653971672058,1.4189802408218384,1.5065090656280518,1.4795769453048706,1.4450702667236328,1.4198216199874878,1.4080389738082886,1.436653971672058,1.3895231485366821,1.430762767791748,1.4299207925796509,1.451803207397461,1.471160650253296,1.525866150856018,1.5115587711334229,1.516608715057373,1.5090341567993164,1.5452239513397217,1.5536398887634277,1.5485904216766357,1.5418572425842285,1.5502737760543823,1.5527982711791992,1.5107176303863525,1.5073508024215698,1.5393327474594116,1.5334407091140747,1.537649154663086,1.514083981513977,1.5561648607254028,1.560373306274414,1.5275497436523438,1.5283913612365723,1.5384910106658936,1.514083981513977,1.493884801864624,1.482101559638977,1.4955679178237915,1.5300743579864502,1.5216585397720337,1.5191335678100586,1.4812602996826172,1.4475951194763184,1.472844123840332,1.4593784809112549,1.451803207397461,1.436653971672058,1.3912066221237183,1.3255594968795776,1.3045190572738647,1.2902112007141113,1.2961026430130005,1.2952611446380615,1.2961026430130005,1.321351408958435,1.323876142501831,1.3146183490753174,1.3062022924423218,1.3095691204071045,1.2876864671707153,1.3120936155319214,1.342391848564148,1.342391848564148,1.3524917364120483,1.3314508199691772,1.296944499015808,1.2961026430130005,1.3280844688415527,1.3053607940673828,1.2649625539779663,1.2624379396438599,1.2237229347229004,1.248971939086914,1.2397135496139526,1.2708539962768555,1.2632794380187988,1.2540212869644165,1.2809534072875977,1.2456051111221313,1.250654935836792,1.2413969039916992,1.227089524269104,1.2371890544891357,1.2456051111221313,1.2624379396438599,1.274220585823059,1.2750619649887085,1.2700124979019165,1.2666460275650024,1.2456051111221313,1.2775866985321045,1.3062022924423218,1.2918944358825684,1.2254064083099365,1.2262476682662964,1.2868446111679077,1.2716954946517944,1.2952611446380615,1.2961026430130005,1.3196682929992676,1.2876864671707153,1.279270052909851,1.2582297325134277,1.2624379396438599,1.25149667263031,1.2700124979019165,1.2658041715621948,1.2548631429672241,1.2624379396438599,1.3297675848007202,1.3508083820343018,1.4088804721832275,1.4433873891830444,1.430762767791748,1.4080389738082886,1.4273960590362549,1.430762767791748,1.4198216199874878,1.4299207925796509,1.4400206804275513,1.4105639457702637,1.425713062286377,1.4560116529464722,1.452644944190979,1.4585365056991577,1.4341291189193726,1.452644944190979,1.4509613513946533,1.4585365056991577,1.4686360359191895,1.4753692150115967,1.4964094161987305,1.5780470371246338,1.5233412981033325,1.5570067167282104,1.531758189201355,1.50230073928833,1.5359658002853394,1.5081924200057983,1.4964094161987305,1.5292327404022217,1.5578484535217285,1.5923547744750977,1.6790422201156616,1.7026082277297974,1.6739922761917114,1.5923547744750977,1.575522541999817,1.609187364578247,1.6159201860427856,1.586463451385498,1.5527982711791992,1.6066620349884033,1.6075040102005005,1.5931963920593262,1.610870599746704,1.6394857168197632,1.6218117475509644,1.6159201860427856,1.6369611024856567,1.6840916872024536,1.6748340129852295,1.648743987083435,1.6672592163085938,1.6882996559143066,1.6798838376998901,1.7084991931915283,1.812018871307373,1.9231137037277222,1.8507336378097534,1.8010778427124023,1.8002362251281738,1.9778192043304443,1.9483624696731567,1.8776651620864868,1.8515756130218506,1.8431591987609863,1.7286982536315918,1.6655763387680054,1.7337480783462524,1.8078107833862305,1.8263261318206787,1.7968696355819702,1.7749872207641602,1.7758293151855469,1.7724626064300537,1.7674131393432617,1.7707799673080444,1.7758293151855469,1.8027613162994385,1.8027613162994385,1.8221187591552734,1.8094942569732666,1.786769986152649,1.789294958114624,1.806969404220581,1.7800370454788208,1.7690963745117188,1.7842450141906738,1.8456834554672241,1.806127667427063,1.7943450212478638,1.8726158142089844,1.8793485164642334,1.890289306640625,1.8818740844726562,1.812018871307373,1.7926610708236694,1.790978193283081,1.7800370454788208,1.645377278327942,1.6327531337738037,1.611711859703064,1.6024543046951294,1.5974042415618896,1.6032955646514893,1.6260197162628174,1.629386067390442,1.6133954524993896,1.6075040102005005,1.5721558332443237,1.5729974508285522,1.609187364578247,1.6192868947982788,1.5822553634643555,1.6066620349884033,1.6218117475509644,1.686617374420166,1.650426983833313,1.6546353101730347,1.6411687135696411,1.6411687135696411,1.609187364578247,1.5923547744750977,1.611711859703064,1.6201280355453491,1.6571598052978516,1.6580018997192383,1.6630514860153198,1.6436938047409058,1.5746805667877197,1.5856218338012695,1.5654230117797852,1.6184450387954712,1.633594036102295,1.7059741020202637,1.7068156003952026,1.7127074003219604,1.741322636604309,1.751421570777893,1.727856159210205,1.7051327228546143,1.7084991931915283,1.7076572179794312,1.6546353101730347,1.7834041118621826,1.7505804300308228,1.7699378728866577,1.7690963745117188,1.73458993434906,1.6411687135696411,1.8473670482635498,1.8978650569915771,1.971086025238037,1.899548053741455,1.9121724367141724,1.8650410175323486,1.8322175741195679,1.833059549331665,1.8608334064483643,1.8456834554672241,1.8507336378097534,1.833059549331665,1.8103355169296265,1.8473670482635498,1.8111772537231445,1.7598381042480469,1.818752646446228,1.9954931735992432,2.0283169746398926,1.971086025238037,2.013167142868042,1.990443229675293,2.050198554992676,2.0687148571014404,2.0594563484191895,2.0645065307617188,2.071239471435547,2.1579270362854004,2.146144151687622,2.116687536239624,2.1713929176330566,2.173917531967163,2.1671841144561768,2.1596100330352783,2.165501356124878,2.1713929176330566,2.1453025341033936,2.160451889038086,2.2050578594207764,2.286695957183838,2.35823392868042,2.35823392868042,2.40199875831604,2.5038342475891113,2.4062066078186035,2.480269432067871,2.51393461227417,2.454179048538208,2.528242588043213,2.533292055130005,2.6157712936401367,2.737806558609009,2.695725202560425,2.6258702278137207,2.7176077365875244,2.7580056190490723,2.7436981201171875,2.7251827716827393,2.8211278915405273,2.776521682739258,2.783254861831665,2.7260234355926514,2.697408676147461,2.7352821826934814,2.7352821826934814,2.7016167640686035,2.6578524112701416,2.728549003601074,2.732757329940796,2.752955675125122,2.7613720893859863,2.7849371433258057,2.83038592338562,2.8800413608551025,2.959153890609741,2.9852445125579834,3.00460147857666,2.986086130142212,2.97682785987854,2.961679458618164,2.944004535675049,2.944004535675049,2.9692535400390625,2.9473717212677,2.8985562324523926,2.8766744136810303,2.8657338619232178,2.942321300506592,2.975145101547241,2.8909823894500732,2.870783567428589,2.9204392433166504,2.88761568069458,2.8169198036193848,2.7100327014923096,2.7108750343322754,2.768946886062622,2.772313117980957,2.7352821826934814,2.64270281791687,2.655327320098877,2.5307669639587402,2.478586196899414,2.721815586090088,2.7756800651550293,2.88256573677063,2.9355885982513428,2.903606414794922,2.8993983268737793,2.8623671531677246,2.840485095977783,2.804295301437378,2.840485095977783,2.8194446563720703,2.8472177982330322,3.0062856674194336,3.049207925796509,3.0306921005249023,3.041632652282715,3.0601487159729004,3.0500500202178955,3.0887649059295654,3.0163848400115967,3.031533718109131,3.028167963027954,2.971778392791748,2.7874629497528076,2.811028480529785,2.8446929454803467,2.8017704486846924,2.753797769546509,2.7647383213043213,2.7016167640686035,2.648594617843628,2.6065127849578857,2.6494362354278564,2.6940417289733887,2.6090381145477295,2.5837888717651367,2.6292366981506348,2.6006219387054443,2.5879969596862793,2.5804224014282227,2.604830265045166,2.655327320098877,2.763896942138672,2.858159065246582,2.86489200592041,2.8690993785858154,2.921281099319458,3.002077102661133,2.851426124572754,2.7807297706604004,2.9019227027893066,2.986086130142212,2.996185779571533,3.050891399383545,3.113170623779297,3.0618319511413574,3.1308460235595703,3.0626742839813232,3.1106462478637695,3.0954971313476562,3.0222766399383545,3.0391087532043457,2.991135835647583,2.9835617542266846,3.0062856674194336,3.0525734424591064,3.1813435554504395,3.0786654949188232,2.984403133392334,3.075298309326172,2.9608373641967773,2.9448461532592773,2.8312268257141113,2.828702688217163,2.9625205993652344,2.9355885982513428,2.945688247680664,2.8901405334472656,2.916231155395508,2.8573174476623535,2.8741495609283447,2.7697880268096924,2.770630121231079,2.6603775024414062,2.6544859409332275,2.598097324371338,2.562748908996582,2.5913641452789307,2.5703232288360596,2.5778987407684326,2.598097324371338,2.6528024673461914,2.673001527786255,2.678051710128784,2.7192912101745605,2.8152365684509277,3.140103816986084,3.2419397830963135,3.225949287414551,3.257089853286743,3.29748797416687,3.2436234951019287,3.2267909049987793,3.2208993434906006,3.2032253742218018,3.2562479972839355,3.2082746028900146,3.2065911293029785,3.2065911293029785,3.2242660522460938,3.258772134780884,3.294121503829956,3.3286280632019043,3.3925907611846924,3.550816297531128,3.5398757457733154,3.5827982425689697,3.62740421295166,3.5255680084228516,3.513784646987915,3.4052164554595947,3.4068987369537354,3.382490873336792,3.4111061096191406,3.419522285461426,3.509577512741089,3.4632887840270996,3.4094223976135254,3.4540297985076904,3.3631341457366943,3.370708703994751,3.3866994380950928,3.369025230407715,3.4489805698394775,3.3917484283447266,3.4506640434265137,3.4329888820648193,3.3614501953125,3.2612977027893066,3.2192158699035645,3.2655062675476074,3.292437791824341,3.4035327434539795,3.3488266468048096,3.374917507171631,3.459078788757324,3.4843287467956543,3.7873122692108154,3.8243448734283447,3.8024635314941406,3.9396469593048096,3.9455387592315674,3.9009323120117188,3.9556384086608887,3.9556384086608887,3.967421531677246,3.910191059112549,4.043167591094971,4.096189498901367,4.123121738433838,4.121439456939697,4.0953474044799805,3.9539551734924316,3.964895248413086,3.9438557624816895,3.9219727516174316,3.9371228218078613,3.9615297317504883,3.9994029998779297,3.954796314239502,3.935439109802246,3.9388058185577393,3.9876201152801514,3.9850950241088867,3.9724717140197754,4.0061354637146,4.0414838790893555,4.0372772216796875,3.9909863471984863,4.058315753936768,3.9951956272125244,4.002769947052002,3.9059832096099854,3.7797389030456543,3.698942184448242,3.6560182571411133,3.728398561477661,3.753648519515991,3.8192954063415527,3.784789562225342,3.6467623710632324,3.6391866207122803,3.5390331745147705,3.6585445404052734,3.6678013801574707,3.5499744415283203,3.613938808441162,3.697258710861206,3.6551780700683594,3.4481379985809326,3.5078935623168945,3.47170352935791,3.446455240249634,3.4843287467956543,3.374917507171631,3.325261116027832,3.398482322692871,3.47170352935791,3.318528890609741,3.1914422512054443,3.087080717086792,3.2335240840911865,3.098022937774658,3.1704020500183105,3.1249539852142334,3.0954971313476562,3.1257965564727783,3.295804262161255,3.5348262786865234,3.34714412689209,3.268871784210205,3.3000125885009766,3.204908609390259,3.114854335784912,3.1409449577331543,3.106438636779785,3.3109536170959473,3.2772879600524902,3.1704020500183105,3.319369077682495,3.4439303874969482,3.271397113800049,3.187234401702881,3.2890708446502686,3.3892250061035156,3.4388809204101562,3.4380385875701904,3.553341865539551,3.5020029544830322,3.4060566425323486,3.6114144325256348,3.7376575469970703,3.728398561477661,3.7620649337768555,3.732607126235962,3.6854770183563232,3.7502810955047607,3.9093494415283203,3.880733013153076,3.8975653648376465,3.9556384086608887,3.804987907409668,3.7393407821655273,3.624879837036133,3.6703269481658936,3.6728522777557373,3.5541818141937256,3.523043155670166,3.5827982425689697,3.628246545791626,3.669485569000244,3.6762187480926514,3.6408708095550537,3.7183005809783936,3.674534559249878,3.67706036567688,3.7662711143493652,3.8378114700317383,3.979203462600708,4.035592555999756,3.97078800201416,4.010343551635742,4.052425861358643,4.0372772216796875,4.0709404945373535,4.111338138580322,3.9665777683258057,4.038117408752441,4.060841083526611,3.973311424255371,3.925340414047241,3.8950421810150146,3.880733013153076,3.982569694519043,4.038117408752441,4.0591583251953125,4.006977081298828,4.044008731842041,4.03895902633667,4.128171443939209,4.230849742889404,4.352884769439697,4.3562517166137695,4.30491304397583,4.290605068206787,4.315013408660889,4.313329219818115,4.384026050567627,4.283871173858643,4.181193828582764,4.339419364929199,4.346152305603027,4.283030033111572,4.297337532043457,4.215700149536133,4.233375072479248,4.504377365112305,4.482496738433838,4.463979721069336,4.483336925506592,4.3756103515625,4.400858402252197,4.400858402252197,4.469029426574707,4.437889099121094,4.399174213409424,4.3545684814453125,4.3057541847229,4.460611820220947,4.657553672790527,4.767805576324463,4.629779815673828,4.578441143035889,4.645771503448486,4.71730899810791,4.67775297164917,4.735825061798096,4.776223659515381,4.836820602416992,4.814095973968506,4.863752365112305,4.816620349884033,4.746764659881592,4.736667156219482,4.796421527862549,4.76359748840332,4.6676530838012695,4.633145332336426,4.642404556274414,4.670178413391113,4.649978160858154,4.630621910095215,4.688694000244141,4.695426940917969,4.638195991516113,4.620522499084473,4.6634440422058105,4.670178413391113,4.586857318878174,4.742557048797607,4.766965389251709,4.883109092712402,4.851126670837402,4.855335235595703,4.844395160675049,4.784639358520508,4.715625762939453,4.633145332336426,4.622204303741455,4.692902565002441,4.516160488128662,4.397491931915283,4.46734619140625,4.438730716705322,4.4968037605285645,4.531309604644775,4.536358833312988,4.460611820220947,4.438730716705322,4.520369052886963,4.481653213500977,4.505218505859375,4.463979721069336,4.512792587280273,4.538041114807129,4.522052764892578,4.522892951965332,4.537199974060059,4.6558709144592285,4.570865631103516,4.530467987060547,4.492595195770264,4.388233184814453,4.408432960510254,4.390758991241455,4.316694736480713,4.303228378295898,4.35877799987793,4.359618663787842,4.524576663970947,4.561608791351318,4.614630699157715,4.538041114807129,4.483336925506592,4.558242321014404,4.4984869956970215,4.580122947692871,4.654186725616455,4.650819301605225,4.598639965057373,4.6003241539001465,4.7080512046813965,5.245008945465088,5.487396240234375,5.457098007202148,5.482346534729004,5.542942047119141,5.586708068847656,5.551360130310059,5.608590602874756,5.571558475494385,5.733149528503418,5.780281066894531,5.707901477813721,5.6877031326293945,5.6944355964660645,5.714634895324707,5.642255783081055,5.5597758293151855,5.7314677238464355,5.882960319519043,5.7482991218566895,5.692752361297607,5.7281012535095215,5.657405376434326,5.583340644836426,5.638889312744141,5.689385890960693,5.654037952423096,5.596807479858398,5.606906414031982,5.632155895233154,5.638889312744141,5.541260242462158,5.494129657745361,5.551360130310059,5.76849889755249,5.933459281921387,5.992371559143066,5.990687847137451,6.244858741760254,6.342487335205078,6.034451484680176,5.926725387573242,6.024352073669434,6.063067436218262,6.130397796630859,6.224659442901611,6.342487335205078,6.440114974975586,6.419918060302734,6.295356273651123,6.130397796630859,6.273473739624023,6.21287727355957,6.120297431945801,6.231393814086914,6.271790027618408,6.600025177001953,6.763299465179443,6.741417407989502,6.667353630065918,6.741417407989502,6.743099689483643,6.729633331298828,6.650522232055664,6.796964645385742,6.7195353507995605,6.581509113311768,6.766666412353516,6.808747291564941,6.987171173095703,6.9939045906066895,7.280057430267334,7.09153413772583,7.02756929397583,7.140349388122559,7.069652557373047,7.0814337730407715,7.0040059089660645,7.086483955383301,7.014103889465332,7.0578694343566895,6.916474342346191,7.0040059089660645,7.071333885192871,6.91142463684082,6.800332069396973,6.854194164276123,6.7919158935546875,6.749835014343262,6.987171173095703,6.657256126403809,6.833996772766113,7.197578430175781,7.4130353927612305,6.892910480499268,6.712800979614258,6.849146366119385,6.7447829246521,6.65557336807251,6.561310291290283,6.7161688804626465,7.015787124633789,7.231243133544922,7.308672904968262,7.98702335357666,8.320306777954102,8.199111938476562,7.813647747039795,8.3556547164917,8.219311714172363,8.439817428588867,8.606456756591797,8.36070442199707,8.424666404724121,8.114950180053711,8.21594524383545,8.446551322937012,8.475165367126465,8.384270668029785,8.72933578491211,8.651907920837402,8.788249015808105,8.990239143371582,9.172032356262207,9.305010795593262,9.454816818237305,9.59957504272461,9.894143104553223,9.559178352355957,9.485114097595215,9.451449394226074,9.69552230834961,9.528881072998047,9.195596694946289,9.547398567199707,9.535611152648926,9.882362365722656,9.926126480102539,9.602943420410156,9.661857604980469,9.766218185424805,9.783047676086426,9.8486967086792,9.828498840332031,9.550762176513672,9.554129600524902,10.107918739318848,9.784735679626465,9.528881072998047,9.668588638305664,9.80829906463623,9.678689002990723,9.968207359313965,9.737603187561035,9.515414237976074,9.591160774230957,9.878996849060059,9.496895790100098,9.392536163330078,8.884195327758789,8.75290298461914,9.161932945251465,9.067669868469238,9.414420127868652,9.2578763961792,8.91954517364502,8.586258888244629,8.301791191101074,8.441500663757324,8.665372848510742,8.944792747497559,9.387487411499023,9.40263557434082,9.670273780822754,9.69552230834961,9.629875183105469,9.746018409729004,10.040587425231934,10.230796813964844,10.099503517150879,9.783047676086426,9.86721134185791,9.687104225158691,9.798200607299805,9.788101196289062,10.261091232299805,10.262778282165527,10.452983856201172,10.343572616577148,10.654974937438965,10.584278106689453,10.469817161560059,10.486649513244629,10.454666137695312,10.149999618530273,10.11801815032959,9.601262092590332,9.513729095458984,9.443035125732422,9.276391983032227,8.798348426818848,8.773099899291992,9.040738105773926,8.552593231201172,8.63675594329834,8.369121551513672,8.301791191101074,8.495366096496582,8.761317253112793,8.823598861694336,8.348920822143555,8.508827209472656,8.36070442199707,8.261393547058105,8.678838729858398,8.840431213378906,8.75290298461914,8.30852222442627,8.295058250427246,8.276541709899902,8.456648826599121,8.456648826599121,8.264758110046387,7.965139389038086,7.702554225921631,8.017321586608887,7.887711524963379,7.699187755584717,7.741267204284668,7.788398265838623,7.753049373626709,7.929790496826172,7.980289936065674,7.584726333618164,7.130248069763184,7.194211483001709,7.338971138000488,7.613340377807617,7.2985711097717285,7.184110164642334,7.293524742126465,7.889392852783203,7.785031795501709,7.939890384674072,8.256342887878418,7.911276817321777,8.172178268432617,7.907910346984863,8.446551322937012,9.087867736816406,9.064301490783691,8.91786003112793,9.089550971984863,8.734384536743164,8.704087257385254,9.370652198791504,9.370652198791504,9.493529319763184,9.496895790100098,9.436299324035645,9.316790580749512,9.037370681762695,9.2898588180542,9.180447578430176,9.239361763000488,9.400952339172363,9.537299156188965,9.601262092590332,9.533930778503418,9.353822708129883,9.232629776000977,9.29322338104248,9.421152114868164,9.456498146057129,9.278075218200684,9.195596694946289,9.26461124420166,9.49184799194336,9.087867736816406,8.879146575927734,9.072717666625977,8.783201217651367,8.594675064086914,8.623290061950684,9.106382369995117,9.190546035766602,9.252827644348145,9.333623886108398,9.067669868469238,8.786565780639648,8.682206153869629,8.557645797729492,8.222676277160645,8.310208320617676,8.332088470458984,8.465066909790039,8.279909133911133,8.348920822143555,8.274859428405762,8.151979446411133,7.975240230560303,8.005539894104004,7.574624538421631,7.714336395263672,7.512347221374512,7.1554951667785645,7.224510669708252,7.492146968841553,8.069499969482422,7.887711524963379,7.852363109588623,8.069499969482422,7.645323753356934,7.699187755584717,7.6419572830200195,7.746318340301514,7.3271870613098145,7.209361553192139,6.800332069396973,6.8592448234558105,6.802012920379639,6.527644157409668,6.625274658203125,6.852511405944824,6.628639221191406,6.551209449768066,6.611806392669678,6.778450012207031,6.936673164367676,7.195894718170166,7.293524742126465,7.616705417633057,7.24639368057251,7.312036514282227,7.445016384124756,7.163912773132324,6.992222785949707,6.830628871917725,6.985489368438721,6.90469217300415,6.818844795227051,6.704387664794922,6.637057781219482,7.221145153045654,7.200944900512695,6.9720234870910645,7.443333625793457,7.704237461090088,7.599876403808594,7.441650867462158,7.478681564331055,7.273326396942139,7.436601161956787,7.4130353927612305,7.32550573348999,7.318772792816162,7.433233737945557,7.281741619110107,7.256493091583252,7.25480842590332,7.421451091766357,7.384418487548828,7.6385908126831055,7.389468193054199,7.394517421722412,7.344021320343018,7.453432559967041,7.330556392669678,7.197578430175781,7.187478542327881,6.936673164367676,6.547844409942627,6.746469497680664,6.329021453857422,6.478830337524414,6.345853805541992,6.106833457946777,5.881277084350586,5.824046611785889,6.066434860229492,6.086634159088135,5.756715774536133,5.758399486541748,6.066434860229492,6.027718544006348,5.938507080078125,5.741567134857178,5.175993919372559,5.085099220275879,4.896574974060059,4.898258686065674,5.642255783081055,5.110346794128418,4.6676530838012695,5.186094284057617,5.359468936920166,5.586708068847656,5.127181053161621,4.751816272735596,4.556558609008789,4.331002712249756,4.24347448348999,4.866275787353516,4.953805446624756,4.953805446624756,4.610424041748047,4.5397257804870605,4.671019554138184,4.255257606506348,4.007818698883057,4.224959373474121,4.1205973625183105,3.9404892921447754,3.70988392829895,4.179510593414307,3.9186062812805176,3.8293943405151367,3.7384984493255615,3.4607622623443604,2.945688247680664,3.0264840126037598,3.4018490314483643,3.479278087615967,3.703151226043701,3.6779022216796875,3.257089853286743,3.1998589038848877,3.172926902770996,3.396798610687256,3.580273389816284,4.208125591278076,3.910191059112549,4.054949760437012,3.844543218612671,4.06168270111084,3.8916749954223633,4.324270725250244,4.320903778076172,4.105448246002197,4.140795707702637,3.8950421810150146,3.7334492206573486,3.9236559867858887,3.8950421810150146,3.6947340965270996,3.7267162799835205,3.6459197998046875,3.903456687927246,4.011186122894287,3.9590046405792236,3.8058290481567383,4.3057541847229,4.398333549499512,4.287239074707031,4.147529125213623,3.9438557624816895,4.011186122894287,4.154261112213135,3.879892349243164,4.112179756164551,4.0953474044799805,4.34446907043457,4.470711708068848,4.438730716705322,4.736667156219482,4.4303131103515625,4.171093940734863,4.285555362701416,4.312487602233887,4.374768257141113,4.563292503356934,4.714783191680908,4.615472316741943,4.527942657470703,4.462296009063721,4.543092250823975,4.418531894683838,4.211493492126465,4.186243057250977,4.482496738433838,4.49091100692749,4.413482666015625,4.605373382568359,4.765282154083252,4.544775485992432,4.531309604644775,4.391600608825684,4.373084545135498,4.595273017883301,3.9489047527313232,3.7671146392822266,3.8546433448791504,4.24347448348999,4.251891136169434,4.275455951690674,4.319220066070557,4.1088128089904785,4.199709415435791,4.179510593414307,4.278822898864746,4.182877540588379,4.4808125495910645,4.553191184997559,4.517844200134277,4.411799430847168,4.684486389160156,4.556558609008789,4.71646785736084,4.746764659881592,5.06658411026001,5.012719631195068,4.817462921142578,4.923505783081055,5.106980323791504,5.457098007202148,5.435215473175049,5.300555229187012,5.369567394256592,4.999253749847412,4.852810382843018,4.780430793762207,5.016085147857666,5.026185035705566,5.133913040161133,5.270256519317627,5.130545616149902,4.994204521179199,5.064899444580078,5.07668399810791,4.938655376434326,4.938655376434326,4.896574974060059,4.630621910095215,4.529626846313477,4.398333549499512,4.487545967102051,4.418531894683838,4.319220066070557,4.371401309967041,4.455564498901367,4.423582553863525,4.346152305603027,4.455564498901367,3.7671146392822266,3.7957301139831543,3.9320731163024902,3.704833984375,3.960688352584839,4.199709415435791,4.342785835266113,4.093664169311523,4.068414688110352,4.115546703338623,4.021284103393555,4.0953474044799805,4.208125591278076,4.199709415435791,4.142478942871094,4.060000419616699,3.9842541217803955,3.8697924613952637,3.9118728637695312,3.8378114700317383,3.863060235977173,3.6964170932769775,3.6795852184295654,3.674534559249878,3.7384984493255615,3.731766700744629,3.731766700744629,3.704833984375,3.78057861328125,3.5466082096099854,3.541559934616089,3.4439303874969482,3.5247268676757812,3.482645273208618,3.4405641555786133,3.5398757457733154,3.6408708095550537,3.64255428314209,3.728398561477661,3.6964170932769775,3.7603819370269775,3.8580098152160645,3.9758379459381104,4.022968769073486,4.065048694610596,3.960688352584839,3.8378114700317383,3.681267261505127,3.615621566772461,3.6846344470977783,3.847909450531006,4.110496997833252,4.065048694610596,4.127330303192139,4.235058307647705,4.066732406616211,4.157628536224365,4.315854072570801,4.431998252868652,4.450512886047363,4.223275661468506,4.130696773529053,4.238424301147461,3.9404892921447754,3.893357515335083,3.7974109649658203,3.7755308151245117,3.7974109649658203,3.8748414516448975,3.9505882263183594,4.0061354637146,3.925340414047241,3.9489047527313232,4.0313849449157715,4.049899578094482,4.196342945098877,4.216541767120361,4.211493492126465,4.157628536224365,4.307438850402832,4.265356540679932,4.346152305603027,4.342785835266113,4.509427547454834,4.423582553863525,4.416848659515381,4.487545967102051,4.41516637802124,4.38318395614624,4.411799430847168,4.509427547454834,4.455564498901367,4.379817485809326,4.322587966918945,4.381500720977783,4.4808125495910645,4.416848659515381,4.607056140899658,4.538041114807129,4.521210670471191,4.602006435394287,4.740033149719238,4.686168193817139,4.6676530838012695,4.740033149719238,4.3175368309021,4.265356540679932,4.248524188995361,4.1694111824035645,4.053265571594238,4.140795707702637,4.078516483306885,4.132379055023193,4.0886149406433105,4.071781635284424,4.036434173583984,3.9960365295410156,4.071781635284424,4.145845890045166,4.292288303375244,4.238424301147461,4.112179756164551,4.144162178039551,3.9876201152801514,4.107131481170654,4.034749984741211,4.054949760437012,4.123962879180908,4.290605068206787,4.319220066070557,4.255257606506348,4.309121131896973,4.261990070343018,4.1088128089904785,4.012868881225586,3.681267261505127,3.5937392711639404,3.5903732776641846,3.6913669109344482,3.5937392711639404,3.504528045654297,3.565124034881592,3.6560182571411133,3.7502810955047607,3.7553303241729736,3.7772133350372314,3.812561273574829,3.7839455604553223,3.8075122833251953,3.7401821613311768,3.704833984375,3.704833984375,3.743548631668091,3.731766700744629,3.731766700744629,3.6930510997772217,3.8546433448791504,3.9590046405792236,4.044849872589111,3.4439303874969482,3.4153144359588623,3.4203648567199707,3.4961113929748535,3.4994776248931885,3.4506640434265137,3.4506640434265137,3.502843141555786,3.452346086502075,3.43719744682312,3.3715498447418213,3.354717493057251,3.305903196334839,3.356400489807129,3.3429348468780518,3.327786684036255,3.354717493057251,3.4052164554595947,3.452346086502075,3.383333206176758,3.3917484283447266,3.314319610595703,3.167877197265625,3.2267909049987793,3.258772134780884,3.2267909049987793,3.1964926719665527,3.245306968688965,3.268871784210205,3.2503557205200195,3.2116408348083496,3.176293134689331,3.1746106147766113,2.9473717212677,2.8951902389526367,2.944004535675049,2.944004535675049,3.00460147857666,2.994502067565918,3.0433170795440674,3.1089632511138916,3.039949417114258,3.076982021331787,3.257089853286743,3.2335240840911865,3.2655062675476074,3.26718807220459,3.3429348468780518,3.5617575645446777,3.553341865539551,3.6358203887939453,3.736816883087158,3.654336452484131,3.66611909866333,3.703151226043701,3.6644351482391357,3.6728522777557373,3.6880013942718506,3.7704803943634033,3.8108789920806885,3.7889962196350098,3.8176109790802,3.8916749954223633,3.9219727516174316,3.9505882263183594,3.982569694519043,4.0313849449157715,4.110496997833252,4.176143646240234,4.2586236000061035,4.275455951690674,4.231691360473633,4.213175296783447,4.245157241821289,4.285555362701416,4.130696773529053,4.160994529724121,4.206442356109619,4.091980934143066,4.231691360473633,4.164361953735352,4.125646114349365,3.9017744064331055,3.800779342651367,3.9219727516174316,3.8613760471343994,3.8950421810150146,3.8176109790802,3.6779022216796875,3.7082011699676514,3.6038379669189453,3.580273389816284,3.4708621501922607,3.585322141647339,3.581956386566162,3.6880013942718506,3.6459197998046875,3.8681092262268066,3.8361282348632812,3.6795852184295654,3.725033760070801,3.8176109790802,3.6644351482391357,3.5583910942077637,3.533142566680908,3.533142566680908,3.573539972305298,3.6459197998046875,3.682950973510742,3.4860117435455322,3.305903196334839,3.258772134780884,3.2335240840911865,3.1746106147766113,3.169560432434082,3.179659843444824,3.092130422592163,3.115696907043457,3.1560940742492676,3.083714485168457,3.162827968597412,3.209959030151367,3.075298309326172,3.0971808433532715,3.1560940742492676,3.172926902770996,3.2032253742218018,3.2520394325256348,3.2840218544006348,3.2840218544006348,3.285705327987671,3.1897594928741455,3.2655062675476074,3.3328359127044678,3.3092706203460693,3.364816665649414,3.4506640434265137,3.5163097381591797,3.4153144359588623,3.3681833744049072,3.3227362632751465,3.374917507171631,3.553341865539551,3.4775948524475098,3.578589916229248,3.5567073822021484,3.529775857925415,3.5280933380126953,3.45571231842041,3.3429348468780518,3.317686080932617,3.294121503829956,3.337885618209839,3.369868040084839,3.4944281578063965,3.2082746028900146,3.1661934852600098,3.1005475521087646,3.087080717086792,3.1005475521087646,3.087080717086792,3.0853981971740723,3.0079684257507324,3.018068313598633,3.076982021331787,3.114013433456421,3.1998589038848877,3.1560940742492676,3.1257965564727783,3.0938141345977783,3.0719316005706787,3.1392621994018555,3.1325297355651855,3.129161834716797,3.2655062675476074,3.26045560836792,3.292437791824341,3.2789714336395264,3.2823374271392822,3.2890708446502686,3.3530349731445312,3.3362016677856445,3.3463008403778076,3.3160037994384766,3.317686080932617,3.3665006160736084,3.347984552383423,3.4068987369537354,3.4018490314483643,3.3530349731445312,3.3799662590026855,3.428781270980835,3.3328359127044678,3.2402560710906982,3.167877197265625,3.083714485168457,3.075298309326172,3.1005475521087646,3.1914422512054443,3.204908609390259,3.220057487487793,3.2368900775909424,3.2655062675476074,3.262138605117798,3.26718807220459,3.307586431503296,3.2503557205200195,3.295804262161255,3.290754556655884,3.3580844402313232,3.364816665649414,3.45571231842041,3.398482322692871,3.3900654315948486,3.5516586303710938,3.506211042404175,3.487694501876831,3.509577512741089,3.5348262786865234,3.4338295459747314,3.3866994380950928,3.430464029312134,3.4018490314483643,3.425414800643921,3.4506640434265137,3.3866994380950928,3.3530349731445312,3.4119482040405273,3.5600740909576416,3.5903732776641846,3.576906681060791,3.608888626098633,3.5886900424957275,3.64255428314209,3.743548631668091,3.689685106277466,3.659386396408081,3.6290881633758545,3.654336452484131,3.6476032733917236,3.578589916229248,3.64255428314209,3.6526522636413574,3.7401821613311768,3.7452316284179688,3.790679931640625,3.7889962196350098,3.863060235977173,3.8512771129608154,3.856325387954712,3.7873122692108154,3.6846344470977783,3.4725451469421387,3.4961113929748535,3.4843287467956543,3.398482322692871,3.479278087615967,3.467496156692505,3.428781270980835,3.428781270980835,3.4439303874969482,3.536508321762085,3.5179929733276367,3.5499744415283203,3.5449252128601074,3.541559934616089,3.5466082096099854,3.5314595699310303,3.5466082096099854,3.459078788757324,3.3362016677856445,3.2823374271392822,3.374917507171631,3.3900654315948486,3.369868040084839,3.3160037994384766,3.428781270980835,3.4136312007904053,3.344618320465088,3.373234748840332,3.4119482040405273,3.3850162029266357,3.3580844402313232,3.3126373291015625,3.3126373291015625,3.2840218544006348,3.3412528038024902,3.3580844402313232,3.319369077682495,3.3160037994384766,3.3883821964263916,3.374917507171631,3.317686080932617,3.3362016677856445,3.3261029720306396,3.295804262161255,3.327786684036255,3.3362016677856445,3.45571231842041,3.4573965072631836,3.5314595699310303,3.5280933380126953,3.5668082237243652,3.5381927490234375,3.553341865539551,3.6577038764953613,3.6560182571411133,3.698101043701172,3.7570137977600098,3.8091952800750732,3.790679931640625,3.8580098152160645,3.79909610748291,3.969104766845703,4.022968769073486,4.044849872589111,4.007818698883057,3.9977195262908936,4.0061354637146,4.268722057342529,4.277139186859131,4.443780422210693,4.400017738342285,4.470711708068848,4.435365200042725,4.46734619140625,4.458930015563965,4.425265789031982,4.413482666015625,4.410115718841553,4.322587966918945,4.339419364929199,4.352884769439697,4.322587966918945,4.3545684814453125,4.285555362701416,4.288922309875488,4.339419364929199,4.342785835266113,4.364667892456055,4.497643947601318,4.457247257232666,4.435365200042725,4.49091100692749,4.598639965057373,4.692902565002441,4.6558709144592285,4.649137496948242,4.671019554138184,4.671019554138184,4.748447895050049,4.709734916687012,4.623889446258545,4.588540554046631,4.499329090118408,4.472396373748779,4.406749248504639,4.42189884185791,4.460611820220947,4.420215606689453,4.418531894683838,4.448829650878906,4.396650314331055,4.410115718841553,4.450512886047363,4.511110305786133,4.630621910095215,4.46734619140625,4.420215606689453,4.396650314331055,4.3411030769348145,4.435365200042725,4.374768257141113,4.489229202270508,4.532992362976074,4.612105369567871,4.596957683563232,4.581806659698486,4.519527912139893,4.368035316467285,4.176143646240234,4.078516483306885,4.011186122894287,3.97078800201416,3.942172050476074,3.9909863471984863,3.9186062812805176,3.925340414047241,3.9505882263183594,3.9775209426879883,3.9994029998779297,3.9556384086608887,3.9657368659973145,3.969104766845703,3.8899917602539062,3.856325387954712,3.8462274074554443,3.682950973510742,3.725033760070801,3.4607622623443604,3.595423460006714,3.4573965072631836,3.608888626098633,3.487694501876831,3.52640962600708,3.6004724502563477,3.4439303874969482,3.6072046756744385,3.630772113800049,3.637505292892456,3.800779342651367,3.930391550064087,3.7873122692108154,3.834444999694824,3.888308048248291,3.9320731163024902,4.028017997741699,3.8782081604003906,3.728398561477661,3.839493751525879,3.908507823944092,3.856325387954712,3.893357515335083,3.908507823944092,3.9000906944274902,4.024651050567627,4.147529125213623,4.189609050750732,4.078516483306885,4.036434173583984,3.9455387592315674,3.8058290481567383,3.7889962196350098,3.9741547107696533,4.019602298736572,3.9590046405792236,4.038117408752441,3.888308048248291,3.8664262294769287,4.004453182220459,4.017918586730957,4.049899578094482,4.0953474044799805,4.137429714202881,4.194660186767578,4.3175368309021,4.245157241821289,4.235058307647705,4.080199241638184,4.204760551452637,4.186243057250977,4.218225002288818,4.214859962463379,4.3057541847229,4.309121131896973,4.214859962463379,4.361301422119141,4.410115718841553,4.304071426391602,4.214859962463379,4.224959373474121,4.347835063934326,4.324270725250244,4.283871173858643,4.315854072570801,4.194660186767578,4.140795707702637,4.236741065979004,4.147529125213623,3.9657368659973145,3.790679931640625,3.6913669109344482,3.78057861328125,3.8243448734283447,3.7755308151245117,3.7216668128967285,3.620671033859253,3.7637481689453125,3.8293943405151367,3.8916749954223633,3.9320731163024902,3.908507823944092,3.985936164855957,3.9287068843841553,3.9876201152801514,3.967421531677246,4.0734663009643555,4.159311294555664,4.051583290100098,3.9539551734924316,3.9893038272857666,3.9287068843841553,3.815927505493164,3.9505882263183594,3.962372064590454,4.004453182220459,4.026334285736084,4.026334285736084,4.051583290100098,4.098715305328369,4.06168270111084,4.004453182220459,4.06168270111084,4.251891136169434,4.186243057250977,4.038117408752441,4.078516483306885,4.103764057159424,4.070098876953125,3.957321882247925,3.910191059112549,4.043167591094971,4.181193828582764,4.132379055023193,4.167728900909424,4.166044235229492,4.208125591278076,4.157628536224365,4.093664169311523,3.9960365295410156,3.9320731163024902,3.9236559867858887,3.916923761367798,3.979203462600708,3.9404892921447754,3.9943532943725586,4.122280597686768,4.053265571594238,3.8512771129608154,3.8613760471343994,3.8681092262268066,3.839493751525879,3.9038803577423096,3.927602529525757,3.947934627532959,3.8920204639434814,3.946242094039917,3.85135555267334,3.8971033096313477,3.9530203342437744,3.8598275184631348,4.039432525634766,4.044515609741211,4.093652725219727,4.030961036682129,4.0495991706848145,4.1021246910095215,4.0495991706848145,4.027571678161621,4.030961036682129,3.981823205947876,4.034348964691162,3.99198842048645,4.058071136474609,4.068236827850342,4.1800665855407715,3.9242146015167236,4.0021562576293945,4.032654285430908,4.025877475738525,3.980128765106201,3.827634334564209,3.7005538940429688,3.8056044578552246,3.7344417572021484,3.719191789627075,3.6819164752960205,3.7022483348846436,3.629389762878418,3.603973388671875,3.653111219406128,3.5971953868865967,3.6768312454223633,3.7530789375305176,3.7768008708953857,3.7768008708953857,3.792051315307617,3.790355920791626,3.775106430053711,3.8259389400482178,3.8259389400482178,3.842881917953491,3.8564376831054688,3.8733811378479004,3.8581321239471436,3.8089938163757324,3.6988584995269775,3.5734739303588867,3.5768635272979736,3.5429749488830566,3.570085287094116,3.444701671600342,3.5378921031951904,3.493837833404541,3.531114339828491,3.1380152702331543,3.2312076091766357,3.215956926345825,3.226123809814453,3.232900619506836,3.2738895416259766,3.33366322517395,3.3661112785339355,3.3575727939605713,3.2755978107452393,3.2790122032165527,3.2790122032165527,3.3370778560638428,3.3046302795410156,3.2106990814208984,3.2499794960021973,3.1218934059143066,3.171420097351074,3.092859983444214,3.029670476913452,3.045041084289551,3.111645460128784,3.137263774871826,3.0979838371276855,2.9989302158355713,3.021132230758667,2.9357411861419678,2.985267162322998,3.0433332920074463,3.041625499725342,3.1355555057525635,3.0706582069396973,3.137263774871826,3.120185136795044,3.0962750911712646,2.9920990467071533,2.9972214698791504,2.939155340194702,2.920370101928711,2.8742594718933105,2.8298556804656982,2.858888864517212,2.886213541030884,2.869135618209839,2.7837445735931396,2.7564196586608887,2.686399221420288,2.6932308673858643,2.727386713027954,2.7564196586608887,2.7359259128570557,2.7359259128570557,2.7444651126861572,2.689815044403076,2.7154319286346436,2.734218120574951,2.8708443641662598,2.8571813106536865,2.8742594718933105,3.029670476913452,3.0552878379821777,2.951111316680908,2.9118313789367676,3.0706582069396973,3.171420097351074,3.3285391330718994,3.3285391330718994,3.2089920043945312,3.227778196334839,3.187972068786621,3.141242504119873,3.139511823654175,3.220855474472046,3.316044807434082,3.3021979331970215,3.532383918762207,3.556612968444824,3.6448776721954346,3.7487220764160156,3.736607313156128,3.7677602767944336,3.819681167602539,3.873332977294922,4.006597995758057,3.8577566146850586,3.8819870948791504,3.9512150287628174,3.935638427734375,3.859487771987915,3.830066204071045,3.61372709274292,3.655264377593994,3.6206493377685547,3.634495735168457,3.676032304763794,3.691608428955078,3.6864168643951416,3.8716025352478027,3.9944839477539062,4.0239057540893555,4.151978015899658,3.973714590072632,3.956409215927124,3.9408323764801025,3.942561626434326,3.97198486328125,3.9702529907226562,4.056789875030518,4.001406669616699,4.015251636505127,3.997943639755249,4.029098033905029,4.10524845123291,3.980637788772583,3.9512150287628174,4.084480285644531,4.120825290679932,4.10524845123291,4.139862537384033,4.049866199493408,3.8975629806518555,3.8266043663024902,3.996213912963867,4.025636196136475,4.063711643218994,4.240244388580322,4.421969413757324,4.486006259918213,4.58119535446167,4.686767578125,4.685037136077881,4.685037136077881,4.660581111907959,4.618657112121582,4.578479766845703,4.585467338562012,4.512099742889404,4.520834445953369,4.536556243896484,4.653594017028809,4.768885135650635,4.793342113494873,4.8405070304870605,4.8614678382873535,4.823039531707764,4.805570125579834,4.80731725692749,4.842254161834717,4.812557220458984,4.564505100250244,4.466681003570557,4.468427658081055,4.347896099090576,4.309466361999512,4.285009860992432,4.382833480834961,4.48240327835083,4.255313396453857,4.332174301147461,4.3234405517578125,4.05093240737915,3.949615716934204,3.9810593128204346,4.061413764953613,4.019490718841553,4.0456929206848145,4.029971599578857,4.103338241577148,4.066654205322266,4.073641300201416,4.043945789337158,4.099844455718994,4.141768455505371,4.153998374938965,4.195920944213867,4.129540920257568,4.052679061889648,4.31295919418335,4.410782814025879,4.683289527893066,4.402047634124756,4.438731670379639,4.552277565002441,4.576733112335205,4.515594482421875,4.547036170959473,4.4981255531311035,4.431744575500488,4.4544548988342285,4.424757957458496,4.319947242736816,4.335668563842773,4.298985004425049,4.330428123474121,4.409035682678223,4.377592086791992,4.247774124145508,4.157698154449463,4.291931629180908,4.31135892868042,4.334321022033691,4.35728120803833,4.461488723754883,4.500345230102539,4.530371189117432,4.487981796264648,4.4950456619262695,4.542736053466797,4.457955837249756,4.4950456619262695,4.457955837249756,4.532137393951416,4.482683181762695,4.655774116516113,4.671670436859131,4.940136432647705,5.256290912628174,5.341070175170898,5.342835426330566,5.279251575469971,5.2916154861450195,5.344602108001709,5.277484893798828,5.282783508300781,5.595405578613281,5.655457019805908,5.542419910430908,5.704912185668945,5.787924289703369,5.772027969360352,5.78085994720459,5.743769645690918,5.862105846405029,6.0457940101623535,6.047560214996338,6.114676475524902,6.105845928192139,6.1641316413879395,6.1358723640441895,6.413170337677002,6.561532974243164,6.568596839904785,6.586258888244629,6.5597662925720215,6.5509352684021,6.778778076171875,6.759350776672363,6.824699401855469,6.88651704788208,6.720491409301758,7.022517681121826,6.8458943367004395,6.496181488037109,6.4025726318359375,6.360182285308838,5.671353340148926,5.602470397949219,5.620133876800537,5.9168596267700195,5.905283451080322,6.1261091232299805,6.320220947265625,6.208027362823486,6.165286540985107,6.544607639312744,6.231178283691406,6.717349052429199,6.516114711761475,6.683513641357422,6.947077751159668,6.856255531311035,6.849132061004639,6.861599445343018,7.290780544281006,7.262287139892578,7.1055731773376465,7.134067058563232,7.191056728363037,7.27831506729126,7.484893798828125,7.51694917678833,7.509827136993408,7.547223091125488,7.655855178833008,7.591745853424072,7.602429389953613,7.554348945617676,7.586401462554932,7.687911510467529,7.743116855621338,7.807227611541748,7.743116855621338,7.769830703735352,7.739554405212402,7.661197662353516,7.554348945617676,7.700376033782959,7.9087347984313965,8.15627384185791,8.083258628845215,8.353947639465332,8.73682975769043,8.900665283203125,8.973681449890137,8.955870628356934,8.72436237335205,8.526689529418945,8.635320663452148,8.720803260803223,8.811624526977539,8.768881797790527,8.670938491821289,8.492851257324219,8.473264694213867,8.494632720947266,8.590799331665039,8.480384826660156,9.244369506835938,9.19272518157959,9.328068733215332,8.792036056518555,8.886420249938965,9.071757316589355,8.991174697875977,8.948200225830078,8.889104843139648,9.168457984924316,8.883732795715332,8.971476554870605,9.01445484161377,8.87477970123291,8.855081558227539,9.392293930053711,9.333203315734863,9.422735214233398,9.200690269470215,9.283061981201172,8.851500511169434,8.919547080993652,9.141597747802734,9.096827507019043,9.030570983886719,8.890896797180176,8.890896797180176,9.170248031616211,9.010871887207031,8.92133903503418,9.078922271728516,8.8783597946167,8.831802368164062,8.957151412963867,9.292014122009277,9.23292350769043,9.272317886352539,9.18636417388916,9.250829696655273,9.431692123413086,9.648369789123535,9.78625202178955,9.805951118469238,9.754020690917969,9.813112258911133,9.827441215515137,9.74327564239502,9.929511070251465,9.888324737548828,9.816694259643555,9.857882499694824,9.902649879455566,10.128278732299805,10.03695297241211,9.637624740600586,9.934881210327148,9.916975975036621,10.199906349182129,10.312721252441406,10.284074783325195,10.122906684875488,9.85608959197998,9.524808883666992,9.39050579071045,8.738688468933105,8.928502082824707,8.756590843200684,8.641987800598145,8.554242134094238,8.6401948928833,8.459197998046875,8.275497436523438,8.243080139160156,8.127819061279297,8.118810653686523,8.2088623046875,8.243080139160156,8.14222526550293,8.214262962341309,8.516827583312988,8.664507865905762,8.821195602416992,8.992288589477539,8.98148250579834,8.869821548461914,9.098546981811523,9.179590225219727,9.06972885131836,8.831999778747559,8.873422622680664,8.871623039245605,8.941861152648926,8.868019104003906,8.675313949584961,7.949520587921143,8.167438507080078,8.09900188446045,8.198057174682617,8.162035942077637,6.5393548011779785,6.658219814300537,6.798694133758545,6.78068733215332,6.881540298461914,7.068841457366943,6.888743877410889,6.577175140380859,6.721253871917725,6.492528438568115,6.316031455993652,6.359256267547607,6.316031455993652,6.09271240234375,6.114323616027832,6.260201930999756,6.366459846496582,6.3934760093688965,6.5591654777526855,6.438499927520752,6.575374126434326,6.458310127258301,6.413286209106445,6.5087361335754395,6.411484718322754,6.418688774108887,6.404280185699463,6.492528438568115,6.928366184234619,6.856325626373291,6.708646774291992,6.71945333480835,6.697839260101318,6.726655006408691,6.978794097900391,6.967988014221191,6.937370300292969,6.9355692863464355,6.931967258453369,6.933767795562744,6.743030071258545,7.08090877532959,7.220783233642578,6.973732948303223,6.832040309906006,6.982813358306885,6.8701887130737305,6.922868251800537,6.864741325378418,7.066378116607666,6.7811784744262695,7.378823280334473,7.4660186767578125,7.734866619110107,7.878376007080078,8.063660621643066,7.782097339630127,7.905621528625488,7.945586681365967,7.84385871887207,7.485999584197998,7.360657691955566,7.478733062744141,7.529596328735352,7.400623321533203,7.533228397369385,7.442402362823486,7.678552150726318,7.249847888946533,7.304342269897461,7.151756286621094,7.3279595375061035,7.329777240753174,7.208067417144775,7.131772994995117,7.251665115356445,6.930136680603027,6.841125011444092,6.510512828826904,6.543211460113525,6.6413044929504395,6.688534259796143,6.87563943862915,6.623138427734375,6.51596212387085,6.5795440673828125,6.717598915100098,6.61768913269043,6.710331916809082,6.699432849884033,6.980998516082764,6.773910999298096,6.941034317016602,6.933767795562744,6.87563943862915,6.699715614318848,6.701548099517822,6.8279924392700195,6.723537921905518,6.831657409667969,6.692386627197266,6.833490371704102,6.915954113006592,6.65207052230835,6.778514862060547,6.912290096282959,7.383248329162598,7.330105781555176,7.322775840759277,7.350263595581055,7.403406143188477,7.374085903167725,7.368586540222168,7.434558868408203,7.394244194030762,7.416234970092773,7.421732425689697,7.489535808563232,7.652631759643555,7.621476650238037,7.630638599395752,7.658127784729004,7.656293869018555,7.557338714599609,7.656293869018555,7.517022609710693,7.612314701080322,7.559173107147217,7.848711967468262,7.852375030517578,8.079609870910645,8.195058822631836,8.44794750213623,8.370981216430664,8.444284439086914,7.958662986755371,7.905519485473633,7.6911139488220215,7.553675174713135,7.639801502227783,7.573833465576172,7.604984760284424,7.489535808563232,7.458384037017822,7.630638599395752,7.500531196594238,7.575664520263672,7.665457725524902,7.264134883880615,7.449219226837158,7.491367816925049,7.573833465576172,7.419900417327881,7.861539363861084,7.771743297576904,7.83771276473999,7.87803316116333,7.91101598739624,7.792830467224121,8.079062461853027,8.038434028625488,8.2064790725708,8.354208946228027,8.176932334899902,7.970108985900879,7.966415882110596,8.117839813232422,8.053207397460938,8.034740447998047,8.282190322875977,8.128921508789062,8.16769790649414,8.010734558105469,8.010734558105469,7.826070785522461,7.971953868865967,7.766977310180664,7.7632832527160645,7.766977310180664,7.608166694641113,7.456743240356445,7.549074172973633,7.471515655517578,7.3053178787231445,7.203751564025879,7.320091247558594,7.072639465332031,7.074488162994385,6.869509220123291,6.869509220123291,7.102187633514404,7.244379043579102,7.360717296600342,7.508449554443359,7.5176825523376465,7.4973673820495605,7.6192474365234375,7.761438846588135,7.7208123207092285,7.576773643493652,7.669106483459473,7.770671367645264,7.896243095397949,7.887012004852295,7.890703201293945,7.947949409484863,8.260030746459961,8.06797981262207,7.892549991607666,7.848229885101318,8.016275405883789,8.210173606872559,8.199092864990234,8.143692016601562,8.128921508789062,8.053207397460938,8.10122013092041,7.044375896453857,7.0257697105407715,6.95878791809082,6.921576023101807,7.0350751876831055,6.66666841506958,6.6127095222473145,6.811797618865967,6.897388458251953,6.962510108947754,6.547586441040039,6.618291854858398,6.201508522033691,6.30942440032959,6.009862422943115,6.1270833015441895,5.939158916473389,6.082427501678467,6.158713340759277,6.419203281402588,6.348498821258545,6.443390846252441,6.212672710418701,6.261049270629883,6.261049270629883,6.294541358947754,6.288958549499512,6.288958549499512,6.460137367248535,6.268489837646484,6.195926189422607,6.268489837646484,6.0042805671691895,6.283376693725586,6.0973124504089355,6.737372398376465,6.411760330200195,6.763422012329102,6.7113237380981445,6.8545918464660645,6.9066901206970215,6.95878791809082,7.100196361541748,7.122525215148926,6.997862339019775,6.748534679412842,6.558752059936523,6.852732181549072,6.977396011352539,6.815518856048584,6.828543186187744,6.839707374572754,6.9178547859191895,7.077869892120361,6.98111629486084,6.930878162384033,6.949483871459961,6.951344966888428,6.977396011352539,6.982975959777832,6.975533962249756,6.949483871459961,6.910411357879639,6.936460018157959,6.889944553375244,6.878780841827393,7.1950883865356445,7.196949481964111,7.4481353759765625,7.442554473876953,7.472323894500732,7.596988677978516,7.563495635986328,7.345800399780273,7.383015155792236,7.6421332359313965,7.715362071990967,7.6815643310546875,7.720994472503662,7.659031867980957,7.683442115783691,7.762304782867432,7.6815643310546875,7.475020408630371,7.283499240875244,7.202757835388184,7.07695198059082,7.127650737762451,7.093851089477539,7.172715663909912,7.204636573791504,7.131405353546143,7.2684760093688965,7.508819103240967,7.585803508758545,7.589559078216553,7.585803508758545,7.6778082847595215,7.687197685241699,7.4468560218811035,7.5707807540893555,7.5257182121276855,7.555758953094482,7.5707807540893555,7.644011497497559,7.563270568847656,7.583925247192383,7.384892463684082,7.236556529998779,7.3548479080200195,7.533227443695068,7.5144524574279785,7.347337245941162,7.4186882972717285,7.5463714599609375,7.465630054473877,7.332316875457764,7.360482215881348,7.3548479080200195,7.521961212158203,7.555758953094482,7.56890344619751,7.536984920501709,7.655278205871582,7.660909175872803,7.544496059417725,7.411178112030029,7.683442115783691,8.150981903076172,8.162248611450195,8.256133079528809,8.20919132232666,8.265522003173828,8.288053512573242,8.149855613708496,8.1214599609375,8.111994743347168,8.140390396118164,8.132818222045898,8.049521446228027,8.047627449035645,8.146068572998047,8.176358222961426,8.157426834106445,8.308876991271973,8.397852897644043,8.433822631835938,8.265335083007812,8.337274551391602,8.096847534179688,8.132818222045898,8.352418899536133,8.246404647827148,8.390281677246094,8.714003562927246,8.659103393554688,8.878705024719238,8.89006233215332,8.963895797729492,8.846521377563477,8.787833213806152,8.941177368164062,8.835163116455078,8.865453720092773,8.886277198791504,8.935497283935547,8.886277198791504,8.611776351928711,8.579591751098633,8.572020530700684,8.6837158203125,8.738615036010742,8.679927825927734,8.509547233581543,8.62691879272461,8.782155990600586,8.585271835327148,8.551196098327637,8.672353744506836,8.655317306518555,8.636385917663574,8.727254867553711,8.98093318939209,8.88817024230957,8.895743370056152,8.793514251708984,8.562553405761719,8.486830711364746,8.132818222045898,8.308876991271973,8.587165832519531,8.746187210083008,8.043842315673828,8.041948318481445,7.795843601226807,7.915111064910889,7.896178245544434,7.877083778381348,7.980201244354248,7.980201244354248,8.087138175964355,8.16925048828125,8.243724822998047,8.211261749267578,8.398402214050293,8.327747344970703,8.071861267089844,7.96683406829834,7.89617919921875,7.844620227813721,7.867534637451172,7.829341888427734,7.695671081542969,7.72049617767334,7.869444370269775,7.737682342529297,7.9248223304748535,8.11196231842041,8.276188850402832,8.295283317565918,8.398402214050293,8.480515480041504,8.390763282775879,8.31056022644043,8.220809936523438,8.38885498046875,8.490062713623047,8.539711952209473,8.61227798461914,8.791779518127441,8.971281051635742,8.660017013549805,8.530162811279297,8.449960708618164,8.698208808898926,8.728760719299316,8.79750919342041,8.818514823913574,8.927358627319336,8.946455955505371,8.963642120361328,8.940728187561035,8.6886625289917,8.772683143615723,8.512978553771973,8.503429412841797,7.099877834320068,7.273651123046875,7.096059322357178,7.220181941986084,7.34430456161499,7.497072696685791,7.181990623474121,7.2392778396606445,6.996760368347168,6.876455307006836,6.689314365386963,6.695102214813232,6.53495979309082,6.324653148651123,6.424983024597168,6.380606651306152,6.509877681732178,6.259052276611328,6.17608642578125,5.788273334503174,5.840367794036865,5.892462253570557,5.896320819854736,5.604978084564209,5.5490241050720215,5.54709529876709,5.518154621124268,5.54709529876709,5.4737772941589355,5.49307107925415,5.485353946685791,5.49500036239624,5.4101057052612305,5.462199687957764,5.550953388214111,5.4737772941589355,5.489212989807129,5.4737772941589355,5.6686482429504395,5.379234790802002,5.197869300842285,4.93546724319458,4.947044372558594,4.921961784362793,4.860220432281494,4.879514217376709,4.952831745147705,4.835137367248535,5.028079032897949,5.045444011688232,4.960550308227539,5.057021141052246,5.172787666320801,5.001068115234375,5.0493035316467285,5.211374282836914,5.1766462326049805,5.381165027618408,5.232599258422852,5.141915321350098,5.1457743644714355,5.205587387084961,5.402388095855713,5.545165538787842,5.641637802124023,5.439047336578369,5.635848522186279,5.680225849151611,5.767049312591553,5.780554294586182,5.892462253570557,5.946485996246338,5.969638824462891,6.037168502807617,6.311147212982178,6.0945305824279785,5.998907566070557,5.8779144287109375,6.106239318847656,5.940361499786377,6.000859260559082,6.178444862365723,6.006713390350342,6.227232933044434,6.119900226593018,6.016470432281494,6.020373821258545,5.889623641967773,5.926702499389648,5.907186508178711,5.872060298919678,6.149172306060791,6.19796085357666,6.192105293273926,6.115997314453125,6.035985946655273,5.911089897155762,5.872060298919678,5.682764530181885,5.754970550537109,5.83107852935791,5.872060298919678,6.141366004943848,6.1764936447143555,6.20381498336792,6.285777568817139,6.332613468170166,6.4184794425964355,6.30529260635376,6.40091609954834,6.40091609954834,6.5023932456970215,6.514102935791016,6.420431137084961,6.40091609954834,6.3150506019592285,6.108190536499023,5.998907566070557,5.87596321105957,5.872060298919678,5.891574859619141,5.955974578857422,5.698376655578613,5.678861141204834,5.606655597686768,5.663249969482422,5.553966045379639,5.470051288604736,5.571528911590576,5.557868957519531,5.555917263031006,5.600801944732666,5.801806449890137,5.850592613220215,5.620316505432129,5.678861141204834,5.649588584899902,5.637879848480225,5.5871405601501465,5.628658771514893,5.626680850982666,5.581209659576416,5.39141321182251,5.245110988616943,5.14625883102417,5.086947441101074,5.1660284996032715,5.126488208770752,5.16998291015625,5.219409942626953,5.108694553375244,5.140327453613281,5.205569744110107,5.009842395782471,5.041475772857666,5.150212287902832,5.221386909484863,5.254996299743652,5.3498945236206055,5.199639320373535,5.233248233795166,5.205569744110107,5.4111833572387695,5.6247053146362305,5.682039260864258,5.703787326812744,5.6583147048950195,5.5337605476379395,5.968711853027344,5.968711853027344,6.1525774002075195,6.130829334259033,6.0912885665893555,6.105127811431885,6.178278923034668,6.192117691040039,6.162461757659912,6.118967056274414,6.000344276428223,5.780891418457031,5.859972953796387,5.863927364349365,5.939055442810059,5.889628887176514,5.857996463775635,5.960803031921387,6.150600433349609,6.1980485916137695,6.273176670074463,6.162461757659912,6.093265533447266,6.162461757659912,6.271199703216553,6.219796180725098,6.344350814819336,6.269223690032959,6.358190059661865,5.682039260864258,5.727511405944824,5.632612228393555,5.612842559814453,5.541668891906738,5.612842559814453,5.608889102935791,5.63493013381958,5.5648193359375,5.4446282386779785,5.416584014892578,5.4065680503845215,5.414580821990967,5.458651065826416,5.426599502563477,5.588856220245361,5.552799224853516,5.63493013381958,5.6629743576049805,5.64694881439209,5.536773681640625,5.4947075843811035,5.5067267417907715,5.436615467071533,5.526758670806885,5.5648193359375,5.434611797332764,5.448633670806885,5.3444695472717285,5.3444695472717285,5.37451696395874,5.2182698249816895,5.232292652130127,5.102084636688232,5.084056854248047,4.947841167449951,4.971879005432129,5.007936000823975,5.029972076416016,5.009939193725586,5.035980701446533,4.957857131958008,4.961863040924072,4.805615425109863,4.787586688995361,4.817634582519531,4.719478607177734,4.192644119262695,4.172613143920898,4.152581214904785,4.254742622375488,4.188637733459473,4.312835216522217,4.3809428215026855,4.471086025238037,4.6052985191345215,4.5371904373168945,4.619320392608643,4.699447154998779,4.699447154998779,4.699447154998779,4.829654216766357,5.220272541046143,5.172196388244629,5.037983417510986,4.979024410247803,5.019686698913574,5.009520053863525,4.93429708480835,4.985124111175537,5.060348033905029,5.27382230758667,5.27992057800293,5.290086269378662,5.371409893035889,5.365310192108154,5.1396379470825195,5.151836395263672,5.168100833892822,5.265689849853516,5.310417652130127,5.365310192108154,5.094910144805908,5.1660685539245605,5.275854587554932,5.1376051902771,5.151836395263672,5.1355719566345215,5.157936096191406,5.269754886627197,5.082712173461914,4.985124111175537,4.979024410247803,5.009520053863525,5.003421783447266,5.025784969329834,4.621201038360596,4.745219707489014,4.7757158279418945,4.739120006561279,4.794013023376465,4.865170955657959,4.852972507476807,4.913965702056885,4.924131393432617,4.942429065704346,4.915998935699463,4.979024410247803,4.940395832061768,4.956660747528076,5.02985143661499,5.01765251159668,5.007487773895264,5.040017604827881,5.162001609802246,5.216896057128906,5.157936096191406,5.23315954208374,5.2412919998168945,5.168100833892822,5.1985979080200195,5.330748081207275,5.3388800621032715,5.196564674377441,5.342947006225586,5.391740798950195,4.9688591957092285,4.976990699768066,5.078645706176758,5.1396379470825195,5.064414024353027,5.015619277954102,5.082712173461914,5.082712173461914,5.198322296142578,4.993939399719238,5.070324897766113,5.093033313751221,5.0083909034729,5.0868401527404785,4.929941177368164,4.956779479980469,4.973294734954834,4.946457386016846,4.273441791534424,4.304409503936768,4.4840168952941895,4.531499862670898,4.636786937713623,4.655367851257324,4.5418219566345215,4.537693500518799,4.492274761199951,4.508790493011475,4.471630573272705,4.5170488357543945,4.564530849456787,4.556273460388184,4.620271682739258,4.725559711456299,4.715237140655518,4.702849864959717,4.7874932289123535,4.7874932289123535,4.7936859130859375,4.830846786499023,4.882458686828613,4.768913269042969,4.68427038192749,4.702849864959717,4.839105129241943,4.948521137237549,4.865943431854248,4.954714298248291,5.033164978027344,5.055873870849609,5.150839328765869,5.026971817016602,4.96090841293335,5.029036045074463,5.05174446105957,4.921683311462402,4.909296989440918,5.000133037567139,4.9650373458862305,4.678076267242432,4.688398838043213,4.8762664794921875,4.587240695953369,4.659495830535889,4.5707244873046875,4.702849864959717,4.680141448974609,4.720034599304199,4.598254203796387,4.627650260925293,4.486973285675049,4.62135124206543,4.5583600997924805,4.615051746368408,4.541563510894775,4.455477714538574,4.323199272155762,4.3672919273376465,4.33369779586792,4.295902729034424,4.312701225280762,4.335797309875488,4.436580181121826,4.489071846008301,4.5163679122924805,4.537364959716797,4.537364959716797,4.53526496887207,4.5163679122924805,4.434481620788574,4.390388488769531,4.386188983917236,4.400886535644531,4.4071855545043945,4.442879676818848,4.413484573364258,4.468075752258301,4.4281816482543945,4.482773303985596,4.430281162261963,4.36309289932251,4.3672919273376465,4.463876724243164,4.4176836013793945,4.5562615394592285,4.514268398284912,4.55416202545166,4.484872817993164,4.489071846008301,4.547863006591797,4.604553699493408,4.654944896697998,4.606653690338135,4.636048316955566,4.507969379425049,4.568859100341797,4.587756633758545,4.394587993621826,4.491171836853027,4.430281162261963,4.455477714538574,4.405085563659668,4.54366397857666,4.510068893432617,4.573058128356934,4.073339462280273,4.020847797393799,3.9368627071380615,3.945260763168335,3.8843703269958496,3.9200644493103027,3.976755142211914,4.060741901397705,4.037181854248047,4.101434707641602,4.112143516540527,4.182821273803711,4.287766933441162,4.300616264343262,4.345593452453613,4.319891929626465,4.3241753578186035,4.304900169372559,4.259923458099365,4.2856245040893555,4.377719879150391,4.422695636749268,4.465530872344971,4.4526801109313965,4.424837589263916,4.3841447830200195,4.3284592628479,4.337026119232178,4.394853115081787,4.287766933441162,4.315608978271484,4.332742691040039,4.195671558380127,4.176395893096924,4.221372127532959,4.157120704650879,4.210663795471191,4.294190883636475,4.294190883636475,4.3113250732421875,4.343451499938965,4.2749152183532715,4.199954509735107,4.178537368774414,4.142127513885498,4.02004861831665,4.002914905548096,3.9836385250091553,3.9643633365631104,3.876551866531372,3.8187248706817627,3.6645193099975586,3.6837947368621826,3.760897636413574,3.518881320953369,3.469621181488037,3.4674794673919678,3.426786184310913,3.4653375148773193,3.4931797981262207,3.5210230350494385,3.5831332206726074,3.720205307006836,3.7309134006500244,3.891543388366699,4.073591709136963,4.180678367614746,4.095493316650391,4.099862098693848,4.237469673156738,4.2090744972229,4.152283668518066,4.069281578063965,4.193785190582275,4.165389060974121,4.174126625061035,4.078019142150879,4.014675140380859,4.005938529968262,4.075834274291992,4.016859531402588,3.9862797260284424,4.029965400695801,3.995016574859619,4.0430707931518555,3.9862797260284424,3.9688055515289307,3.9207520484924316,3.988464117050171,3.9753589630126953,4.0015692710876465,4.080203056335449,4.200336933135986,4.270233154296875,4.298629283905029,4.359787940979004,3.8792507648468018,3.748194932937622,3.822460412979126,3.9010937213897705,3.960068702697754,3.833381414413452,3.8006174564361572,3.7088782787323,3.6782987117767334,3.7263529300689697,3.7460107803344727,3.72853684425354,3.671745777130127,3.638981819152832,3.5450587272644043,3.4183712005615234,3.525400161743164,3.5974812507629395,3.457688093185425,3.5319530963897705,3.4511351585388184,3.4030816555023193,3.5428740978240967,3.5843753814697266,3.582191228866577,3.464240789413452,3.4271085262298584,3.411818742752075,3.4882678985595703,3.5122945308685303,3.40089750289917,3.4271085262298584,3.4882678985595703,3.564342975616455,3.5911927223205566,3.593430280685425,3.566580295562744,3.499455213546753,3.546442985534668,3.4793176651000977,3.4927425384521484,3.4591801166534424,3.4256176948547363,3.450230360031128,3.3137426376342773,3.2376675605773926,3.1369800567626953,3.0944669246673584,3.020629644393921,3.1414546966552734,3.1056549549102783,3.166067361831665,2.8237292766571045,2.8684792518615723,2.910991907119751,2.9848294258117676,3.034054756164551,3.004967212677002,3.0161542892456055,3.0609045028686523,3.0967047214508057,3.0497171878814697,3.0452418327331543,3.0899922847747803,3.11907958984375,3.056429862976074,3.0251047611236572,2.881904363632202,2.9535043239593506,3.0004920959472656,3.0116794109344482,3.0586671829223633,3.101179599761963,3.054192066192627,3.098942279815674,3.009442090988159,2.8707168102264404,2.908754587173462,2.8841419219970703,2.861767053604126,2.893092155456543,2.915466785430908,2.843867063522339,2.9669296741485596,3.022867202758789,3.0318169593811035,3.0474796295166016,2.787929058074951,2.8595292568206787,2.834916830062866,2.846104383468628,2.850579261779785,2.834916830062866,2.9199419021606445,3.0027294158935547,2.9535043239593506,3.069854736328125,3.186204671859741,3.2667551040649414,3.2264795303344727,3.2421422004699707,3.2510924339294434,3.2832586765289307,3.228116512298584,3.062689781188965,2.9524056911468506,3.2074379920959473,3.492339611053467,3.6187071800231934,3.6095166206359863,3.568160057067871,3.5658626556396484,3.471660852432251,3.439495086669922,3.3544843196868896,3.418816566467285,3.3475914001464844,3.253389835357666,3.228116512298584,3.361377000808716,3.480851411819458,3.5543744564056396,3.4142212867736816,3.37746000289917,3.4670660495758057,3.5107202529907227,3.4969348907470703,3.349888801574707,3.349888801574707,3.428006887435913,3.464768171310425,3.421114206314087,3.395840644836426,3.333806037902832,3.40273380279541,3.4073286056518555,3.37746000289917,3.3108298778533936,3.384352684020996,3.359079122543335,3.411923885345459,3.4142212867736816,3.473958730697632,3.5038275718688965,3.4946370124816895,3.5199105739593506,3.4946370124816895,3.561267375946045,3.542886734008789,3.4969348907470703,3.5222082138061523,3.6416831016540527,3.788728713989258,3.901310682296753,3.8507637977600098,3.8025143146514893,3.3797576427459717,3.2235212326049805,3.244199752807617,3.1201295852661133,3.0489044189453125,3.228116512298584,3.735884428024292,3.708313226699829,3.7060153484344482,3.6761467456817627,3.7129082679748535,3.8277878761291504,3.9150965213775635,3.857656717300415,3.904672622680664,3.8788137435913086,3.9023218154907227,3.876462936401367,3.8835155963897705,3.6484358310699463,3.7659759521484375,3.664891481399536,3.6554882526397705,3.5896661281585693,3.5920166969299316,3.495634078979492,3.507388114929199,3.483880043029785,3.4509689807891846,3.5214927196502686,3.4697751998901367,3.4862308502197266,3.4462673664093018,3.4791786670684814,3.4979848861694336,3.594367742538452,3.6014199256896973,3.540299415588379,3.4627230167388916,3.5544040203094482,3.5896661281585693,3.542649984359741,3.394549608230591,3.2229416370391846,3.4157071113586426,3.448618173599243,3.4321627616882324,3.6084723472595215,3.669593095779419,3.52384352684021,3.5144405364990234,3.5026862621307373,3.493283271789551,3.441565990447998,3.2629053592681885,3.2629053592681885,3.0466320514678955,3.0865957736968994,3.0066685676574707,3.0630874633789062,2.886777639389038,3.2229416370391846,3.173574924468994,3.4274609088897705,3.46037220954895,3.528545379638672,3.4392151832580566,3.2111878395080566,3.260554552078247,3.173574924468994,3.1876800060272217,3.2158892154693604,3.1989636421203613,3.131260633468628,3.1989636421203613,3.092573404312134,3.0853195190429688,3.0587217807769775,3.0780653953552246,3.0417962074279785,3.0055267810821533,2.8918824195861816,2.8217616081237793,2.998272657394409,2.945077657699585,2.969257116317749,3.0514678955078125,3.160276174545288,3.136096715927124,3.684973955154419,3.7430050373077393,3.822798013687134,3.863903045654297,3.85906720161438,3.8324697017669678,3.7816925048828125,3.7550947666168213,3.7913644313812256,3.8131260871887207,3.851813554763794,3.692228078842163,3.7430050373077393,3.8203799724578857,3.84455943107605,3.7478411197662354,2.727461099624634,2.7081172466278076,2.741968870162964,2.7177891731262207,2.749222755432129,2.8507771492004395,2.783074378967285,2.773402452468872,2.744386911392212,2.732296943664551,2.792746067047119,2.773402452468872,2.739550828933716,2.763730525970459,2.7081172466278076,2.7081172466278076,2.6670119762420654,2.749222755432129,2.792746067047119,2.8145077228546143,2.8217616081237793,2.8290154933929443,2.8411052227020264,2.797581911087036,2.8048360347747803,2.795164108276367,2.8024179935455322,2.6525044441223145,2.722625255584717,2.773402452468872,2.799999952316284,2.737499952316284,2.765000104904175,2.7674999237060547,2.740000009536743,2.625,2.637500047683716,2.612499952316284,2.5350000858306885,2.5875000953674316,2.572499990463257,2.547499895095825,2.5399999618530273,2.5924999713897705,2.5250000953674316,2.4075000286102295,2.507499933242798,2.4649999141693115,2.484999895095825,2.4549999237060547,2.492500066757202,2.440000057220459,2.3299999237060547,2.234999895095825,2.2699999809265137,2.234999895095825,2.192500114440918,2.1624999046325684,2.2225000858306885,2.252500057220459,2.237499952316284,2.2225000858306885,2.190000057220459,2.1624999046325684,2.127500057220459,2.192500114440918,2.242500066757202,2.2125000953674316,2.192500114440918,2.172499895095825,2.130000114440918,2.119999885559082,2.065000057220459,2.132499933242798,2.172499895095825,2.1675000190734863,2.1524999141693115,2.015000104904175,2.0325000286102295,1.975000023841858,1.9249999523162842,1.9550000429153442,1.934999942779541,1.8925000429153442,1.899999976158142,1.8949999809265137,1.8674999475479126,1.9550000429153442,1.2599999904632568,1.2825000286102295,1.2549999952316284,1.3600000143051147,1.4299999475479126,1.375,1.4249999523162842,1.4075000286102295,1.4249999523162842,1.4325000047683716,1.4075000286102295,1.3825000524520874,1.3550000190734863,1.3424999713897705,1.3624999523162842,1.3674999475479126,1.3849999904632568,1.3674999475479126,1.340000033378601,1.3450000286102295,1.3274999856948853,1.3799999952316284,1.3624999523162842,1.3274999856948853,1.2949999570846558,1.2100000381469727,1.2274999618530273,1.1875,1.1575000286102295,1.0950000286102295,1.0499999523162842,1.0800000429153442,1.034999966621399,1.0225000381469727,1.0199999809265137,0.9950000047683716,1.002500057220459,1.0299999713897705,1.0075000524520874,1.0049999952316284,0.9599999785423279,0.9449999928474426,0.9275000095367432,0.9524999856948853,0.9524999856948853,0.9725000262260437,0.8974999785423279,0.8774999976158142,0.8675000071525574,0.8299999833106995,0.8025000095367432,0.8299999833106995,0.8450000286102295,0.8550000190734863,0.8849999904632568,0.9674999713897705,0.9125000238418579,0.9549999833106995,0.925000011920929,0.9700000286102295,1.0575000047683716,0.9925000071525574,0.9524999856948853,0.9950000047683716,1.0575000047683716,1.0774999856948853,1.190000057220459,1.2725000381469727,1.1475000381469727,1.1449999809265137,1.1024999618530273,1.087499976158142,1.0824999809265137,1.149999976158142,1.1100000143051147,1.1749999523162842,1.2549999952316284,1.252500057220459,1.2999999523162842,1.3200000524520874,1.3350000381469727,1.3799999952316284,1.3949999809265137,1.3300000429153442,1.3550000190734863,1.3875000476837158,1.372499942779541,1.3075000047683716,1.247499942779541,1.2625000476837158,1.3424999713897705,1.3949999809265137,1.402500033378601,1.4700000286102295,1.5075000524520874,1.4850000143051147,1.4824999570846558,1.597499966621399,1.6074999570846558,1.6050000190734863,1.587499976158142,1.5475000143051147,1.4524999856948853,1.4325000047683716,1.3600000143051147,1.4600000381469727,1.462499976158142,1.4774999618530273,1.5225000381469727,1.5549999475479126,1.5225000381469727,1.5049999952316284,1.4800000190734863,1.4850000143051147,1.4950000047683716,1.4700000286102295,1.4049999713897705,1.375,1.3650000095367432,1.375,1.4149999618530273,1.5075000524520874,1.524999976158142,1.587499976158142,1.5850000381469727,1.5425000190734863,1.5299999713897705,1.6074999570846558,1.600000023841858,1.6699999570846558,1.5824999809265137,1.627500057220459,1.3825000524520874,1.3949999809265137,1.3624999523162842,1.375,1.5149999856948853,1.5399999618530273,1.5149999856948853,1.497499942779541,1.402500033378601,1.3600000143051147,1.350000023841858,1.475000023841858,1.5325000286102295,1.5199999809265137,1.5774999856948853,1.4700000286102295,1.462499976158142,1.3799999952316284,1.4299999475479126,1.3875000476837158,1.3574999570846558,1.3574999570846558,1.1775000095367432,1.152500033378601,1.1549999713897705,1.1875,1.1475000381469727,1.1399999856948853,1.1549999713897705,1.0800000429153442,1.0700000524520874,1.0525000095367432,1.0325000286102295,0.9825000166893005,0.9599999785423279,0.987500011920929,1.0175000429153442,1.0449999570846558,1.034999966621399,0.9524999856948853,0.9850000143051147,1.0049999952316284,1.0475000143051147,1.027500033378601,1.0049999952316284,1.0149999856948853,1.037500023841858,1.034999966621399,1.0099999904632568,0.925000011920929,0.8899999856948853,0.8475000262260437,0.8675000071525574,0.8999999761581421,0.9574999809265137,0.9075000286102295,0.9424999952316284,0.9900000095367432,0.9800000190734863,0.925000011920929,1.0575000047683716,1.034999966621399,0.9950000047683716,1.1475000381469727,1.0924999713897705,1.0575000047683716,0.9424999952316284,1.0475000143051147,0.9399999976158142,0.9524999856948853,1.0399999618530273,1.0425000190734863,1.1024999618530273,1.0549999475479126,0.9125000238418579,0.875,0.8125,0.7124999761581421,0.699999988079071,0.7724999785423279,0.8174999952316284,0.8525000214576721,0.9725000262260437,1.184999942779541,1.4874999523162842,1.3174999952316284,1.2575000524520874,1.2200000286102295,1.402500033378601,1.1950000524520874,1.222499966621399,1.1749999523162842,1.1924999952316284,1.4550000429153442,1.409999966621399,1.5099999904632568,1.4325000047683716,1.5125000476837158,1.3700000047683716,1.347499966621399,1.2324999570846558,1.2174999713897705,1.2450000047683716,1.190000057220459,1.1349999904632568,1.0525000095367432,1.0325000286102295,1.0549999475479126,1.1449999809265137,1.1100000143051147,1.1074999570846558,1.1100000143051147,1.0449999570846558,1.1050000190734863,1.1725000143051147,1.0824999809265137,1.0149999856948853,1.0325000286102295,1.0449999570846558,1.1100000143051147,1.1174999475479126,1.034999966621399,1.252500057220459,1.2400000095367432,1.2675000429153442,1.0924999713897705,1.1799999475479126,1.1725000143051147,1.159999966621399,1.190000057220459,1.2374999523162842,1.2200000286102295,1.2174999713897705,1.2074999809265137,1.1024999618530273,1.1150000095367432,1.087499976158142,1.0950000286102295,1.0850000381469727,1.1100000143051147,1.0724999904632568,1.059999942779541,1.0225000381469727,1.065000057220459,1.0525000095367432,1.0850000381469727,1.065000057220459,1.0199999809265137,1.0475000143051147,1.0425000190734863,0.9900000095367432,0.9624999761581421,1.002500057220459,1.027500033378601,1.027500033378601,1.0075000524520874,1.002500057220459,0.9850000143051147,1.0149999856948853,1.024999976158142,1.002500057220459,1.037500023841858,1.1074999570846558,1.1575000286102295,1.1074999570846558,1.0399999618530273,1.0824999809265137,1.087499976158142,1.1299999952316284,1.159999966621399,1.1875,1.1575000286102295,1.2024999856948853,1.1799999475479126,1.152500033378601,1.2575000524520874,1.2174999713897705,1.2450000047683716,1.277500033378601,1.3125,1.347499966621399,1.6699999570846558,1.912500023841858,1.9275000095367432,1.9550000429153442,1.912500023841858,1.9249999523162842,1.837499976158142,1.5575000047683716,1.5225000381469727,1.7274999618530273,1.7725000381469727,2.1700000762939453,2.299999952316284,2.367500066757202,2.1875,2.640000104904175,2.509999990463257,2.2850000858306885,2.505000114440918,2.5225000381469727,2.5875000953674316,2.549999952316284,2.442500114440918,2.3475000858306885,2.365000009536743,2.2825000286102295,2.3399999141693115,3.372499942779541,3.005000114440918,2.950000047683716,2.9700000286102295,3.0625,3.4574999809265137,3.327500104904175,3.4774999618530273,3.4649999141693115,3.5250000953674316,3.7274999618530273,3.75,3.362499952316284,3.172499895095825,2.9549999237060547,2.932499885559082,2.617500066757202,2.6875,2.8924999237060547,2.7274999618530273,2.862499952316284,2.9649999141693115,2.872499942779541,2.7750000953674316,2.9375,2.7825000286102295,2.752500057220459,3.015000104904175,2.9075000286102295,2.8924999237060547,3.115000009536743,3.177500009536743,3.4749999046325684,3.4175000190734863,3.6875,4.019999980926514,4.139999866485596,3.950000047683716,4.144999980926514,4.03000020980835,4.224999904632568,4.087500095367432,4.235000133514404,3.4149999618530273,3.5299999713897705,3.327500104904175,3.180000066757202,3.4625000953674316,3.4625000953674316,3.7074999809265137,3.9075000286102295,3.882499933242798,4.864999771118164,5.142499923706055,5.037499904632568,5.247499942779541,4.84499979019165,4.815000057220459,4.710000038146973,4.3125,4.34250020980835,4.590000152587891,4.519999980926514,4.422500133514404,4.985000133514404,4.987500190734863,7.849999904632568,9.977499961853027,8.875,9.84000015258789,9.779999732971191,10.757499694824219,16.252500534057617,19.197500228881836,36.994998931884766,86.87750244140625,48.400001525878906,81.25,56.25,22.5,23.102500915527344,13.375,15.942500114440918,15.0,12.577500343322754,12.800000190734863,12.774999618530273,13.100000381469727,12.3774995803833,11.484999656677246,10.172499656677246,10.147500038146973,11.5,11.242500305175781,22.927499771118164,27.1825008392334,25.434999465942383,30.100000381469727,29.545000076293945,31.045000076293945,33.087501525878906,34.435001373291016,48.625,61.724998474121094,66.25,65.0,66.125,55.03499984741211,52.04249954223633,52.45249938964844,50.4375,50.067501068115234,48.622501373291016,45.4375,30.084999084472656,45.9375,45.25,45.32500076293945,48.6150016784668,47.45500183105469,47.86249923706055,46.73749923706055,46.125,44.49250030517578,42.564998626708984,39.59000015258789,35.272499084472656,35.247501373291016,41.63249969482422,39.11000061035156,38.67250061035156,41.092498779296875,39.63249969482422,39.627498626708984,37.79249954223633,37.79499816894531,42.23249816894531,44.442501068115234,44.64500045776367,44.04750061035156,43.397499084472656,40.54999923706055,40.182498931884766,39.869998931884766,40.252498626708984,40.27750015258789,35.80500030517578,36.72999954223633,36.1974983215332,41.125,39.97999954223633,45.150001525878906,45.16749954223633,42.20750045776367,42.622501373291016,44.1974983215332,45.002498626708984,52.35749816894531,60.63999938964844,63.532501220703125,55.5,62.255001068115234,70.55999755859375,64.54499816894531,62.09000015258789,70.00250244140625,75.0,75.63999938964844,55.09749984741211,58.334999084472656,57.36000061035156],\"type\":\"scatter\",\"xaxis\":\"x\",\"yaxis\":\"y\"},{\"name\":\"Revenue\",\"x\":[\"2020-04-30T00:00:00\",\"2020-01-31T00:00:00\",\"2019-10-31T00:00:00\",\"2019-07-31T00:00:00\",\"2019-04-30T00:00:00\",\"2019-01-31T00:00:00\",\"2018-10-31T00:00:00\",\"2018-07-31T00:00:00\",\"2018-04-30T00:00:00\",\"2018-01-31T00:00:00\",\"2017-10-31T00:00:00\",\"2017-07-31T00:00:00\",\"2017-04-30T00:00:00\",\"2017-01-31T00:00:00\",\"2016-10-31T00:00:00\",\"2016-07-31T00:00:00\",\"2016-04-30T00:00:00\",\"2016-01-31T00:00:00\",\"2015-10-31T00:00:00\",\"2015-07-31T00:00:00\",\"2015-04-30T00:00:00\",\"2015-01-31T00:00:00\",\"2014-10-31T00:00:00\",\"2014-07-31T00:00:00\",\"2014-04-30T00:00:00\",\"2014-01-31T00:00:00\",\"2013-10-31T00:00:00\",\"2013-07-31T00:00:00\",\"2013-04-30T00:00:00\",\"2013-01-31T00:00:00\",\"2012-10-31T00:00:00\",\"2012-07-31T00:00:00\",\"2012-04-30T00:00:00\",\"2012-01-31T00:00:00\",\"2011-10-31T00:00:00\",\"2011-07-31T00:00:00\",\"2011-04-30T00:00:00\",\"2011-01-31T00:00:00\",\"2010-10-31T00:00:00\",\"2010-07-31T00:00:00\",\"2010-04-30T00:00:00\",\"2010-01-31T00:00:00\",\"2009-10-31T00:00:00\",\"2009-07-31T00:00:00\",\"2009-04-30T00:00:00\",\"2009-01-31T00:00:00\",\"2008-10-31T00:00:00\",\"2008-07-31T00:00:00\",\"2008-04-30T00:00:00\",\"2008-01-31T00:00:00\",\"2007-10-31T00:00:00\",\"2007-07-31T00:00:00\",\"2007-04-30T00:00:00\",\"2007-01-31T00:00:00\",\"2006-10-31T00:00:00\",\"2006-07-31T00:00:00\",\"2006-04-30T00:00:00\",\"2006-01-31T00:00:00\",\"2005-10-31T00:00:00\",\"2005-07-31T00:00:00\",\"2005-04-30T00:00:00\",\"2005-01-31T00:00:00\"],\"y\":[1021.0,2194.0,1439.0,1286.0,1548.0,3063.0,1935.0,1501.0,1786.0,2825.0,1989.0,1688.0,2046.0,2403.0,1959.0,1632.0,1972.0,3525.0,2016.0,1762.0,2061.0,3476.0,2092.0,1731.0,1996.0,3684.0,2107.0,1384.0,1865.0,3562.0,1773.0,1550.0,2002.0,3579.0,1947.0,1744.0,2281.0,3693.0,1899.0,1799.0,2083.0,3524.0,1835.0,1739.0,1981.0,3492.0,1696.0,1804.0,1814.0,2866.0,1611.0,1338.0,1279.0,2304.0,1012.0,963.0,1040.0,1667.0,534.0,416.0,475.0,709.0],\"type\":\"scatter\",\"xaxis\":\"x2\",\"yaxis\":\"y2\"}],                        {\"template\":{\"data\":{\"histogram2dcontour\":[{\"type\":\"histogram2dcontour\",\"colorbar\":{\"outlinewidth\":0,\"ticks\":\"\"},\"colorscale\":[[0.0,\"#0d0887\"],[0.1111111111111111,\"#46039f\"],[0.2222222222222222,\"#7201a8\"],[0.3333333333333333,\"#9c179e\"],[0.4444444444444444,\"#bd3786\"],[0.5555555555555556,\"#d8576b\"],[0.6666666666666666,\"#ed7953\"],[0.7777777777777778,\"#fb9f3a\"],[0.8888888888888888,\"#fdca26\"],[1.0,\"#f0f921\"]]}],\"choropleth\":[{\"type\":\"choropleth\",\"colorbar\":{\"outlinewidth\":0,\"ticks\":\"\"}}],\"histogram2d\":[{\"type\":\"histogram2d\",\"colorbar\":{\"outlinewidth\":0,\"ticks\":\"\"},\"colorscale\":[[0.0,\"#0d0887\"],[0.1111111111111111,\"#46039f\"],[0.2222222222222222,\"#7201a8\"],[0.3333333333333333,\"#9c179e\"],[0.4444444444444444,\"#bd3786\"],[0.5555555555555556,\"#d8576b\"],[0.6666666666666666,\"#ed7953\"],[0.7777777777777778,\"#fb9f3a\"],[0.8888888888888888,\"#fdca26\"],[1.0,\"#f0f921\"]]}],\"heatmap\":[{\"type\":\"heatmap\",\"colorbar\":{\"outlinewidth\":0,\"ticks\":\"\"},\"colorscale\":[[0.0,\"#0d0887\"],[0.1111111111111111,\"#46039f\"],[0.2222222222222222,\"#7201a8\"],[0.3333333333333333,\"#9c179e\"],[0.4444444444444444,\"#bd3786\"],[0.5555555555555556,\"#d8576b\"],[0.6666666666666666,\"#ed7953\"],[0.7777777777777778,\"#fb9f3a\"],[0.8888888888888888,\"#fdca26\"],[1.0,\"#f0f921\"]]}],\"heatmapgl\":[{\"type\":\"heatmapgl\",\"colorbar\":{\"outlinewidth\":0,\"ticks\":\"\"},\"colorscale\":[[0.0,\"#0d0887\"],[0.1111111111111111,\"#46039f\"],[0.2222222222222222,\"#7201a8\"],[0.3333333333333333,\"#9c179e\"],[0.4444444444444444,\"#bd3786\"],[0.5555555555555556,\"#d8576b\"],[0.6666666666666666,\"#ed7953\"],[0.7777777777777778,\"#fb9f3a\"],[0.8888888888888888,\"#fdca26\"],[1.0,\"#f0f921\"]]}],\"contourcarpet\":[{\"type\":\"contourcarpet\",\"colorbar\":{\"outlinewidth\":0,\"ticks\":\"\"}}],\"contour\":[{\"type\":\"contour\",\"colorbar\":{\"outlinewidth\":0,\"ticks\":\"\"},\"colorscale\":[[0.0,\"#0d0887\"],[0.1111111111111111,\"#46039f\"],[0.2222222222222222,\"#7201a8\"],[0.3333333333333333,\"#9c179e\"],[0.4444444444444444,\"#bd3786\"],[0.5555555555555556,\"#d8576b\"],[0.6666666666666666,\"#ed7953\"],[0.7777777777777778,\"#fb9f3a\"],[0.8888888888888888,\"#fdca26\"],[1.0,\"#f0f921\"]]}],\"surface\":[{\"type\":\"surface\",\"colorbar\":{\"outlinewidth\":0,\"ticks\":\"\"},\"colorscale\":[[0.0,\"#0d0887\"],[0.1111111111111111,\"#46039f\"],[0.2222222222222222,\"#7201a8\"],[0.3333333333333333,\"#9c179e\"],[0.4444444444444444,\"#bd3786\"],[0.5555555555555556,\"#d8576b\"],[0.6666666666666666,\"#ed7953\"],[0.7777777777777778,\"#fb9f3a\"],[0.8888888888888888,\"#fdca26\"],[1.0,\"#f0f921\"]]}],\"mesh3d\":[{\"type\":\"mesh3d\",\"colorbar\":{\"outlinewidth\":0,\"ticks\":\"\"}}],\"scatter\":[{\"fillpattern\":{\"fillmode\":\"overlay\",\"size\":10,\"solidity\":0.2},\"type\":\"scatter\"}],\"parcoords\":[{\"type\":\"parcoords\",\"line\":{\"colorbar\":{\"outlinewidth\":0,\"ticks\":\"\"}}}],\"scatterpolargl\":[{\"type\":\"scatterpolargl\",\"marker\":{\"colorbar\":{\"outlinewidth\":0,\"ticks\":\"\"}}}],\"bar\":[{\"error_x\":{\"color\":\"#2a3f5f\"},\"error_y\":{\"color\":\"#2a3f5f\"},\"marker\":{\"line\":{\"color\":\"#E5ECF6\",\"width\":0.5},\"pattern\":{\"fillmode\":\"overlay\",\"size\":10,\"solidity\":0.2}},\"type\":\"bar\"}],\"scattergeo\":[{\"type\":\"scattergeo\",\"marker\":{\"colorbar\":{\"outlinewidth\":0,\"ticks\":\"\"}}}],\"scatterpolar\":[{\"type\":\"scatterpolar\",\"marker\":{\"colorbar\":{\"outlinewidth\":0,\"ticks\":\"\"}}}],\"histogram\":[{\"marker\":{\"pattern\":{\"fillmode\":\"overlay\",\"size\":10,\"solidity\":0.2}},\"type\":\"histogram\"}],\"scattergl\":[{\"type\":\"scattergl\",\"marker\":{\"colorbar\":{\"outlinewidth\":0,\"ticks\":\"\"}}}],\"scatter3d\":[{\"type\":\"scatter3d\",\"line\":{\"colorbar\":{\"outlinewidth\":0,\"ticks\":\"\"}},\"marker\":{\"colorbar\":{\"outlinewidth\":0,\"ticks\":\"\"}}}],\"scattermapbox\":[{\"type\":\"scattermapbox\",\"marker\":{\"colorbar\":{\"outlinewidth\":0,\"ticks\":\"\"}}}],\"scatterternary\":[{\"type\":\"scatterternary\",\"marker\":{\"colorbar\":{\"outlinewidth\":0,\"ticks\":\"\"}}}],\"scattercarpet\":[{\"type\":\"scattercarpet\",\"marker\":{\"colorbar\":{\"outlinewidth\":0,\"ticks\":\"\"}}}],\"carpet\":[{\"aaxis\":{\"endlinecolor\":\"#2a3f5f\",\"gridcolor\":\"white\",\"linecolor\":\"white\",\"minorgridcolor\":\"white\",\"startlinecolor\":\"#2a3f5f\"},\"baxis\":{\"endlinecolor\":\"#2a3f5f\",\"gridcolor\":\"white\",\"linecolor\":\"white\",\"minorgridcolor\":\"white\",\"startlinecolor\":\"#2a3f5f\"},\"type\":\"carpet\"}],\"table\":[{\"cells\":{\"fill\":{\"color\":\"#EBF0F8\"},\"line\":{\"color\":\"white\"}},\"header\":{\"fill\":{\"color\":\"#C8D4E3\"},\"line\":{\"color\":\"white\"}},\"type\":\"table\"}],\"barpolar\":[{\"marker\":{\"line\":{\"color\":\"#E5ECF6\",\"width\":0.5},\"pattern\":{\"fillmode\":\"overlay\",\"size\":10,\"solidity\":0.2}},\"type\":\"barpolar\"}],\"pie\":[{\"automargin\":true,\"type\":\"pie\"}]},\"layout\":{\"autotypenumbers\":\"strict\",\"colorway\":[\"#636efa\",\"#EF553B\",\"#00cc96\",\"#ab63fa\",\"#FFA15A\",\"#19d3f3\",\"#FF6692\",\"#B6E880\",\"#FF97FF\",\"#FECB52\"],\"font\":{\"color\":\"#2a3f5f\"},\"hovermode\":\"closest\",\"hoverlabel\":{\"align\":\"left\"},\"paper_bgcolor\":\"white\",\"plot_bgcolor\":\"#E5ECF6\",\"polar\":{\"bgcolor\":\"#E5ECF6\",\"angularaxis\":{\"gridcolor\":\"white\",\"linecolor\":\"white\",\"ticks\":\"\"},\"radialaxis\":{\"gridcolor\":\"white\",\"linecolor\":\"white\",\"ticks\":\"\"}},\"ternary\":{\"bgcolor\":\"#E5ECF6\",\"aaxis\":{\"gridcolor\":\"white\",\"linecolor\":\"white\",\"ticks\":\"\"},\"baxis\":{\"gridcolor\":\"white\",\"linecolor\":\"white\",\"ticks\":\"\"},\"caxis\":{\"gridcolor\":\"white\",\"linecolor\":\"white\",\"ticks\":\"\"}},\"coloraxis\":{\"colorbar\":{\"outlinewidth\":0,\"ticks\":\"\"}},\"colorscale\":{\"sequential\":[[0.0,\"#0d0887\"],[0.1111111111111111,\"#46039f\"],[0.2222222222222222,\"#7201a8\"],[0.3333333333333333,\"#9c179e\"],[0.4444444444444444,\"#bd3786\"],[0.5555555555555556,\"#d8576b\"],[0.6666666666666666,\"#ed7953\"],[0.7777777777777778,\"#fb9f3a\"],[0.8888888888888888,\"#fdca26\"],[1.0,\"#f0f921\"]],\"sequentialminus\":[[0.0,\"#0d0887\"],[0.1111111111111111,\"#46039f\"],[0.2222222222222222,\"#7201a8\"],[0.3333333333333333,\"#9c179e\"],[0.4444444444444444,\"#bd3786\"],[0.5555555555555556,\"#d8576b\"],[0.6666666666666666,\"#ed7953\"],[0.7777777777777778,\"#fb9f3a\"],[0.8888888888888888,\"#fdca26\"],[1.0,\"#f0f921\"]],\"diverging\":[[0,\"#8e0152\"],[0.1,\"#c51b7d\"],[0.2,\"#de77ae\"],[0.3,\"#f1b6da\"],[0.4,\"#fde0ef\"],[0.5,\"#f7f7f7\"],[0.6,\"#e6f5d0\"],[0.7,\"#b8e186\"],[0.8,\"#7fbc41\"],[0.9,\"#4d9221\"],[1,\"#276419\"]]},\"xaxis\":{\"gridcolor\":\"white\",\"linecolor\":\"white\",\"ticks\":\"\",\"title\":{\"standoff\":15},\"zerolinecolor\":\"white\",\"automargin\":true,\"zerolinewidth\":2},\"yaxis\":{\"gridcolor\":\"white\",\"linecolor\":\"white\",\"ticks\":\"\",\"title\":{\"standoff\":15},\"zerolinecolor\":\"white\",\"automargin\":true,\"zerolinewidth\":2},\"scene\":{\"xaxis\":{\"backgroundcolor\":\"#E5ECF6\",\"gridcolor\":\"white\",\"linecolor\":\"white\",\"showbackground\":true,\"ticks\":\"\",\"zerolinecolor\":\"white\",\"gridwidth\":2},\"yaxis\":{\"backgroundcolor\":\"#E5ECF6\",\"gridcolor\":\"white\",\"linecolor\":\"white\",\"showbackground\":true,\"ticks\":\"\",\"zerolinecolor\":\"white\",\"gridwidth\":2},\"zaxis\":{\"backgroundcolor\":\"#E5ECF6\",\"gridcolor\":\"white\",\"linecolor\":\"white\",\"showbackground\":true,\"ticks\":\"\",\"zerolinecolor\":\"white\",\"gridwidth\":2}},\"shapedefaults\":{\"line\":{\"color\":\"#2a3f5f\"}},\"annotationdefaults\":{\"arrowcolor\":\"#2a3f5f\",\"arrowhead\":0,\"arrowwidth\":1},\"geo\":{\"bgcolor\":\"white\",\"landcolor\":\"#E5ECF6\",\"subunitcolor\":\"white\",\"showland\":true,\"showlakes\":true,\"lakecolor\":\"white\"},\"title\":{\"x\":0.05},\"mapbox\":{\"style\":\"light\"}}},\"xaxis\":{\"anchor\":\"y\",\"domain\":[0.0,1.0],\"matches\":\"x2\",\"showticklabels\":false,\"title\":{\"text\":\"Date\"},\"rangeslider\":{\"visible\":true}},\"yaxis\":{\"anchor\":\"x\",\"domain\":[0.6499999999999999,0.9999999999999999],\"title\":{\"text\":\"Price ($US)\"}},\"xaxis2\":{\"anchor\":\"y2\",\"domain\":[0.0,1.0],\"title\":{\"text\":\"Date\"}},\"yaxis2\":{\"anchor\":\"x2\",\"domain\":[0.0,0.35],\"title\":{\"text\":\"Revenue ($US Millions)\"}},\"annotations\":[{\"font\":{\"size\":16},\"showarrow\":false,\"text\":\"Historical Share Price\",\"x\":0.5,\"xanchor\":\"center\",\"xref\":\"paper\",\"y\":0.9999999999999999,\"yanchor\":\"bottom\",\"yref\":\"paper\"},{\"font\":{\"size\":16},\"showarrow\":false,\"text\":\"Historical Revenue\",\"x\":0.5,\"xanchor\":\"center\",\"xref\":\"paper\",\"y\":0.35,\"yanchor\":\"bottom\",\"yref\":\"paper\"}],\"showlegend\":false,\"height\":900,\"title\":{\"text\":\"GameStop\"}},                        {\"responsive\": true}                    ).then(function(){\n",
              "                            \n",
              "var gd = document.getElementById('28e1c912-1d86-4127-8062-a8b512aad3d7');\n",
              "var x = new MutationObserver(function (mutations, observer) {{\n",
              "        var display = window.getComputedStyle(gd).display;\n",
              "        if (!display || display === 'none') {{\n",
              "            console.log([gd, 'removed!']);\n",
              "            Plotly.purge(gd);\n",
              "            observer.disconnect();\n",
              "        }}\n",
              "}});\n",
              "\n",
              "// Listen for the removal of the full notebook cells\n",
              "var notebookContainer = gd.closest('#notebook-container');\n",
              "if (notebookContainer) {{\n",
              "    x.observe(notebookContainer, {childList: true});\n",
              "}}\n",
              "\n",
              "// Listen for the clearing of the current output cell\n",
              "var outputEl = gd.closest('.output');\n",
              "if (outputEl) {{\n",
              "    x.observe(outputEl, {childList: true});\n",
              "}}\n",
              "\n",
              "                        })                };                            </script>        </div>\n",
              "</body>\n",
              "</html>"
            ]
          },
          "metadata": {}
        }
      ]
    }
  ],
  "metadata": {
    "kernelspec": {
      "name": "python3",
      "display_name": "Python 3.10",
      "language": "python"
    },
    "language_info": {
      "name": "python",
      "version": "3.10.14",
      "mimetype": "text/x-python",
      "codemirror_mode": {
        "name": "ipython",
        "version": 3
      },
      "pygments_lexer": "ipython3",
      "nbconvert_exporter": "python",
      "file_extension": ".py"
    },
    "prev_pub_hash": "39a78a77cc568f481ff822a398063bacdd4e567b2b1e8a39dc1b7cf3b29bc96b",
    "colab": {
      "provenance": [],
      "include_colab_link": true
    }
  },
  "nbformat": 4,
  "nbformat_minor": 0
}